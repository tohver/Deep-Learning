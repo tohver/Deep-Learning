{
  "nbformat": 4,
  "nbformat_minor": 0,
  "metadata": {
    "colab": {
      "name": "fastai 04 SGD etc",
      "provenance": [],
      "collapsed_sections": [],
      "toc_visible": true,
      "mount_file_id": "1_eEdk_uYwyKY-ygYYxnyWX5bOccsHy10",
      "authorship_tag": "ABX9TyNIeby+ZpND/X2UeEF1+k4N",
      "include_colab_link": true
    },
    "kernelspec": {
      "name": "python3",
      "display_name": "Python 3"
    }
  },
  "cells": [
    {
      "cell_type": "markdown",
      "metadata": {
        "id": "view-in-github",
        "colab_type": "text"
      },
      "source": [
        "<a href=\"https://colab.research.google.com/github/tohver/Deep-Learning/blob/master/fastai_04_SGD_etc.ipynb\" target=\"_parent\"><img src=\"https://colab.research.google.com/assets/colab-badge.svg\" alt=\"Open In Colab\"/></a>"
      ]
    },
    {
      "cell_type": "code",
      "metadata": {
        "id": "KMq9vWAm0DD2"
      },
      "source": [
        "# the trick with the distance:\n",
        "  # rmseDistance(x,mean3) < rmseDistance(x,mean7)"
      ],
      "execution_count": null,
      "outputs": []
    },
    {
      "cell_type": "code",
      "metadata": {
        "id": "kUo0I0RaOlPz",
        "outputId": "126f1a71-bdce-4561-ed7a-da8006fca748",
        "colab": {
          "base_uri": "https://localhost:8080/",
          "height": 34
        }
      },
      "source": [
        "!pip install -Uqq fastbook\n",
        "import fastbook\n",
        "fastbook.setup_book()"
      ],
      "execution_count": 2,
      "outputs": [
        {
          "output_type": "stream",
          "text": [
            "Mounted at /content/gdrive\n"
          ],
          "name": "stdout"
        }
      ]
    },
    {
      "cell_type": "code",
      "metadata": {
        "id": "Y1qXTXSFPBSN"
      },
      "source": [
        "from fastai.vision.all import *\n",
        "from fastbook import *\n",
        "matplotlib.rc('image', cmap = \"Greys\")"
      ],
      "execution_count": 3,
      "outputs": []
    },
    {
      "cell_type": "code",
      "metadata": {
        "id": "6t4pFFJFPdqw",
        "outputId": "99f2e290-7f7b-4559-f6d0-a5ad44b16b2f",
        "colab": {
          "base_uri": "https://localhost:8080/",
          "height": 17
        }
      },
      "source": [
        "path = untar_data(URLs.MNIST_SAMPLE)"
      ],
      "execution_count": 4,
      "outputs": [
        {
          "output_type": "display_data",
          "data": {
            "text/html": [
              ""
            ],
            "text/plain": [
              "<IPython.core.display.HTML object>"
            ]
          },
          "metadata": {
            "tags": []
          }
        }
      ]
    },
    {
      "cell_type": "code",
      "metadata": {
        "id": "s3iT6ffvSUSO"
      },
      "source": [
        "Path.BASE_PATH = path"
      ],
      "execution_count": 5,
      "outputs": []
    },
    {
      "cell_type": "code",
      "metadata": {
        "id": "hwQVkAsGSeMF",
        "outputId": "6220a726-c691-4d9d-b4df-383a9328cbd2",
        "colab": {
          "base_uri": "https://localhost:8080/",
          "height": 34
        }
      },
      "source": [
        "path"
      ],
      "execution_count": 6,
      "outputs": [
        {
          "output_type": "execute_result",
          "data": {
            "text/plain": [
              "Path('.')"
            ]
          },
          "metadata": {
            "tags": []
          },
          "execution_count": 6
        }
      ]
    },
    {
      "cell_type": "code",
      "metadata": {
        "id": "S7hdPoWSSgvV",
        "outputId": "53099c02-26c1-49c4-ac54-c0f523c1c624",
        "colab": {
          "base_uri": "https://localhost:8080/",
          "height": 34
        }
      },
      "source": [
        "path.ls()"
      ],
      "execution_count": 7,
      "outputs": [
        {
          "output_type": "execute_result",
          "data": {
            "text/plain": [
              "(#3) [Path('train'),Path('valid'),Path('labels.csv')]"
            ]
          },
          "metadata": {
            "tags": []
          },
          "execution_count": 7
        }
      ]
    },
    {
      "cell_type": "code",
      "metadata": {
        "id": "GGFMKozqSlD2",
        "outputId": "71c70ee7-073f-4922-b07d-ba2c9dcb8e5e",
        "colab": {
          "base_uri": "https://localhost:8080/",
          "height": 34
        }
      },
      "source": [
        "(path/'valid').ls()"
      ],
      "execution_count": 8,
      "outputs": [
        {
          "output_type": "execute_result",
          "data": {
            "text/plain": [
              "(#2) [Path('valid/7'),Path('valid/3')]"
            ]
          },
          "metadata": {
            "tags": []
          },
          "execution_count": 8
        }
      ]
    },
    {
      "cell_type": "code",
      "metadata": {
        "id": "hPF5qAngTca9",
        "outputId": "d2afcddb-5d8e-421e-d256-98cc8b347e58",
        "colab": {
          "base_uri": "https://localhost:8080/",
          "height": 54
        }
      },
      "source": [
        "(path/'valid/3').ls().sorted()"
      ],
      "execution_count": 9,
      "outputs": [
        {
          "output_type": "execute_result",
          "data": {
            "text/plain": [
              "(#1010) [Path('valid/3/1020.png'),Path('valid/3/1028.png'),Path('valid/3/1042.png'),Path('valid/3/1062.png'),Path('valid/3/1066.png'),Path('valid/3/1067.png'),Path('valid/3/1069.png'),Path('valid/3/1072.png'),Path('valid/3/1092.png'),Path('valid/3/1095.png')...]"
            ]
          },
          "metadata": {
            "tags": []
          },
          "execution_count": 9
        }
      ]
    },
    {
      "cell_type": "code",
      "metadata": {
        "id": "NXLaxUVQTrsw",
        "outputId": "671048df-fdb5-4cc2-b22a-7fafa7f7a5bf",
        "colab": {
          "base_uri": "https://localhost:8080/",
          "height": 54
        }
      },
      "source": [
        "(path/\"valid/7\").ls()"
      ],
      "execution_count": 10,
      "outputs": [
        {
          "output_type": "execute_result",
          "data": {
            "text/plain": [
              "(#1028) [Path('valid/7/7648.png'),Path('valid/7/220.png'),Path('valid/7/1363.png'),Path('valid/7/1359.png'),Path('valid/7/411.png'),Path('valid/7/6731.png'),Path('valid/7/9169.png'),Path('valid/7/2480.png'),Path('valid/7/9864.png'),Path('valid/7/3573.png')...]"
            ]
          },
          "metadata": {
            "tags": []
          },
          "execution_count": 10
        }
      ]
    },
    {
      "cell_type": "code",
      "metadata": {
        "id": "NP_lf4ZBTxSs",
        "outputId": "886fcfe8-3b87-47b1-c806-a5bcb968facf",
        "colab": {
          "base_uri": "https://localhost:8080/",
          "height": 45
        }
      },
      "source": [
        "threes = (path/'train/7').ls()\n",
        "image_path = threes[27]\n",
        "img = Image.open(image_path)\n",
        "img"
      ],
      "execution_count": 11,
      "outputs": [
        {
          "output_type": "execute_result",
          "data": {
            "image/png": "[encoded data removed]",
            "text/plain": [
              "<PIL.PngImagePlugin.PngImageFile image mode=L size=28x28 at 0x7FB411710780>"
            ]
          },
          "metadata": {
            "tags": []
          },
          "execution_count": 11
        }
      ]
    },
    {
      "cell_type": "code",
      "metadata": {
        "id": "AHMjK7TLUsyO",
        "outputId": "9e66394f-a9c6-4512-c91f-9cc3969d306d",
        "colab": {
          "base_uri": "https://localhost:8080/",
          "height": 34
        }
      },
      "source": [
        "image_path"
      ],
      "execution_count": 12,
      "outputs": [
        {
          "output_type": "execute_result",
          "data": {
            "text/plain": [
              "Path('train/7/4173.png')"
            ]
          },
          "metadata": {
            "tags": []
          },
          "execution_count": 12
        }
      ]
    },
    {
      "cell_type": "markdown",
      "metadata": {
        "id": "7qoFPbo7UylL"
      },
      "source": [
        "`Image` class from Python Imaging Library (PIL)"
      ]
    },
    {
      "cell_type": "code",
      "metadata": {
        "id": "q7LUM08qVMPC",
        "outputId": "800b4a48-3589-4213-e0dd-0bb1615e57e5",
        "colab": {
          "base_uri": "https://localhost:8080/",
          "height": 521
        }
      },
      "source": [
        "array(img)"
      ],
      "execution_count": 13,
      "outputs": [
        {
          "output_type": "execute_result",
          "data": {
            "text/plain": [
              "array([[  0,   0,   0,   0,   0,   0,   0,   0,   0,   0,   0,   0,   0,   0,   0,   0,   0,   0,   0,   0,   0,   0,   0,   0,   0,   0,   0,   0],\n",
              "       [  0,   0,   0,   0,   0,   0,   0,   0,   0,   0,   0,   0,   0,   0,   0,   0,   0,   0,   0,   0,   0,   0,   0,   0,   0,   0,   0,   0],\n",
              "       [  0,   0,   0,   0,   0,   0,   0,   0,   0,   0,   0,   0,   0,   0,   0,   0,   0,   0,   0,   0,   0,   0,   0,   0,   0,   0,   0,   0],\n",
              "       [  0,   0,   0,   0,   0,   0,   0,   0,   0,   0,   0,   0,   0,   0,   0,   0,   0,   0,   0,   0,   0,   0,   0,   0,   0,   0,   0,   0],\n",
              "       [  0,   0,   0,   0,   0,   0,   0,   0,   0,   0,   0,   0,   0,   0,   0,   0,   0,   0,   0,   0,   0,   0,   0,   0,   0,   0,   0,   0],\n",
              "       [  0,   0,   0,   0,   0,   0,   0,   0,   0,   0,   0,   0,   0,   0,   0,   0,   0,   0,   0,   0,   0,   0,   0,   0,   0,   0,   0,   0],\n",
              "       [  0,   0,   0,   0,   0,   0,   0,   0,   0,   0,   0,   0,   0,   0,   0,   0,   0,   0,   0,   0,   0,   0,   0,   0,   0,   0,   0,   0],\n",
              "       [  0,   0,   0,   0,   0,   0,   0,   0,   0,   0,   0,   0,   0,   0,   0,   0,   0,   0,   0,   0,   0,   0,   0,   0,   0,   0,   0,   0],\n",
              "       [  0,   0,   0,   0,   0,   0,   0,   0,   0,   0,   0,   0,   0,   0,   0,   0,   0,   0,  60,  59,  90, 156, 120,   0,   0,   0,   0,   0],\n",
              "       [  0,   0,   0,   0,   0,   0,  11,  58, 216, 161,   7,  20,  96, 119, 126, 215, 215, 215, 255, 254, 254, 254, 246,   0,   0,   0,   0,   0],\n",
              "       [  0,   0,   0,   0,   0,   0, 100, 254, 254, 248, 200, 254, 254, 254, 254, 254, 254, 254, 254, 254, 254, 254, 224,   0,   0,   0,   0,   0],\n",
              "       [  0,   0,   0,   0,   4, 137, 245, 254, 254, 254, 254, 254, 238, 215, 207, 117, 117,  79,  19,  52, 254, 254, 163,   0,   0,   0,   0,   0],\n",
              "       [  0,   0,   0,  61, 147, 254, 254, 254, 254, 254, 185, 103,  36,   0,   0,   0,   0,   0,   0, 118, 254, 254,  81,   0,   0,   0,   0,   0],\n",
              "       [  0,   0,   0, 195, 255, 254, 208,  99,  38,   0,   0,   0,   0,   0,   0,   0,   0,   0,  97, 240, 254, 155,   0,   0,   0,   0,   0,   0],\n",
              "       [  0,   0,   0,  47, 212, 107,  18,   0,   0,   0,   0,   0,   0,   0,   0,   0,   0,   8, 202, 254, 247,  70,   0,   0,   0,   0,   0,   0],\n",
              "       [  0,   0,   0,   0,   0,   0,   0,   0,   0,   0,   0,   0,   0,   0,   0,   0,   0, 166, 254, 254, 145,   0,   0,   0,   0,   0,   0,   0],\n",
              "       [  0,   0,   0,   0,   0,   0,   0,   0,   0,   0,   0,   0,   0,   0,   0,   0, 105, 249, 254, 182,   6,   0,   0,   0,   0,   0,   0,   0],\n",
              "       [  0,   0,   0,   0,   0,   0,   0,   0,   0,   0,   0,   0,   0,   0,   0,  69, 242, 254, 194,  46,   0,   0,   0,   0,   0,   0,   0,   0],\n",
              "       [  0,   0,   0,   0,   0,   0,   0,   0,   0,   0,   0,   0,   0,   0,   5, 195, 254, 254,  38,   0,   0,   0,   0,   0,   0,   0,   0,   0],\n",
              "       [  0,   0,   0,   0,   0,   0,   0,   0,   0,   0,   0,   0,   0,   0,  20, 254, 254, 163,   0,   0,   0,   0,   0,   0,   0,   0,   0,   0],\n",
              "       [  0,   0,   0,   0,   0,   0,   0,   0,   0,   0,   0,   0,   0,   0,  50, 254, 241,  40,   0,   0,   0,   0,   0,   0,   0,   0,   0,   0],\n",
              "       [  0,   0,   0,   0,   0,   0,   0,   0,   0,   0,   0,   0,   0,  10, 176, 254, 199,   0,   0,   0,   0,   0,   0,   0,   0,   0,   0,   0],\n",
              "       [  0,   0,   0,   0,   0,   0,   0,   0,   0,   0,   0,   0,   0,  97, 254, 223,  34,   0,   0,   0,   0,   0,   0,   0,   0,   0,   0,   0],\n",
              "       [  0,   0,   0,   0,   0,   0,   0,   0,   0,   0,   0,   0,   0, 120, 254, 206,   8,   0,   0,   0,   0,   0,   0,   0,   0,   0,   0,   0],\n",
              "       [  0,   0,   0,   0,   0,   0,   0,   0,   0,   0,   0,   0,   0, 202, 244,  57,   0,   0,   0,   0,   0,   0,   0,   0,   0,   0,   0,   0],\n",
              "       [  0,   0,   0,   0,   0,   0,   0,   0,   0,   0,   0,   0,  99, 254, 135,   0,   0,   0,   0,   0,   0,   0,   0,   0,   0,   0,   0,   0],\n",
              "       [  0,   0,   0,   0,   0,   0,   0,   0,   0,   0,   0,   0, 106, 245,  33,   0,   0,   0,   0,   0,   0,   0,   0,   0,   0,   0,   0,   0],\n",
              "       [  0,   0,   0,   0,   0,   0,   0,   0,   0,   0,   0,   0,  23,  45,   0,   0,   0,   0,   0,   0,   0,   0,   0,   0,   0,   0,   0,   0]], dtype=uint8)"
            ]
          },
          "metadata": {
            "tags": []
          },
          "execution_count": 13
        }
      ]
    },
    {
      "cell_type": "code",
      "metadata": {
        "id": "X9_ATZ9-VPcj",
        "outputId": "0481b4c6-ff52-4b67-a127-543b8efc297f",
        "colab": {
          "base_uri": "https://localhost:8080/",
          "height": 613
        }
      },
      "source": [
        "# color it in pandas\n",
        "\n",
        "imgTensor = tensor(img)\n",
        "df = pd.DataFrame(imgTensor)\n",
        "df.style.set_properties(**{'font_size':'6pt'}).background_gradient('Greys')"
      ],
      "execution_count": 14,
      "outputs": [
        {
          "output_type": "execute_result",
          "data": {
            "text/html": [
              "<style  type=\"text/css\" >\n",
              "#T_b346c10a_147a_11eb_980f_0242ac1c0002row0_col0,#T_b346c10a_147a_11eb_980f_0242ac1c0002row0_col1,#T_b346c10a_147a_11eb_980f_0242ac1c0002row0_col2,#T_b346c10a_147a_11eb_980f_0242ac1c0002row0_col3,#T_b346c10a_147a_11eb_980f_0242ac1c0002row0_col4,#T_b346c10a_147a_11eb_980f_0242ac1c0002row0_col5,#T_b346c10a_147a_11eb_980f_0242ac1c0002row0_col6,#T_b346c10a_147a_11eb_980f_0242ac1c0002row0_col7,#T_b346c10a_147a_11eb_980f_0242ac1c0002row0_col8,#T_b346c10a_147a_11eb_980f_0242ac1c0002row0_col9,#T_b346c10a_147a_11eb_980f_0242ac1c0002row0_col10,#T_b346c10a_147a_11eb_980f_0242ac1c0002row0_col11,#T_b346c10a_147a_11eb_980f_0242ac1c0002row0_col12,#T_b346c10a_147a_11eb_980f_0242ac1c0002row0_col13,#T_b346c10a_147a_11eb_980f_0242ac1c0002row0_col14,#T_b346c10a_147a_11eb_980f_0242ac1c0002row0_col15,#T_b346c10a_147a_11eb_980f_0242ac1c0002row0_col16,#T_b346c10a_147a_11eb_980f_0242ac1c0002row0_col17,#T_b346c10a_147a_11eb_980f_0242ac1c0002row0_col18,#T_b346c10a_147a_11eb_980f_0242ac1c0002row0_col19,#T_b346c10a_147a_11eb_980f_0242ac1c0002row0_col20,#T_b346c10a_147a_11eb_980f_0242ac1c0002row0_col21,#T_b346c10a_147a_11eb_980f_0242ac1c0002row0_col22,#T_b346c10a_147a_11eb_980f_0242ac1c0002row0_col23,#T_b346c10a_147a_11eb_980f_0242ac1c0002row0_col24,#T_b346c10a_147a_11eb_980f_0242ac1c0002row0_col25,#T_b346c10a_147a_11eb_980f_0242ac1c0002row0_col26,#T_b346c10a_147a_11eb_980f_0242ac1c0002row0_col27,#T_b346c10a_147a_11eb_980f_0242ac1c0002row1_col0,#T_b346c10a_147a_11eb_980f_0242ac1c0002row1_col1,#T_b346c10a_147a_11eb_980f_0242ac1c0002row1_col2,#T_b346c10a_147a_11eb_980f_0242ac1c0002row1_col3,#T_b346c10a_147a_11eb_980f_0242ac1c0002row1_col4,#T_b346c10a_147a_11eb_980f_0242ac1c0002row1_col5,#T_b346c10a_147a_11eb_980f_0242ac1c0002row1_col6,#T_b346c10a_147a_11eb_980f_0242ac1c0002row1_col7,#T_b346c10a_147a_11eb_980f_0242ac1c0002row1_col8,#T_b346c10a_147a_11eb_980f_0242ac1c0002row1_col9,#T_b346c10a_147a_11eb_980f_0242ac1c0002row1_col10,#T_b346c10a_147a_11eb_980f_0242ac1c0002row1_col11,#T_b346c10a_147a_11eb_980f_0242ac1c0002row1_col12,#T_b346c10a_147a_11eb_980f_0242ac1c0002row1_col13,#T_b346c10a_147a_11eb_980f_0242ac1c0002row1_col14,#T_b346c10a_147a_11eb_980f_0242ac1c0002row1_col15,#T_b346c10a_147a_11eb_980f_0242ac1c0002row1_col16,#T_b346c10a_147a_11eb_980f_0242ac1c0002row1_col17,#T_b346c10a_147a_11eb_980f_0242ac1c0002row1_col18,#T_b346c10a_147a_11eb_980f_0242ac1c0002row1_col19,#T_b346c10a_147a_11eb_980f_0242ac1c0002row1_col20,#T_b346c10a_147a_11eb_980f_0242ac1c0002row1_col21,#T_b346c10a_147a_11eb_980f_0242ac1c0002row1_col22,#T_b346c10a_147a_11eb_980f_0242ac1c0002row1_col23,#T_b346c10a_147a_11eb_980f_0242ac1c0002row1_col24,#T_b346c10a_147a_11eb_980f_0242ac1c0002row1_col25,#T_b346c10a_147a_11eb_980f_0242ac1c0002row1_col26,#T_b346c10a_147a_11eb_980f_0242ac1c0002row1_col27,#T_b346c10a_147a_11eb_980f_0242ac1c0002row2_col0,#T_b346c10a_147a_11eb_980f_0242ac1c0002row2_col1,#T_b346c10a_147a_11eb_980f_0242ac1c0002row2_col2,#T_b346c10a_147a_11eb_980f_0242ac1c0002row2_col3,#T_b346c10a_147a_11eb_980f_0242ac1c0002row2_col4,#T_b346c10a_147a_11eb_980f_0242ac1c0002row2_col5,#T_b346c10a_147a_11eb_980f_0242ac1c0002row2_col6,#T_b346c10a_147a_11eb_980f_0242ac1c0002row2_col7,#T_b346c10a_147a_11eb_980f_0242ac1c0002row2_col8,#T_b346c10a_147a_11eb_980f_0242ac1c0002row2_col9,#T_b346c10a_147a_11eb_980f_0242ac1c0002row2_col10,#T_b346c10a_147a_11eb_980f_0242ac1c0002row2_col11,#T_b346c10a_147a_11eb_980f_0242ac1c0002row2_col12,#T_b346c10a_147a_11eb_980f_0242ac1c0002row2_col13,#T_b346c10a_147a_11eb_980f_0242ac1c0002row2_col14,#T_b346c10a_147a_11eb_980f_0242ac1c0002row2_col15,#T_b346c10a_147a_11eb_980f_0242ac1c0002row2_col16,#T_b346c10a_147a_11eb_980f_0242ac1c0002row2_col17,#T_b346c10a_147a_11eb_980f_0242ac1c0002row2_col18,#T_b346c10a_147a_11eb_980f_0242ac1c0002row2_col19,#T_b346c10a_147a_11eb_980f_0242ac1c0002row2_col20,#T_b346c10a_147a_11eb_980f_0242ac1c0002row2_col21,#T_b346c10a_147a_11eb_980f_0242ac1c0002row2_col22,#T_b346c10a_147a_11eb_980f_0242ac1c0002row2_col23,#T_b346c10a_147a_11eb_980f_0242ac1c0002row2_col24,#T_b346c10a_147a_11eb_980f_0242ac1c0002row2_col25,#T_b346c10a_147a_11eb_980f_0242ac1c0002row2_col26,#T_b346c10a_147a_11eb_980f_0242ac1c0002row2_col27,#T_b346c10a_147a_11eb_980f_0242ac1c0002row3_col0,#T_b346c10a_147a_11eb_980f_0242ac1c0002row3_col1,#T_b346c10a_147a_11eb_980f_0242ac1c0002row3_col2,#T_b346c10a_147a_11eb_980f_0242ac1c0002row3_col3,#T_b346c10a_147a_11eb_980f_0242ac1c0002row3_col4,#T_b346c10a_147a_11eb_980f_0242ac1c0002row3_col5,#T_b346c10a_147a_11eb_980f_0242ac1c0002row3_col6,#T_b346c10a_147a_11eb_980f_0242ac1c0002row3_col7,#T_b346c10a_147a_11eb_980f_0242ac1c0002row3_col8,#T_b346c10a_147a_11eb_980f_0242ac1c0002row3_col9,#T_b346c10a_147a_11eb_980f_0242ac1c0002row3_col10,#T_b346c10a_147a_11eb_980f_0242ac1c0002row3_col11,#T_b346c10a_147a_11eb_980f_0242ac1c0002row3_col12,#T_b346c10a_147a_11eb_980f_0242ac1c0002row3_col13,#T_b346c10a_147a_11eb_980f_0242ac1c0002row3_col14,#T_b346c10a_147a_11eb_980f_0242ac1c0002row3_col15,#T_b346c10a_147a_11eb_980f_0242ac1c0002row3_col16,#T_b346c10a_147a_11eb_980f_0242ac1c0002row3_col17,#T_b346c10a_147a_11eb_980f_0242ac1c0002row3_col18,#T_b346c10a_147a_11eb_980f_0242ac1c0002row3_col19,#T_b346c10a_147a_11eb_980f_0242ac1c0002row3_col20,#T_b346c10a_147a_11eb_980f_0242ac1c0002row3_col21,#T_b346c10a_147a_11eb_980f_0242ac1c0002row3_col22,#T_b346c10a_147a_11eb_980f_0242ac1c0002row3_col23,#T_b346c10a_147a_11eb_980f_0242ac1c0002row3_col24,#T_b346c10a_147a_11eb_980f_0242ac1c0002row3_col25,#T_b346c10a_147a_11eb_980f_0242ac1c0002row3_col26,#T_b346c10a_147a_11eb_980f_0242ac1c0002row3_col27,#T_b346c10a_147a_11eb_980f_0242ac1c0002row4_col0,#T_b346c10a_147a_11eb_980f_0242ac1c0002row4_col1,#T_b346c10a_147a_11eb_980f_0242ac1c0002row4_col2,#T_b346c10a_147a_11eb_980f_0242ac1c0002row4_col3,#T_b346c10a_147a_11eb_980f_0242ac1c0002row4_col4,#T_b346c10a_147a_11eb_980f_0242ac1c0002row4_col5,#T_b346c10a_147a_11eb_980f_0242ac1c0002row4_col6,#T_b346c10a_147a_11eb_980f_0242ac1c0002row4_col7,#T_b346c10a_147a_11eb_980f_0242ac1c0002row4_col8,#T_b346c10a_147a_11eb_980f_0242ac1c0002row4_col9,#T_b346c10a_147a_11eb_980f_0242ac1c0002row4_col10,#T_b346c10a_147a_11eb_980f_0242ac1c0002row4_col11,#T_b346c10a_147a_11eb_980f_0242ac1c0002row4_col12,#T_b346c10a_147a_11eb_980f_0242ac1c0002row4_col13,#T_b346c10a_147a_11eb_980f_0242ac1c0002row4_col14,#T_b346c10a_147a_11eb_980f_0242ac1c0002row4_col15,#T_b346c10a_147a_11eb_980f_0242ac1c0002row4_col16,#T_b346c10a_147a_11eb_980f_0242ac1c0002row4_col17,#T_b346c10a_147a_11eb_980f_0242ac1c0002row4_col18,#T_b346c10a_147a_11eb_980f_0242ac1c0002row4_col19,#T_b346c10a_147a_11eb_980f_0242ac1c0002row4_col20,#T_b346c10a_147a_11eb_980f_0242ac1c0002row4_col21,#T_b346c10a_147a_11eb_980f_0242ac1c0002row4_col22,#T_b346c10a_147a_11eb_980f_0242ac1c0002row4_col23,#T_b346c10a_147a_11eb_980f_0242ac1c0002row4_col24,#T_b346c10a_147a_11eb_980f_0242ac1c0002row4_col25,#T_b346c10a_147a_11eb_980f_0242ac1c0002row4_col26,#T_b346c10a_147a_11eb_980f_0242ac1c0002row4_col27,#T_b346c10a_147a_11eb_980f_0242ac1c0002row5_col0,#T_b346c10a_147a_11eb_980f_0242ac1c0002row5_col1,#T_b346c10a_147a_11eb_980f_0242ac1c0002row5_col2,#T_b346c10a_147a_11eb_980f_0242ac1c0002row5_col3,#T_b346c10a_147a_11eb_980f_0242ac1c0002row5_col4,#T_b346c10a_147a_11eb_980f_0242ac1c0002row5_col5,#T_b346c10a_147a_11eb_980f_0242ac1c0002row5_col6,#T_b346c10a_147a_11eb_980f_0242ac1c0002row5_col7,#T_b346c10a_147a_11eb_980f_0242ac1c0002row5_col8,#T_b346c10a_147a_11eb_980f_0242ac1c0002row5_col9,#T_b346c10a_147a_11eb_980f_0242ac1c0002row5_col10,#T_b346c10a_147a_11eb_980f_0242ac1c0002row5_col11,#T_b346c10a_147a_11eb_980f_0242ac1c0002row5_col12,#T_b346c10a_147a_11eb_980f_0242ac1c0002row5_col13,#T_b346c10a_147a_11eb_980f_0242ac1c0002row5_col14,#T_b346c10a_147a_11eb_980f_0242ac1c0002row5_col15,#T_b346c10a_147a_11eb_980f_0242ac1c0002row5_col16,#T_b346c10a_147a_11eb_980f_0242ac1c0002row5_col17,#T_b346c10a_147a_11eb_980f_0242ac1c0002row5_col18,#T_b346c10a_147a_11eb_980f_0242ac1c0002row5_col19,#T_b346c10a_147a_11eb_980f_0242ac1c0002row5_col20,#T_b346c10a_147a_11eb_980f_0242ac1c0002row5_col21,#T_b346c10a_147a_11eb_980f_0242ac1c0002row5_col22,#T_b346c10a_147a_11eb_980f_0242ac1c0002row5_col23,#T_b346c10a_147a_11eb_980f_0242ac1c0002row5_col24,#T_b346c10a_147a_11eb_980f_0242ac1c0002row5_col25,#T_b346c10a_147a_11eb_980f_0242ac1c0002row5_col26,#T_b346c10a_147a_11eb_980f_0242ac1c0002row5_col27,#T_b346c10a_147a_11eb_980f_0242ac1c0002row6_col0,#T_b346c10a_147a_11eb_980f_0242ac1c0002row6_col1,#T_b346c10a_147a_11eb_980f_0242ac1c0002row6_col2,#T_b346c10a_147a_11eb_980f_0242ac1c0002row6_col3,#T_b346c10a_147a_11eb_980f_0242ac1c0002row6_col4,#T_b346c10a_147a_11eb_980f_0242ac1c0002row6_col5,#T_b346c10a_147a_11eb_980f_0242ac1c0002row6_col6,#T_b346c10a_147a_11eb_980f_0242ac1c0002row6_col7,#T_b346c10a_147a_11eb_980f_0242ac1c0002row6_col8,#T_b346c10a_147a_11eb_980f_0242ac1c0002row6_col9,#T_b346c10a_147a_11eb_980f_0242ac1c0002row6_col10,#T_b346c10a_147a_11eb_980f_0242ac1c0002row6_col11,#T_b346c10a_147a_11eb_980f_0242ac1c0002row6_col12,#T_b346c10a_147a_11eb_980f_0242ac1c0002row6_col13,#T_b346c10a_147a_11eb_980f_0242ac1c0002row6_col14,#T_b346c10a_147a_11eb_980f_0242ac1c0002row6_col15,#T_b346c10a_147a_11eb_980f_0242ac1c0002row6_col16,#T_b346c10a_147a_11eb_980f_0242ac1c0002row6_col17,#T_b346c10a_147a_11eb_980f_0242ac1c0002row6_col18,#T_b346c10a_147a_11eb_980f_0242ac1c0002row6_col19,#T_b346c10a_147a_11eb_980f_0242ac1c0002row6_col20,#T_b346c10a_147a_11eb_980f_0242ac1c0002row6_col21,#T_b346c10a_147a_11eb_980f_0242ac1c0002row6_col22,#T_b346c10a_147a_11eb_980f_0242ac1c0002row6_col23,#T_b346c10a_147a_11eb_980f_0242ac1c0002row6_col24,#T_b346c10a_147a_11eb_980f_0242ac1c0002row6_col25,#T_b346c10a_147a_11eb_980f_0242ac1c0002row6_col26,#T_b346c10a_147a_11eb_980f_0242ac1c0002row6_col27,#T_b346c10a_147a_11eb_980f_0242ac1c0002row7_col0,#T_b346c10a_147a_11eb_980f_0242ac1c0002row7_col1,#T_b346c10a_147a_11eb_980f_0242ac1c0002row7_col2,#T_b346c10a_147a_11eb_980f_0242ac1c0002row7_col3,#T_b346c10a_147a_11eb_980f_0242ac1c0002row7_col4,#T_b346c10a_147a_11eb_980f_0242ac1c0002row7_col5,#T_b346c10a_147a_11eb_980f_0242ac1c0002row7_col6,#T_b346c10a_147a_11eb_980f_0242ac1c0002row7_col7,#T_b346c10a_147a_11eb_980f_0242ac1c0002row7_col8,#T_b346c10a_147a_11eb_980f_0242ac1c0002row7_col9,#T_b346c10a_147a_11eb_980f_0242ac1c0002row7_col10,#T_b346c10a_147a_11eb_980f_0242ac1c0002row7_col11,#T_b346c10a_147a_11eb_980f_0242ac1c0002row7_col12,#T_b346c10a_147a_11eb_980f_0242ac1c0002row7_col13,#T_b346c10a_147a_11eb_980f_0242ac1c0002row7_col14,#T_b346c10a_147a_11eb_980f_0242ac1c0002row7_col15,#T_b346c10a_147a_11eb_980f_0242ac1c0002row7_col16,#T_b346c10a_147a_11eb_980f_0242ac1c0002row7_col17,#T_b346c10a_147a_11eb_980f_0242ac1c0002row7_col18,#T_b346c10a_147a_11eb_980f_0242ac1c0002row7_col19,#T_b346c10a_147a_11eb_980f_0242ac1c0002row7_col20,#T_b346c10a_147a_11eb_980f_0242ac1c0002row7_col21,#T_b346c10a_147a_11eb_980f_0242ac1c0002row7_col22,#T_b346c10a_147a_11eb_980f_0242ac1c0002row7_col23,#T_b346c10a_147a_11eb_980f_0242ac1c0002row7_col24,#T_b346c10a_147a_11eb_980f_0242ac1c0002row7_col25,#T_b346c10a_147a_11eb_980f_0242ac1c0002row7_col26,#T_b346c10a_147a_11eb_980f_0242ac1c0002row7_col27,#T_b346c10a_147a_11eb_980f_0242ac1c0002row8_col0,#T_b346c10a_147a_11eb_980f_0242ac1c0002row8_col1,#T_b346c10a_147a_11eb_980f_0242ac1c0002row8_col2,#T_b346c10a_147a_11eb_980f_0242ac1c0002row8_col3,#T_b346c10a_147a_11eb_980f_0242ac1c0002row8_col4,#T_b346c10a_147a_11eb_980f_0242ac1c0002row8_col5,#T_b346c10a_147a_11eb_980f_0242ac1c0002row8_col6,#T_b346c10a_147a_11eb_980f_0242ac1c0002row8_col7,#T_b346c10a_147a_11eb_980f_0242ac1c0002row8_col8,#T_b346c10a_147a_11eb_980f_0242ac1c0002row8_col9,#T_b346c10a_147a_11eb_980f_0242ac1c0002row8_col10,#T_b346c10a_147a_11eb_980f_0242ac1c0002row8_col11,#T_b346c10a_147a_11eb_980f_0242ac1c0002row8_col12,#T_b346c10a_147a_11eb_980f_0242ac1c0002row8_col13,#T_b346c10a_147a_11eb_980f_0242ac1c0002row8_col14,#T_b346c10a_147a_11eb_980f_0242ac1c0002row8_col15,#T_b346c10a_147a_11eb_980f_0242ac1c0002row8_col16,#T_b346c10a_147a_11eb_980f_0242ac1c0002row8_col17,#T_b346c10a_147a_11eb_980f_0242ac1c0002row8_col23,#T_b346c10a_147a_11eb_980f_0242ac1c0002row8_col24,#T_b346c10a_147a_11eb_980f_0242ac1c0002row8_col25,#T_b346c10a_147a_11eb_980f_0242ac1c0002row8_col26,#T_b346c10a_147a_11eb_980f_0242ac1c0002row8_col27,#T_b346c10a_147a_11eb_980f_0242ac1c0002row9_col0,#T_b346c10a_147a_11eb_980f_0242ac1c0002row9_col1,#T_b346c10a_147a_11eb_980f_0242ac1c0002row9_col2,#T_b346c10a_147a_11eb_980f_0242ac1c0002row9_col3,#T_b346c10a_147a_11eb_980f_0242ac1c0002row9_col4,#T_b346c10a_147a_11eb_980f_0242ac1c0002row9_col5,#T_b346c10a_147a_11eb_980f_0242ac1c0002row9_col23,#T_b346c10a_147a_11eb_980f_0242ac1c0002row9_col24,#T_b346c10a_147a_11eb_980f_0242ac1c0002row9_col25,#T_b346c10a_147a_11eb_980f_0242ac1c0002row9_col26,#T_b346c10a_147a_11eb_980f_0242ac1c0002row9_col27,#T_b346c10a_147a_11eb_980f_0242ac1c0002row10_col0,#T_b346c10a_147a_11eb_980f_0242ac1c0002row10_col1,#T_b346c10a_147a_11eb_980f_0242ac1c0002row10_col2,#T_b346c10a_147a_11eb_980f_0242ac1c0002row10_col3,#T_b346c10a_147a_11eb_980f_0242ac1c0002row10_col4,#T_b346c10a_147a_11eb_980f_0242ac1c0002row10_col5,#T_b346c10a_147a_11eb_980f_0242ac1c0002row10_col23,#T_b346c10a_147a_11eb_980f_0242ac1c0002row10_col24,#T_b346c10a_147a_11eb_980f_0242ac1c0002row10_col25,#T_b346c10a_147a_11eb_980f_0242ac1c0002row10_col26,#T_b346c10a_147a_11eb_980f_0242ac1c0002row10_col27,#T_b346c10a_147a_11eb_980f_0242ac1c0002row11_col0,#T_b346c10a_147a_11eb_980f_0242ac1c0002row11_col1,#T_b346c10a_147a_11eb_980f_0242ac1c0002row11_col2,#T_b346c10a_147a_11eb_980f_0242ac1c0002row11_col3,#T_b346c10a_147a_11eb_980f_0242ac1c0002row11_col23,#T_b346c10a_147a_11eb_980f_0242ac1c0002row11_col24,#T_b346c10a_147a_11eb_980f_0242ac1c0002row11_col25,#T_b346c10a_147a_11eb_980f_0242ac1c0002row11_col26,#T_b346c10a_147a_11eb_980f_0242ac1c0002row11_col27,#T_b346c10a_147a_11eb_980f_0242ac1c0002row12_col0,#T_b346c10a_147a_11eb_980f_0242ac1c0002row12_col1,#T_b346c10a_147a_11eb_980f_0242ac1c0002row12_col2,#T_b346c10a_147a_11eb_980f_0242ac1c0002row12_col13,#T_b346c10a_147a_11eb_980f_0242ac1c0002row12_col14,#T_b346c10a_147a_11eb_980f_0242ac1c0002row12_col15,#T_b346c10a_147a_11eb_980f_0242ac1c0002row12_col16,#T_b346c10a_147a_11eb_980f_0242ac1c0002row12_col17,#T_b346c10a_147a_11eb_980f_0242ac1c0002row12_col18,#T_b346c10a_147a_11eb_980f_0242ac1c0002row12_col23,#T_b346c10a_147a_11eb_980f_0242ac1c0002row12_col24,#T_b346c10a_147a_11eb_980f_0242ac1c0002row12_col25,#T_b346c10a_147a_11eb_980f_0242ac1c0002row12_col26,#T_b346c10a_147a_11eb_980f_0242ac1c0002row12_col27,#T_b346c10a_147a_11eb_980f_0242ac1c0002row13_col0,#T_b346c10a_147a_11eb_980f_0242ac1c0002row13_col1,#T_b346c10a_147a_11eb_980f_0242ac1c0002row13_col2,#T_b346c10a_147a_11eb_980f_0242ac1c0002row13_col9,#T_b346c10a_147a_11eb_980f_0242ac1c0002row13_col10,#T_b346c10a_147a_11eb_980f_0242ac1c0002row13_col11,#T_b346c10a_147a_11eb_980f_0242ac1c0002row13_col12,#T_b346c10a_147a_11eb_980f_0242ac1c0002row13_col13,#T_b346c10a_147a_11eb_980f_0242ac1c0002row13_col14,#T_b346c10a_147a_11eb_980f_0242ac1c0002row13_col15,#T_b346c10a_147a_11eb_980f_0242ac1c0002row13_col16,#T_b346c10a_147a_11eb_980f_0242ac1c0002row13_col17,#T_b346c10a_147a_11eb_980f_0242ac1c0002row13_col22,#T_b346c10a_147a_11eb_980f_0242ac1c0002row13_col23,#T_b346c10a_147a_11eb_980f_0242ac1c0002row13_col24,#T_b346c10a_147a_11eb_980f_0242ac1c0002row13_col25,#T_b346c10a_147a_11eb_980f_0242ac1c0002row13_col26,#T_b346c10a_147a_11eb_980f_0242ac1c0002row13_col27,#T_b346c10a_147a_11eb_980f_0242ac1c0002row14_col0,#T_b346c10a_147a_11eb_980f_0242ac1c0002row14_col1,#T_b346c10a_147a_11eb_980f_0242ac1c0002row14_col2,#T_b346c10a_147a_11eb_980f_0242ac1c0002row14_col7,#T_b346c10a_147a_11eb_980f_0242ac1c0002row14_col8,#T_b346c10a_147a_11eb_980f_0242ac1c0002row14_col9,#T_b346c10a_147a_11eb_980f_0242ac1c0002row14_col10,#T_b346c10a_147a_11eb_980f_0242ac1c0002row14_col11,#T_b346c10a_147a_11eb_980f_0242ac1c0002row14_col12,#T_b346c10a_147a_11eb_980f_0242ac1c0002row14_col13,#T_b346c10a_147a_11eb_980f_0242ac1c0002row14_col14,#T_b346c10a_147a_11eb_980f_0242ac1c0002row14_col15,#T_b346c10a_147a_11eb_980f_0242ac1c0002row14_col16,#T_b346c10a_147a_11eb_980f_0242ac1c0002row14_col22,#T_b346c10a_147a_11eb_980f_0242ac1c0002row14_col23,#T_b346c10a_147a_11eb_980f_0242ac1c0002row14_col24,#T_b346c10a_147a_11eb_980f_0242ac1c0002row14_col25,#T_b346c10a_147a_11eb_980f_0242ac1c0002row14_col26,#T_b346c10a_147a_11eb_980f_0242ac1c0002row14_col27,#T_b346c10a_147a_11eb_980f_0242ac1c0002row15_col0,#T_b346c10a_147a_11eb_980f_0242ac1c0002row15_col1,#T_b346c10a_147a_11eb_980f_0242ac1c0002row15_col2,#T_b346c10a_147a_11eb_980f_0242ac1c0002row15_col3,#T_b346c10a_147a_11eb_980f_0242ac1c0002row15_col4,#T_b346c10a_147a_11eb_980f_0242ac1c0002row15_col5,#T_b346c10a_147a_11eb_980f_0242ac1c0002row15_col6,#T_b346c10a_147a_11eb_980f_0242ac1c0002row15_col7,#T_b346c10a_147a_11eb_980f_0242ac1c0002row15_col8,#T_b346c10a_147a_11eb_980f_0242ac1c0002row15_col9,#T_b346c10a_147a_11eb_980f_0242ac1c0002row15_col10,#T_b346c10a_147a_11eb_980f_0242ac1c0002row15_col11,#T_b346c10a_147a_11eb_980f_0242ac1c0002row15_col12,#T_b346c10a_147a_11eb_980f_0242ac1c0002row15_col13,#T_b346c10a_147a_11eb_980f_0242ac1c0002row15_col14,#T_b346c10a_147a_11eb_980f_0242ac1c0002row15_col15,#T_b346c10a_147a_11eb_980f_0242ac1c0002row15_col16,#T_b346c10a_147a_11eb_980f_0242ac1c0002row15_col21,#T_b346c10a_147a_11eb_980f_0242ac1c0002row15_col22,#T_b346c10a_147a_11eb_980f_0242ac1c0002row15_col23,#T_b346c10a_147a_11eb_980f_0242ac1c0002row15_col24,#T_b346c10a_147a_11eb_980f_0242ac1c0002row15_col25,#T_b346c10a_147a_11eb_980f_0242ac1c0002row15_col26,#T_b346c10a_147a_11eb_980f_0242ac1c0002row15_col27,#T_b346c10a_147a_11eb_980f_0242ac1c0002row16_col0,#T_b346c10a_147a_11eb_980f_0242ac1c0002row16_col1,#T_b346c10a_147a_11eb_980f_0242ac1c0002row16_col2,#T_b346c10a_147a_11eb_980f_0242ac1c0002row16_col3,#T_b346c10a_147a_11eb_980f_0242ac1c0002row16_col4,#T_b346c10a_147a_11eb_980f_0242ac1c0002row16_col5,#T_b346c10a_147a_11eb_980f_0242ac1c0002row16_col6,#T_b346c10a_147a_11eb_980f_0242ac1c0002row16_col7,#T_b346c10a_147a_11eb_980f_0242ac1c0002row16_col8,#T_b346c10a_147a_11eb_980f_0242ac1c0002row16_col9,#T_b346c10a_147a_11eb_980f_0242ac1c0002row16_col10,#T_b346c10a_147a_11eb_980f_0242ac1c0002row16_col11,#T_b346c10a_147a_11eb_980f_0242ac1c0002row16_col12,#T_b346c10a_147a_11eb_980f_0242ac1c0002row16_col13,#T_b346c10a_147a_11eb_980f_0242ac1c0002row16_col14,#T_b346c10a_147a_11eb_980f_0242ac1c0002row16_col15,#T_b346c10a_147a_11eb_980f_0242ac1c0002row16_col21,#T_b346c10a_147a_11eb_980f_0242ac1c0002row16_col22,#T_b346c10a_147a_11eb_980f_0242ac1c0002row16_col23,#T_b346c10a_147a_11eb_980f_0242ac1c0002row16_col24,#T_b346c10a_147a_11eb_980f_0242ac1c0002row16_col25,#T_b346c10a_147a_11eb_980f_0242ac1c0002row16_col26,#T_b346c10a_147a_11eb_980f_0242ac1c0002row16_col27,#T_b346c10a_147a_11eb_980f_0242ac1c0002row17_col0,#T_b346c10a_147a_11eb_980f_0242ac1c0002row17_col1,#T_b346c10a_147a_11eb_980f_0242ac1c0002row17_col2,#T_b346c10a_147a_11eb_980f_0242ac1c0002row17_col3,#T_b346c10a_147a_11eb_980f_0242ac1c0002row17_col4,#T_b346c10a_147a_11eb_980f_0242ac1c0002row17_col5,#T_b346c10a_147a_11eb_980f_0242ac1c0002row17_col6,#T_b346c10a_147a_11eb_980f_0242ac1c0002row17_col7,#T_b346c10a_147a_11eb_980f_0242ac1c0002row17_col8,#T_b346c10a_147a_11eb_980f_0242ac1c0002row17_col9,#T_b346c10a_147a_11eb_980f_0242ac1c0002row17_col10,#T_b346c10a_147a_11eb_980f_0242ac1c0002row17_col11,#T_b346c10a_147a_11eb_980f_0242ac1c0002row17_col12,#T_b346c10a_147a_11eb_980f_0242ac1c0002row17_col13,#T_b346c10a_147a_11eb_980f_0242ac1c0002row17_col14,#T_b346c10a_147a_11eb_980f_0242ac1c0002row17_col20,#T_b346c10a_147a_11eb_980f_0242ac1c0002row17_col21,#T_b346c10a_147a_11eb_980f_0242ac1c0002row17_col22,#T_b346c10a_147a_11eb_980f_0242ac1c0002row17_col23,#T_b346c10a_147a_11eb_980f_0242ac1c0002row17_col24,#T_b346c10a_147a_11eb_980f_0242ac1c0002row17_col25,#T_b346c10a_147a_11eb_980f_0242ac1c0002row17_col26,#T_b346c10a_147a_11eb_980f_0242ac1c0002row17_col27,#T_b346c10a_147a_11eb_980f_0242ac1c0002row18_col0,#T_b346c10a_147a_11eb_980f_0242ac1c0002row18_col1,#T_b346c10a_147a_11eb_980f_0242ac1c0002row18_col2,#T_b346c10a_147a_11eb_980f_0242ac1c0002row18_col3,#T_b346c10a_147a_11eb_980f_0242ac1c0002row18_col4,#T_b346c10a_147a_11eb_980f_0242ac1c0002row18_col5,#T_b346c10a_147a_11eb_980f_0242ac1c0002row18_col6,#T_b346c10a_147a_11eb_980f_0242ac1c0002row18_col7,#T_b346c10a_147a_11eb_980f_0242ac1c0002row18_col8,#T_b346c10a_147a_11eb_980f_0242ac1c0002row18_col9,#T_b346c10a_147a_11eb_980f_0242ac1c0002row18_col10,#T_b346c10a_147a_11eb_980f_0242ac1c0002row18_col11,#T_b346c10a_147a_11eb_980f_0242ac1c0002row18_col12,#T_b346c10a_147a_11eb_980f_0242ac1c0002row18_col13,#T_b346c10a_147a_11eb_980f_0242ac1c0002row18_col19,#T_b346c10a_147a_11eb_980f_0242ac1c0002row18_col20,#T_b346c10a_147a_11eb_980f_0242ac1c0002row18_col21,#T_b346c10a_147a_11eb_980f_0242ac1c0002row18_col22,#T_b346c10a_147a_11eb_980f_0242ac1c0002row18_col23,#T_b346c10a_147a_11eb_980f_0242ac1c0002row18_col24,#T_b346c10a_147a_11eb_980f_0242ac1c0002row18_col25,#T_b346c10a_147a_11eb_980f_0242ac1c0002row18_col26,#T_b346c10a_147a_11eb_980f_0242ac1c0002row18_col27,#T_b346c10a_147a_11eb_980f_0242ac1c0002row19_col0,#T_b346c10a_147a_11eb_980f_0242ac1c0002row19_col1,#T_b346c10a_147a_11eb_980f_0242ac1c0002row19_col2,#T_b346c10a_147a_11eb_980f_0242ac1c0002row19_col3,#T_b346c10a_147a_11eb_980f_0242ac1c0002row19_col4,#T_b346c10a_147a_11eb_980f_0242ac1c0002row19_col5,#T_b346c10a_147a_11eb_980f_0242ac1c0002row19_col6,#T_b346c10a_147a_11eb_980f_0242ac1c0002row19_col7,#T_b346c10a_147a_11eb_980f_0242ac1c0002row19_col8,#T_b346c10a_147a_11eb_980f_0242ac1c0002row19_col9,#T_b346c10a_147a_11eb_980f_0242ac1c0002row19_col10,#T_b346c10a_147a_11eb_980f_0242ac1c0002row19_col11,#T_b346c10a_147a_11eb_980f_0242ac1c0002row19_col12,#T_b346c10a_147a_11eb_980f_0242ac1c0002row19_col13,#T_b346c10a_147a_11eb_980f_0242ac1c0002row19_col18,#T_b346c10a_147a_11eb_980f_0242ac1c0002row19_col19,#T_b346c10a_147a_11eb_980f_0242ac1c0002row19_col20,#T_b346c10a_147a_11eb_980f_0242ac1c0002row19_col21,#T_b346c10a_147a_11eb_980f_0242ac1c0002row19_col22,#T_b346c10a_147a_11eb_980f_0242ac1c0002row19_col23,#T_b346c10a_147a_11eb_980f_0242ac1c0002row19_col24,#T_b346c10a_147a_11eb_980f_0242ac1c0002row19_col25,#T_b346c10a_147a_11eb_980f_0242ac1c0002row19_col26,#T_b346c10a_147a_11eb_980f_0242ac1c0002row19_col27,#T_b346c10a_147a_11eb_980f_0242ac1c0002row20_col0,#T_b346c10a_147a_11eb_980f_0242ac1c0002row20_col1,#T_b346c10a_147a_11eb_980f_0242ac1c0002row20_col2,#T_b346c10a_147a_11eb_980f_0242ac1c0002row20_col3,#T_b346c10a_147a_11eb_980f_0242ac1c0002row20_col4,#T_b346c10a_147a_11eb_980f_0242ac1c0002row20_col5,#T_b346c10a_147a_11eb_980f_0242ac1c0002row20_col6,#T_b346c10a_147a_11eb_980f_0242ac1c0002row20_col7,#T_b346c10a_147a_11eb_980f_0242ac1c0002row20_col8,#T_b346c10a_147a_11eb_980f_0242ac1c0002row20_col9,#T_b346c10a_147a_11eb_980f_0242ac1c0002row20_col10,#T_b346c10a_147a_11eb_980f_0242ac1c0002row20_col11,#T_b346c10a_147a_11eb_980f_0242ac1c0002row20_col12,#T_b346c10a_147a_11eb_980f_0242ac1c0002row20_col13,#T_b346c10a_147a_11eb_980f_0242ac1c0002row20_col18,#T_b346c10a_147a_11eb_980f_0242ac1c0002row20_col19,#T_b346c10a_147a_11eb_980f_0242ac1c0002row20_col20,#T_b346c10a_147a_11eb_980f_0242ac1c0002row20_col21,#T_b346c10a_147a_11eb_980f_0242ac1c0002row20_col22,#T_b346c10a_147a_11eb_980f_0242ac1c0002row20_col23,#T_b346c10a_147a_11eb_980f_0242ac1c0002row20_col24,#T_b346c10a_147a_11eb_980f_0242ac1c0002row20_col25,#T_b346c10a_147a_11eb_980f_0242ac1c0002row20_col26,#T_b346c10a_147a_11eb_980f_0242ac1c0002row20_col27,#T_b346c10a_147a_11eb_980f_0242ac1c0002row21_col0,#T_b346c10a_147a_11eb_980f_0242ac1c0002row21_col1,#T_b346c10a_147a_11eb_980f_0242ac1c0002row21_col2,#T_b346c10a_147a_11eb_980f_0242ac1c0002row21_col3,#T_b346c10a_147a_11eb_980f_0242ac1c0002row21_col4,#T_b346c10a_147a_11eb_980f_0242ac1c0002row21_col5,#T_b346c10a_147a_11eb_980f_0242ac1c0002row21_col6,#T_b346c10a_147a_11eb_980f_0242ac1c0002row21_col7,#T_b346c10a_147a_11eb_980f_0242ac1c0002row21_col8,#T_b346c10a_147a_11eb_980f_0242ac1c0002row21_col9,#T_b346c10a_147a_11eb_980f_0242ac1c0002row21_col10,#T_b346c10a_147a_11eb_980f_0242ac1c0002row21_col11,#T_b346c10a_147a_11eb_980f_0242ac1c0002row21_col12,#T_b346c10a_147a_11eb_980f_0242ac1c0002row21_col17,#T_b346c10a_147a_11eb_980f_0242ac1c0002row21_col18,#T_b346c10a_147a_11eb_980f_0242ac1c0002row21_col19,#T_b346c10a_147a_11eb_980f_0242ac1c0002row21_col20,#T_b346c10a_147a_11eb_980f_0242ac1c0002row21_col21,#T_b346c10a_147a_11eb_980f_0242ac1c0002row21_col22,#T_b346c10a_147a_11eb_980f_0242ac1c0002row21_col23,#T_b346c10a_147a_11eb_980f_0242ac1c0002row21_col24,#T_b346c10a_147a_11eb_980f_0242ac1c0002row21_col25,#T_b346c10a_147a_11eb_980f_0242ac1c0002row21_col26,#T_b346c10a_147a_11eb_980f_0242ac1c0002row21_col27,#T_b346c10a_147a_11eb_980f_0242ac1c0002row22_col0,#T_b346c10a_147a_11eb_980f_0242ac1c0002row22_col1,#T_b346c10a_147a_11eb_980f_0242ac1c0002row22_col2,#T_b346c10a_147a_11eb_980f_0242ac1c0002row22_col3,#T_b346c10a_147a_11eb_980f_0242ac1c0002row22_col4,#T_b346c10a_147a_11eb_980f_0242ac1c0002row22_col5,#T_b346c10a_147a_11eb_980f_0242ac1c0002row22_col6,#T_b346c10a_147a_11eb_980f_0242ac1c0002row22_col7,#T_b346c10a_147a_11eb_980f_0242ac1c0002row22_col8,#T_b346c10a_147a_11eb_980f_0242ac1c0002row22_col9,#T_b346c10a_147a_11eb_980f_0242ac1c0002row22_col10,#T_b346c10a_147a_11eb_980f_0242ac1c0002row22_col11,#T_b346c10a_147a_11eb_980f_0242ac1c0002row22_col12,#T_b346c10a_147a_11eb_980f_0242ac1c0002row22_col17,#T_b346c10a_147a_11eb_980f_0242ac1c0002row22_col18,#T_b346c10a_147a_11eb_980f_0242ac1c0002row22_col19,#T_b346c10a_147a_11eb_980f_0242ac1c0002row22_col20,#T_b346c10a_147a_11eb_980f_0242ac1c0002row22_col21,#T_b346c10a_147a_11eb_980f_0242ac1c0002row22_col22,#T_b346c10a_147a_11eb_980f_0242ac1c0002row22_col23,#T_b346c10a_147a_11eb_980f_0242ac1c0002row22_col24,#T_b346c10a_147a_11eb_980f_0242ac1c0002row22_col25,#T_b346c10a_147a_11eb_980f_0242ac1c0002row22_col26,#T_b346c10a_147a_11eb_980f_0242ac1c0002row22_col27,#T_b346c10a_147a_11eb_980f_0242ac1c0002row23_col0,#T_b346c10a_147a_11eb_980f_0242ac1c0002row23_col1,#T_b346c10a_147a_11eb_980f_0242ac1c0002row23_col2,#T_b346c10a_147a_11eb_980f_0242ac1c0002row23_col3,#T_b346c10a_147a_11eb_980f_0242ac1c0002row23_col4,#T_b346c10a_147a_11eb_980f_0242ac1c0002row23_col5,#T_b346c10a_147a_11eb_980f_0242ac1c0002row23_col6,#T_b346c10a_147a_11eb_980f_0242ac1c0002row23_col7,#T_b346c10a_147a_11eb_980f_0242ac1c0002row23_col8,#T_b346c10a_147a_11eb_980f_0242ac1c0002row23_col9,#T_b346c10a_147a_11eb_980f_0242ac1c0002row23_col10,#T_b346c10a_147a_11eb_980f_0242ac1c0002row23_col11,#T_b346c10a_147a_11eb_980f_0242ac1c0002row23_col12,#T_b346c10a_147a_11eb_980f_0242ac1c0002row23_col17,#T_b346c10a_147a_11eb_980f_0242ac1c0002row23_col18,#T_b346c10a_147a_11eb_980f_0242ac1c0002row23_col19,#T_b346c10a_147a_11eb_980f_0242ac1c0002row23_col20,#T_b346c10a_147a_11eb_980f_0242ac1c0002row23_col21,#T_b346c10a_147a_11eb_980f_0242ac1c0002row23_col22,#T_b346c10a_147a_11eb_980f_0242ac1c0002row23_col23,#T_b346c10a_147a_11eb_980f_0242ac1c0002row23_col24,#T_b346c10a_147a_11eb_980f_0242ac1c0002row23_col25,#T_b346c10a_147a_11eb_980f_0242ac1c0002row23_col26,#T_b346c10a_147a_11eb_980f_0242ac1c0002row23_col27,#T_b346c10a_147a_11eb_980f_0242ac1c0002row24_col0,#T_b346c10a_147a_11eb_980f_0242ac1c0002row24_col1,#T_b346c10a_147a_11eb_980f_0242ac1c0002row24_col2,#T_b346c10a_147a_11eb_980f_0242ac1c0002row24_col3,#T_b346c10a_147a_11eb_980f_0242ac1c0002row24_col4,#T_b346c10a_147a_11eb_980f_0242ac1c0002row24_col5,#T_b346c10a_147a_11eb_980f_0242ac1c0002row24_col6,#T_b346c10a_147a_11eb_980f_0242ac1c0002row24_col7,#T_b346c10a_147a_11eb_980f_0242ac1c0002row24_col8,#T_b346c10a_147a_11eb_980f_0242ac1c0002row24_col9,#T_b346c10a_147a_11eb_980f_0242ac1c0002row24_col10,#T_b346c10a_147a_11eb_980f_0242ac1c0002row24_col11,#T_b346c10a_147a_11eb_980f_0242ac1c0002row24_col12,#T_b346c10a_147a_11eb_980f_0242ac1c0002row24_col16,#T_b346c10a_147a_11eb_980f_0242ac1c0002row24_col17,#T_b346c10a_147a_11eb_980f_0242ac1c0002row24_col18,#T_b346c10a_147a_11eb_980f_0242ac1c0002row24_col19,#T_b346c10a_147a_11eb_980f_0242ac1c0002row24_col20,#T_b346c10a_147a_11eb_980f_0242ac1c0002row24_col21,#T_b346c10a_147a_11eb_980f_0242ac1c0002row24_col22,#T_b346c10a_147a_11eb_980f_0242ac1c0002row24_col23,#T_b346c10a_147a_11eb_980f_0242ac1c0002row24_col24,#T_b346c10a_147a_11eb_980f_0242ac1c0002row24_col25,#T_b346c10a_147a_11eb_980f_0242ac1c0002row24_col26,#T_b346c10a_147a_11eb_980f_0242ac1c0002row24_col27,#T_b346c10a_147a_11eb_980f_0242ac1c0002row25_col0,#T_b346c10a_147a_11eb_980f_0242ac1c0002row25_col1,#T_b346c10a_147a_11eb_980f_0242ac1c0002row25_col2,#T_b346c10a_147a_11eb_980f_0242ac1c0002row25_col3,#T_b346c10a_147a_11eb_980f_0242ac1c0002row25_col4,#T_b346c10a_147a_11eb_980f_0242ac1c0002row25_col5,#T_b346c10a_147a_11eb_980f_0242ac1c0002row25_col6,#T_b346c10a_147a_11eb_980f_0242ac1c0002row25_col7,#T_b346c10a_147a_11eb_980f_0242ac1c0002row25_col8,#T_b346c10a_147a_11eb_980f_0242ac1c0002row25_col9,#T_b346c10a_147a_11eb_980f_0242ac1c0002row25_col10,#T_b346c10a_147a_11eb_980f_0242ac1c0002row25_col11,#T_b346c10a_147a_11eb_980f_0242ac1c0002row25_col15,#T_b346c10a_147a_11eb_980f_0242ac1c0002row25_col16,#T_b346c10a_147a_11eb_980f_0242ac1c0002row25_col17,#T_b346c10a_147a_11eb_980f_0242ac1c0002row25_col18,#T_b346c10a_147a_11eb_980f_0242ac1c0002row25_col19,#T_b346c10a_147a_11eb_980f_0242ac1c0002row25_col20,#T_b346c10a_147a_11eb_980f_0242ac1c0002row25_col21,#T_b346c10a_147a_11eb_980f_0242ac1c0002row25_col22,#T_b346c10a_147a_11eb_980f_0242ac1c0002row25_col23,#T_b346c10a_147a_11eb_980f_0242ac1c0002row25_col24,#T_b346c10a_147a_11eb_980f_0242ac1c0002row25_col25,#T_b346c10a_147a_11eb_980f_0242ac1c0002row25_col26,#T_b346c10a_147a_11eb_980f_0242ac1c0002row25_col27,#T_b346c10a_147a_11eb_980f_0242ac1c0002row26_col0,#T_b346c10a_147a_11eb_980f_0242ac1c0002row26_col1,#T_b346c10a_147a_11eb_980f_0242ac1c0002row26_col2,#T_b346c10a_147a_11eb_980f_0242ac1c0002row26_col3,#T_b346c10a_147a_11eb_980f_0242ac1c0002row26_col4,#T_b346c10a_147a_11eb_980f_0242ac1c0002row26_col5,#T_b346c10a_147a_11eb_980f_0242ac1c0002row26_col6,#T_b346c10a_147a_11eb_980f_0242ac1c0002row26_col7,#T_b346c10a_147a_11eb_980f_0242ac1c0002row26_col8,#T_b346c10a_147a_11eb_980f_0242ac1c0002row26_col9,#T_b346c10a_147a_11eb_980f_0242ac1c0002row26_col10,#T_b346c10a_147a_11eb_980f_0242ac1c0002row26_col11,#T_b346c10a_147a_11eb_980f_0242ac1c0002row26_col15,#T_b346c10a_147a_11eb_980f_0242ac1c0002row26_col16,#T_b346c10a_147a_11eb_980f_0242ac1c0002row26_col17,#T_b346c10a_147a_11eb_980f_0242ac1c0002row26_col18,#T_b346c10a_147a_11eb_980f_0242ac1c0002row26_col19,#T_b346c10a_147a_11eb_980f_0242ac1c0002row26_col20,#T_b346c10a_147a_11eb_980f_0242ac1c0002row26_col21,#T_b346c10a_147a_11eb_980f_0242ac1c0002row26_col22,#T_b346c10a_147a_11eb_980f_0242ac1c0002row26_col23,#T_b346c10a_147a_11eb_980f_0242ac1c0002row26_col24,#T_b346c10a_147a_11eb_980f_0242ac1c0002row26_col25,#T_b346c10a_147a_11eb_980f_0242ac1c0002row26_col26,#T_b346c10a_147a_11eb_980f_0242ac1c0002row26_col27,#T_b346c10a_147a_11eb_980f_0242ac1c0002row27_col0,#T_b346c10a_147a_11eb_980f_0242ac1c0002row27_col1,#T_b346c10a_147a_11eb_980f_0242ac1c0002row27_col2,#T_b346c10a_147a_11eb_980f_0242ac1c0002row27_col3,#T_b346c10a_147a_11eb_980f_0242ac1c0002row27_col4,#T_b346c10a_147a_11eb_980f_0242ac1c0002row27_col5,#T_b346c10a_147a_11eb_980f_0242ac1c0002row27_col6,#T_b346c10a_147a_11eb_980f_0242ac1c0002row27_col7,#T_b346c10a_147a_11eb_980f_0242ac1c0002row27_col8,#T_b346c10a_147a_11eb_980f_0242ac1c0002row27_col9,#T_b346c10a_147a_11eb_980f_0242ac1c0002row27_col10,#T_b346c10a_147a_11eb_980f_0242ac1c0002row27_col11,#T_b346c10a_147a_11eb_980f_0242ac1c0002row27_col14,#T_b346c10a_147a_11eb_980f_0242ac1c0002row27_col15,#T_b346c10a_147a_11eb_980f_0242ac1c0002row27_col16,#T_b346c10a_147a_11eb_980f_0242ac1c0002row27_col17,#T_b346c10a_147a_11eb_980f_0242ac1c0002row27_col18,#T_b346c10a_147a_11eb_980f_0242ac1c0002row27_col19,#T_b346c10a_147a_11eb_980f_0242ac1c0002row27_col20,#T_b346c10a_147a_11eb_980f_0242ac1c0002row27_col21,#T_b346c10a_147a_11eb_980f_0242ac1c0002row27_col22,#T_b346c10a_147a_11eb_980f_0242ac1c0002row27_col23,#T_b346c10a_147a_11eb_980f_0242ac1c0002row27_col24,#T_b346c10a_147a_11eb_980f_0242ac1c0002row27_col25,#T_b346c10a_147a_11eb_980f_0242ac1c0002row27_col26,#T_b346c10a_147a_11eb_980f_0242ac1c0002row27_col27{\n",
              "            font_size:  6pt;\n",
              "            background-color:  #ffffff;\n",
              "            color:  #000000;\n",
              "        }#T_b346c10a_147a_11eb_980f_0242ac1c0002row8_col18,#T_b346c10a_147a_11eb_980f_0242ac1c0002row8_col19{\n",
              "            font_size:  6pt;\n",
              "            background-color:  #dcdcdc;\n",
              "            color:  #000000;\n",
              "        }#T_b346c10a_147a_11eb_980f_0242ac1c0002row8_col20{\n",
              "            font_size:  6pt;\n",
              "            background-color:  #c2c2c2;\n",
              "            color:  #000000;\n",
              "        }#T_b346c10a_147a_11eb_980f_0242ac1c0002row8_col21{\n",
              "            font_size:  6pt;\n",
              "            background-color:  #767676;\n",
              "            color:  #000000;\n",
              "        }#T_b346c10a_147a_11eb_980f_0242ac1c0002row8_col22{\n",
              "            font_size:  6pt;\n",
              "            background-color:  #9a9a9a;\n",
              "            color:  #000000;\n",
              "        }#T_b346c10a_147a_11eb_980f_0242ac1c0002row9_col6,#T_b346c10a_147a_11eb_980f_0242ac1c0002row21_col13{\n",
              "            font_size:  6pt;\n",
              "            background-color:  #fafafa;\n",
              "            color:  #000000;\n",
              "        }#T_b346c10a_147a_11eb_980f_0242ac1c0002row9_col7{\n",
              "            font_size:  6pt;\n",
              "            background-color:  #dddddd;\n",
              "            color:  #000000;\n",
              "        }#T_b346c10a_147a_11eb_980f_0242ac1c0002row9_col8{\n",
              "            font_size:  6pt;\n",
              "            background-color:  #2e2e2e;\n",
              "            color:  #f1f1f1;\n",
              "        }#T_b346c10a_147a_11eb_980f_0242ac1c0002row9_col9{\n",
              "            font_size:  6pt;\n",
              "            background-color:  #707070;\n",
              "            color:  #000000;\n",
              "        }#T_b346c10a_147a_11eb_980f_0242ac1c0002row9_col10,#T_b346c10a_147a_11eb_980f_0242ac1c0002row16_col20{\n",
              "            font_size:  6pt;\n",
              "            background-color:  #fcfcfc;\n",
              "            color:  #000000;\n",
              "        }#T_b346c10a_147a_11eb_980f_0242ac1c0002row9_col11,#T_b346c10a_147a_11eb_980f_0242ac1c0002row11_col18,#T_b346c10a_147a_11eb_980f_0242ac1c0002row19_col14{\n",
              "            font_size:  6pt;\n",
              "            background-color:  #f6f6f6;\n",
              "            color:  #000000;\n",
              "        }#T_b346c10a_147a_11eb_980f_0242ac1c0002row9_col12{\n",
              "            font_size:  6pt;\n",
              "            background-color:  #bdbdbd;\n",
              "            color:  #000000;\n",
              "        }#T_b346c10a_147a_11eb_980f_0242ac1c0002row9_col13{\n",
              "            font_size:  6pt;\n",
              "            background-color:  #a0a0a0;\n",
              "            color:  #000000;\n",
              "        }#T_b346c10a_147a_11eb_980f_0242ac1c0002row9_col14{\n",
              "            font_size:  6pt;\n",
              "            background-color:  #989898;\n",
              "            color:  #000000;\n",
              "        }#T_b346c10a_147a_11eb_980f_0242ac1c0002row9_col15,#T_b346c10a_147a_11eb_980f_0242ac1c0002row9_col16,#T_b346c10a_147a_11eb_980f_0242ac1c0002row9_col17,#T_b346c10a_147a_11eb_980f_0242ac1c0002row11_col13{\n",
              "            font_size:  6pt;\n",
              "            background-color:  #2f2f2f;\n",
              "            color:  #f1f1f1;\n",
              "        }#T_b346c10a_147a_11eb_980f_0242ac1c0002row9_col18,#T_b346c10a_147a_11eb_980f_0242ac1c0002row9_col19,#T_b346c10a_147a_11eb_980f_0242ac1c0002row9_col20,#T_b346c10a_147a_11eb_980f_0242ac1c0002row9_col21,#T_b346c10a_147a_11eb_980f_0242ac1c0002row9_col22,#T_b346c10a_147a_11eb_980f_0242ac1c0002row10_col7,#T_b346c10a_147a_11eb_980f_0242ac1c0002row10_col8,#T_b346c10a_147a_11eb_980f_0242ac1c0002row10_col11,#T_b346c10a_147a_11eb_980f_0242ac1c0002row10_col12,#T_b346c10a_147a_11eb_980f_0242ac1c0002row10_col13,#T_b346c10a_147a_11eb_980f_0242ac1c0002row10_col14,#T_b346c10a_147a_11eb_980f_0242ac1c0002row10_col15,#T_b346c10a_147a_11eb_980f_0242ac1c0002row10_col16,#T_b346c10a_147a_11eb_980f_0242ac1c0002row10_col17,#T_b346c10a_147a_11eb_980f_0242ac1c0002row10_col19,#T_b346c10a_147a_11eb_980f_0242ac1c0002row10_col20,#T_b346c10a_147a_11eb_980f_0242ac1c0002row10_col21,#T_b346c10a_147a_11eb_980f_0242ac1c0002row11_col7,#T_b346c10a_147a_11eb_980f_0242ac1c0002row11_col8,#T_b346c10a_147a_11eb_980f_0242ac1c0002row11_col9,#T_b346c10a_147a_11eb_980f_0242ac1c0002row11_col10,#T_b346c10a_147a_11eb_980f_0242ac1c0002row11_col11,#T_b346c10a_147a_11eb_980f_0242ac1c0002row11_col20,#T_b346c10a_147a_11eb_980f_0242ac1c0002row11_col21,#T_b346c10a_147a_11eb_980f_0242ac1c0002row12_col5,#T_b346c10a_147a_11eb_980f_0242ac1c0002row12_col6,#T_b346c10a_147a_11eb_980f_0242ac1c0002row12_col7,#T_b346c10a_147a_11eb_980f_0242ac1c0002row12_col8,#T_b346c10a_147a_11eb_980f_0242ac1c0002row12_col9,#T_b346c10a_147a_11eb_980f_0242ac1c0002row12_col20,#T_b346c10a_147a_11eb_980f_0242ac1c0002row12_col21,#T_b346c10a_147a_11eb_980f_0242ac1c0002row13_col3,#T_b346c10a_147a_11eb_980f_0242ac1c0002row13_col4,#T_b346c10a_147a_11eb_980f_0242ac1c0002row13_col5,#T_b346c10a_147a_11eb_980f_0242ac1c0002row13_col20,#T_b346c10a_147a_11eb_980f_0242ac1c0002row14_col19,#T_b346c10a_147a_11eb_980f_0242ac1c0002row15_col19,#T_b346c10a_147a_11eb_980f_0242ac1c0002row17_col17,#T_b346c10a_147a_11eb_980f_0242ac1c0002row18_col16,#T_b346c10a_147a_11eb_980f_0242ac1c0002row18_col17,#T_b346c10a_147a_11eb_980f_0242ac1c0002row19_col15,#T_b346c10a_147a_11eb_980f_0242ac1c0002row19_col16,#T_b346c10a_147a_11eb_980f_0242ac1c0002row20_col15,#T_b346c10a_147a_11eb_980f_0242ac1c0002row21_col15,#T_b346c10a_147a_11eb_980f_0242ac1c0002row22_col14,#T_b346c10a_147a_11eb_980f_0242ac1c0002row23_col14,#T_b346c10a_147a_11eb_980f_0242ac1c0002row25_col13{\n",
              "            font_size:  6pt;\n",
              "            background-color:  #000000;\n",
              "            color:  #f1f1f1;\n",
              "        }#T_b346c10a_147a_11eb_980f_0242ac1c0002row10_col6{\n",
              "            font_size:  6pt;\n",
              "            background-color:  #b8b8b8;\n",
              "            color:  #000000;\n",
              "        }#T_b346c10a_147a_11eb_980f_0242ac1c0002row10_col9{\n",
              "            font_size:  6pt;\n",
              "            background-color:  #070707;\n",
              "            color:  #f1f1f1;\n",
              "        }#T_b346c10a_147a_11eb_980f_0242ac1c0002row10_col10{\n",
              "            font_size:  6pt;\n",
              "            background-color:  #444444;\n",
              "            color:  #f1f1f1;\n",
              "        }#T_b346c10a_147a_11eb_980f_0242ac1c0002row10_col18,#T_b346c10a_147a_11eb_980f_0242ac1c0002row15_col18,#T_b346c10a_147a_11eb_980f_0242ac1c0002row16_col18{\n",
              "            font_size:  6pt;\n",
              "            background-color:  #010101;\n",
              "            color:  #f1f1f1;\n",
              "        }#T_b346c10a_147a_11eb_980f_0242ac1c0002row10_col22{\n",
              "            font_size:  6pt;\n",
              "            background-color:  #1a1a1a;\n",
              "            color:  #f1f1f1;\n",
              "        }#T_b346c10a_147a_11eb_980f_0242ac1c0002row11_col4,#T_b346c10a_147a_11eb_980f_0242ac1c0002row18_col14{\n",
              "            font_size:  6pt;\n",
              "            background-color:  #fdfdfd;\n",
              "            color:  #000000;\n",
              "        }#T_b346c10a_147a_11eb_980f_0242ac1c0002row11_col5{\n",
              "            font_size:  6pt;\n",
              "            background-color:  #8a8a8a;\n",
              "            color:  #000000;\n",
              "        }#T_b346c10a_147a_11eb_980f_0242ac1c0002row11_col6,#T_b346c10a_147a_11eb_980f_0242ac1c0002row26_col13{\n",
              "            font_size:  6pt;\n",
              "            background-color:  #0a0a0a;\n",
              "            color:  #f1f1f1;\n",
              "        }#T_b346c10a_147a_11eb_980f_0242ac1c0002row11_col12{\n",
              "            font_size:  6pt;\n",
              "            background-color:  #131313;\n",
              "            color:  #f1f1f1;\n",
              "        }#T_b346c10a_147a_11eb_980f_0242ac1c0002row11_col14{\n",
              "            font_size:  6pt;\n",
              "            background-color:  #3a3a3a;\n",
              "            color:  #f1f1f1;\n",
              "        }#T_b346c10a_147a_11eb_980f_0242ac1c0002row11_col15,#T_b346c10a_147a_11eb_980f_0242ac1c0002row11_col16{\n",
              "            font_size:  6pt;\n",
              "            background-color:  #a3a3a3;\n",
              "            color:  #000000;\n",
              "        }#T_b346c10a_147a_11eb_980f_0242ac1c0002row11_col17{\n",
              "            font_size:  6pt;\n",
              "            background-color:  #cccccc;\n",
              "            color:  #000000;\n",
              "        }#T_b346c10a_147a_11eb_980f_0242ac1c0002row11_col19{\n",
              "            font_size:  6pt;\n",
              "            background-color:  #e1e1e1;\n",
              "            color:  #000000;\n",
              "        }#T_b346c10a_147a_11eb_980f_0242ac1c0002row11_col22{\n",
              "            font_size:  6pt;\n",
              "            background-color:  #696969;\n",
              "            color:  #000000;\n",
              "        }#T_b346c10a_147a_11eb_980f_0242ac1c0002row12_col3{\n",
              "            font_size:  6pt;\n",
              "            background-color:  #cbcbcb;\n",
              "            color:  #000000;\n",
              "        }#T_b346c10a_147a_11eb_980f_0242ac1c0002row12_col4{\n",
              "            font_size:  6pt;\n",
              "            background-color:  #818181;\n",
              "            color:  #000000;\n",
              "        }#T_b346c10a_147a_11eb_980f_0242ac1c0002row12_col10{\n",
              "            font_size:  6pt;\n",
              "            background-color:  #575757;\n",
              "            color:  #f1f1f1;\n",
              "        }#T_b346c10a_147a_11eb_980f_0242ac1c0002row12_col11{\n",
              "            font_size:  6pt;\n",
              "            background-color:  #b4b4b4;\n",
              "            color:  #000000;\n",
              "        }#T_b346c10a_147a_11eb_980f_0242ac1c0002row12_col12{\n",
              "            font_size:  6pt;\n",
              "            background-color:  #ededed;\n",
              "            color:  #000000;\n",
              "        }#T_b346c10a_147a_11eb_980f_0242ac1c0002row12_col19{\n",
              "            font_size:  6pt;\n",
              "            background-color:  #a2a2a2;\n",
              "            color:  #000000;\n",
              "        }#T_b346c10a_147a_11eb_980f_0242ac1c0002row12_col22{\n",
              "            font_size:  6pt;\n",
              "            background-color:  #c7c7c7;\n",
              "            color:  #000000;\n",
              "        }#T_b346c10a_147a_11eb_980f_0242ac1c0002row13_col6{\n",
              "            font_size:  6pt;\n",
              "            background-color:  #393939;\n",
              "            color:  #f1f1f1;\n",
              "        }#T_b346c10a_147a_11eb_980f_0242ac1c0002row13_col7,#T_b346c10a_147a_11eb_980f_0242ac1c0002row25_col12{\n",
              "            font_size:  6pt;\n",
              "            background-color:  #b9b9b9;\n",
              "            color:  #000000;\n",
              "        }#T_b346c10a_147a_11eb_980f_0242ac1c0002row13_col8,#T_b346c10a_147a_11eb_980f_0242ac1c0002row18_col18{\n",
              "            font_size:  6pt;\n",
              "            background-color:  #ececec;\n",
              "            color:  #000000;\n",
              "        }#T_b346c10a_147a_11eb_980f_0242ac1c0002row13_col18,#T_b346c10a_147a_11eb_980f_0242ac1c0002row22_col13{\n",
              "            font_size:  6pt;\n",
              "            background-color:  #bbbbbb;\n",
              "            color:  #000000;\n",
              "        }#T_b346c10a_147a_11eb_980f_0242ac1c0002row13_col19{\n",
              "            font_size:  6pt;\n",
              "            background-color:  #101010;\n",
              "            color:  #f1f1f1;\n",
              "        }#T_b346c10a_147a_11eb_980f_0242ac1c0002row13_col21{\n",
              "            font_size:  6pt;\n",
              "            background-color:  #777777;\n",
              "            color:  #000000;\n",
              "        }#T_b346c10a_147a_11eb_980f_0242ac1c0002row14_col3{\n",
              "            font_size:  6pt;\n",
              "            background-color:  #dbdbdb;\n",
              "            color:  #000000;\n",
              "        }#T_b346c10a_147a_11eb_980f_0242ac1c0002row14_col4{\n",
              "            font_size:  6pt;\n",
              "            background-color:  #353535;\n",
              "            color:  #f1f1f1;\n",
              "        }#T_b346c10a_147a_11eb_980f_0242ac1c0002row14_col5{\n",
              "            font_size:  6pt;\n",
              "            background-color:  #afafaf;\n",
              "            color:  #000000;\n",
              "        }#T_b346c10a_147a_11eb_980f_0242ac1c0002row14_col6{\n",
              "            font_size:  6pt;\n",
              "            background-color:  #f7f7f7;\n",
              "            color:  #000000;\n",
              "        }#T_b346c10a_147a_11eb_980f_0242ac1c0002row14_col17,#T_b346c10a_147a_11eb_980f_0242ac1c0002row23_col16{\n",
              "            font_size:  6pt;\n",
              "            background-color:  #fbfbfb;\n",
              "            color:  #000000;\n",
              "        }#T_b346c10a_147a_11eb_980f_0242ac1c0002row14_col18{\n",
              "            font_size:  6pt;\n",
              "            background-color:  #434343;\n",
              "            color:  #f1f1f1;\n",
              "        }#T_b346c10a_147a_11eb_980f_0242ac1c0002row14_col20{\n",
              "            font_size:  6pt;\n",
              "            background-color:  #080808;\n",
              "            color:  #f1f1f1;\n",
              "        }#T_b346c10a_147a_11eb_980f_0242ac1c0002row14_col21,#T_b346c10a_147a_11eb_980f_0242ac1c0002row17_col15{\n",
              "            font_size:  6pt;\n",
              "            background-color:  #d4d4d4;\n",
              "            color:  #000000;\n",
              "        }#T_b346c10a_147a_11eb_980f_0242ac1c0002row15_col17{\n",
              "            font_size:  6pt;\n",
              "            background-color:  #6b6b6b;\n",
              "            color:  #000000;\n",
              "        }#T_b346c10a_147a_11eb_980f_0242ac1c0002row15_col20{\n",
              "            font_size:  6pt;\n",
              "            background-color:  #828282;\n",
              "            color:  #000000;\n",
              "        }#T_b346c10a_147a_11eb_980f_0242ac1c0002row16_col16{\n",
              "            font_size:  6pt;\n",
              "            background-color:  #b2b2b2;\n",
              "            color:  #000000;\n",
              "        }#T_b346c10a_147a_11eb_980f_0242ac1c0002row16_col17{\n",
              "            font_size:  6pt;\n",
              "            background-color:  #060606;\n",
              "            color:  #f1f1f1;\n",
              "        }#T_b346c10a_147a_11eb_980f_0242ac1c0002row16_col19{\n",
              "            font_size:  6pt;\n",
              "            background-color:  #5b5b5b;\n",
              "            color:  #f1f1f1;\n",
              "        }#T_b346c10a_147a_11eb_980f_0242ac1c0002row17_col16{\n",
              "            font_size:  6pt;\n",
              "            background-color:  #0e0e0e;\n",
              "            color:  #f1f1f1;\n",
              "        }#T_b346c10a_147a_11eb_980f_0242ac1c0002row17_col18{\n",
              "            font_size:  6pt;\n",
              "            background-color:  #4e4e4e;\n",
              "            color:  #f1f1f1;\n",
              "        }#T_b346c10a_147a_11eb_980f_0242ac1c0002row17_col19{\n",
              "            font_size:  6pt;\n",
              "            background-color:  #e6e6e6;\n",
              "            color:  #000000;\n",
              "        }#T_b346c10a_147a_11eb_980f_0242ac1c0002row18_col15{\n",
              "            font_size:  6pt;\n",
              "            background-color:  #4b4b4b;\n",
              "            color:  #f1f1f1;\n",
              "        }#T_b346c10a_147a_11eb_980f_0242ac1c0002row19_col17{\n",
              "            font_size:  6pt;\n",
              "            background-color:  #6e6e6e;\n",
              "            color:  #000000;\n",
              "        }#T_b346c10a_147a_11eb_980f_0242ac1c0002row20_col14{\n",
              "            font_size:  6pt;\n",
              "            background-color:  #e3e3e3;\n",
              "            color:  #000000;\n",
              "        }#T_b346c10a_147a_11eb_980f_0242ac1c0002row20_col16{\n",
              "            font_size:  6pt;\n",
              "            background-color:  #0f0f0f;\n",
              "            color:  #f1f1f1;\n",
              "        }#T_b346c10a_147a_11eb_980f_0242ac1c0002row20_col17{\n",
              "            font_size:  6pt;\n",
              "            background-color:  #eaeaea;\n",
              "            color:  #000000;\n",
              "        }#T_b346c10a_147a_11eb_980f_0242ac1c0002row21_col14{\n",
              "            font_size:  6pt;\n",
              "            background-color:  #616161;\n",
              "            color:  #f1f1f1;\n",
              "        }#T_b346c10a_147a_11eb_980f_0242ac1c0002row21_col16{\n",
              "            font_size:  6pt;\n",
              "            background-color:  #464646;\n",
              "            color:  #f1f1f1;\n",
              "        }#T_b346c10a_147a_11eb_980f_0242ac1c0002row22_col15{\n",
              "            font_size:  6pt;\n",
              "            background-color:  #242424;\n",
              "            color:  #f1f1f1;\n",
              "        }#T_b346c10a_147a_11eb_980f_0242ac1c0002row22_col16{\n",
              "            font_size:  6pt;\n",
              "            background-color:  #eeeeee;\n",
              "            color:  #000000;\n",
              "        }#T_b346c10a_147a_11eb_980f_0242ac1c0002row23_col13{\n",
              "            font_size:  6pt;\n",
              "            background-color:  #9f9f9f;\n",
              "            color:  #000000;\n",
              "        }#T_b346c10a_147a_11eb_980f_0242ac1c0002row23_col15{\n",
              "            font_size:  6pt;\n",
              "            background-color:  #3c3c3c;\n",
              "            color:  #f1f1f1;\n",
              "        }#T_b346c10a_147a_11eb_980f_0242ac1c0002row24_col13{\n",
              "            font_size:  6pt;\n",
              "            background-color:  #414141;\n",
              "            color:  #f1f1f1;\n",
              "        }#T_b346c10a_147a_11eb_980f_0242ac1c0002row24_col14{\n",
              "            font_size:  6pt;\n",
              "            background-color:  #0c0c0c;\n",
              "            color:  #f1f1f1;\n",
              "        }#T_b346c10a_147a_11eb_980f_0242ac1c0002row24_col15{\n",
              "            font_size:  6pt;\n",
              "            background-color:  #dedede;\n",
              "            color:  #000000;\n",
              "        }#T_b346c10a_147a_11eb_980f_0242ac1c0002row25_col14{\n",
              "            font_size:  6pt;\n",
              "            background-color:  #8d8d8d;\n",
              "            color:  #000000;\n",
              "        }#T_b346c10a_147a_11eb_980f_0242ac1c0002row26_col12{\n",
              "            font_size:  6pt;\n",
              "            background-color:  #b0b0b0;\n",
              "            color:  #000000;\n",
              "        }#T_b346c10a_147a_11eb_980f_0242ac1c0002row26_col14{\n",
              "            font_size:  6pt;\n",
              "            background-color:  #efefef;\n",
              "            color:  #000000;\n",
              "        }#T_b346c10a_147a_11eb_980f_0242ac1c0002row27_col12{\n",
              "            font_size:  6pt;\n",
              "            background-color:  #f4f4f4;\n",
              "            color:  #000000;\n",
              "        }#T_b346c10a_147a_11eb_980f_0242ac1c0002row27_col13{\n",
              "            font_size:  6pt;\n",
              "            background-color:  #e7e7e7;\n",
              "            color:  #000000;\n",
              "        }</style><table id=\"T_b346c10a_147a_11eb_980f_0242ac1c0002\" ><thead>    <tr>        <th class=\"blank level0\" ></th>        <th class=\"col_heading level0 col0\" >0</th>        <th class=\"col_heading level0 col1\" >1</th>        <th class=\"col_heading level0 col2\" >2</th>        <th class=\"col_heading level0 col3\" >3</th>        <th class=\"col_heading level0 col4\" >4</th>        <th class=\"col_heading level0 col5\" >5</th>        <th class=\"col_heading level0 col6\" >6</th>        <th class=\"col_heading level0 col7\" >7</th>        <th class=\"col_heading level0 col8\" >8</th>        <th class=\"col_heading level0 col9\" >9</th>        <th class=\"col_heading level0 col10\" >10</th>        <th class=\"col_heading level0 col11\" >11</th>        <th class=\"col_heading level0 col12\" >12</th>        <th class=\"col_heading level0 col13\" >13</th>        <th class=\"col_heading level0 col14\" >14</th>        <th class=\"col_heading level0 col15\" >15</th>        <th class=\"col_heading level0 col16\" >16</th>        <th class=\"col_heading level0 col17\" >17</th>        <th class=\"col_heading level0 col18\" >18</th>        <th class=\"col_heading level0 col19\" >19</th>        <th class=\"col_heading level0 col20\" >20</th>        <th class=\"col_heading level0 col21\" >21</th>        <th class=\"col_heading level0 col22\" >22</th>        <th class=\"col_heading level0 col23\" >23</th>        <th class=\"col_heading level0 col24\" >24</th>        <th class=\"col_heading level0 col25\" >25</th>        <th class=\"col_heading level0 col26\" >26</th>        <th class=\"col_heading level0 col27\" >27</th>    </tr></thead><tbody>\n",
              "                <tr>\n",
              "                        <th id=\"T_b346c10a_147a_11eb_980f_0242ac1c0002level0_row0\" class=\"row_heading level0 row0\" >0</th>\n",
              "                        <td id=\"T_b346c10a_147a_11eb_980f_0242ac1c0002row0_col0\" class=\"data row0 col0\" >0</td>\n",
              "                        <td id=\"T_b346c10a_147a_11eb_980f_0242ac1c0002row0_col1\" class=\"data row0 col1\" >0</td>\n",
              "                        <td id=\"T_b346c10a_147a_11eb_980f_0242ac1c0002row0_col2\" class=\"data row0 col2\" >0</td>\n",
              "                        <td id=\"T_b346c10a_147a_11eb_980f_0242ac1c0002row0_col3\" class=\"data row0 col3\" >0</td>\n",
              "                        <td id=\"T_b346c10a_147a_11eb_980f_0242ac1c0002row0_col4\" class=\"data row0 col4\" >0</td>\n",
              "                        <td id=\"T_b346c10a_147a_11eb_980f_0242ac1c0002row0_col5\" class=\"data row0 col5\" >0</td>\n",
              "                        <td id=\"T_b346c10a_147a_11eb_980f_0242ac1c0002row0_col6\" class=\"data row0 col6\" >0</td>\n",
              "                        <td id=\"T_b346c10a_147a_11eb_980f_0242ac1c0002row0_col7\" class=\"data row0 col7\" >0</td>\n",
              "                        <td id=\"T_b346c10a_147a_11eb_980f_0242ac1c0002row0_col8\" class=\"data row0 col8\" >0</td>\n",
              "                        <td id=\"T_b346c10a_147a_11eb_980f_0242ac1c0002row0_col9\" class=\"data row0 col9\" >0</td>\n",
              "                        <td id=\"T_b346c10a_147a_11eb_980f_0242ac1c0002row0_col10\" class=\"data row0 col10\" >0</td>\n",
              "                        <td id=\"T_b346c10a_147a_11eb_980f_0242ac1c0002row0_col11\" class=\"data row0 col11\" >0</td>\n",
              "                        <td id=\"T_b346c10a_147a_11eb_980f_0242ac1c0002row0_col12\" class=\"data row0 col12\" >0</td>\n",
              "                        <td id=\"T_b346c10a_147a_11eb_980f_0242ac1c0002row0_col13\" class=\"data row0 col13\" >0</td>\n",
              "                        <td id=\"T_b346c10a_147a_11eb_980f_0242ac1c0002row0_col14\" class=\"data row0 col14\" >0</td>\n",
              "                        <td id=\"T_b346c10a_147a_11eb_980f_0242ac1c0002row0_col15\" class=\"data row0 col15\" >0</td>\n",
              "                        <td id=\"T_b346c10a_147a_11eb_980f_0242ac1c0002row0_col16\" class=\"data row0 col16\" >0</td>\n",
              "                        <td id=\"T_b346c10a_147a_11eb_980f_0242ac1c0002row0_col17\" class=\"data row0 col17\" >0</td>\n",
              "                        <td id=\"T_b346c10a_147a_11eb_980f_0242ac1c0002row0_col18\" class=\"data row0 col18\" >0</td>\n",
              "                        <td id=\"T_b346c10a_147a_11eb_980f_0242ac1c0002row0_col19\" class=\"data row0 col19\" >0</td>\n",
              "                        <td id=\"T_b346c10a_147a_11eb_980f_0242ac1c0002row0_col20\" class=\"data row0 col20\" >0</td>\n",
              "                        <td id=\"T_b346c10a_147a_11eb_980f_0242ac1c0002row0_col21\" class=\"data row0 col21\" >0</td>\n",
              "                        <td id=\"T_b346c10a_147a_11eb_980f_0242ac1c0002row0_col22\" class=\"data row0 col22\" >0</td>\n",
              "                        <td id=\"T_b346c10a_147a_11eb_980f_0242ac1c0002row0_col23\" class=\"data row0 col23\" >0</td>\n",
              "                        <td id=\"T_b346c10a_147a_11eb_980f_0242ac1c0002row0_col24\" class=\"data row0 col24\" >0</td>\n",
              "                        <td id=\"T_b346c10a_147a_11eb_980f_0242ac1c0002row0_col25\" class=\"data row0 col25\" >0</td>\n",
              "                        <td id=\"T_b346c10a_147a_11eb_980f_0242ac1c0002row0_col26\" class=\"data row0 col26\" >0</td>\n",
              "                        <td id=\"T_b346c10a_147a_11eb_980f_0242ac1c0002row0_col27\" class=\"data row0 col27\" >0</td>\n",
              "            </tr>\n",
              "            <tr>\n",
              "                        <th id=\"T_b346c10a_147a_11eb_980f_0242ac1c0002level0_row1\" class=\"row_heading level0 row1\" >1</th>\n",
              "                        <td id=\"T_b346c10a_147a_11eb_980f_0242ac1c0002row1_col0\" class=\"data row1 col0\" >0</td>\n",
              "                        <td id=\"T_b346c10a_147a_11eb_980f_0242ac1c0002row1_col1\" class=\"data row1 col1\" >0</td>\n",
              "                        <td id=\"T_b346c10a_147a_11eb_980f_0242ac1c0002row1_col2\" class=\"data row1 col2\" >0</td>\n",
              "                        <td id=\"T_b346c10a_147a_11eb_980f_0242ac1c0002row1_col3\" class=\"data row1 col3\" >0</td>\n",
              "                        <td id=\"T_b346c10a_147a_11eb_980f_0242ac1c0002row1_col4\" class=\"data row1 col4\" >0</td>\n",
              "                        <td id=\"T_b346c10a_147a_11eb_980f_0242ac1c0002row1_col5\" class=\"data row1 col5\" >0</td>\n",
              "                        <td id=\"T_b346c10a_147a_11eb_980f_0242ac1c0002row1_col6\" class=\"data row1 col6\" >0</td>\n",
              "                        <td id=\"T_b346c10a_147a_11eb_980f_0242ac1c0002row1_col7\" class=\"data row1 col7\" >0</td>\n",
              "                        <td id=\"T_b346c10a_147a_11eb_980f_0242ac1c0002row1_col8\" class=\"data row1 col8\" >0</td>\n",
              "                        <td id=\"T_b346c10a_147a_11eb_980f_0242ac1c0002row1_col9\" class=\"data row1 col9\" >0</td>\n",
              "                        <td id=\"T_b346c10a_147a_11eb_980f_0242ac1c0002row1_col10\" class=\"data row1 col10\" >0</td>\n",
              "                        <td id=\"T_b346c10a_147a_11eb_980f_0242ac1c0002row1_col11\" class=\"data row1 col11\" >0</td>\n",
              "                        <td id=\"T_b346c10a_147a_11eb_980f_0242ac1c0002row1_col12\" class=\"data row1 col12\" >0</td>\n",
              "                        <td id=\"T_b346c10a_147a_11eb_980f_0242ac1c0002row1_col13\" class=\"data row1 col13\" >0</td>\n",
              "                        <td id=\"T_b346c10a_147a_11eb_980f_0242ac1c0002row1_col14\" class=\"data row1 col14\" >0</td>\n",
              "                        <td id=\"T_b346c10a_147a_11eb_980f_0242ac1c0002row1_col15\" class=\"data row1 col15\" >0</td>\n",
              "                        <td id=\"T_b346c10a_147a_11eb_980f_0242ac1c0002row1_col16\" class=\"data row1 col16\" >0</td>\n",
              "                        <td id=\"T_b346c10a_147a_11eb_980f_0242ac1c0002row1_col17\" class=\"data row1 col17\" >0</td>\n",
              "                        <td id=\"T_b346c10a_147a_11eb_980f_0242ac1c0002row1_col18\" class=\"data row1 col18\" >0</td>\n",
              "                        <td id=\"T_b346c10a_147a_11eb_980f_0242ac1c0002row1_col19\" class=\"data row1 col19\" >0</td>\n",
              "                        <td id=\"T_b346c10a_147a_11eb_980f_0242ac1c0002row1_col20\" class=\"data row1 col20\" >0</td>\n",
              "                        <td id=\"T_b346c10a_147a_11eb_980f_0242ac1c0002row1_col21\" class=\"data row1 col21\" >0</td>\n",
              "                        <td id=\"T_b346c10a_147a_11eb_980f_0242ac1c0002row1_col22\" class=\"data row1 col22\" >0</td>\n",
              "                        <td id=\"T_b346c10a_147a_11eb_980f_0242ac1c0002row1_col23\" class=\"data row1 col23\" >0</td>\n",
              "                        <td id=\"T_b346c10a_147a_11eb_980f_0242ac1c0002row1_col24\" class=\"data row1 col24\" >0</td>\n",
              "                        <td id=\"T_b346c10a_147a_11eb_980f_0242ac1c0002row1_col25\" class=\"data row1 col25\" >0</td>\n",
              "                        <td id=\"T_b346c10a_147a_11eb_980f_0242ac1c0002row1_col26\" class=\"data row1 col26\" >0</td>\n",
              "                        <td id=\"T_b346c10a_147a_11eb_980f_0242ac1c0002row1_col27\" class=\"data row1 col27\" >0</td>\n",
              "            </tr>\n",
              "            <tr>\n",
              "                        <th id=\"T_b346c10a_147a_11eb_980f_0242ac1c0002level0_row2\" class=\"row_heading level0 row2\" >2</th>\n",
              "                        <td id=\"T_b346c10a_147a_11eb_980f_0242ac1c0002row2_col0\" class=\"data row2 col0\" >0</td>\n",
              "                        <td id=\"T_b346c10a_147a_11eb_980f_0242ac1c0002row2_col1\" class=\"data row2 col1\" >0</td>\n",
              "                        <td id=\"T_b346c10a_147a_11eb_980f_0242ac1c0002row2_col2\" class=\"data row2 col2\" >0</td>\n",
              "                        <td id=\"T_b346c10a_147a_11eb_980f_0242ac1c0002row2_col3\" class=\"data row2 col3\" >0</td>\n",
              "                        <td id=\"T_b346c10a_147a_11eb_980f_0242ac1c0002row2_col4\" class=\"data row2 col4\" >0</td>\n",
              "                        <td id=\"T_b346c10a_147a_11eb_980f_0242ac1c0002row2_col5\" class=\"data row2 col5\" >0</td>\n",
              "                        <td id=\"T_b346c10a_147a_11eb_980f_0242ac1c0002row2_col6\" class=\"data row2 col6\" >0</td>\n",
              "                        <td id=\"T_b346c10a_147a_11eb_980f_0242ac1c0002row2_col7\" class=\"data row2 col7\" >0</td>\n",
              "                        <td id=\"T_b346c10a_147a_11eb_980f_0242ac1c0002row2_col8\" class=\"data row2 col8\" >0</td>\n",
              "                        <td id=\"T_b346c10a_147a_11eb_980f_0242ac1c0002row2_col9\" class=\"data row2 col9\" >0</td>\n",
              "                        <td id=\"T_b346c10a_147a_11eb_980f_0242ac1c0002row2_col10\" class=\"data row2 col10\" >0</td>\n",
              "                        <td id=\"T_b346c10a_147a_11eb_980f_0242ac1c0002row2_col11\" class=\"data row2 col11\" >0</td>\n",
              "                        <td id=\"T_b346c10a_147a_11eb_980f_0242ac1c0002row2_col12\" class=\"data row2 col12\" >0</td>\n",
              "                        <td id=\"T_b346c10a_147a_11eb_980f_0242ac1c0002row2_col13\" class=\"data row2 col13\" >0</td>\n",
              "                        <td id=\"T_b346c10a_147a_11eb_980f_0242ac1c0002row2_col14\" class=\"data row2 col14\" >0</td>\n",
              "                        <td id=\"T_b346c10a_147a_11eb_980f_0242ac1c0002row2_col15\" class=\"data row2 col15\" >0</td>\n",
              "                        <td id=\"T_b346c10a_147a_11eb_980f_0242ac1c0002row2_col16\" class=\"data row2 col16\" >0</td>\n",
              "                        <td id=\"T_b346c10a_147a_11eb_980f_0242ac1c0002row2_col17\" class=\"data row2 col17\" >0</td>\n",
              "                        <td id=\"T_b346c10a_147a_11eb_980f_0242ac1c0002row2_col18\" class=\"data row2 col18\" >0</td>\n",
              "                        <td id=\"T_b346c10a_147a_11eb_980f_0242ac1c0002row2_col19\" class=\"data row2 col19\" >0</td>\n",
              "                        <td id=\"T_b346c10a_147a_11eb_980f_0242ac1c0002row2_col20\" class=\"data row2 col20\" >0</td>\n",
              "                        <td id=\"T_b346c10a_147a_11eb_980f_0242ac1c0002row2_col21\" class=\"data row2 col21\" >0</td>\n",
              "                        <td id=\"T_b346c10a_147a_11eb_980f_0242ac1c0002row2_col22\" class=\"data row2 col22\" >0</td>\n",
              "                        <td id=\"T_b346c10a_147a_11eb_980f_0242ac1c0002row2_col23\" class=\"data row2 col23\" >0</td>\n",
              "                        <td id=\"T_b346c10a_147a_11eb_980f_0242ac1c0002row2_col24\" class=\"data row2 col24\" >0</td>\n",
              "                        <td id=\"T_b346c10a_147a_11eb_980f_0242ac1c0002row2_col25\" class=\"data row2 col25\" >0</td>\n",
              "                        <td id=\"T_b346c10a_147a_11eb_980f_0242ac1c0002row2_col26\" class=\"data row2 col26\" >0</td>\n",
              "                        <td id=\"T_b346c10a_147a_11eb_980f_0242ac1c0002row2_col27\" class=\"data row2 col27\" >0</td>\n",
              "            </tr>\n",
              "            <tr>\n",
              "                        <th id=\"T_b346c10a_147a_11eb_980f_0242ac1c0002level0_row3\" class=\"row_heading level0 row3\" >3</th>\n",
              "                        <td id=\"T_b346c10a_147a_11eb_980f_0242ac1c0002row3_col0\" class=\"data row3 col0\" >0</td>\n",
              "                        <td id=\"T_b346c10a_147a_11eb_980f_0242ac1c0002row3_col1\" class=\"data row3 col1\" >0</td>\n",
              "                        <td id=\"T_b346c10a_147a_11eb_980f_0242ac1c0002row3_col2\" class=\"data row3 col2\" >0</td>\n",
              "                        <td id=\"T_b346c10a_147a_11eb_980f_0242ac1c0002row3_col3\" class=\"data row3 col3\" >0</td>\n",
              "                        <td id=\"T_b346c10a_147a_11eb_980f_0242ac1c0002row3_col4\" class=\"data row3 col4\" >0</td>\n",
              "                        <td id=\"T_b346c10a_147a_11eb_980f_0242ac1c0002row3_col5\" class=\"data row3 col5\" >0</td>\n",
              "                        <td id=\"T_b346c10a_147a_11eb_980f_0242ac1c0002row3_col6\" class=\"data row3 col6\" >0</td>\n",
              "                        <td id=\"T_b346c10a_147a_11eb_980f_0242ac1c0002row3_col7\" class=\"data row3 col7\" >0</td>\n",
              "                        <td id=\"T_b346c10a_147a_11eb_980f_0242ac1c0002row3_col8\" class=\"data row3 col8\" >0</td>\n",
              "                        <td id=\"T_b346c10a_147a_11eb_980f_0242ac1c0002row3_col9\" class=\"data row3 col9\" >0</td>\n",
              "                        <td id=\"T_b346c10a_147a_11eb_980f_0242ac1c0002row3_col10\" class=\"data row3 col10\" >0</td>\n",
              "                        <td id=\"T_b346c10a_147a_11eb_980f_0242ac1c0002row3_col11\" class=\"data row3 col11\" >0</td>\n",
              "                        <td id=\"T_b346c10a_147a_11eb_980f_0242ac1c0002row3_col12\" class=\"data row3 col12\" >0</td>\n",
              "                        <td id=\"T_b346c10a_147a_11eb_980f_0242ac1c0002row3_col13\" class=\"data row3 col13\" >0</td>\n",
              "                        <td id=\"T_b346c10a_147a_11eb_980f_0242ac1c0002row3_col14\" class=\"data row3 col14\" >0</td>\n",
              "                        <td id=\"T_b346c10a_147a_11eb_980f_0242ac1c0002row3_col15\" class=\"data row3 col15\" >0</td>\n",
              "                        <td id=\"T_b346c10a_147a_11eb_980f_0242ac1c0002row3_col16\" class=\"data row3 col16\" >0</td>\n",
              "                        <td id=\"T_b346c10a_147a_11eb_980f_0242ac1c0002row3_col17\" class=\"data row3 col17\" >0</td>\n",
              "                        <td id=\"T_b346c10a_147a_11eb_980f_0242ac1c0002row3_col18\" class=\"data row3 col18\" >0</td>\n",
              "                        <td id=\"T_b346c10a_147a_11eb_980f_0242ac1c0002row3_col19\" class=\"data row3 col19\" >0</td>\n",
              "                        <td id=\"T_b346c10a_147a_11eb_980f_0242ac1c0002row3_col20\" class=\"data row3 col20\" >0</td>\n",
              "                        <td id=\"T_b346c10a_147a_11eb_980f_0242ac1c0002row3_col21\" class=\"data row3 col21\" >0</td>\n",
              "                        <td id=\"T_b346c10a_147a_11eb_980f_0242ac1c0002row3_col22\" class=\"data row3 col22\" >0</td>\n",
              "                        <td id=\"T_b346c10a_147a_11eb_980f_0242ac1c0002row3_col23\" class=\"data row3 col23\" >0</td>\n",
              "                        <td id=\"T_b346c10a_147a_11eb_980f_0242ac1c0002row3_col24\" class=\"data row3 col24\" >0</td>\n",
              "                        <td id=\"T_b346c10a_147a_11eb_980f_0242ac1c0002row3_col25\" class=\"data row3 col25\" >0</td>\n",
              "                        <td id=\"T_b346c10a_147a_11eb_980f_0242ac1c0002row3_col26\" class=\"data row3 col26\" >0</td>\n",
              "                        <td id=\"T_b346c10a_147a_11eb_980f_0242ac1c0002row3_col27\" class=\"data row3 col27\" >0</td>\n",
              "            </tr>\n",
              "            <tr>\n",
              "                        <th id=\"T_b346c10a_147a_11eb_980f_0242ac1c0002level0_row4\" class=\"row_heading level0 row4\" >4</th>\n",
              "                        <td id=\"T_b346c10a_147a_11eb_980f_0242ac1c0002row4_col0\" class=\"data row4 col0\" >0</td>\n",
              "                        <td id=\"T_b346c10a_147a_11eb_980f_0242ac1c0002row4_col1\" class=\"data row4 col1\" >0</td>\n",
              "                        <td id=\"T_b346c10a_147a_11eb_980f_0242ac1c0002row4_col2\" class=\"data row4 col2\" >0</td>\n",
              "                        <td id=\"T_b346c10a_147a_11eb_980f_0242ac1c0002row4_col3\" class=\"data row4 col3\" >0</td>\n",
              "                        <td id=\"T_b346c10a_147a_11eb_980f_0242ac1c0002row4_col4\" class=\"data row4 col4\" >0</td>\n",
              "                        <td id=\"T_b346c10a_147a_11eb_980f_0242ac1c0002row4_col5\" class=\"data row4 col5\" >0</td>\n",
              "                        <td id=\"T_b346c10a_147a_11eb_980f_0242ac1c0002row4_col6\" class=\"data row4 col6\" >0</td>\n",
              "                        <td id=\"T_b346c10a_147a_11eb_980f_0242ac1c0002row4_col7\" class=\"data row4 col7\" >0</td>\n",
              "                        <td id=\"T_b346c10a_147a_11eb_980f_0242ac1c0002row4_col8\" class=\"data row4 col8\" >0</td>\n",
              "                        <td id=\"T_b346c10a_147a_11eb_980f_0242ac1c0002row4_col9\" class=\"data row4 col9\" >0</td>\n",
              "                        <td id=\"T_b346c10a_147a_11eb_980f_0242ac1c0002row4_col10\" class=\"data row4 col10\" >0</td>\n",
              "                        <td id=\"T_b346c10a_147a_11eb_980f_0242ac1c0002row4_col11\" class=\"data row4 col11\" >0</td>\n",
              "                        <td id=\"T_b346c10a_147a_11eb_980f_0242ac1c0002row4_col12\" class=\"data row4 col12\" >0</td>\n",
              "                        <td id=\"T_b346c10a_147a_11eb_980f_0242ac1c0002row4_col13\" class=\"data row4 col13\" >0</td>\n",
              "                        <td id=\"T_b346c10a_147a_11eb_980f_0242ac1c0002row4_col14\" class=\"data row4 col14\" >0</td>\n",
              "                        <td id=\"T_b346c10a_147a_11eb_980f_0242ac1c0002row4_col15\" class=\"data row4 col15\" >0</td>\n",
              "                        <td id=\"T_b346c10a_147a_11eb_980f_0242ac1c0002row4_col16\" class=\"data row4 col16\" >0</td>\n",
              "                        <td id=\"T_b346c10a_147a_11eb_980f_0242ac1c0002row4_col17\" class=\"data row4 col17\" >0</td>\n",
              "                        <td id=\"T_b346c10a_147a_11eb_980f_0242ac1c0002row4_col18\" class=\"data row4 col18\" >0</td>\n",
              "                        <td id=\"T_b346c10a_147a_11eb_980f_0242ac1c0002row4_col19\" class=\"data row4 col19\" >0</td>\n",
              "                        <td id=\"T_b346c10a_147a_11eb_980f_0242ac1c0002row4_col20\" class=\"data row4 col20\" >0</td>\n",
              "                        <td id=\"T_b346c10a_147a_11eb_980f_0242ac1c0002row4_col21\" class=\"data row4 col21\" >0</td>\n",
              "                        <td id=\"T_b346c10a_147a_11eb_980f_0242ac1c0002row4_col22\" class=\"data row4 col22\" >0</td>\n",
              "                        <td id=\"T_b346c10a_147a_11eb_980f_0242ac1c0002row4_col23\" class=\"data row4 col23\" >0</td>\n",
              "                        <td id=\"T_b346c10a_147a_11eb_980f_0242ac1c0002row4_col24\" class=\"data row4 col24\" >0</td>\n",
              "                        <td id=\"T_b346c10a_147a_11eb_980f_0242ac1c0002row4_col25\" class=\"data row4 col25\" >0</td>\n",
              "                        <td id=\"T_b346c10a_147a_11eb_980f_0242ac1c0002row4_col26\" class=\"data row4 col26\" >0</td>\n",
              "                        <td id=\"T_b346c10a_147a_11eb_980f_0242ac1c0002row4_col27\" class=\"data row4 col27\" >0</td>\n",
              "            </tr>\n",
              "            <tr>\n",
              "                        <th id=\"T_b346c10a_147a_11eb_980f_0242ac1c0002level0_row5\" class=\"row_heading level0 row5\" >5</th>\n",
              "                        <td id=\"T_b346c10a_147a_11eb_980f_0242ac1c0002row5_col0\" class=\"data row5 col0\" >0</td>\n",
              "                        <td id=\"T_b346c10a_147a_11eb_980f_0242ac1c0002row5_col1\" class=\"data row5 col1\" >0</td>\n",
              "                        <td id=\"T_b346c10a_147a_11eb_980f_0242ac1c0002row5_col2\" class=\"data row5 col2\" >0</td>\n",
              "                        <td id=\"T_b346c10a_147a_11eb_980f_0242ac1c0002row5_col3\" class=\"data row5 col3\" >0</td>\n",
              "                        <td id=\"T_b346c10a_147a_11eb_980f_0242ac1c0002row5_col4\" class=\"data row5 col4\" >0</td>\n",
              "                        <td id=\"T_b346c10a_147a_11eb_980f_0242ac1c0002row5_col5\" class=\"data row5 col5\" >0</td>\n",
              "                        <td id=\"T_b346c10a_147a_11eb_980f_0242ac1c0002row5_col6\" class=\"data row5 col6\" >0</td>\n",
              "                        <td id=\"T_b346c10a_147a_11eb_980f_0242ac1c0002row5_col7\" class=\"data row5 col7\" >0</td>\n",
              "                        <td id=\"T_b346c10a_147a_11eb_980f_0242ac1c0002row5_col8\" class=\"data row5 col8\" >0</td>\n",
              "                        <td id=\"T_b346c10a_147a_11eb_980f_0242ac1c0002row5_col9\" class=\"data row5 col9\" >0</td>\n",
              "                        <td id=\"T_b346c10a_147a_11eb_980f_0242ac1c0002row5_col10\" class=\"data row5 col10\" >0</td>\n",
              "                        <td id=\"T_b346c10a_147a_11eb_980f_0242ac1c0002row5_col11\" class=\"data row5 col11\" >0</td>\n",
              "                        <td id=\"T_b346c10a_147a_11eb_980f_0242ac1c0002row5_col12\" class=\"data row5 col12\" >0</td>\n",
              "                        <td id=\"T_b346c10a_147a_11eb_980f_0242ac1c0002row5_col13\" class=\"data row5 col13\" >0</td>\n",
              "                        <td id=\"T_b346c10a_147a_11eb_980f_0242ac1c0002row5_col14\" class=\"data row5 col14\" >0</td>\n",
              "                        <td id=\"T_b346c10a_147a_11eb_980f_0242ac1c0002row5_col15\" class=\"data row5 col15\" >0</td>\n",
              "                        <td id=\"T_b346c10a_147a_11eb_980f_0242ac1c0002row5_col16\" class=\"data row5 col16\" >0</td>\n",
              "                        <td id=\"T_b346c10a_147a_11eb_980f_0242ac1c0002row5_col17\" class=\"data row5 col17\" >0</td>\n",
              "                        <td id=\"T_b346c10a_147a_11eb_980f_0242ac1c0002row5_col18\" class=\"data row5 col18\" >0</td>\n",
              "                        <td id=\"T_b346c10a_147a_11eb_980f_0242ac1c0002row5_col19\" class=\"data row5 col19\" >0</td>\n",
              "                        <td id=\"T_b346c10a_147a_11eb_980f_0242ac1c0002row5_col20\" class=\"data row5 col20\" >0</td>\n",
              "                        <td id=\"T_b346c10a_147a_11eb_980f_0242ac1c0002row5_col21\" class=\"data row5 col21\" >0</td>\n",
              "                        <td id=\"T_b346c10a_147a_11eb_980f_0242ac1c0002row5_col22\" class=\"data row5 col22\" >0</td>\n",
              "                        <td id=\"T_b346c10a_147a_11eb_980f_0242ac1c0002row5_col23\" class=\"data row5 col23\" >0</td>\n",
              "                        <td id=\"T_b346c10a_147a_11eb_980f_0242ac1c0002row5_col24\" class=\"data row5 col24\" >0</td>\n",
              "                        <td id=\"T_b346c10a_147a_11eb_980f_0242ac1c0002row5_col25\" class=\"data row5 col25\" >0</td>\n",
              "                        <td id=\"T_b346c10a_147a_11eb_980f_0242ac1c0002row5_col26\" class=\"data row5 col26\" >0</td>\n",
              "                        <td id=\"T_b346c10a_147a_11eb_980f_0242ac1c0002row5_col27\" class=\"data row5 col27\" >0</td>\n",
              "            </tr>\n",
              "            <tr>\n",
              "                        <th id=\"T_b346c10a_147a_11eb_980f_0242ac1c0002level0_row6\" class=\"row_heading level0 row6\" >6</th>\n",
              "                        <td id=\"T_b346c10a_147a_11eb_980f_0242ac1c0002row6_col0\" class=\"data row6 col0\" >0</td>\n",
              "                        <td id=\"T_b346c10a_147a_11eb_980f_0242ac1c0002row6_col1\" class=\"data row6 col1\" >0</td>\n",
              "                        <td id=\"T_b346c10a_147a_11eb_980f_0242ac1c0002row6_col2\" class=\"data row6 col2\" >0</td>\n",
              "                        <td id=\"T_b346c10a_147a_11eb_980f_0242ac1c0002row6_col3\" class=\"data row6 col3\" >0</td>\n",
              "                        <td id=\"T_b346c10a_147a_11eb_980f_0242ac1c0002row6_col4\" class=\"data row6 col4\" >0</td>\n",
              "                        <td id=\"T_b346c10a_147a_11eb_980f_0242ac1c0002row6_col5\" class=\"data row6 col5\" >0</td>\n",
              "                        <td id=\"T_b346c10a_147a_11eb_980f_0242ac1c0002row6_col6\" class=\"data row6 col6\" >0</td>\n",
              "                        <td id=\"T_b346c10a_147a_11eb_980f_0242ac1c0002row6_col7\" class=\"data row6 col7\" >0</td>\n",
              "                        <td id=\"T_b346c10a_147a_11eb_980f_0242ac1c0002row6_col8\" class=\"data row6 col8\" >0</td>\n",
              "                        <td id=\"T_b346c10a_147a_11eb_980f_0242ac1c0002row6_col9\" class=\"data row6 col9\" >0</td>\n",
              "                        <td id=\"T_b346c10a_147a_11eb_980f_0242ac1c0002row6_col10\" class=\"data row6 col10\" >0</td>\n",
              "                        <td id=\"T_b346c10a_147a_11eb_980f_0242ac1c0002row6_col11\" class=\"data row6 col11\" >0</td>\n",
              "                        <td id=\"T_b346c10a_147a_11eb_980f_0242ac1c0002row6_col12\" class=\"data row6 col12\" >0</td>\n",
              "                        <td id=\"T_b346c10a_147a_11eb_980f_0242ac1c0002row6_col13\" class=\"data row6 col13\" >0</td>\n",
              "                        <td id=\"T_b346c10a_147a_11eb_980f_0242ac1c0002row6_col14\" class=\"data row6 col14\" >0</td>\n",
              "                        <td id=\"T_b346c10a_147a_11eb_980f_0242ac1c0002row6_col15\" class=\"data row6 col15\" >0</td>\n",
              "                        <td id=\"T_b346c10a_147a_11eb_980f_0242ac1c0002row6_col16\" class=\"data row6 col16\" >0</td>\n",
              "                        <td id=\"T_b346c10a_147a_11eb_980f_0242ac1c0002row6_col17\" class=\"data row6 col17\" >0</td>\n",
              "                        <td id=\"T_b346c10a_147a_11eb_980f_0242ac1c0002row6_col18\" class=\"data row6 col18\" >0</td>\n",
              "                        <td id=\"T_b346c10a_147a_11eb_980f_0242ac1c0002row6_col19\" class=\"data row6 col19\" >0</td>\n",
              "                        <td id=\"T_b346c10a_147a_11eb_980f_0242ac1c0002row6_col20\" class=\"data row6 col20\" >0</td>\n",
              "                        <td id=\"T_b346c10a_147a_11eb_980f_0242ac1c0002row6_col21\" class=\"data row6 col21\" >0</td>\n",
              "                        <td id=\"T_b346c10a_147a_11eb_980f_0242ac1c0002row6_col22\" class=\"data row6 col22\" >0</td>\n",
              "                        <td id=\"T_b346c10a_147a_11eb_980f_0242ac1c0002row6_col23\" class=\"data row6 col23\" >0</td>\n",
              "                        <td id=\"T_b346c10a_147a_11eb_980f_0242ac1c0002row6_col24\" class=\"data row6 col24\" >0</td>\n",
              "                        <td id=\"T_b346c10a_147a_11eb_980f_0242ac1c0002row6_col25\" class=\"data row6 col25\" >0</td>\n",
              "                        <td id=\"T_b346c10a_147a_11eb_980f_0242ac1c0002row6_col26\" class=\"data row6 col26\" >0</td>\n",
              "                        <td id=\"T_b346c10a_147a_11eb_980f_0242ac1c0002row6_col27\" class=\"data row6 col27\" >0</td>\n",
              "            </tr>\n",
              "            <tr>\n",
              "                        <th id=\"T_b346c10a_147a_11eb_980f_0242ac1c0002level0_row7\" class=\"row_heading level0 row7\" >7</th>\n",
              "                        <td id=\"T_b346c10a_147a_11eb_980f_0242ac1c0002row7_col0\" class=\"data row7 col0\" >0</td>\n",
              "                        <td id=\"T_b346c10a_147a_11eb_980f_0242ac1c0002row7_col1\" class=\"data row7 col1\" >0</td>\n",
              "                        <td id=\"T_b346c10a_147a_11eb_980f_0242ac1c0002row7_col2\" class=\"data row7 col2\" >0</td>\n",
              "                        <td id=\"T_b346c10a_147a_11eb_980f_0242ac1c0002row7_col3\" class=\"data row7 col3\" >0</td>\n",
              "                        <td id=\"T_b346c10a_147a_11eb_980f_0242ac1c0002row7_col4\" class=\"data row7 col4\" >0</td>\n",
              "                        <td id=\"T_b346c10a_147a_11eb_980f_0242ac1c0002row7_col5\" class=\"data row7 col5\" >0</td>\n",
              "                        <td id=\"T_b346c10a_147a_11eb_980f_0242ac1c0002row7_col6\" class=\"data row7 col6\" >0</td>\n",
              "                        <td id=\"T_b346c10a_147a_11eb_980f_0242ac1c0002row7_col7\" class=\"data row7 col7\" >0</td>\n",
              "                        <td id=\"T_b346c10a_147a_11eb_980f_0242ac1c0002row7_col8\" class=\"data row7 col8\" >0</td>\n",
              "                        <td id=\"T_b346c10a_147a_11eb_980f_0242ac1c0002row7_col9\" class=\"data row7 col9\" >0</td>\n",
              "                        <td id=\"T_b346c10a_147a_11eb_980f_0242ac1c0002row7_col10\" class=\"data row7 col10\" >0</td>\n",
              "                        <td id=\"T_b346c10a_147a_11eb_980f_0242ac1c0002row7_col11\" class=\"data row7 col11\" >0</td>\n",
              "                        <td id=\"T_b346c10a_147a_11eb_980f_0242ac1c0002row7_col12\" class=\"data row7 col12\" >0</td>\n",
              "                        <td id=\"T_b346c10a_147a_11eb_980f_0242ac1c0002row7_col13\" class=\"data row7 col13\" >0</td>\n",
              "                        <td id=\"T_b346c10a_147a_11eb_980f_0242ac1c0002row7_col14\" class=\"data row7 col14\" >0</td>\n",
              "                        <td id=\"T_b346c10a_147a_11eb_980f_0242ac1c0002row7_col15\" class=\"data row7 col15\" >0</td>\n",
              "                        <td id=\"T_b346c10a_147a_11eb_980f_0242ac1c0002row7_col16\" class=\"data row7 col16\" >0</td>\n",
              "                        <td id=\"T_b346c10a_147a_11eb_980f_0242ac1c0002row7_col17\" class=\"data row7 col17\" >0</td>\n",
              "                        <td id=\"T_b346c10a_147a_11eb_980f_0242ac1c0002row7_col18\" class=\"data row7 col18\" >0</td>\n",
              "                        <td id=\"T_b346c10a_147a_11eb_980f_0242ac1c0002row7_col19\" class=\"data row7 col19\" >0</td>\n",
              "                        <td id=\"T_b346c10a_147a_11eb_980f_0242ac1c0002row7_col20\" class=\"data row7 col20\" >0</td>\n",
              "                        <td id=\"T_b346c10a_147a_11eb_980f_0242ac1c0002row7_col21\" class=\"data row7 col21\" >0</td>\n",
              "                        <td id=\"T_b346c10a_147a_11eb_980f_0242ac1c0002row7_col22\" class=\"data row7 col22\" >0</td>\n",
              "                        <td id=\"T_b346c10a_147a_11eb_980f_0242ac1c0002row7_col23\" class=\"data row7 col23\" >0</td>\n",
              "                        <td id=\"T_b346c10a_147a_11eb_980f_0242ac1c0002row7_col24\" class=\"data row7 col24\" >0</td>\n",
              "                        <td id=\"T_b346c10a_147a_11eb_980f_0242ac1c0002row7_col25\" class=\"data row7 col25\" >0</td>\n",
              "                        <td id=\"T_b346c10a_147a_11eb_980f_0242ac1c0002row7_col26\" class=\"data row7 col26\" >0</td>\n",
              "                        <td id=\"T_b346c10a_147a_11eb_980f_0242ac1c0002row7_col27\" class=\"data row7 col27\" >0</td>\n",
              "            </tr>\n",
              "            <tr>\n",
              "                        <th id=\"T_b346c10a_147a_11eb_980f_0242ac1c0002level0_row8\" class=\"row_heading level0 row8\" >8</th>\n",
              "                        <td id=\"T_b346c10a_147a_11eb_980f_0242ac1c0002row8_col0\" class=\"data row8 col0\" >0</td>\n",
              "                        <td id=\"T_b346c10a_147a_11eb_980f_0242ac1c0002row8_col1\" class=\"data row8 col1\" >0</td>\n",
              "                        <td id=\"T_b346c10a_147a_11eb_980f_0242ac1c0002row8_col2\" class=\"data row8 col2\" >0</td>\n",
              "                        <td id=\"T_b346c10a_147a_11eb_980f_0242ac1c0002row8_col3\" class=\"data row8 col3\" >0</td>\n",
              "                        <td id=\"T_b346c10a_147a_11eb_980f_0242ac1c0002row8_col4\" class=\"data row8 col4\" >0</td>\n",
              "                        <td id=\"T_b346c10a_147a_11eb_980f_0242ac1c0002row8_col5\" class=\"data row8 col5\" >0</td>\n",
              "                        <td id=\"T_b346c10a_147a_11eb_980f_0242ac1c0002row8_col6\" class=\"data row8 col6\" >0</td>\n",
              "                        <td id=\"T_b346c10a_147a_11eb_980f_0242ac1c0002row8_col7\" class=\"data row8 col7\" >0</td>\n",
              "                        <td id=\"T_b346c10a_147a_11eb_980f_0242ac1c0002row8_col8\" class=\"data row8 col8\" >0</td>\n",
              "                        <td id=\"T_b346c10a_147a_11eb_980f_0242ac1c0002row8_col9\" class=\"data row8 col9\" >0</td>\n",
              "                        <td id=\"T_b346c10a_147a_11eb_980f_0242ac1c0002row8_col10\" class=\"data row8 col10\" >0</td>\n",
              "                        <td id=\"T_b346c10a_147a_11eb_980f_0242ac1c0002row8_col11\" class=\"data row8 col11\" >0</td>\n",
              "                        <td id=\"T_b346c10a_147a_11eb_980f_0242ac1c0002row8_col12\" class=\"data row8 col12\" >0</td>\n",
              "                        <td id=\"T_b346c10a_147a_11eb_980f_0242ac1c0002row8_col13\" class=\"data row8 col13\" >0</td>\n",
              "                        <td id=\"T_b346c10a_147a_11eb_980f_0242ac1c0002row8_col14\" class=\"data row8 col14\" >0</td>\n",
              "                        <td id=\"T_b346c10a_147a_11eb_980f_0242ac1c0002row8_col15\" class=\"data row8 col15\" >0</td>\n",
              "                        <td id=\"T_b346c10a_147a_11eb_980f_0242ac1c0002row8_col16\" class=\"data row8 col16\" >0</td>\n",
              "                        <td id=\"T_b346c10a_147a_11eb_980f_0242ac1c0002row8_col17\" class=\"data row8 col17\" >0</td>\n",
              "                        <td id=\"T_b346c10a_147a_11eb_980f_0242ac1c0002row8_col18\" class=\"data row8 col18\" >60</td>\n",
              "                        <td id=\"T_b346c10a_147a_11eb_980f_0242ac1c0002row8_col19\" class=\"data row8 col19\" >59</td>\n",
              "                        <td id=\"T_b346c10a_147a_11eb_980f_0242ac1c0002row8_col20\" class=\"data row8 col20\" >90</td>\n",
              "                        <td id=\"T_b346c10a_147a_11eb_980f_0242ac1c0002row8_col21\" class=\"data row8 col21\" >156</td>\n",
              "                        <td id=\"T_b346c10a_147a_11eb_980f_0242ac1c0002row8_col22\" class=\"data row8 col22\" >120</td>\n",
              "                        <td id=\"T_b346c10a_147a_11eb_980f_0242ac1c0002row8_col23\" class=\"data row8 col23\" >0</td>\n",
              "                        <td id=\"T_b346c10a_147a_11eb_980f_0242ac1c0002row8_col24\" class=\"data row8 col24\" >0</td>\n",
              "                        <td id=\"T_b346c10a_147a_11eb_980f_0242ac1c0002row8_col25\" class=\"data row8 col25\" >0</td>\n",
              "                        <td id=\"T_b346c10a_147a_11eb_980f_0242ac1c0002row8_col26\" class=\"data row8 col26\" >0</td>\n",
              "                        <td id=\"T_b346c10a_147a_11eb_980f_0242ac1c0002row8_col27\" class=\"data row8 col27\" >0</td>\n",
              "            </tr>\n",
              "            <tr>\n",
              "                        <th id=\"T_b346c10a_147a_11eb_980f_0242ac1c0002level0_row9\" class=\"row_heading level0 row9\" >9</th>\n",
              "                        <td id=\"T_b346c10a_147a_11eb_980f_0242ac1c0002row9_col0\" class=\"data row9 col0\" >0</td>\n",
              "                        <td id=\"T_b346c10a_147a_11eb_980f_0242ac1c0002row9_col1\" class=\"data row9 col1\" >0</td>\n",
              "                        <td id=\"T_b346c10a_147a_11eb_980f_0242ac1c0002row9_col2\" class=\"data row9 col2\" >0</td>\n",
              "                        <td id=\"T_b346c10a_147a_11eb_980f_0242ac1c0002row9_col3\" class=\"data row9 col3\" >0</td>\n",
              "                        <td id=\"T_b346c10a_147a_11eb_980f_0242ac1c0002row9_col4\" class=\"data row9 col4\" >0</td>\n",
              "                        <td id=\"T_b346c10a_147a_11eb_980f_0242ac1c0002row9_col5\" class=\"data row9 col5\" >0</td>\n",
              "                        <td id=\"T_b346c10a_147a_11eb_980f_0242ac1c0002row9_col6\" class=\"data row9 col6\" >11</td>\n",
              "                        <td id=\"T_b346c10a_147a_11eb_980f_0242ac1c0002row9_col7\" class=\"data row9 col7\" >58</td>\n",
              "                        <td id=\"T_b346c10a_147a_11eb_980f_0242ac1c0002row9_col8\" class=\"data row9 col8\" >216</td>\n",
              "                        <td id=\"T_b346c10a_147a_11eb_980f_0242ac1c0002row9_col9\" class=\"data row9 col9\" >161</td>\n",
              "                        <td id=\"T_b346c10a_147a_11eb_980f_0242ac1c0002row9_col10\" class=\"data row9 col10\" >7</td>\n",
              "                        <td id=\"T_b346c10a_147a_11eb_980f_0242ac1c0002row9_col11\" class=\"data row9 col11\" >20</td>\n",
              "                        <td id=\"T_b346c10a_147a_11eb_980f_0242ac1c0002row9_col12\" class=\"data row9 col12\" >96</td>\n",
              "                        <td id=\"T_b346c10a_147a_11eb_980f_0242ac1c0002row9_col13\" class=\"data row9 col13\" >119</td>\n",
              "                        <td id=\"T_b346c10a_147a_11eb_980f_0242ac1c0002row9_col14\" class=\"data row9 col14\" >126</td>\n",
              "                        <td id=\"T_b346c10a_147a_11eb_980f_0242ac1c0002row9_col15\" class=\"data row9 col15\" >215</td>\n",
              "                        <td id=\"T_b346c10a_147a_11eb_980f_0242ac1c0002row9_col16\" class=\"data row9 col16\" >215</td>\n",
              "                        <td id=\"T_b346c10a_147a_11eb_980f_0242ac1c0002row9_col17\" class=\"data row9 col17\" >215</td>\n",
              "                        <td id=\"T_b346c10a_147a_11eb_980f_0242ac1c0002row9_col18\" class=\"data row9 col18\" >255</td>\n",
              "                        <td id=\"T_b346c10a_147a_11eb_980f_0242ac1c0002row9_col19\" class=\"data row9 col19\" >254</td>\n",
              "                        <td id=\"T_b346c10a_147a_11eb_980f_0242ac1c0002row9_col20\" class=\"data row9 col20\" >254</td>\n",
              "                        <td id=\"T_b346c10a_147a_11eb_980f_0242ac1c0002row9_col21\" class=\"data row9 col21\" >254</td>\n",
              "                        <td id=\"T_b346c10a_147a_11eb_980f_0242ac1c0002row9_col22\" class=\"data row9 col22\" >246</td>\n",
              "                        <td id=\"T_b346c10a_147a_11eb_980f_0242ac1c0002row9_col23\" class=\"data row9 col23\" >0</td>\n",
              "                        <td id=\"T_b346c10a_147a_11eb_980f_0242ac1c0002row9_col24\" class=\"data row9 col24\" >0</td>\n",
              "                        <td id=\"T_b346c10a_147a_11eb_980f_0242ac1c0002row9_col25\" class=\"data row9 col25\" >0</td>\n",
              "                        <td id=\"T_b346c10a_147a_11eb_980f_0242ac1c0002row9_col26\" class=\"data row9 col26\" >0</td>\n",
              "                        <td id=\"T_b346c10a_147a_11eb_980f_0242ac1c0002row9_col27\" class=\"data row9 col27\" >0</td>\n",
              "            </tr>\n",
              "            <tr>\n",
              "                        <th id=\"T_b346c10a_147a_11eb_980f_0242ac1c0002level0_row10\" class=\"row_heading level0 row10\" >10</th>\n",
              "                        <td id=\"T_b346c10a_147a_11eb_980f_0242ac1c0002row10_col0\" class=\"data row10 col0\" >0</td>\n",
              "                        <td id=\"T_b346c10a_147a_11eb_980f_0242ac1c0002row10_col1\" class=\"data row10 col1\" >0</td>\n",
              "                        <td id=\"T_b346c10a_147a_11eb_980f_0242ac1c0002row10_col2\" class=\"data row10 col2\" >0</td>\n",
              "                        <td id=\"T_b346c10a_147a_11eb_980f_0242ac1c0002row10_col3\" class=\"data row10 col3\" >0</td>\n",
              "                        <td id=\"T_b346c10a_147a_11eb_980f_0242ac1c0002row10_col4\" class=\"data row10 col4\" >0</td>\n",
              "                        <td id=\"T_b346c10a_147a_11eb_980f_0242ac1c0002row10_col5\" class=\"data row10 col5\" >0</td>\n",
              "                        <td id=\"T_b346c10a_147a_11eb_980f_0242ac1c0002row10_col6\" class=\"data row10 col6\" >100</td>\n",
              "                        <td id=\"T_b346c10a_147a_11eb_980f_0242ac1c0002row10_col7\" class=\"data row10 col7\" >254</td>\n",
              "                        <td id=\"T_b346c10a_147a_11eb_980f_0242ac1c0002row10_col8\" class=\"data row10 col8\" >254</td>\n",
              "                        <td id=\"T_b346c10a_147a_11eb_980f_0242ac1c0002row10_col9\" class=\"data row10 col9\" >248</td>\n",
              "                        <td id=\"T_b346c10a_147a_11eb_980f_0242ac1c0002row10_col10\" class=\"data row10 col10\" >200</td>\n",
              "                        <td id=\"T_b346c10a_147a_11eb_980f_0242ac1c0002row10_col11\" class=\"data row10 col11\" >254</td>\n",
              "                        <td id=\"T_b346c10a_147a_11eb_980f_0242ac1c0002row10_col12\" class=\"data row10 col12\" >254</td>\n",
              "                        <td id=\"T_b346c10a_147a_11eb_980f_0242ac1c0002row10_col13\" class=\"data row10 col13\" >254</td>\n",
              "                        <td id=\"T_b346c10a_147a_11eb_980f_0242ac1c0002row10_col14\" class=\"data row10 col14\" >254</td>\n",
              "                        <td id=\"T_b346c10a_147a_11eb_980f_0242ac1c0002row10_col15\" class=\"data row10 col15\" >254</td>\n",
              "                        <td id=\"T_b346c10a_147a_11eb_980f_0242ac1c0002row10_col16\" class=\"data row10 col16\" >254</td>\n",
              "                        <td id=\"T_b346c10a_147a_11eb_980f_0242ac1c0002row10_col17\" class=\"data row10 col17\" >254</td>\n",
              "                        <td id=\"T_b346c10a_147a_11eb_980f_0242ac1c0002row10_col18\" class=\"data row10 col18\" >254</td>\n",
              "                        <td id=\"T_b346c10a_147a_11eb_980f_0242ac1c0002row10_col19\" class=\"data row10 col19\" >254</td>\n",
              "                        <td id=\"T_b346c10a_147a_11eb_980f_0242ac1c0002row10_col20\" class=\"data row10 col20\" >254</td>\n",
              "                        <td id=\"T_b346c10a_147a_11eb_980f_0242ac1c0002row10_col21\" class=\"data row10 col21\" >254</td>\n",
              "                        <td id=\"T_b346c10a_147a_11eb_980f_0242ac1c0002row10_col22\" class=\"data row10 col22\" >224</td>\n",
              "                        <td id=\"T_b346c10a_147a_11eb_980f_0242ac1c0002row10_col23\" class=\"data row10 col23\" >0</td>\n",
              "                        <td id=\"T_b346c10a_147a_11eb_980f_0242ac1c0002row10_col24\" class=\"data row10 col24\" >0</td>\n",
              "                        <td id=\"T_b346c10a_147a_11eb_980f_0242ac1c0002row10_col25\" class=\"data row10 col25\" >0</td>\n",
              "                        <td id=\"T_b346c10a_147a_11eb_980f_0242ac1c0002row10_col26\" class=\"data row10 col26\" >0</td>\n",
              "                        <td id=\"T_b346c10a_147a_11eb_980f_0242ac1c0002row10_col27\" class=\"data row10 col27\" >0</td>\n",
              "            </tr>\n",
              "            <tr>\n",
              "                        <th id=\"T_b346c10a_147a_11eb_980f_0242ac1c0002level0_row11\" class=\"row_heading level0 row11\" >11</th>\n",
              "                        <td id=\"T_b346c10a_147a_11eb_980f_0242ac1c0002row11_col0\" class=\"data row11 col0\" >0</td>\n",
              "                        <td id=\"T_b346c10a_147a_11eb_980f_0242ac1c0002row11_col1\" class=\"data row11 col1\" >0</td>\n",
              "                        <td id=\"T_b346c10a_147a_11eb_980f_0242ac1c0002row11_col2\" class=\"data row11 col2\" >0</td>\n",
              "                        <td id=\"T_b346c10a_147a_11eb_980f_0242ac1c0002row11_col3\" class=\"data row11 col3\" >0</td>\n",
              "                        <td id=\"T_b346c10a_147a_11eb_980f_0242ac1c0002row11_col4\" class=\"data row11 col4\" >4</td>\n",
              "                        <td id=\"T_b346c10a_147a_11eb_980f_0242ac1c0002row11_col5\" class=\"data row11 col5\" >137</td>\n",
              "                        <td id=\"T_b346c10a_147a_11eb_980f_0242ac1c0002row11_col6\" class=\"data row11 col6\" >245</td>\n",
              "                        <td id=\"T_b346c10a_147a_11eb_980f_0242ac1c0002row11_col7\" class=\"data row11 col7\" >254</td>\n",
              "                        <td id=\"T_b346c10a_147a_11eb_980f_0242ac1c0002row11_col8\" class=\"data row11 col8\" >254</td>\n",
              "                        <td id=\"T_b346c10a_147a_11eb_980f_0242ac1c0002row11_col9\" class=\"data row11 col9\" >254</td>\n",
              "                        <td id=\"T_b346c10a_147a_11eb_980f_0242ac1c0002row11_col10\" class=\"data row11 col10\" >254</td>\n",
              "                        <td id=\"T_b346c10a_147a_11eb_980f_0242ac1c0002row11_col11\" class=\"data row11 col11\" >254</td>\n",
              "                        <td id=\"T_b346c10a_147a_11eb_980f_0242ac1c0002row11_col12\" class=\"data row11 col12\" >238</td>\n",
              "                        <td id=\"T_b346c10a_147a_11eb_980f_0242ac1c0002row11_col13\" class=\"data row11 col13\" >215</td>\n",
              "                        <td id=\"T_b346c10a_147a_11eb_980f_0242ac1c0002row11_col14\" class=\"data row11 col14\" >207</td>\n",
              "                        <td id=\"T_b346c10a_147a_11eb_980f_0242ac1c0002row11_col15\" class=\"data row11 col15\" >117</td>\n",
              "                        <td id=\"T_b346c10a_147a_11eb_980f_0242ac1c0002row11_col16\" class=\"data row11 col16\" >117</td>\n",
              "                        <td id=\"T_b346c10a_147a_11eb_980f_0242ac1c0002row11_col17\" class=\"data row11 col17\" >79</td>\n",
              "                        <td id=\"T_b346c10a_147a_11eb_980f_0242ac1c0002row11_col18\" class=\"data row11 col18\" >19</td>\n",
              "                        <td id=\"T_b346c10a_147a_11eb_980f_0242ac1c0002row11_col19\" class=\"data row11 col19\" >52</td>\n",
              "                        <td id=\"T_b346c10a_147a_11eb_980f_0242ac1c0002row11_col20\" class=\"data row11 col20\" >254</td>\n",
              "                        <td id=\"T_b346c10a_147a_11eb_980f_0242ac1c0002row11_col21\" class=\"data row11 col21\" >254</td>\n",
              "                        <td id=\"T_b346c10a_147a_11eb_980f_0242ac1c0002row11_col22\" class=\"data row11 col22\" >163</td>\n",
              "                        <td id=\"T_b346c10a_147a_11eb_980f_0242ac1c0002row11_col23\" class=\"data row11 col23\" >0</td>\n",
              "                        <td id=\"T_b346c10a_147a_11eb_980f_0242ac1c0002row11_col24\" class=\"data row11 col24\" >0</td>\n",
              "                        <td id=\"T_b346c10a_147a_11eb_980f_0242ac1c0002row11_col25\" class=\"data row11 col25\" >0</td>\n",
              "                        <td id=\"T_b346c10a_147a_11eb_980f_0242ac1c0002row11_col26\" class=\"data row11 col26\" >0</td>\n",
              "                        <td id=\"T_b346c10a_147a_11eb_980f_0242ac1c0002row11_col27\" class=\"data row11 col27\" >0</td>\n",
              "            </tr>\n",
              "            <tr>\n",
              "                        <th id=\"T_b346c10a_147a_11eb_980f_0242ac1c0002level0_row12\" class=\"row_heading level0 row12\" >12</th>\n",
              "                        <td id=\"T_b346c10a_147a_11eb_980f_0242ac1c0002row12_col0\" class=\"data row12 col0\" >0</td>\n",
              "                        <td id=\"T_b346c10a_147a_11eb_980f_0242ac1c0002row12_col1\" class=\"data row12 col1\" >0</td>\n",
              "                        <td id=\"T_b346c10a_147a_11eb_980f_0242ac1c0002row12_col2\" class=\"data row12 col2\" >0</td>\n",
              "                        <td id=\"T_b346c10a_147a_11eb_980f_0242ac1c0002row12_col3\" class=\"data row12 col3\" >61</td>\n",
              "                        <td id=\"T_b346c10a_147a_11eb_980f_0242ac1c0002row12_col4\" class=\"data row12 col4\" >147</td>\n",
              "                        <td id=\"T_b346c10a_147a_11eb_980f_0242ac1c0002row12_col5\" class=\"data row12 col5\" >254</td>\n",
              "                        <td id=\"T_b346c10a_147a_11eb_980f_0242ac1c0002row12_col6\" class=\"data row12 col6\" >254</td>\n",
              "                        <td id=\"T_b346c10a_147a_11eb_980f_0242ac1c0002row12_col7\" class=\"data row12 col7\" >254</td>\n",
              "                        <td id=\"T_b346c10a_147a_11eb_980f_0242ac1c0002row12_col8\" class=\"data row12 col8\" >254</td>\n",
              "                        <td id=\"T_b346c10a_147a_11eb_980f_0242ac1c0002row12_col9\" class=\"data row12 col9\" >254</td>\n",
              "                        <td id=\"T_b346c10a_147a_11eb_980f_0242ac1c0002row12_col10\" class=\"data row12 col10\" >185</td>\n",
              "                        <td id=\"T_b346c10a_147a_11eb_980f_0242ac1c0002row12_col11\" class=\"data row12 col11\" >103</td>\n",
              "                        <td id=\"T_b346c10a_147a_11eb_980f_0242ac1c0002row12_col12\" class=\"data row12 col12\" >36</td>\n",
              "                        <td id=\"T_b346c10a_147a_11eb_980f_0242ac1c0002row12_col13\" class=\"data row12 col13\" >0</td>\n",
              "                        <td id=\"T_b346c10a_147a_11eb_980f_0242ac1c0002row12_col14\" class=\"data row12 col14\" >0</td>\n",
              "                        <td id=\"T_b346c10a_147a_11eb_980f_0242ac1c0002row12_col15\" class=\"data row12 col15\" >0</td>\n",
              "                        <td id=\"T_b346c10a_147a_11eb_980f_0242ac1c0002row12_col16\" class=\"data row12 col16\" >0</td>\n",
              "                        <td id=\"T_b346c10a_147a_11eb_980f_0242ac1c0002row12_col17\" class=\"data row12 col17\" >0</td>\n",
              "                        <td id=\"T_b346c10a_147a_11eb_980f_0242ac1c0002row12_col18\" class=\"data row12 col18\" >0</td>\n",
              "                        <td id=\"T_b346c10a_147a_11eb_980f_0242ac1c0002row12_col19\" class=\"data row12 col19\" >118</td>\n",
              "                        <td id=\"T_b346c10a_147a_11eb_980f_0242ac1c0002row12_col20\" class=\"data row12 col20\" >254</td>\n",
              "                        <td id=\"T_b346c10a_147a_11eb_980f_0242ac1c0002row12_col21\" class=\"data row12 col21\" >254</td>\n",
              "                        <td id=\"T_b346c10a_147a_11eb_980f_0242ac1c0002row12_col22\" class=\"data row12 col22\" >81</td>\n",
              "                        <td id=\"T_b346c10a_147a_11eb_980f_0242ac1c0002row12_col23\" class=\"data row12 col23\" >0</td>\n",
              "                        <td id=\"T_b346c10a_147a_11eb_980f_0242ac1c0002row12_col24\" class=\"data row12 col24\" >0</td>\n",
              "                        <td id=\"T_b346c10a_147a_11eb_980f_0242ac1c0002row12_col25\" class=\"data row12 col25\" >0</td>\n",
              "                        <td id=\"T_b346c10a_147a_11eb_980f_0242ac1c0002row12_col26\" class=\"data row12 col26\" >0</td>\n",
              "                        <td id=\"T_b346c10a_147a_11eb_980f_0242ac1c0002row12_col27\" class=\"data row12 col27\" >0</td>\n",
              "            </tr>\n",
              "            <tr>\n",
              "                        <th id=\"T_b346c10a_147a_11eb_980f_0242ac1c0002level0_row13\" class=\"row_heading level0 row13\" >13</th>\n",
              "                        <td id=\"T_b346c10a_147a_11eb_980f_0242ac1c0002row13_col0\" class=\"data row13 col0\" >0</td>\n",
              "                        <td id=\"T_b346c10a_147a_11eb_980f_0242ac1c0002row13_col1\" class=\"data row13 col1\" >0</td>\n",
              "                        <td id=\"T_b346c10a_147a_11eb_980f_0242ac1c0002row13_col2\" class=\"data row13 col2\" >0</td>\n",
              "                        <td id=\"T_b346c10a_147a_11eb_980f_0242ac1c0002row13_col3\" class=\"data row13 col3\" >195</td>\n",
              "                        <td id=\"T_b346c10a_147a_11eb_980f_0242ac1c0002row13_col4\" class=\"data row13 col4\" >255</td>\n",
              "                        <td id=\"T_b346c10a_147a_11eb_980f_0242ac1c0002row13_col5\" class=\"data row13 col5\" >254</td>\n",
              "                        <td id=\"T_b346c10a_147a_11eb_980f_0242ac1c0002row13_col6\" class=\"data row13 col6\" >208</td>\n",
              "                        <td id=\"T_b346c10a_147a_11eb_980f_0242ac1c0002row13_col7\" class=\"data row13 col7\" >99</td>\n",
              "                        <td id=\"T_b346c10a_147a_11eb_980f_0242ac1c0002row13_col8\" class=\"data row13 col8\" >38</td>\n",
              "                        <td id=\"T_b346c10a_147a_11eb_980f_0242ac1c0002row13_col9\" class=\"data row13 col9\" >0</td>\n",
              "                        <td id=\"T_b346c10a_147a_11eb_980f_0242ac1c0002row13_col10\" class=\"data row13 col10\" >0</td>\n",
              "                        <td id=\"T_b346c10a_147a_11eb_980f_0242ac1c0002row13_col11\" class=\"data row13 col11\" >0</td>\n",
              "                        <td id=\"T_b346c10a_147a_11eb_980f_0242ac1c0002row13_col12\" class=\"data row13 col12\" >0</td>\n",
              "                        <td id=\"T_b346c10a_147a_11eb_980f_0242ac1c0002row13_col13\" class=\"data row13 col13\" >0</td>\n",
              "                        <td id=\"T_b346c10a_147a_11eb_980f_0242ac1c0002row13_col14\" class=\"data row13 col14\" >0</td>\n",
              "                        <td id=\"T_b346c10a_147a_11eb_980f_0242ac1c0002row13_col15\" class=\"data row13 col15\" >0</td>\n",
              "                        <td id=\"T_b346c10a_147a_11eb_980f_0242ac1c0002row13_col16\" class=\"data row13 col16\" >0</td>\n",
              "                        <td id=\"T_b346c10a_147a_11eb_980f_0242ac1c0002row13_col17\" class=\"data row13 col17\" >0</td>\n",
              "                        <td id=\"T_b346c10a_147a_11eb_980f_0242ac1c0002row13_col18\" class=\"data row13 col18\" >97</td>\n",
              "                        <td id=\"T_b346c10a_147a_11eb_980f_0242ac1c0002row13_col19\" class=\"data row13 col19\" >240</td>\n",
              "                        <td id=\"T_b346c10a_147a_11eb_980f_0242ac1c0002row13_col20\" class=\"data row13 col20\" >254</td>\n",
              "                        <td id=\"T_b346c10a_147a_11eb_980f_0242ac1c0002row13_col21\" class=\"data row13 col21\" >155</td>\n",
              "                        <td id=\"T_b346c10a_147a_11eb_980f_0242ac1c0002row13_col22\" class=\"data row13 col22\" >0</td>\n",
              "                        <td id=\"T_b346c10a_147a_11eb_980f_0242ac1c0002row13_col23\" class=\"data row13 col23\" >0</td>\n",
              "                        <td id=\"T_b346c10a_147a_11eb_980f_0242ac1c0002row13_col24\" class=\"data row13 col24\" >0</td>\n",
              "                        <td id=\"T_b346c10a_147a_11eb_980f_0242ac1c0002row13_col25\" class=\"data row13 col25\" >0</td>\n",
              "                        <td id=\"T_b346c10a_147a_11eb_980f_0242ac1c0002row13_col26\" class=\"data row13 col26\" >0</td>\n",
              "                        <td id=\"T_b346c10a_147a_11eb_980f_0242ac1c0002row13_col27\" class=\"data row13 col27\" >0</td>\n",
              "            </tr>\n",
              "            <tr>\n",
              "                        <th id=\"T_b346c10a_147a_11eb_980f_0242ac1c0002level0_row14\" class=\"row_heading level0 row14\" >14</th>\n",
              "                        <td id=\"T_b346c10a_147a_11eb_980f_0242ac1c0002row14_col0\" class=\"data row14 col0\" >0</td>\n",
              "                        <td id=\"T_b346c10a_147a_11eb_980f_0242ac1c0002row14_col1\" class=\"data row14 col1\" >0</td>\n",
              "                        <td id=\"T_b346c10a_147a_11eb_980f_0242ac1c0002row14_col2\" class=\"data row14 col2\" >0</td>\n",
              "                        <td id=\"T_b346c10a_147a_11eb_980f_0242ac1c0002row14_col3\" class=\"data row14 col3\" >47</td>\n",
              "                        <td id=\"T_b346c10a_147a_11eb_980f_0242ac1c0002row14_col4\" class=\"data row14 col4\" >212</td>\n",
              "                        <td id=\"T_b346c10a_147a_11eb_980f_0242ac1c0002row14_col5\" class=\"data row14 col5\" >107</td>\n",
              "                        <td id=\"T_b346c10a_147a_11eb_980f_0242ac1c0002row14_col6\" class=\"data row14 col6\" >18</td>\n",
              "                        <td id=\"T_b346c10a_147a_11eb_980f_0242ac1c0002row14_col7\" class=\"data row14 col7\" >0</td>\n",
              "                        <td id=\"T_b346c10a_147a_11eb_980f_0242ac1c0002row14_col8\" class=\"data row14 col8\" >0</td>\n",
              "                        <td id=\"T_b346c10a_147a_11eb_980f_0242ac1c0002row14_col9\" class=\"data row14 col9\" >0</td>\n",
              "                        <td id=\"T_b346c10a_147a_11eb_980f_0242ac1c0002row14_col10\" class=\"data row14 col10\" >0</td>\n",
              "                        <td id=\"T_b346c10a_147a_11eb_980f_0242ac1c0002row14_col11\" class=\"data row14 col11\" >0</td>\n",
              "                        <td id=\"T_b346c10a_147a_11eb_980f_0242ac1c0002row14_col12\" class=\"data row14 col12\" >0</td>\n",
              "                        <td id=\"T_b346c10a_147a_11eb_980f_0242ac1c0002row14_col13\" class=\"data row14 col13\" >0</td>\n",
              "                        <td id=\"T_b346c10a_147a_11eb_980f_0242ac1c0002row14_col14\" class=\"data row14 col14\" >0</td>\n",
              "                        <td id=\"T_b346c10a_147a_11eb_980f_0242ac1c0002row14_col15\" class=\"data row14 col15\" >0</td>\n",
              "                        <td id=\"T_b346c10a_147a_11eb_980f_0242ac1c0002row14_col16\" class=\"data row14 col16\" >0</td>\n",
              "                        <td id=\"T_b346c10a_147a_11eb_980f_0242ac1c0002row14_col17\" class=\"data row14 col17\" >8</td>\n",
              "                        <td id=\"T_b346c10a_147a_11eb_980f_0242ac1c0002row14_col18\" class=\"data row14 col18\" >202</td>\n",
              "                        <td id=\"T_b346c10a_147a_11eb_980f_0242ac1c0002row14_col19\" class=\"data row14 col19\" >254</td>\n",
              "                        <td id=\"T_b346c10a_147a_11eb_980f_0242ac1c0002row14_col20\" class=\"data row14 col20\" >247</td>\n",
              "                        <td id=\"T_b346c10a_147a_11eb_980f_0242ac1c0002row14_col21\" class=\"data row14 col21\" >70</td>\n",
              "                        <td id=\"T_b346c10a_147a_11eb_980f_0242ac1c0002row14_col22\" class=\"data row14 col22\" >0</td>\n",
              "                        <td id=\"T_b346c10a_147a_11eb_980f_0242ac1c0002row14_col23\" class=\"data row14 col23\" >0</td>\n",
              "                        <td id=\"T_b346c10a_147a_11eb_980f_0242ac1c0002row14_col24\" class=\"data row14 col24\" >0</td>\n",
              "                        <td id=\"T_b346c10a_147a_11eb_980f_0242ac1c0002row14_col25\" class=\"data row14 col25\" >0</td>\n",
              "                        <td id=\"T_b346c10a_147a_11eb_980f_0242ac1c0002row14_col26\" class=\"data row14 col26\" >0</td>\n",
              "                        <td id=\"T_b346c10a_147a_11eb_980f_0242ac1c0002row14_col27\" class=\"data row14 col27\" >0</td>\n",
              "            </tr>\n",
              "            <tr>\n",
              "                        <th id=\"T_b346c10a_147a_11eb_980f_0242ac1c0002level0_row15\" class=\"row_heading level0 row15\" >15</th>\n",
              "                        <td id=\"T_b346c10a_147a_11eb_980f_0242ac1c0002row15_col0\" class=\"data row15 col0\" >0</td>\n",
              "                        <td id=\"T_b346c10a_147a_11eb_980f_0242ac1c0002row15_col1\" class=\"data row15 col1\" >0</td>\n",
              "                        <td id=\"T_b346c10a_147a_11eb_980f_0242ac1c0002row15_col2\" class=\"data row15 col2\" >0</td>\n",
              "                        <td id=\"T_b346c10a_147a_11eb_980f_0242ac1c0002row15_col3\" class=\"data row15 col3\" >0</td>\n",
              "                        <td id=\"T_b346c10a_147a_11eb_980f_0242ac1c0002row15_col4\" class=\"data row15 col4\" >0</td>\n",
              "                        <td id=\"T_b346c10a_147a_11eb_980f_0242ac1c0002row15_col5\" class=\"data row15 col5\" >0</td>\n",
              "                        <td id=\"T_b346c10a_147a_11eb_980f_0242ac1c0002row15_col6\" class=\"data row15 col6\" >0</td>\n",
              "                        <td id=\"T_b346c10a_147a_11eb_980f_0242ac1c0002row15_col7\" class=\"data row15 col7\" >0</td>\n",
              "                        <td id=\"T_b346c10a_147a_11eb_980f_0242ac1c0002row15_col8\" class=\"data row15 col8\" >0</td>\n",
              "                        <td id=\"T_b346c10a_147a_11eb_980f_0242ac1c0002row15_col9\" class=\"data row15 col9\" >0</td>\n",
              "                        <td id=\"T_b346c10a_147a_11eb_980f_0242ac1c0002row15_col10\" class=\"data row15 col10\" >0</td>\n",
              "                        <td id=\"T_b346c10a_147a_11eb_980f_0242ac1c0002row15_col11\" class=\"data row15 col11\" >0</td>\n",
              "                        <td id=\"T_b346c10a_147a_11eb_980f_0242ac1c0002row15_col12\" class=\"data row15 col12\" >0</td>\n",
              "                        <td id=\"T_b346c10a_147a_11eb_980f_0242ac1c0002row15_col13\" class=\"data row15 col13\" >0</td>\n",
              "                        <td id=\"T_b346c10a_147a_11eb_980f_0242ac1c0002row15_col14\" class=\"data row15 col14\" >0</td>\n",
              "                        <td id=\"T_b346c10a_147a_11eb_980f_0242ac1c0002row15_col15\" class=\"data row15 col15\" >0</td>\n",
              "                        <td id=\"T_b346c10a_147a_11eb_980f_0242ac1c0002row15_col16\" class=\"data row15 col16\" >0</td>\n",
              "                        <td id=\"T_b346c10a_147a_11eb_980f_0242ac1c0002row15_col17\" class=\"data row15 col17\" >166</td>\n",
              "                        <td id=\"T_b346c10a_147a_11eb_980f_0242ac1c0002row15_col18\" class=\"data row15 col18\" >254</td>\n",
              "                        <td id=\"T_b346c10a_147a_11eb_980f_0242ac1c0002row15_col19\" class=\"data row15 col19\" >254</td>\n",
              "                        <td id=\"T_b346c10a_147a_11eb_980f_0242ac1c0002row15_col20\" class=\"data row15 col20\" >145</td>\n",
              "                        <td id=\"T_b346c10a_147a_11eb_980f_0242ac1c0002row15_col21\" class=\"data row15 col21\" >0</td>\n",
              "                        <td id=\"T_b346c10a_147a_11eb_980f_0242ac1c0002row15_col22\" class=\"data row15 col22\" >0</td>\n",
              "                        <td id=\"T_b346c10a_147a_11eb_980f_0242ac1c0002row15_col23\" class=\"data row15 col23\" >0</td>\n",
              "                        <td id=\"T_b346c10a_147a_11eb_980f_0242ac1c0002row15_col24\" class=\"data row15 col24\" >0</td>\n",
              "                        <td id=\"T_b346c10a_147a_11eb_980f_0242ac1c0002row15_col25\" class=\"data row15 col25\" >0</td>\n",
              "                        <td id=\"T_b346c10a_147a_11eb_980f_0242ac1c0002row15_col26\" class=\"data row15 col26\" >0</td>\n",
              "                        <td id=\"T_b346c10a_147a_11eb_980f_0242ac1c0002row15_col27\" class=\"data row15 col27\" >0</td>\n",
              "            </tr>\n",
              "            <tr>\n",
              "                        <th id=\"T_b346c10a_147a_11eb_980f_0242ac1c0002level0_row16\" class=\"row_heading level0 row16\" >16</th>\n",
              "                        <td id=\"T_b346c10a_147a_11eb_980f_0242ac1c0002row16_col0\" class=\"data row16 col0\" >0</td>\n",
              "                        <td id=\"T_b346c10a_147a_11eb_980f_0242ac1c0002row16_col1\" class=\"data row16 col1\" >0</td>\n",
              "                        <td id=\"T_b346c10a_147a_11eb_980f_0242ac1c0002row16_col2\" class=\"data row16 col2\" >0</td>\n",
              "                        <td id=\"T_b346c10a_147a_11eb_980f_0242ac1c0002row16_col3\" class=\"data row16 col3\" >0</td>\n",
              "                        <td id=\"T_b346c10a_147a_11eb_980f_0242ac1c0002row16_col4\" class=\"data row16 col4\" >0</td>\n",
              "                        <td id=\"T_b346c10a_147a_11eb_980f_0242ac1c0002row16_col5\" class=\"data row16 col5\" >0</td>\n",
              "                        <td id=\"T_b346c10a_147a_11eb_980f_0242ac1c0002row16_col6\" class=\"data row16 col6\" >0</td>\n",
              "                        <td id=\"T_b346c10a_147a_11eb_980f_0242ac1c0002row16_col7\" class=\"data row16 col7\" >0</td>\n",
              "                        <td id=\"T_b346c10a_147a_11eb_980f_0242ac1c0002row16_col8\" class=\"data row16 col8\" >0</td>\n",
              "                        <td id=\"T_b346c10a_147a_11eb_980f_0242ac1c0002row16_col9\" class=\"data row16 col9\" >0</td>\n",
              "                        <td id=\"T_b346c10a_147a_11eb_980f_0242ac1c0002row16_col10\" class=\"data row16 col10\" >0</td>\n",
              "                        <td id=\"T_b346c10a_147a_11eb_980f_0242ac1c0002row16_col11\" class=\"data row16 col11\" >0</td>\n",
              "                        <td id=\"T_b346c10a_147a_11eb_980f_0242ac1c0002row16_col12\" class=\"data row16 col12\" >0</td>\n",
              "                        <td id=\"T_b346c10a_147a_11eb_980f_0242ac1c0002row16_col13\" class=\"data row16 col13\" >0</td>\n",
              "                        <td id=\"T_b346c10a_147a_11eb_980f_0242ac1c0002row16_col14\" class=\"data row16 col14\" >0</td>\n",
              "                        <td id=\"T_b346c10a_147a_11eb_980f_0242ac1c0002row16_col15\" class=\"data row16 col15\" >0</td>\n",
              "                        <td id=\"T_b346c10a_147a_11eb_980f_0242ac1c0002row16_col16\" class=\"data row16 col16\" >105</td>\n",
              "                        <td id=\"T_b346c10a_147a_11eb_980f_0242ac1c0002row16_col17\" class=\"data row16 col17\" >249</td>\n",
              "                        <td id=\"T_b346c10a_147a_11eb_980f_0242ac1c0002row16_col18\" class=\"data row16 col18\" >254</td>\n",
              "                        <td id=\"T_b346c10a_147a_11eb_980f_0242ac1c0002row16_col19\" class=\"data row16 col19\" >182</td>\n",
              "                        <td id=\"T_b346c10a_147a_11eb_980f_0242ac1c0002row16_col20\" class=\"data row16 col20\" >6</td>\n",
              "                        <td id=\"T_b346c10a_147a_11eb_980f_0242ac1c0002row16_col21\" class=\"data row16 col21\" >0</td>\n",
              "                        <td id=\"T_b346c10a_147a_11eb_980f_0242ac1c0002row16_col22\" class=\"data row16 col22\" >0</td>\n",
              "                        <td id=\"T_b346c10a_147a_11eb_980f_0242ac1c0002row16_col23\" class=\"data row16 col23\" >0</td>\n",
              "                        <td id=\"T_b346c10a_147a_11eb_980f_0242ac1c0002row16_col24\" class=\"data row16 col24\" >0</td>\n",
              "                        <td id=\"T_b346c10a_147a_11eb_980f_0242ac1c0002row16_col25\" class=\"data row16 col25\" >0</td>\n",
              "                        <td id=\"T_b346c10a_147a_11eb_980f_0242ac1c0002row16_col26\" class=\"data row16 col26\" >0</td>\n",
              "                        <td id=\"T_b346c10a_147a_11eb_980f_0242ac1c0002row16_col27\" class=\"data row16 col27\" >0</td>\n",
              "            </tr>\n",
              "            <tr>\n",
              "                        <th id=\"T_b346c10a_147a_11eb_980f_0242ac1c0002level0_row17\" class=\"row_heading level0 row17\" >17</th>\n",
              "                        <td id=\"T_b346c10a_147a_11eb_980f_0242ac1c0002row17_col0\" class=\"data row17 col0\" >0</td>\n",
              "                        <td id=\"T_b346c10a_147a_11eb_980f_0242ac1c0002row17_col1\" class=\"data row17 col1\" >0</td>\n",
              "                        <td id=\"T_b346c10a_147a_11eb_980f_0242ac1c0002row17_col2\" class=\"data row17 col2\" >0</td>\n",
              "                        <td id=\"T_b346c10a_147a_11eb_980f_0242ac1c0002row17_col3\" class=\"data row17 col3\" >0</td>\n",
              "                        <td id=\"T_b346c10a_147a_11eb_980f_0242ac1c0002row17_col4\" class=\"data row17 col4\" >0</td>\n",
              "                        <td id=\"T_b346c10a_147a_11eb_980f_0242ac1c0002row17_col5\" class=\"data row17 col5\" >0</td>\n",
              "                        <td id=\"T_b346c10a_147a_11eb_980f_0242ac1c0002row17_col6\" class=\"data row17 col6\" >0</td>\n",
              "                        <td id=\"T_b346c10a_147a_11eb_980f_0242ac1c0002row17_col7\" class=\"data row17 col7\" >0</td>\n",
              "                        <td id=\"T_b346c10a_147a_11eb_980f_0242ac1c0002row17_col8\" class=\"data row17 col8\" >0</td>\n",
              "                        <td id=\"T_b346c10a_147a_11eb_980f_0242ac1c0002row17_col9\" class=\"data row17 col9\" >0</td>\n",
              "                        <td id=\"T_b346c10a_147a_11eb_980f_0242ac1c0002row17_col10\" class=\"data row17 col10\" >0</td>\n",
              "                        <td id=\"T_b346c10a_147a_11eb_980f_0242ac1c0002row17_col11\" class=\"data row17 col11\" >0</td>\n",
              "                        <td id=\"T_b346c10a_147a_11eb_980f_0242ac1c0002row17_col12\" class=\"data row17 col12\" >0</td>\n",
              "                        <td id=\"T_b346c10a_147a_11eb_980f_0242ac1c0002row17_col13\" class=\"data row17 col13\" >0</td>\n",
              "                        <td id=\"T_b346c10a_147a_11eb_980f_0242ac1c0002row17_col14\" class=\"data row17 col14\" >0</td>\n",
              "                        <td id=\"T_b346c10a_147a_11eb_980f_0242ac1c0002row17_col15\" class=\"data row17 col15\" >69</td>\n",
              "                        <td id=\"T_b346c10a_147a_11eb_980f_0242ac1c0002row17_col16\" class=\"data row17 col16\" >242</td>\n",
              "                        <td id=\"T_b346c10a_147a_11eb_980f_0242ac1c0002row17_col17\" class=\"data row17 col17\" >254</td>\n",
              "                        <td id=\"T_b346c10a_147a_11eb_980f_0242ac1c0002row17_col18\" class=\"data row17 col18\" >194</td>\n",
              "                        <td id=\"T_b346c10a_147a_11eb_980f_0242ac1c0002row17_col19\" class=\"data row17 col19\" >46</td>\n",
              "                        <td id=\"T_b346c10a_147a_11eb_980f_0242ac1c0002row17_col20\" class=\"data row17 col20\" >0</td>\n",
              "                        <td id=\"T_b346c10a_147a_11eb_980f_0242ac1c0002row17_col21\" class=\"data row17 col21\" >0</td>\n",
              "                        <td id=\"T_b346c10a_147a_11eb_980f_0242ac1c0002row17_col22\" class=\"data row17 col22\" >0</td>\n",
              "                        <td id=\"T_b346c10a_147a_11eb_980f_0242ac1c0002row17_col23\" class=\"data row17 col23\" >0</td>\n",
              "                        <td id=\"T_b346c10a_147a_11eb_980f_0242ac1c0002row17_col24\" class=\"data row17 col24\" >0</td>\n",
              "                        <td id=\"T_b346c10a_147a_11eb_980f_0242ac1c0002row17_col25\" class=\"data row17 col25\" >0</td>\n",
              "                        <td id=\"T_b346c10a_147a_11eb_980f_0242ac1c0002row17_col26\" class=\"data row17 col26\" >0</td>\n",
              "                        <td id=\"T_b346c10a_147a_11eb_980f_0242ac1c0002row17_col27\" class=\"data row17 col27\" >0</td>\n",
              "            </tr>\n",
              "            <tr>\n",
              "                        <th id=\"T_b346c10a_147a_11eb_980f_0242ac1c0002level0_row18\" class=\"row_heading level0 row18\" >18</th>\n",
              "                        <td id=\"T_b346c10a_147a_11eb_980f_0242ac1c0002row18_col0\" class=\"data row18 col0\" >0</td>\n",
              "                        <td id=\"T_b346c10a_147a_11eb_980f_0242ac1c0002row18_col1\" class=\"data row18 col1\" >0</td>\n",
              "                        <td id=\"T_b346c10a_147a_11eb_980f_0242ac1c0002row18_col2\" class=\"data row18 col2\" >0</td>\n",
              "                        <td id=\"T_b346c10a_147a_11eb_980f_0242ac1c0002row18_col3\" class=\"data row18 col3\" >0</td>\n",
              "                        <td id=\"T_b346c10a_147a_11eb_980f_0242ac1c0002row18_col4\" class=\"data row18 col4\" >0</td>\n",
              "                        <td id=\"T_b346c10a_147a_11eb_980f_0242ac1c0002row18_col5\" class=\"data row18 col5\" >0</td>\n",
              "                        <td id=\"T_b346c10a_147a_11eb_980f_0242ac1c0002row18_col6\" class=\"data row18 col6\" >0</td>\n",
              "                        <td id=\"T_b346c10a_147a_11eb_980f_0242ac1c0002row18_col7\" class=\"data row18 col7\" >0</td>\n",
              "                        <td id=\"T_b346c10a_147a_11eb_980f_0242ac1c0002row18_col8\" class=\"data row18 col8\" >0</td>\n",
              "                        <td id=\"T_b346c10a_147a_11eb_980f_0242ac1c0002row18_col9\" class=\"data row18 col9\" >0</td>\n",
              "                        <td id=\"T_b346c10a_147a_11eb_980f_0242ac1c0002row18_col10\" class=\"data row18 col10\" >0</td>\n",
              "                        <td id=\"T_b346c10a_147a_11eb_980f_0242ac1c0002row18_col11\" class=\"data row18 col11\" >0</td>\n",
              "                        <td id=\"T_b346c10a_147a_11eb_980f_0242ac1c0002row18_col12\" class=\"data row18 col12\" >0</td>\n",
              "                        <td id=\"T_b346c10a_147a_11eb_980f_0242ac1c0002row18_col13\" class=\"data row18 col13\" >0</td>\n",
              "                        <td id=\"T_b346c10a_147a_11eb_980f_0242ac1c0002row18_col14\" class=\"data row18 col14\" >5</td>\n",
              "                        <td id=\"T_b346c10a_147a_11eb_980f_0242ac1c0002row18_col15\" class=\"data row18 col15\" >195</td>\n",
              "                        <td id=\"T_b346c10a_147a_11eb_980f_0242ac1c0002row18_col16\" class=\"data row18 col16\" >254</td>\n",
              "                        <td id=\"T_b346c10a_147a_11eb_980f_0242ac1c0002row18_col17\" class=\"data row18 col17\" >254</td>\n",
              "                        <td id=\"T_b346c10a_147a_11eb_980f_0242ac1c0002row18_col18\" class=\"data row18 col18\" >38</td>\n",
              "                        <td id=\"T_b346c10a_147a_11eb_980f_0242ac1c0002row18_col19\" class=\"data row18 col19\" >0</td>\n",
              "                        <td id=\"T_b346c10a_147a_11eb_980f_0242ac1c0002row18_col20\" class=\"data row18 col20\" >0</td>\n",
              "                        <td id=\"T_b346c10a_147a_11eb_980f_0242ac1c0002row18_col21\" class=\"data row18 col21\" >0</td>\n",
              "                        <td id=\"T_b346c10a_147a_11eb_980f_0242ac1c0002row18_col22\" class=\"data row18 col22\" >0</td>\n",
              "                        <td id=\"T_b346c10a_147a_11eb_980f_0242ac1c0002row18_col23\" class=\"data row18 col23\" >0</td>\n",
              "                        <td id=\"T_b346c10a_147a_11eb_980f_0242ac1c0002row18_col24\" class=\"data row18 col24\" >0</td>\n",
              "                        <td id=\"T_b346c10a_147a_11eb_980f_0242ac1c0002row18_col25\" class=\"data row18 col25\" >0</td>\n",
              "                        <td id=\"T_b346c10a_147a_11eb_980f_0242ac1c0002row18_col26\" class=\"data row18 col26\" >0</td>\n",
              "                        <td id=\"T_b346c10a_147a_11eb_980f_0242ac1c0002row18_col27\" class=\"data row18 col27\" >0</td>\n",
              "            </tr>\n",
              "            <tr>\n",
              "                        <th id=\"T_b346c10a_147a_11eb_980f_0242ac1c0002level0_row19\" class=\"row_heading level0 row19\" >19</th>\n",
              "                        <td id=\"T_b346c10a_147a_11eb_980f_0242ac1c0002row19_col0\" class=\"data row19 col0\" >0</td>\n",
              "                        <td id=\"T_b346c10a_147a_11eb_980f_0242ac1c0002row19_col1\" class=\"data row19 col1\" >0</td>\n",
              "                        <td id=\"T_b346c10a_147a_11eb_980f_0242ac1c0002row19_col2\" class=\"data row19 col2\" >0</td>\n",
              "                        <td id=\"T_b346c10a_147a_11eb_980f_0242ac1c0002row19_col3\" class=\"data row19 col3\" >0</td>\n",
              "                        <td id=\"T_b346c10a_147a_11eb_980f_0242ac1c0002row19_col4\" class=\"data row19 col4\" >0</td>\n",
              "                        <td id=\"T_b346c10a_147a_11eb_980f_0242ac1c0002row19_col5\" class=\"data row19 col5\" >0</td>\n",
              "                        <td id=\"T_b346c10a_147a_11eb_980f_0242ac1c0002row19_col6\" class=\"data row19 col6\" >0</td>\n",
              "                        <td id=\"T_b346c10a_147a_11eb_980f_0242ac1c0002row19_col7\" class=\"data row19 col7\" >0</td>\n",
              "                        <td id=\"T_b346c10a_147a_11eb_980f_0242ac1c0002row19_col8\" class=\"data row19 col8\" >0</td>\n",
              "                        <td id=\"T_b346c10a_147a_11eb_980f_0242ac1c0002row19_col9\" class=\"data row19 col9\" >0</td>\n",
              "                        <td id=\"T_b346c10a_147a_11eb_980f_0242ac1c0002row19_col10\" class=\"data row19 col10\" >0</td>\n",
              "                        <td id=\"T_b346c10a_147a_11eb_980f_0242ac1c0002row19_col11\" class=\"data row19 col11\" >0</td>\n",
              "                        <td id=\"T_b346c10a_147a_11eb_980f_0242ac1c0002row19_col12\" class=\"data row19 col12\" >0</td>\n",
              "                        <td id=\"T_b346c10a_147a_11eb_980f_0242ac1c0002row19_col13\" class=\"data row19 col13\" >0</td>\n",
              "                        <td id=\"T_b346c10a_147a_11eb_980f_0242ac1c0002row19_col14\" class=\"data row19 col14\" >20</td>\n",
              "                        <td id=\"T_b346c10a_147a_11eb_980f_0242ac1c0002row19_col15\" class=\"data row19 col15\" >254</td>\n",
              "                        <td id=\"T_b346c10a_147a_11eb_980f_0242ac1c0002row19_col16\" class=\"data row19 col16\" >254</td>\n",
              "                        <td id=\"T_b346c10a_147a_11eb_980f_0242ac1c0002row19_col17\" class=\"data row19 col17\" >163</td>\n",
              "                        <td id=\"T_b346c10a_147a_11eb_980f_0242ac1c0002row19_col18\" class=\"data row19 col18\" >0</td>\n",
              "                        <td id=\"T_b346c10a_147a_11eb_980f_0242ac1c0002row19_col19\" class=\"data row19 col19\" >0</td>\n",
              "                        <td id=\"T_b346c10a_147a_11eb_980f_0242ac1c0002row19_col20\" class=\"data row19 col20\" >0</td>\n",
              "                        <td id=\"T_b346c10a_147a_11eb_980f_0242ac1c0002row19_col21\" class=\"data row19 col21\" >0</td>\n",
              "                        <td id=\"T_b346c10a_147a_11eb_980f_0242ac1c0002row19_col22\" class=\"data row19 col22\" >0</td>\n",
              "                        <td id=\"T_b346c10a_147a_11eb_980f_0242ac1c0002row19_col23\" class=\"data row19 col23\" >0</td>\n",
              "                        <td id=\"T_b346c10a_147a_11eb_980f_0242ac1c0002row19_col24\" class=\"data row19 col24\" >0</td>\n",
              "                        <td id=\"T_b346c10a_147a_11eb_980f_0242ac1c0002row19_col25\" class=\"data row19 col25\" >0</td>\n",
              "                        <td id=\"T_b346c10a_147a_11eb_980f_0242ac1c0002row19_col26\" class=\"data row19 col26\" >0</td>\n",
              "                        <td id=\"T_b346c10a_147a_11eb_980f_0242ac1c0002row19_col27\" class=\"data row19 col27\" >0</td>\n",
              "            </tr>\n",
              "            <tr>\n",
              "                        <th id=\"T_b346c10a_147a_11eb_980f_0242ac1c0002level0_row20\" class=\"row_heading level0 row20\" >20</th>\n",
              "                        <td id=\"T_b346c10a_147a_11eb_980f_0242ac1c0002row20_col0\" class=\"data row20 col0\" >0</td>\n",
              "                        <td id=\"T_b346c10a_147a_11eb_980f_0242ac1c0002row20_col1\" class=\"data row20 col1\" >0</td>\n",
              "                        <td id=\"T_b346c10a_147a_11eb_980f_0242ac1c0002row20_col2\" class=\"data row20 col2\" >0</td>\n",
              "                        <td id=\"T_b346c10a_147a_11eb_980f_0242ac1c0002row20_col3\" class=\"data row20 col3\" >0</td>\n",
              "                        <td id=\"T_b346c10a_147a_11eb_980f_0242ac1c0002row20_col4\" class=\"data row20 col4\" >0</td>\n",
              "                        <td id=\"T_b346c10a_147a_11eb_980f_0242ac1c0002row20_col5\" class=\"data row20 col5\" >0</td>\n",
              "                        <td id=\"T_b346c10a_147a_11eb_980f_0242ac1c0002row20_col6\" class=\"data row20 col6\" >0</td>\n",
              "                        <td id=\"T_b346c10a_147a_11eb_980f_0242ac1c0002row20_col7\" class=\"data row20 col7\" >0</td>\n",
              "                        <td id=\"T_b346c10a_147a_11eb_980f_0242ac1c0002row20_col8\" class=\"data row20 col8\" >0</td>\n",
              "                        <td id=\"T_b346c10a_147a_11eb_980f_0242ac1c0002row20_col9\" class=\"data row20 col9\" >0</td>\n",
              "                        <td id=\"T_b346c10a_147a_11eb_980f_0242ac1c0002row20_col10\" class=\"data row20 col10\" >0</td>\n",
              "                        <td id=\"T_b346c10a_147a_11eb_980f_0242ac1c0002row20_col11\" class=\"data row20 col11\" >0</td>\n",
              "                        <td id=\"T_b346c10a_147a_11eb_980f_0242ac1c0002row20_col12\" class=\"data row20 col12\" >0</td>\n",
              "                        <td id=\"T_b346c10a_147a_11eb_980f_0242ac1c0002row20_col13\" class=\"data row20 col13\" >0</td>\n",
              "                        <td id=\"T_b346c10a_147a_11eb_980f_0242ac1c0002row20_col14\" class=\"data row20 col14\" >50</td>\n",
              "                        <td id=\"T_b346c10a_147a_11eb_980f_0242ac1c0002row20_col15\" class=\"data row20 col15\" >254</td>\n",
              "                        <td id=\"T_b346c10a_147a_11eb_980f_0242ac1c0002row20_col16\" class=\"data row20 col16\" >241</td>\n",
              "                        <td id=\"T_b346c10a_147a_11eb_980f_0242ac1c0002row20_col17\" class=\"data row20 col17\" >40</td>\n",
              "                        <td id=\"T_b346c10a_147a_11eb_980f_0242ac1c0002row20_col18\" class=\"data row20 col18\" >0</td>\n",
              "                        <td id=\"T_b346c10a_147a_11eb_980f_0242ac1c0002row20_col19\" class=\"data row20 col19\" >0</td>\n",
              "                        <td id=\"T_b346c10a_147a_11eb_980f_0242ac1c0002row20_col20\" class=\"data row20 col20\" >0</td>\n",
              "                        <td id=\"T_b346c10a_147a_11eb_980f_0242ac1c0002row20_col21\" class=\"data row20 col21\" >0</td>\n",
              "                        <td id=\"T_b346c10a_147a_11eb_980f_0242ac1c0002row20_col22\" class=\"data row20 col22\" >0</td>\n",
              "                        <td id=\"T_b346c10a_147a_11eb_980f_0242ac1c0002row20_col23\" class=\"data row20 col23\" >0</td>\n",
              "                        <td id=\"T_b346c10a_147a_11eb_980f_0242ac1c0002row20_col24\" class=\"data row20 col24\" >0</td>\n",
              "                        <td id=\"T_b346c10a_147a_11eb_980f_0242ac1c0002row20_col25\" class=\"data row20 col25\" >0</td>\n",
              "                        <td id=\"T_b346c10a_147a_11eb_980f_0242ac1c0002row20_col26\" class=\"data row20 col26\" >0</td>\n",
              "                        <td id=\"T_b346c10a_147a_11eb_980f_0242ac1c0002row20_col27\" class=\"data row20 col27\" >0</td>\n",
              "            </tr>\n",
              "            <tr>\n",
              "                        <th id=\"T_b346c10a_147a_11eb_980f_0242ac1c0002level0_row21\" class=\"row_heading level0 row21\" >21</th>\n",
              "                        <td id=\"T_b346c10a_147a_11eb_980f_0242ac1c0002row21_col0\" class=\"data row21 col0\" >0</td>\n",
              "                        <td id=\"T_b346c10a_147a_11eb_980f_0242ac1c0002row21_col1\" class=\"data row21 col1\" >0</td>\n",
              "                        <td id=\"T_b346c10a_147a_11eb_980f_0242ac1c0002row21_col2\" class=\"data row21 col2\" >0</td>\n",
              "                        <td id=\"T_b346c10a_147a_11eb_980f_0242ac1c0002row21_col3\" class=\"data row21 col3\" >0</td>\n",
              "                        <td id=\"T_b346c10a_147a_11eb_980f_0242ac1c0002row21_col4\" class=\"data row21 col4\" >0</td>\n",
              "                        <td id=\"T_b346c10a_147a_11eb_980f_0242ac1c0002row21_col5\" class=\"data row21 col5\" >0</td>\n",
              "                        <td id=\"T_b346c10a_147a_11eb_980f_0242ac1c0002row21_col6\" class=\"data row21 col6\" >0</td>\n",
              "                        <td id=\"T_b346c10a_147a_11eb_980f_0242ac1c0002row21_col7\" class=\"data row21 col7\" >0</td>\n",
              "                        <td id=\"T_b346c10a_147a_11eb_980f_0242ac1c0002row21_col8\" class=\"data row21 col8\" >0</td>\n",
              "                        <td id=\"T_b346c10a_147a_11eb_980f_0242ac1c0002row21_col9\" class=\"data row21 col9\" >0</td>\n",
              "                        <td id=\"T_b346c10a_147a_11eb_980f_0242ac1c0002row21_col10\" class=\"data row21 col10\" >0</td>\n",
              "                        <td id=\"T_b346c10a_147a_11eb_980f_0242ac1c0002row21_col11\" class=\"data row21 col11\" >0</td>\n",
              "                        <td id=\"T_b346c10a_147a_11eb_980f_0242ac1c0002row21_col12\" class=\"data row21 col12\" >0</td>\n",
              "                        <td id=\"T_b346c10a_147a_11eb_980f_0242ac1c0002row21_col13\" class=\"data row21 col13\" >10</td>\n",
              "                        <td id=\"T_b346c10a_147a_11eb_980f_0242ac1c0002row21_col14\" class=\"data row21 col14\" >176</td>\n",
              "                        <td id=\"T_b346c10a_147a_11eb_980f_0242ac1c0002row21_col15\" class=\"data row21 col15\" >254</td>\n",
              "                        <td id=\"T_b346c10a_147a_11eb_980f_0242ac1c0002row21_col16\" class=\"data row21 col16\" >199</td>\n",
              "                        <td id=\"T_b346c10a_147a_11eb_980f_0242ac1c0002row21_col17\" class=\"data row21 col17\" >0</td>\n",
              "                        <td id=\"T_b346c10a_147a_11eb_980f_0242ac1c0002row21_col18\" class=\"data row21 col18\" >0</td>\n",
              "                        <td id=\"T_b346c10a_147a_11eb_980f_0242ac1c0002row21_col19\" class=\"data row21 col19\" >0</td>\n",
              "                        <td id=\"T_b346c10a_147a_11eb_980f_0242ac1c0002row21_col20\" class=\"data row21 col20\" >0</td>\n",
              "                        <td id=\"T_b346c10a_147a_11eb_980f_0242ac1c0002row21_col21\" class=\"data row21 col21\" >0</td>\n",
              "                        <td id=\"T_b346c10a_147a_11eb_980f_0242ac1c0002row21_col22\" class=\"data row21 col22\" >0</td>\n",
              "                        <td id=\"T_b346c10a_147a_11eb_980f_0242ac1c0002row21_col23\" class=\"data row21 col23\" >0</td>\n",
              "                        <td id=\"T_b346c10a_147a_11eb_980f_0242ac1c0002row21_col24\" class=\"data row21 col24\" >0</td>\n",
              "                        <td id=\"T_b346c10a_147a_11eb_980f_0242ac1c0002row21_col25\" class=\"data row21 col25\" >0</td>\n",
              "                        <td id=\"T_b346c10a_147a_11eb_980f_0242ac1c0002row21_col26\" class=\"data row21 col26\" >0</td>\n",
              "                        <td id=\"T_b346c10a_147a_11eb_980f_0242ac1c0002row21_col27\" class=\"data row21 col27\" >0</td>\n",
              "            </tr>\n",
              "            <tr>\n",
              "                        <th id=\"T_b346c10a_147a_11eb_980f_0242ac1c0002level0_row22\" class=\"row_heading level0 row22\" >22</th>\n",
              "                        <td id=\"T_b346c10a_147a_11eb_980f_0242ac1c0002row22_col0\" class=\"data row22 col0\" >0</td>\n",
              "                        <td id=\"T_b346c10a_147a_11eb_980f_0242ac1c0002row22_col1\" class=\"data row22 col1\" >0</td>\n",
              "                        <td id=\"T_b346c10a_147a_11eb_980f_0242ac1c0002row22_col2\" class=\"data row22 col2\" >0</td>\n",
              "                        <td id=\"T_b346c10a_147a_11eb_980f_0242ac1c0002row22_col3\" class=\"data row22 col3\" >0</td>\n",
              "                        <td id=\"T_b346c10a_147a_11eb_980f_0242ac1c0002row22_col4\" class=\"data row22 col4\" >0</td>\n",
              "                        <td id=\"T_b346c10a_147a_11eb_980f_0242ac1c0002row22_col5\" class=\"data row22 col5\" >0</td>\n",
              "                        <td id=\"T_b346c10a_147a_11eb_980f_0242ac1c0002row22_col6\" class=\"data row22 col6\" >0</td>\n",
              "                        <td id=\"T_b346c10a_147a_11eb_980f_0242ac1c0002row22_col7\" class=\"data row22 col7\" >0</td>\n",
              "                        <td id=\"T_b346c10a_147a_11eb_980f_0242ac1c0002row22_col8\" class=\"data row22 col8\" >0</td>\n",
              "                        <td id=\"T_b346c10a_147a_11eb_980f_0242ac1c0002row22_col9\" class=\"data row22 col9\" >0</td>\n",
              "                        <td id=\"T_b346c10a_147a_11eb_980f_0242ac1c0002row22_col10\" class=\"data row22 col10\" >0</td>\n",
              "                        <td id=\"T_b346c10a_147a_11eb_980f_0242ac1c0002row22_col11\" class=\"data row22 col11\" >0</td>\n",
              "                        <td id=\"T_b346c10a_147a_11eb_980f_0242ac1c0002row22_col12\" class=\"data row22 col12\" >0</td>\n",
              "                        <td id=\"T_b346c10a_147a_11eb_980f_0242ac1c0002row22_col13\" class=\"data row22 col13\" >97</td>\n",
              "                        <td id=\"T_b346c10a_147a_11eb_980f_0242ac1c0002row22_col14\" class=\"data row22 col14\" >254</td>\n",
              "                        <td id=\"T_b346c10a_147a_11eb_980f_0242ac1c0002row22_col15\" class=\"data row22 col15\" >223</td>\n",
              "                        <td id=\"T_b346c10a_147a_11eb_980f_0242ac1c0002row22_col16\" class=\"data row22 col16\" >34</td>\n",
              "                        <td id=\"T_b346c10a_147a_11eb_980f_0242ac1c0002row22_col17\" class=\"data row22 col17\" >0</td>\n",
              "                        <td id=\"T_b346c10a_147a_11eb_980f_0242ac1c0002row22_col18\" class=\"data row22 col18\" >0</td>\n",
              "                        <td id=\"T_b346c10a_147a_11eb_980f_0242ac1c0002row22_col19\" class=\"data row22 col19\" >0</td>\n",
              "                        <td id=\"T_b346c10a_147a_11eb_980f_0242ac1c0002row22_col20\" class=\"data row22 col20\" >0</td>\n",
              "                        <td id=\"T_b346c10a_147a_11eb_980f_0242ac1c0002row22_col21\" class=\"data row22 col21\" >0</td>\n",
              "                        <td id=\"T_b346c10a_147a_11eb_980f_0242ac1c0002row22_col22\" class=\"data row22 col22\" >0</td>\n",
              "                        <td id=\"T_b346c10a_147a_11eb_980f_0242ac1c0002row22_col23\" class=\"data row22 col23\" >0</td>\n",
              "                        <td id=\"T_b346c10a_147a_11eb_980f_0242ac1c0002row22_col24\" class=\"data row22 col24\" >0</td>\n",
              "                        <td id=\"T_b346c10a_147a_11eb_980f_0242ac1c0002row22_col25\" class=\"data row22 col25\" >0</td>\n",
              "                        <td id=\"T_b346c10a_147a_11eb_980f_0242ac1c0002row22_col26\" class=\"data row22 col26\" >0</td>\n",
              "                        <td id=\"T_b346c10a_147a_11eb_980f_0242ac1c0002row22_col27\" class=\"data row22 col27\" >0</td>\n",
              "            </tr>\n",
              "            <tr>\n",
              "                        <th id=\"T_b346c10a_147a_11eb_980f_0242ac1c0002level0_row23\" class=\"row_heading level0 row23\" >23</th>\n",
              "                        <td id=\"T_b346c10a_147a_11eb_980f_0242ac1c0002row23_col0\" class=\"data row23 col0\" >0</td>\n",
              "                        <td id=\"T_b346c10a_147a_11eb_980f_0242ac1c0002row23_col1\" class=\"data row23 col1\" >0</td>\n",
              "                        <td id=\"T_b346c10a_147a_11eb_980f_0242ac1c0002row23_col2\" class=\"data row23 col2\" >0</td>\n",
              "                        <td id=\"T_b346c10a_147a_11eb_980f_0242ac1c0002row23_col3\" class=\"data row23 col3\" >0</td>\n",
              "                        <td id=\"T_b346c10a_147a_11eb_980f_0242ac1c0002row23_col4\" class=\"data row23 col4\" >0</td>\n",
              "                        <td id=\"T_b346c10a_147a_11eb_980f_0242ac1c0002row23_col5\" class=\"data row23 col5\" >0</td>\n",
              "                        <td id=\"T_b346c10a_147a_11eb_980f_0242ac1c0002row23_col6\" class=\"data row23 col6\" >0</td>\n",
              "                        <td id=\"T_b346c10a_147a_11eb_980f_0242ac1c0002row23_col7\" class=\"data row23 col7\" >0</td>\n",
              "                        <td id=\"T_b346c10a_147a_11eb_980f_0242ac1c0002row23_col8\" class=\"data row23 col8\" >0</td>\n",
              "                        <td id=\"T_b346c10a_147a_11eb_980f_0242ac1c0002row23_col9\" class=\"data row23 col9\" >0</td>\n",
              "                        <td id=\"T_b346c10a_147a_11eb_980f_0242ac1c0002row23_col10\" class=\"data row23 col10\" >0</td>\n",
              "                        <td id=\"T_b346c10a_147a_11eb_980f_0242ac1c0002row23_col11\" class=\"data row23 col11\" >0</td>\n",
              "                        <td id=\"T_b346c10a_147a_11eb_980f_0242ac1c0002row23_col12\" class=\"data row23 col12\" >0</td>\n",
              "                        <td id=\"T_b346c10a_147a_11eb_980f_0242ac1c0002row23_col13\" class=\"data row23 col13\" >120</td>\n",
              "                        <td id=\"T_b346c10a_147a_11eb_980f_0242ac1c0002row23_col14\" class=\"data row23 col14\" >254</td>\n",
              "                        <td id=\"T_b346c10a_147a_11eb_980f_0242ac1c0002row23_col15\" class=\"data row23 col15\" >206</td>\n",
              "                        <td id=\"T_b346c10a_147a_11eb_980f_0242ac1c0002row23_col16\" class=\"data row23 col16\" >8</td>\n",
              "                        <td id=\"T_b346c10a_147a_11eb_980f_0242ac1c0002row23_col17\" class=\"data row23 col17\" >0</td>\n",
              "                        <td id=\"T_b346c10a_147a_11eb_980f_0242ac1c0002row23_col18\" class=\"data row23 col18\" >0</td>\n",
              "                        <td id=\"T_b346c10a_147a_11eb_980f_0242ac1c0002row23_col19\" class=\"data row23 col19\" >0</td>\n",
              "                        <td id=\"T_b346c10a_147a_11eb_980f_0242ac1c0002row23_col20\" class=\"data row23 col20\" >0</td>\n",
              "                        <td id=\"T_b346c10a_147a_11eb_980f_0242ac1c0002row23_col21\" class=\"data row23 col21\" >0</td>\n",
              "                        <td id=\"T_b346c10a_147a_11eb_980f_0242ac1c0002row23_col22\" class=\"data row23 col22\" >0</td>\n",
              "                        <td id=\"T_b346c10a_147a_11eb_980f_0242ac1c0002row23_col23\" class=\"data row23 col23\" >0</td>\n",
              "                        <td id=\"T_b346c10a_147a_11eb_980f_0242ac1c0002row23_col24\" class=\"data row23 col24\" >0</td>\n",
              "                        <td id=\"T_b346c10a_147a_11eb_980f_0242ac1c0002row23_col25\" class=\"data row23 col25\" >0</td>\n",
              "                        <td id=\"T_b346c10a_147a_11eb_980f_0242ac1c0002row23_col26\" class=\"data row23 col26\" >0</td>\n",
              "                        <td id=\"T_b346c10a_147a_11eb_980f_0242ac1c0002row23_col27\" class=\"data row23 col27\" >0</td>\n",
              "            </tr>\n",
              "            <tr>\n",
              "                        <th id=\"T_b346c10a_147a_11eb_980f_0242ac1c0002level0_row24\" class=\"row_heading level0 row24\" >24</th>\n",
              "                        <td id=\"T_b346c10a_147a_11eb_980f_0242ac1c0002row24_col0\" class=\"data row24 col0\" >0</td>\n",
              "                        <td id=\"T_b346c10a_147a_11eb_980f_0242ac1c0002row24_col1\" class=\"data row24 col1\" >0</td>\n",
              "                        <td id=\"T_b346c10a_147a_11eb_980f_0242ac1c0002row24_col2\" class=\"data row24 col2\" >0</td>\n",
              "                        <td id=\"T_b346c10a_147a_11eb_980f_0242ac1c0002row24_col3\" class=\"data row24 col3\" >0</td>\n",
              "                        <td id=\"T_b346c10a_147a_11eb_980f_0242ac1c0002row24_col4\" class=\"data row24 col4\" >0</td>\n",
              "                        <td id=\"T_b346c10a_147a_11eb_980f_0242ac1c0002row24_col5\" class=\"data row24 col5\" >0</td>\n",
              "                        <td id=\"T_b346c10a_147a_11eb_980f_0242ac1c0002row24_col6\" class=\"data row24 col6\" >0</td>\n",
              "                        <td id=\"T_b346c10a_147a_11eb_980f_0242ac1c0002row24_col7\" class=\"data row24 col7\" >0</td>\n",
              "                        <td id=\"T_b346c10a_147a_11eb_980f_0242ac1c0002row24_col8\" class=\"data row24 col8\" >0</td>\n",
              "                        <td id=\"T_b346c10a_147a_11eb_980f_0242ac1c0002row24_col9\" class=\"data row24 col9\" >0</td>\n",
              "                        <td id=\"T_b346c10a_147a_11eb_980f_0242ac1c0002row24_col10\" class=\"data row24 col10\" >0</td>\n",
              "                        <td id=\"T_b346c10a_147a_11eb_980f_0242ac1c0002row24_col11\" class=\"data row24 col11\" >0</td>\n",
              "                        <td id=\"T_b346c10a_147a_11eb_980f_0242ac1c0002row24_col12\" class=\"data row24 col12\" >0</td>\n",
              "                        <td id=\"T_b346c10a_147a_11eb_980f_0242ac1c0002row24_col13\" class=\"data row24 col13\" >202</td>\n",
              "                        <td id=\"T_b346c10a_147a_11eb_980f_0242ac1c0002row24_col14\" class=\"data row24 col14\" >244</td>\n",
              "                        <td id=\"T_b346c10a_147a_11eb_980f_0242ac1c0002row24_col15\" class=\"data row24 col15\" >57</td>\n",
              "                        <td id=\"T_b346c10a_147a_11eb_980f_0242ac1c0002row24_col16\" class=\"data row24 col16\" >0</td>\n",
              "                        <td id=\"T_b346c10a_147a_11eb_980f_0242ac1c0002row24_col17\" class=\"data row24 col17\" >0</td>\n",
              "                        <td id=\"T_b346c10a_147a_11eb_980f_0242ac1c0002row24_col18\" class=\"data row24 col18\" >0</td>\n",
              "                        <td id=\"T_b346c10a_147a_11eb_980f_0242ac1c0002row24_col19\" class=\"data row24 col19\" >0</td>\n",
              "                        <td id=\"T_b346c10a_147a_11eb_980f_0242ac1c0002row24_col20\" class=\"data row24 col20\" >0</td>\n",
              "                        <td id=\"T_b346c10a_147a_11eb_980f_0242ac1c0002row24_col21\" class=\"data row24 col21\" >0</td>\n",
              "                        <td id=\"T_b346c10a_147a_11eb_980f_0242ac1c0002row24_col22\" class=\"data row24 col22\" >0</td>\n",
              "                        <td id=\"T_b346c10a_147a_11eb_980f_0242ac1c0002row24_col23\" class=\"data row24 col23\" >0</td>\n",
              "                        <td id=\"T_b346c10a_147a_11eb_980f_0242ac1c0002row24_col24\" class=\"data row24 col24\" >0</td>\n",
              "                        <td id=\"T_b346c10a_147a_11eb_980f_0242ac1c0002row24_col25\" class=\"data row24 col25\" >0</td>\n",
              "                        <td id=\"T_b346c10a_147a_11eb_980f_0242ac1c0002row24_col26\" class=\"data row24 col26\" >0</td>\n",
              "                        <td id=\"T_b346c10a_147a_11eb_980f_0242ac1c0002row24_col27\" class=\"data row24 col27\" >0</td>\n",
              "            </tr>\n",
              "            <tr>\n",
              "                        <th id=\"T_b346c10a_147a_11eb_980f_0242ac1c0002level0_row25\" class=\"row_heading level0 row25\" >25</th>\n",
              "                        <td id=\"T_b346c10a_147a_11eb_980f_0242ac1c0002row25_col0\" class=\"data row25 col0\" >0</td>\n",
              "                        <td id=\"T_b346c10a_147a_11eb_980f_0242ac1c0002row25_col1\" class=\"data row25 col1\" >0</td>\n",
              "                        <td id=\"T_b346c10a_147a_11eb_980f_0242ac1c0002row25_col2\" class=\"data row25 col2\" >0</td>\n",
              "                        <td id=\"T_b346c10a_147a_11eb_980f_0242ac1c0002row25_col3\" class=\"data row25 col3\" >0</td>\n",
              "                        <td id=\"T_b346c10a_147a_11eb_980f_0242ac1c0002row25_col4\" class=\"data row25 col4\" >0</td>\n",
              "                        <td id=\"T_b346c10a_147a_11eb_980f_0242ac1c0002row25_col5\" class=\"data row25 col5\" >0</td>\n",
              "                        <td id=\"T_b346c10a_147a_11eb_980f_0242ac1c0002row25_col6\" class=\"data row25 col6\" >0</td>\n",
              "                        <td id=\"T_b346c10a_147a_11eb_980f_0242ac1c0002row25_col7\" class=\"data row25 col7\" >0</td>\n",
              "                        <td id=\"T_b346c10a_147a_11eb_980f_0242ac1c0002row25_col8\" class=\"data row25 col8\" >0</td>\n",
              "                        <td id=\"T_b346c10a_147a_11eb_980f_0242ac1c0002row25_col9\" class=\"data row25 col9\" >0</td>\n",
              "                        <td id=\"T_b346c10a_147a_11eb_980f_0242ac1c0002row25_col10\" class=\"data row25 col10\" >0</td>\n",
              "                        <td id=\"T_b346c10a_147a_11eb_980f_0242ac1c0002row25_col11\" class=\"data row25 col11\" >0</td>\n",
              "                        <td id=\"T_b346c10a_147a_11eb_980f_0242ac1c0002row25_col12\" class=\"data row25 col12\" >99</td>\n",
              "                        <td id=\"T_b346c10a_147a_11eb_980f_0242ac1c0002row25_col13\" class=\"data row25 col13\" >254</td>\n",
              "                        <td id=\"T_b346c10a_147a_11eb_980f_0242ac1c0002row25_col14\" class=\"data row25 col14\" >135</td>\n",
              "                        <td id=\"T_b346c10a_147a_11eb_980f_0242ac1c0002row25_col15\" class=\"data row25 col15\" >0</td>\n",
              "                        <td id=\"T_b346c10a_147a_11eb_980f_0242ac1c0002row25_col16\" class=\"data row25 col16\" >0</td>\n",
              "                        <td id=\"T_b346c10a_147a_11eb_980f_0242ac1c0002row25_col17\" class=\"data row25 col17\" >0</td>\n",
              "                        <td id=\"T_b346c10a_147a_11eb_980f_0242ac1c0002row25_col18\" class=\"data row25 col18\" >0</td>\n",
              "                        <td id=\"T_b346c10a_147a_11eb_980f_0242ac1c0002row25_col19\" class=\"data row25 col19\" >0</td>\n",
              "                        <td id=\"T_b346c10a_147a_11eb_980f_0242ac1c0002row25_col20\" class=\"data row25 col20\" >0</td>\n",
              "                        <td id=\"T_b346c10a_147a_11eb_980f_0242ac1c0002row25_col21\" class=\"data row25 col21\" >0</td>\n",
              "                        <td id=\"T_b346c10a_147a_11eb_980f_0242ac1c0002row25_col22\" class=\"data row25 col22\" >0</td>\n",
              "                        <td id=\"T_b346c10a_147a_11eb_980f_0242ac1c0002row25_col23\" class=\"data row25 col23\" >0</td>\n",
              "                        <td id=\"T_b346c10a_147a_11eb_980f_0242ac1c0002row25_col24\" class=\"data row25 col24\" >0</td>\n",
              "                        <td id=\"T_b346c10a_147a_11eb_980f_0242ac1c0002row25_col25\" class=\"data row25 col25\" >0</td>\n",
              "                        <td id=\"T_b346c10a_147a_11eb_980f_0242ac1c0002row25_col26\" class=\"data row25 col26\" >0</td>\n",
              "                        <td id=\"T_b346c10a_147a_11eb_980f_0242ac1c0002row25_col27\" class=\"data row25 col27\" >0</td>\n",
              "            </tr>\n",
              "            <tr>\n",
              "                        <th id=\"T_b346c10a_147a_11eb_980f_0242ac1c0002level0_row26\" class=\"row_heading level0 row26\" >26</th>\n",
              "                        <td id=\"T_b346c10a_147a_11eb_980f_0242ac1c0002row26_col0\" class=\"data row26 col0\" >0</td>\n",
              "                        <td id=\"T_b346c10a_147a_11eb_980f_0242ac1c0002row26_col1\" class=\"data row26 col1\" >0</td>\n",
              "                        <td id=\"T_b346c10a_147a_11eb_980f_0242ac1c0002row26_col2\" class=\"data row26 col2\" >0</td>\n",
              "                        <td id=\"T_b346c10a_147a_11eb_980f_0242ac1c0002row26_col3\" class=\"data row26 col3\" >0</td>\n",
              "                        <td id=\"T_b346c10a_147a_11eb_980f_0242ac1c0002row26_col4\" class=\"data row26 col4\" >0</td>\n",
              "                        <td id=\"T_b346c10a_147a_11eb_980f_0242ac1c0002row26_col5\" class=\"data row26 col5\" >0</td>\n",
              "                        <td id=\"T_b346c10a_147a_11eb_980f_0242ac1c0002row26_col6\" class=\"data row26 col6\" >0</td>\n",
              "                        <td id=\"T_b346c10a_147a_11eb_980f_0242ac1c0002row26_col7\" class=\"data row26 col7\" >0</td>\n",
              "                        <td id=\"T_b346c10a_147a_11eb_980f_0242ac1c0002row26_col8\" class=\"data row26 col8\" >0</td>\n",
              "                        <td id=\"T_b346c10a_147a_11eb_980f_0242ac1c0002row26_col9\" class=\"data row26 col9\" >0</td>\n",
              "                        <td id=\"T_b346c10a_147a_11eb_980f_0242ac1c0002row26_col10\" class=\"data row26 col10\" >0</td>\n",
              "                        <td id=\"T_b346c10a_147a_11eb_980f_0242ac1c0002row26_col11\" class=\"data row26 col11\" >0</td>\n",
              "                        <td id=\"T_b346c10a_147a_11eb_980f_0242ac1c0002row26_col12\" class=\"data row26 col12\" >106</td>\n",
              "                        <td id=\"T_b346c10a_147a_11eb_980f_0242ac1c0002row26_col13\" class=\"data row26 col13\" >245</td>\n",
              "                        <td id=\"T_b346c10a_147a_11eb_980f_0242ac1c0002row26_col14\" class=\"data row26 col14\" >33</td>\n",
              "                        <td id=\"T_b346c10a_147a_11eb_980f_0242ac1c0002row26_col15\" class=\"data row26 col15\" >0</td>\n",
              "                        <td id=\"T_b346c10a_147a_11eb_980f_0242ac1c0002row26_col16\" class=\"data row26 col16\" >0</td>\n",
              "                        <td id=\"T_b346c10a_147a_11eb_980f_0242ac1c0002row26_col17\" class=\"data row26 col17\" >0</td>\n",
              "                        <td id=\"T_b346c10a_147a_11eb_980f_0242ac1c0002row26_col18\" class=\"data row26 col18\" >0</td>\n",
              "                        <td id=\"T_b346c10a_147a_11eb_980f_0242ac1c0002row26_col19\" class=\"data row26 col19\" >0</td>\n",
              "                        <td id=\"T_b346c10a_147a_11eb_980f_0242ac1c0002row26_col20\" class=\"data row26 col20\" >0</td>\n",
              "                        <td id=\"T_b346c10a_147a_11eb_980f_0242ac1c0002row26_col21\" class=\"data row26 col21\" >0</td>\n",
              "                        <td id=\"T_b346c10a_147a_11eb_980f_0242ac1c0002row26_col22\" class=\"data row26 col22\" >0</td>\n",
              "                        <td id=\"T_b346c10a_147a_11eb_980f_0242ac1c0002row26_col23\" class=\"data row26 col23\" >0</td>\n",
              "                        <td id=\"T_b346c10a_147a_11eb_980f_0242ac1c0002row26_col24\" class=\"data row26 col24\" >0</td>\n",
              "                        <td id=\"T_b346c10a_147a_11eb_980f_0242ac1c0002row26_col25\" class=\"data row26 col25\" >0</td>\n",
              "                        <td id=\"T_b346c10a_147a_11eb_980f_0242ac1c0002row26_col26\" class=\"data row26 col26\" >0</td>\n",
              "                        <td id=\"T_b346c10a_147a_11eb_980f_0242ac1c0002row26_col27\" class=\"data row26 col27\" >0</td>\n",
              "            </tr>\n",
              "            <tr>\n",
              "                        <th id=\"T_b346c10a_147a_11eb_980f_0242ac1c0002level0_row27\" class=\"row_heading level0 row27\" >27</th>\n",
              "                        <td id=\"T_b346c10a_147a_11eb_980f_0242ac1c0002row27_col0\" class=\"data row27 col0\" >0</td>\n",
              "                        <td id=\"T_b346c10a_147a_11eb_980f_0242ac1c0002row27_col1\" class=\"data row27 col1\" >0</td>\n",
              "                        <td id=\"T_b346c10a_147a_11eb_980f_0242ac1c0002row27_col2\" class=\"data row27 col2\" >0</td>\n",
              "                        <td id=\"T_b346c10a_147a_11eb_980f_0242ac1c0002row27_col3\" class=\"data row27 col3\" >0</td>\n",
              "                        <td id=\"T_b346c10a_147a_11eb_980f_0242ac1c0002row27_col4\" class=\"data row27 col4\" >0</td>\n",
              "                        <td id=\"T_b346c10a_147a_11eb_980f_0242ac1c0002row27_col5\" class=\"data row27 col5\" >0</td>\n",
              "                        <td id=\"T_b346c10a_147a_11eb_980f_0242ac1c0002row27_col6\" class=\"data row27 col6\" >0</td>\n",
              "                        <td id=\"T_b346c10a_147a_11eb_980f_0242ac1c0002row27_col7\" class=\"data row27 col7\" >0</td>\n",
              "                        <td id=\"T_b346c10a_147a_11eb_980f_0242ac1c0002row27_col8\" class=\"data row27 col8\" >0</td>\n",
              "                        <td id=\"T_b346c10a_147a_11eb_980f_0242ac1c0002row27_col9\" class=\"data row27 col9\" >0</td>\n",
              "                        <td id=\"T_b346c10a_147a_11eb_980f_0242ac1c0002row27_col10\" class=\"data row27 col10\" >0</td>\n",
              "                        <td id=\"T_b346c10a_147a_11eb_980f_0242ac1c0002row27_col11\" class=\"data row27 col11\" >0</td>\n",
              "                        <td id=\"T_b346c10a_147a_11eb_980f_0242ac1c0002row27_col12\" class=\"data row27 col12\" >23</td>\n",
              "                        <td id=\"T_b346c10a_147a_11eb_980f_0242ac1c0002row27_col13\" class=\"data row27 col13\" >45</td>\n",
              "                        <td id=\"T_b346c10a_147a_11eb_980f_0242ac1c0002row27_col14\" class=\"data row27 col14\" >0</td>\n",
              "                        <td id=\"T_b346c10a_147a_11eb_980f_0242ac1c0002row27_col15\" class=\"data row27 col15\" >0</td>\n",
              "                        <td id=\"T_b346c10a_147a_11eb_980f_0242ac1c0002row27_col16\" class=\"data row27 col16\" >0</td>\n",
              "                        <td id=\"T_b346c10a_147a_11eb_980f_0242ac1c0002row27_col17\" class=\"data row27 col17\" >0</td>\n",
              "                        <td id=\"T_b346c10a_147a_11eb_980f_0242ac1c0002row27_col18\" class=\"data row27 col18\" >0</td>\n",
              "                        <td id=\"T_b346c10a_147a_11eb_980f_0242ac1c0002row27_col19\" class=\"data row27 col19\" >0</td>\n",
              "                        <td id=\"T_b346c10a_147a_11eb_980f_0242ac1c0002row27_col20\" class=\"data row27 col20\" >0</td>\n",
              "                        <td id=\"T_b346c10a_147a_11eb_980f_0242ac1c0002row27_col21\" class=\"data row27 col21\" >0</td>\n",
              "                        <td id=\"T_b346c10a_147a_11eb_980f_0242ac1c0002row27_col22\" class=\"data row27 col22\" >0</td>\n",
              "                        <td id=\"T_b346c10a_147a_11eb_980f_0242ac1c0002row27_col23\" class=\"data row27 col23\" >0</td>\n",
              "                        <td id=\"T_b346c10a_147a_11eb_980f_0242ac1c0002row27_col24\" class=\"data row27 col24\" >0</td>\n",
              "                        <td id=\"T_b346c10a_147a_11eb_980f_0242ac1c0002row27_col25\" class=\"data row27 col25\" >0</td>\n",
              "                        <td id=\"T_b346c10a_147a_11eb_980f_0242ac1c0002row27_col26\" class=\"data row27 col26\" >0</td>\n",
              "                        <td id=\"T_b346c10a_147a_11eb_980f_0242ac1c0002row27_col27\" class=\"data row27 col27\" >0</td>\n",
              "            </tr>\n",
              "    </tbody></table>"
            ],
            "text/plain": [
              "<pandas.io.formats.style.Styler at 0x7fb411b5f198>"
            ]
          },
          "metadata": {
            "tags": []
          },
          "execution_count": 14
        }
      ]
    },
    {
      "cell_type": "code",
      "metadata": {
        "id": "Y6mnEGZ4V9Qx",
        "outputId": "8aea1850-8b9d-44b8-f7c1-01fbea744dd8",
        "colab": {
          "base_uri": "https://localhost:8080/",
          "height": 34
        }
      },
      "source": [
        "np.average(df)"
      ],
      "execution_count": 15,
      "outputs": [
        {
          "output_type": "execute_result",
          "data": {
            "text/plain": [
              "30.409438775510203"
            ]
          },
          "metadata": {
            "tags": []
          },
          "execution_count": 15
        }
      ]
    },
    {
      "cell_type": "code",
      "metadata": {
        "id": "HXjLRY9GeDmS"
      },
      "source": [
        "sevens = (path/'train/7').ls()\n",
        "threes = (path/'train/3').ls()\n"
      ],
      "execution_count": 16,
      "outputs": []
    },
    {
      "cell_type": "code",
      "metadata": {
        "id": "m7EQV_h3ets_"
      },
      "source": [
        "??tensor"
      ],
      "execution_count": 17,
      "outputs": []
    },
    {
      "cell_type": "code",
      "metadata": {
        "id": "Qx1asPMFeu3v",
        "outputId": "035e88b9-a57c-430a-b372-cd6d5c0bcf06",
        "colab": {
          "base_uri": "https://localhost:8080/",
          "height": 34
        }
      },
      "source": [
        "a = array([2,3,4,5])\n",
        "a"
      ],
      "execution_count": 18,
      "outputs": [
        {
          "output_type": "execute_result",
          "data": {
            "text/plain": [
              "array([2, 3, 4, 5])"
            ]
          },
          "metadata": {
            "tags": []
          },
          "execution_count": 18
        }
      ]
    },
    {
      "cell_type": "code",
      "metadata": {
        "id": "AlX0u17LfbEs",
        "outputId": "def186dd-d496-4c82-d3b6-8a84914f6bb7",
        "colab": {
          "base_uri": "https://localhost:8080/",
          "height": 34
        }
      },
      "source": [
        "b = torch.tensor(a)\n",
        "b"
      ],
      "execution_count": 19,
      "outputs": [
        {
          "output_type": "execute_result",
          "data": {
            "text/plain": [
              "tensor([2, 3, 4, 5])"
            ]
          },
          "metadata": {
            "tags": []
          },
          "execution_count": 19
        }
      ]
    },
    {
      "cell_type": "markdown",
      "metadata": {
        "id": "_Kt-3xbvfe1N"
      },
      "source": [
        "## stack the matrices to tensors"
      ]
    },
    {
      "cell_type": "code",
      "metadata": {
        "id": "FYy2hJ6ngIH9",
        "outputId": "e44fafb2-c0cb-4acb-d034-7b080a44b91a",
        "colab": {
          "base_uri": "https://localhost:8080/",
          "height": 34
        }
      },
      "source": [
        "tensor7 = [tensor(Image.open(x)) for x in sevens]\n",
        "tensor3 = [tensor(Image.open(x)) for x in threes]\n",
        "len(tensor3), len(tensor7)"
      ],
      "execution_count": 20,
      "outputs": [
        {
          "output_type": "execute_result",
          "data": {
            "text/plain": [
              "(6131, 6265)"
            ]
          },
          "metadata": {
            "tags": []
          },
          "execution_count": 20
        }
      ]
    },
    {
      "cell_type": "code",
      "metadata": {
        "id": "zvHHgeblghkO",
        "outputId": "aee2eb82-48c0-4de6-e26f-d3e2c12cfbbe",
        "colab": {
          "base_uri": "https://localhost:8080/",
          "height": 521
        }
      },
      "source": [
        "tensor3[1]"
      ],
      "execution_count": 21,
      "outputs": [
        {
          "output_type": "execute_result",
          "data": {
            "text/plain": [
              "tensor([[  0,   0,   0,   0,   0,   0,   0,   0,   0,   0,   0,   0,   0,   0,   0,   0,   0,   0,   0,   0,   0,   0,   0,   0,   0,   0,   0,   0],\n",
              "        [  0,   0,   0,   0,   0,   0,   0,   0,   0,   0,   0,   0,   0,   0,   0,   0,   0,   0,   0,   0,   0,   0,   0,   0,   0,   0,   0,   0],\n",
              "        [  0,   0,   0,   0,   0,   0,   0,   0,   0,   0,   0,   0,   0,   0,   0,   0,   0,   0,   0,   0,   0,   0,   0,   0,   0,   0,   0,   0],\n",
              "        [  0,   0,   0,   0,   0,   0,   0,   0,   0,   0,   0,   0,   0,   0,   0,   0,   0,   0,   0,   0,   0,   0,   0,   0,   0,   0,   0,   0],\n",
              "        [  0,   0,   0,   0,   0,   0,   0,   0,   0,   0,   0,   0,   0,   0,   0,   0,   0,   0,   0,   0,   0,   0,   0,   0,   0,   0,   0,   0],\n",
              "        [  0,   0,   0,   0,   0,   0,   0,   0,   0,   0,   0,   0,   0,   0,   0,   0,   0,   0,   0,   0,   0,   0,   0,   0,   0,   0,   0,   0],\n",
              "        [  0,   0,   0,   0,   0,   0,   0,   0,  31, 105, 105, 105, 219, 253, 255, 253, 253, 182,  12,   0,   0,   0,   0,   0,   0,   0,   0,   0],\n",
              "        [  0,   0,   0,   0,   0,   0,  39, 130, 221, 252, 252, 252, 252, 252, 253, 252, 252, 252, 151,   0,   0,   0,   0,   0,   0,   0,   0,   0],\n",
              "        [  0,   0,   0,   0,   0, 135, 221, 252, 252, 252, 244, 237, 123,  88,  89, 223, 252, 252, 177,   0,   0,   0,   0,   0,   0,   0,   0,   0],\n",
              "        [  0,   0,   0,   0,   0, 208, 252, 252, 216, 132,  63,   0,   0,   0, 121, 229, 252, 252, 107,   0,   0,   0,   0,   0,   0,   0,   0,   0],\n",
              "        [  0,   0,   0,   0,   0, 164, 252, 216,  37,   0,   0,   0,  14,  75, 253, 252, 252, 146,   4,   0,   0,   0,   0,   0,   0,   0,   0,   0],\n",
              "        [  0,   0,   0,   0,   0,  18,  74,  39,   0,   0,  16,  30, 157, 252, 253, 252, 241,  39,   0,   0,   0,   0,   0,   0,   0,   0,   0,   0],\n",
              "        [  0,   0,   0,   0,   0,   0,   0,   0,   0,  16, 196, 252, 252, 252, 253, 252, 245, 134,  16,   0,   0,   0,   0,   0,   0,   0,   0,   0],\n",
              "        [  0,   0,   0,   0,   0,   0,   0,   0,  71, 240, 252, 252, 252, 252, 253, 252, 252, 252, 240, 238, 159,   5,   0,   0,   0,   0,   0,   0],\n",
              "        [  0,   0,   0,   0,   0,   0,   0,   0, 162, 252, 252, 236, 207, 207, 208, 207, 207, 207, 220, 252, 252,  40,   0,   0,   0,   0,   0,   0],\n",
              "        [  0,   0,   0,   0,   0,   0,   0,   0,  75, 252, 172,  67,   0,   0,   0,   0,   0,   0,  31, 121, 252, 215,  35,   0,   0,   0,   0,   0],\n",
              "        [  0,   0,   0,   0,   0,   0,   0,   0,   0,   0,   0,   0,   0,   0,   0,   0,   0,   0,   0,  18, 204, 253,  59,   0,   0,   0,   0,   0],\n",
              "        [  0,   0,   0,   0,   0,   0,   0,   0,   0,   0,   0,   0,   0,   0,   0,   0,   0,   0,   0,  25, 231, 252, 181,   0,   0,   0,   0,   0],\n",
              "        [  0,   0,   0,   0,   0,   0,   0,   0,   0,   0,   0,   0,   0,   0,   0,   0,   0,   0,   0, 127, 252, 252, 198,   0,   0,   0,   0,   0],\n",
              "        [  0,   0,   0,   0,   0,   0,   0,   0,   0,   0,   0,   0,   0,   0,   0,   0,   0,   0,  36, 213, 252, 209,  31,   0,   0,   0,   0,   0],\n",
              "        [  0,   0,   0,   0,   0,   0,   0,   0,   0,   0,   0,   0,   0,   0,   0,   0,   0,  36, 215, 252, 252, 119,   0,   0,   0,   0,   0,   0],\n",
              "        [  0,   0,   0,   0,   0,   0,   0,  15,  21,   0,   0,   0,   0,   0,   0,   8,  39, 213, 252, 248, 222,  12,   0,   0,   0,   0,   0,   0],\n",
              "        [  0,   0,   0,   0,   0,   0,   0, 120, 217,  39,   0,   0,   0,   0,  56, 162, 252, 252, 252, 142,   0,   0,   0,   0,   0,   0,   0,   0],\n",
              "        [  0,   0,   0,   0,   0,   0,   0,   7, 172, 242, 238, 185,  90, 177, 245, 252, 252, 209, 162,  48,   0,   0,   0,   0,   0,   0,   0,   0],\n",
              "        [  0,   0,   0,   0,   0,   0,   0,   0,  62, 207, 231, 252, 252, 252, 253, 241, 198,  31,   0,   0,   0,   0,   0,   0,   0,   0,   0,   0],\n",
              "        [  0,   0,   0,   0,   0,   0,   0,   0,   0,   0,  55, 155, 252, 252, 104,  79,   0,   0,   0,   0,   0,   0,   0,   0,   0,   0,   0,   0],\n",
              "        [  0,   0,   0,   0,   0,   0,   0,   0,   0,   0,   0,   0,   0,   0,   0,   0,   0,   0,   0,   0,   0,   0,   0,   0,   0,   0,   0,   0],\n",
              "        [  0,   0,   0,   0,   0,   0,   0,   0,   0,   0,   0,   0,   0,   0,   0,   0,   0,   0,   0,   0,   0,   0,   0,   0,   0,   0,   0,   0]], dtype=torch.uint8)"
            ]
          },
          "metadata": {
            "tags": []
          },
          "execution_count": 21
        }
      ]
    },
    {
      "cell_type": "code",
      "metadata": {
        "id": "RN4wPhCfhlhd"
      },
      "source": [
        "??show_image()"
      ],
      "execution_count": 22,
      "outputs": []
    },
    {
      "cell_type": "code",
      "metadata": {
        "id": "RrWNqdR0hxnM",
        "outputId": "a9361d9c-507b-4fc9-a35f-b8f68e3fe0b0",
        "colab": {
          "base_uri": "https://localhost:8080/",
          "height": 34
        }
      },
      "source": [
        "a = [1,2,3]\n",
        "isinstance(a, np.ndarray), isinstance(a, list)"
      ],
      "execution_count": 23,
      "outputs": [
        {
          "output_type": "execute_result",
          "data": {
            "text/plain": [
              "(False, True)"
            ]
          },
          "metadata": {
            "tags": []
          },
          "execution_count": 23
        }
      ]
    },
    {
      "cell_type": "code",
      "metadata": {
        "id": "CL_OfdIjigyK",
        "outputId": "66cf9e6e-aa6e-4f5a-b14d-8a7e094bc759",
        "colab": {
          "base_uri": "https://localhost:8080/",
          "height": 102
        }
      },
      "source": [
        "show_image(tensor3[444])"
      ],
      "execution_count": 24,
      "outputs": [
        {
          "output_type": "execute_result",
          "data": {
            "text/plain": [
              "<matplotlib.axes._subplots.AxesSubplot at 0x7fb411b17b00>"
            ]
          },
          "metadata": {
            "tags": []
          },
          "execution_count": 24
        },
        {
          "output_type": "display_data",
          "data": {
            "image/png": "[encoded data removed]",
            "text/plain": [
              "<Figure size 72x72 with 1 Axes>"
            ]
          },
          "metadata": {
            "tags": [],
            "needs_background": "light"
          }
        }
      ]
    },
    {
      "cell_type": "code",
      "metadata": {
        "id": "rhXz8Lymi02i"
      },
      "source": [
        "# stack all tensors to one 3-tensor\n",
        "# we cast the integer to float: to let pytorch take the mean \n",
        "stacked3s = torch.stack(tensor3).float()/255\n",
        "stacked7s = torch.stack(tensor7).float()/255"
      ],
      "execution_count": 25,
      "outputs": []
    },
    {
      "cell_type": "code",
      "metadata": {
        "id": "svSmKgICkWjh",
        "outputId": "482467b4-8d1a-4993-8042-e14f9c74c78b",
        "colab": {
          "base_uri": "https://localhost:8080/",
          "height": 415
        }
      },
      "source": [
        "stacked3s[:3]"
      ],
      "execution_count": 26,
      "outputs": [
        {
          "output_type": "execute_result",
          "data": {
            "text/plain": [
              "tensor([[[0., 0., 0.,  ..., 0., 0., 0.],\n",
              "         [0., 0., 0.,  ..., 0., 0., 0.],\n",
              "         [0., 0., 0.,  ..., 0., 0., 0.],\n",
              "         ...,\n",
              "         [0., 0., 0.,  ..., 0., 0., 0.],\n",
              "         [0., 0., 0.,  ..., 0., 0., 0.],\n",
              "         [0., 0., 0.,  ..., 0., 0., 0.]],\n",
              "\n",
              "        [[0., 0., 0.,  ..., 0., 0., 0.],\n",
              "         [0., 0., 0.,  ..., 0., 0., 0.],\n",
              "         [0., 0., 0.,  ..., 0., 0., 0.],\n",
              "         ...,\n",
              "         [0., 0., 0.,  ..., 0., 0., 0.],\n",
              "         [0., 0., 0.,  ..., 0., 0., 0.],\n",
              "         [0., 0., 0.,  ..., 0., 0., 0.]],\n",
              "\n",
              "        [[0., 0., 0.,  ..., 0., 0., 0.],\n",
              "         [0., 0., 0.,  ..., 0., 0., 0.],\n",
              "         [0., 0., 0.,  ..., 0., 0., 0.],\n",
              "         ...,\n",
              "         [0., 0., 0.,  ..., 0., 0., 0.],\n",
              "         [0., 0., 0.,  ..., 0., 0., 0.],\n",
              "         [0., 0., 0.,  ..., 0., 0., 0.]]])"
            ]
          },
          "metadata": {
            "tags": []
          },
          "execution_count": 26
        }
      ]
    },
    {
      "cell_type": "code",
      "metadata": {
        "id": "F3Caq0Rdkbaj",
        "outputId": "84e62f77-4eeb-41f2-850e-8dc7117d5bbd",
        "colab": {
          "base_uri": "https://localhost:8080/",
          "height": 34
        }
      },
      "source": [
        "stacked7s.shape"
      ],
      "execution_count": 27,
      "outputs": [
        {
          "output_type": "execute_result",
          "data": {
            "text/plain": [
              "torch.Size([6265, 28, 28])"
            ]
          },
          "metadata": {
            "tags": []
          },
          "execution_count": 27
        }
      ]
    },
    {
      "cell_type": "markdown",
      "metadata": {
        "id": "143QTBI6mgva"
      },
      "source": [
        "### Calculate the rank"
      ]
    },
    {
      "cell_type": "code",
      "metadata": {
        "id": "g_A0JfcUkhSF",
        "outputId": "a28644e8-e875-43f7-8bd2-437787d3d6f7",
        "colab": {
          "base_uri": "https://localhost:8080/",
          "height": 52
        }
      },
      "source": [
        "print(f'This tensor hast rank {len(stacked7s.shape)}')\n",
        "print(f'This tensor hast rank {stacked7s.ndim}')"
      ],
      "execution_count": 28,
      "outputs": [
        {
          "output_type": "stream",
          "text": [
            "This tensor hast rank 3\n",
            "This tensor hast rank 3\n"
          ],
          "name": "stdout"
        }
      ]
    },
    {
      "cell_type": "code",
      "metadata": {
        "id": "aGt8XkLYld_B",
        "outputId": "c8e0bc4c-66a4-4eb9-cbce-b14459f99378",
        "colab": {
          "base_uri": "https://localhost:8080/",
          "height": 102
        }
      },
      "source": [
        "# calculate the average pixel value (= along axis 0 (6265 images))\n",
        "mean3 = stacked3s.mean(0)\n",
        "show_image(mean3)"
      ],
      "execution_count": 29,
      "outputs": [
        {
          "output_type": "execute_result",
          "data": {
            "text/plain": [
              "<matplotlib.axes._subplots.AxesSubplot at 0x7fb4114980b8>"
            ]
          },
          "metadata": {
            "tags": []
          },
          "execution_count": 29
        },
        {
          "output_type": "display_data",
          "data": {
            "image/png": "[encoded data removed]",
            "text/plain": [
              "<Figure size 72x72 with 1 Axes>"
            ]
          },
          "metadata": {
            "tags": [],
            "needs_background": "light"
          }
        }
      ]
    },
    {
      "cell_type": "code",
      "metadata": {
        "id": "jG2sKqDim8Cp",
        "outputId": "a803cd3e-5af1-4c32-cbf0-0ee2cf4bdaae",
        "colab": {
          "base_uri": "https://localhost:8080/",
          "height": 102
        }
      },
      "source": [
        "mean7 = stacked7s.mean(0)\n",
        "show_image(mean7)"
      ],
      "execution_count": 30,
      "outputs": [
        {
          "output_type": "execute_result",
          "data": {
            "text/plain": [
              "<matplotlib.axes._subplots.AxesSubplot at 0x7fb411244518>"
            ]
          },
          "metadata": {
            "tags": []
          },
          "execution_count": 30
        },
        {
          "output_type": "display_data",
          "data": {
            "image/png": "[encoded data removed]",
            "text/plain": [
              "<Figure size 72x72 with 1 Axes>"
            ]
          },
          "metadata": {
            "tags": [],
            "needs_background": "light"
          }
        }
      ]
    },
    {
      "cell_type": "code",
      "metadata": {
        "id": "PC9VpZ0jnbfY",
        "outputId": "f90eadbc-f399-4a1f-dc9d-34336eef36ac",
        "colab": {
          "base_uri": "https://localhost:8080/",
          "height": 102
        }
      },
      "source": [
        "difference = mean3 - mean7\n",
        "show_image(difference)"
      ],
      "execution_count": 31,
      "outputs": [
        {
          "output_type": "execute_result",
          "data": {
            "text/plain": [
              "<matplotlib.axes._subplots.AxesSubplot at 0x7fb40f74c5c0>"
            ]
          },
          "metadata": {
            "tags": []
          },
          "execution_count": 31
        },
        {
          "output_type": "display_data",
          "data": {
            "image/png": "[encoded data removed]",
            "text/plain": [
              "<Figure size 72x72 with 1 Axes>"
            ]
          },
          "metadata": {
            "tags": [],
            "needs_background": "light"
          }
        }
      ]
    },
    {
      "cell_type": "code",
      "metadata": {
        "id": "G3ITN7oFoCxF",
        "outputId": "232a977a-09cf-4933-e85c-f87526e706cc",
        "colab": {
          "base_uri": "https://localhost:8080/",
          "height": 417
        }
      },
      "source": [
        "difference[difference<0]"
      ],
      "execution_count": 32,
      "outputs": [
        {
          "output_type": "execute_result",
          "data": {
            "text/plain": [
              "tensor([-2.1203e-04, -1.0641e-05, -2.9420e-05, -9.9475e-05, -2.8089e-03, -6.6110e-04, -4.6966e-03, -1.1866e-02, -3.7063e-03, -7.2986e-04, -1.1956e-04, -1.6166e-03, -1.0874e-02, -2.1558e-02,\n",
              "        -2.9754e-02, -5.3853e-02, -7.7437e-02, -1.1652e-01, -1.6064e-01, -2.1407e-01, -2.7410e-01, -3.3231e-01, -3.7583e-01, -3.8262e-01, -3.5031e-01, -2.7354e-01, -1.9308e-01, -1.4377e-01,\n",
              "        -1.2348e-01, -1.1035e-01, -8.8944e-02, -6.9270e-02, -4.8726e-02, -2.9187e-02, -8.6830e-03, -1.1380e-03, -1.8278e-04, -2.6668e-03, -1.7558e-02, -4.1259e-02, -7.2343e-02, -1.2476e-01,\n",
              "        -1.8860e-01, -2.7619e-01, -3.6924e-01, -4.5651e-01, -5.2007e-01, -5.5673e-01, -5.5075e-01, -4.9886e-01, -4.0517e-01, -2.8861e-01, -2.0962e-01, -1.9374e-01, -2.2337e-01, -2.3544e-01,\n",
              "        -1.9325e-01, -1.3726e-01, -7.8165e-02, -3.3964e-02, -8.4378e-03, -1.2367e-03, -9.7648e-05, -1.2769e-04, -2.5038e-04, -3.4857e-03, -1.8387e-02, -4.3443e-02, -8.4744e-02, -1.4361e-01,\n",
              "        -2.1966e-01, -3.0981e-01, -3.9668e-01, -4.5769e-01, -4.7134e-01, -4.2310e-01, -3.2159e-01, -1.8654e-01, -3.6902e-02, -8.2281e-02, -2.4164e-01, -3.0838e-01, -2.5453e-01, -1.6652e-01,\n",
              "        -8.3614e-02, -2.7793e-02, -5.6058e-03, -8.4939e-04, -8.6381e-05, -3.4427e-05, -2.2284e-04, -2.7043e-03, -1.4547e-02, -3.3353e-02, -6.8035e-02, -1.1542e-01, -1.8172e-01, -2.5486e-01,\n",
              "        -3.1398e-01, -3.1888e-01, -2.4030e-01, -8.6728e-02, -3.2313e-02, -2.8808e-01, -3.4836e-01, -2.7043e-01, -1.5515e-01, -6.8305e-02, -1.8128e-02, -2.5280e-03, -9.1768e-05, -5.6335e-06,\n",
              "        -1.1267e-05, -1.4272e-04, -1.5340e-03, -8.3015e-03, -2.0566e-02, -4.4701e-02, -8.0261e-02, -1.2769e-01, -1.8093e-01, -1.9570e-01, -1.2086e-01, -7.5049e-02, -3.0674e-01, -3.2113e-01,\n",
              "        -2.1724e-01, -1.0641e-01, -4.0914e-02, -1.0641e-02, -1.3724e-03, -2.2870e-04, -9.9526e-05, -4.1939e-05, -4.8761e-04, -4.0831e-03, -1.1835e-02, -2.9354e-02, -5.5448e-02, -8.5903e-02,\n",
              "        -1.0950e-01, -7.6660e-02, -1.1449e-01, -2.2346e-01, -1.8986e-01, -1.0317e-01, -4.1421e-02, -1.7200e-02, -6.7926e-03, -2.5387e-03, -5.4439e-04, -5.7587e-05, -3.1612e-05, -1.6112e-03,\n",
              "        -6.0323e-03, -1.7819e-02, -3.6439e-02, -5.5924e-02, -5.7335e-02, -1.3390e-03, -2.1210e-02, -1.3776e-01, -8.7719e-02, -5.1523e-03, -3.3370e-03, -1.0592e-03, -4.3816e-06, -1.3915e-03,\n",
              "        -6.2477e-03, -1.7596e-02, -3.1745e-02, -2.7779e-02, -1.0649e-01, -2.4675e-01, -1.6599e-01, -3.0662e-03, -9.5513e-04, -2.5038e-05, -5.2821e-03, -5.4525e-03, -1.3939e-02, -2.0512e-01,\n",
              "        -4.0002e-01, -3.9514e-01, -1.4540e-01, -2.8197e-04, -3.6740e-04, -1.8960e-02, -7.2615e-02, -2.1421e-01, -4.2804e-01, -5.3165e-01, -3.9326e-01, -4.8883e-02, -5.5835e-04, -9.9526e-05,\n",
              "        -3.7557e-05, -3.8544e-02, -1.4710e-01, -3.3785e-01, -5.0911e-01, -5.0099e-01, -2.4838e-01, -2.0406e-04, -7.9495e-05, -3.1402e-02, -1.9021e-01, -3.6616e-01, -4.4960e-01, -3.2414e-01,\n",
              "        -2.2006e-02, -1.5370e-04, -1.3796e-01, -2.5649e-01, -2.3398e-01, -4.3697e-02, -2.2255e-04, -3.3084e-05, -2.3849e-04, -2.1082e-04, -1.5148e-04, -1.3141e-04, -8.3087e-05, -9.4754e-03,\n",
              "        -5.4630e-02, -8.8535e-02, -1.1173e-01, -1.1176e-01, -1.0105e-01, -8.2548e-02, -5.7268e-02, -3.4250e-02, -1.6301e-02, -8.7899e-03, -4.6166e-03, -1.9273e-03, -5.5844e-04, -1.6337e-04,\n",
              "        -2.7542e-05, -2.6211e-04, -1.3692e-03, -7.3137e-03, -2.4486e-02, -5.9667e-02, -1.1293e-01, -1.7466e-01, -2.3630e-01, -2.7874e-01, -2.9006e-01, -2.7266e-01, -2.3255e-01, -1.8093e-01,\n",
              "        -1.2423e-01, -7.7192e-02, -4.1242e-02, -2.0010e-02, -8.2475e-03, -3.6609e-03, -1.3674e-03, -1.1956e-04, -1.5774e-04, -6.7268e-04, -4.4006e-03, -1.6473e-02, -3.8676e-02, -7.2701e-02,\n",
              "        -1.0583e-01, -1.4169e-01, -1.6847e-01, -1.7541e-01, -1.6767e-01, -1.4639e-01, -1.1354e-01, -8.0672e-02, -5.1930e-02, -2.9267e-02, -1.3944e-02, -4.6849e-03, -2.3963e-03, -1.1048e-03,\n",
              "        -1.9029e-04, -3.6931e-05, -9.5144e-05, -5.8526e-04, -1.5380e-03, -3.2042e-03, -4.6702e-03, -7.1477e-03, -1.1993e-02, -1.5394e-02, -1.8726e-02, -2.1517e-02, -2.4382e-02, -2.1448e-02,\n",
              "        -1.7374e-02, -1.2364e-02, -6.9242e-03, -2.6384e-03, -1.0122e-03, -4.1250e-04, -4.4004e-04, -7.5114e-05])"
            ]
          },
          "metadata": {
            "tags": []
          },
          "execution_count": 32
        }
      ]
    },
    {
      "cell_type": "code",
      "metadata": {
        "id": "vteIOXNlowrf",
        "outputId": "d41b115b-1378-48ef-868e-b77e7596784e",
        "colab": {
          "base_uri": "https://localhost:8080/",
          "height": 417
        }
      },
      "source": [
        "difference[difference>0]"
      ],
      "execution_count": 33,
      "outputs": [
        {
          "output_type": "execute_result",
          "data": {
            "text/plain": [
              "tensor([7.2918e-05, 1.9637e-04, 2.3410e-04, 1.9253e-04, 2.7568e-04, 2.6161e-04, 2.9423e-04, 2.8400e-04, 1.5671e-04, 4.8612e-05, 5.7567e-06, 1.5991e-05, 4.8676e-04, 7.7331e-04, 1.4468e-03, 2.9788e-03,\n",
              "        5.6486e-03, 9.5177e-03, 1.5693e-02, 2.1113e-02, 2.4280e-02, 2.5964e-02, 2.4268e-02, 2.0875e-02, 1.7108e-02, 1.1642e-02, 7.0436e-03, 3.9945e-03, 1.4955e-03, 3.2941e-04, 2.4306e-05, 3.2621e-05,\n",
              "        9.2849e-05, 1.2793e-03, 5.7016e-03, 1.3647e-02, 3.0079e-02, 5.5361e-02, 9.0293e-02, 1.3725e-01, 1.8334e-01, 2.2092e-01, 2.4617e-01, 2.4938e-01, 2.3514e-01, 1.9860e-01, 1.5084e-01, 1.0543e-01,\n",
              "        6.4754e-02, 3.2829e-02, 1.3193e-02, 4.5657e-03, 3.9273e-04, 1.9189e-06, 5.7567e-05, 1.4278e-03, 8.5491e-03, 2.6652e-02, 5.8630e-02, 1.0866e-01, 1.8064e-01, 2.7193e-01, 3.7415e-01, 4.7073e-01,\n",
              "        5.4852e-01, 6.0367e-01, 6.1450e-01, 5.8955e-01, 5.2141e-01, 4.1607e-01, 3.0226e-01, 2.0195e-01, 1.1673e-01, 5.3256e-02, 1.6697e-02, 3.4604e-03, 2.5905e-04, 7.0359e-06, 4.6738e-03, 1.9987e-02,\n",
              "        4.7445e-02, 9.6689e-02, 1.7053e-01, 2.6505e-01, 3.6408e-01, 4.5561e-01, 5.2835e-01, 5.7783e-01, 6.1451e-01, 6.3462e-01, 6.3586e-01, 5.9944e-01, 5.1257e-01, 4.0009e-01, 2.8134e-01, 1.7601e-01,\n",
              "        8.5818e-02, 2.6280e-02, 4.5677e-03, 3.6751e-04, 9.5350e-03, 2.3129e-02, 4.9082e-02, 8.4561e-02, 1.2278e-01, 1.5391e-01, 1.6764e-01, 1.6436e-01, 1.5215e-01, 1.4564e-01, 1.6182e-01, 1.9380e-01,\n",
              "        2.1370e-01, 1.9884e-01, 1.5348e-01, 1.0414e-01, 5.9938e-02, 2.2708e-02, 6.4984e-02, 5.1248e-02, 1.0400e-01, 2.8035e-01, 4.0988e-01, 4.2766e-01, 2.6168e-01, 5.1972e-02, 2.7950e-01, 4.8838e-01,\n",
              "        6.3187e-01, 6.8100e-01, 5.8156e-01, 2.9038e-01, 5.3509e-02, 2.6830e-01, 4.9755e-01, 6.6264e-01, 7.3463e-01, 6.9901e-01, 5.0712e-01, 1.7879e-01, 1.3779e-01, 3.1909e-01, 4.7825e-01, 5.6959e-01,\n",
              "        5.8147e-01, 4.9335e-01, 2.5034e-01, 1.3889e-03, 3.7956e-02, 2.5702e-02, 2.5913e-03, 1.4456e-04, 1.4866e-04, 1.6550e-02, 1.0551e-01, 2.1320e-01, 2.8957e-01, 3.1597e-01, 2.8167e-01, 1.3906e-01,\n",
              "        4.0956e-02, 1.7199e-01, 1.6278e-01, 8.7894e-02, 3.1255e-02, 2.3976e-03, 1.3368e-04, 1.2729e-04, 2.0548e-03, 4.8674e-03, 7.0644e-03, 3.4672e-03, 1.0068e-02, 3.9840e-02, 6.8368e-02, 8.4490e-02,\n",
              "        6.4238e-02, 1.5923e-01, 2.9348e-01, 2.5585e-01, 1.4566e-01, 5.9854e-02, 1.4618e-02, 2.2387e-05, 1.1729e-04, 3.2799e-03, 1.4115e-02, 2.7057e-02, 3.2306e-02, 3.1715e-02, 2.9416e-02, 2.2573e-02,\n",
              "        1.1119e-02, 2.3274e-03, 2.6089e-01, 3.7581e-01, 3.0575e-01, 1.8688e-01, 8.7179e-02, 2.6719e-02, 7.8165e-04, 1.3554e-04, 5.5802e-03, 2.7064e-02, 5.5765e-02, 7.7852e-02, 8.9960e-02, 8.8704e-02,\n",
              "        7.2470e-02, 4.4166e-02, 1.3502e-02, 1.0169e-01, 3.5736e-01, 4.2140e-01, 3.2569e-01, 2.0303e-01, 9.9248e-02, 3.0008e-02, 1.7938e-03, 1.3127e-04, 8.9744e-03, 3.9945e-02, 8.6735e-02, 1.3502e-01,\n",
              "        1.6555e-01, 1.7592e-01, 1.6302e-01, 1.2646e-01, 6.7553e-02, 2.7600e-01, 4.3570e-01, 4.2896e-01, 3.1442e-01, 1.9131e-01, 8.8143e-02, 2.2968e-02, 1.5298e-03, 4.3811e-04, 1.0410e-02, 4.8111e-02,\n",
              "        1.0836e-01, 1.7963e-01, 2.3992e-01, 2.8161e-01, 2.9410e-01, 2.5670e-01, 1.6702e-01, 2.9690e-02, 2.1865e-01, 4.0715e-01, 4.6250e-01, 3.8788e-01, 2.6475e-01, 1.4615e-01, 5.8386e-02, 1.3284e-02,\n",
              "        6.9164e-04, 4.9891e-05, 3.6267e-04, 8.7373e-03, 4.1436e-02, 9.9809e-02, 1.8318e-01, 2.8039e-01, 3.6559e-01, 4.1999e-01, 4.0466e-01, 3.2350e-01, 1.8240e-01, 5.0651e-02, 1.6903e-03, 7.0133e-02,\n",
              "        2.2958e-01, 3.7821e-01, 4.3850e-01, 3.9718e-01, 2.9253e-01, 1.7592e-01, 8.3864e-02, 2.7080e-02, 5.0951e-03, 2.1108e-05, 3.1342e-05, 6.0810e-03, 2.7205e-02, 7.2237e-02, 1.3983e-01, 2.4227e-01,\n",
              "        3.5066e-01, 4.3521e-01, 4.6629e-01, 4.2536e-01, 3.3780e-01, 2.5767e-01, 2.3427e-01, 2.6843e-01, 3.2926e-01, 3.5381e-01, 3.2342e-01, 2.4912e-01, 1.5909e-01, 8.3522e-02, 3.3050e-02, 9.0463e-03,\n",
              "        1.4699e-03, 3.1981e-06, 2.3519e-03, 1.2502e-02, 3.6842e-02, 7.5322e-02, 1.3701e-01, 2.0990e-01, 2.7467e-01, 3.0652e-01, 2.9659e-01, 2.5802e-01, 2.1767e-01, 1.9643e-01, 1.8284e-01, 1.7325e-01,\n",
              "        1.5152e-01, 1.1825e-01, 8.5232e-02, 4.9502e-02, 1.9984e-02, 6.0440e-03, 9.7197e-04, 6.3549e-05, 5.1810e-05, 4.7540e-04, 3.5060e-03, 9.6320e-03, 1.8612e-02, 2.8426e-02, 2.8563e-02, 1.7448e-02,\n",
              "        4.7668e-05, 3.7099e-05])"
            ]
          },
          "metadata": {
            "tags": []
          },
          "execution_count": 33
        }
      ]
    },
    {
      "cell_type": "markdown",
      "metadata": {
        "id": "joZho-3JpFE2"
      },
      "source": [
        "## L1 norm / L2 norm (RMSE)\n",
        "calculate distance:  \n",
        "L1: mean of the absolute values of differences (**mean absolute difference**)\n",
        "L2: mean of the square of differences, then take the square root (***root mean squared error***)\n"
      ]
    },
    {
      "cell_type": "code",
      "metadata": {
        "id": "7IJkyW33rQuK",
        "outputId": "8c1aeaff-2d12-416f-8bee-a7d883e003f3",
        "colab": {
          "base_uri": "https://localhost:8080/",
          "height": 102
        }
      },
      "source": [
        "a3 = stacked3s[1]\n",
        "show_image(a3)"
      ],
      "execution_count": 34,
      "outputs": [
        {
          "output_type": "execute_result",
          "data": {
            "text/plain": [
              "<matplotlib.axes._subplots.AxesSubplot at 0x7fb40f712b00>"
            ]
          },
          "metadata": {
            "tags": []
          },
          "execution_count": 34
        },
        {
          "output_type": "display_data",
          "data": {
            "image/png": "[encoded data removed]",
            "text/plain": [
              "<Figure size 72x72 with 1 Axes>"
            ]
          },
          "metadata": {
            "tags": [],
            "needs_background": "light"
          }
        }
      ]
    },
    {
      "cell_type": "markdown",
      "metadata": {
        "id": "UCipUgi7rd4k"
      },
      "source": [
        "is this a 3 or 7?"
      ]
    },
    {
      "cell_type": "code",
      "metadata": {
        "id": "DMx3Bl_Cr9Ue",
        "outputId": "bc1b7bf4-e68a-4860-b79c-406e6c6c2d19",
        "colab": {
          "base_uri": "https://localhost:8080/",
          "height": 34
        }
      },
      "source": [
        "tensor([2,3,-7]).abs()"
      ],
      "execution_count": 35,
      "outputs": [
        {
          "output_type": "execute_result",
          "data": {
            "text/plain": [
              "tensor([2, 3, 7])"
            ]
          },
          "metadata": {
            "tags": []
          },
          "execution_count": 35
        }
      ]
    },
    {
      "cell_type": "code",
      "metadata": {
        "id": "w3uKfLVfplxs",
        "outputId": "f6484d6f-abb4-4886-fc53-ec6a507b6ecf",
        "colab": {
          "base_uri": "https://localhost:8080/",
          "height": 34
        }
      },
      "source": [
        "#L1 norm\n",
        "dist_to3_L1 = (a3-mean3).abs().mean()\n",
        "dist_to3_L2 = ((a3-mean3)**2).mean().sqrt()\n",
        "dist_to3_L1, dist_to3_L2"
      ],
      "execution_count": 36,
      "outputs": [
        {
          "output_type": "execute_result",
          "data": {
            "text/plain": [
              "(tensor(0.1452), tensor(0.2624))"
            ]
          },
          "metadata": {
            "tags": []
          },
          "execution_count": 36
        }
      ]
    },
    {
      "cell_type": "code",
      "metadata": {
        "id": "JtWzG9j4shWk",
        "outputId": "5a77e4c6-56af-4435-fe41-48c00f61d77f",
        "colab": {
          "base_uri": "https://localhost:8080/",
          "height": 34
        }
      },
      "source": [
        "dist_to7_L1 = (a3-mean7).abs().mean()\n",
        "dist_to7_L2 = ((a3-mean7)**2).mean().sqrt()\n",
        "dist_to7_L1, dist_to7_L2"
      ],
      "execution_count": 37,
      "outputs": [
        {
          "output_type": "execute_result",
          "data": {
            "text/plain": [
              "(tensor(0.1696), tensor(0.3184))"
            ]
          },
          "metadata": {
            "tags": []
          },
          "execution_count": 37
        }
      ]
    },
    {
      "cell_type": "code",
      "metadata": {
        "id": "muCD4H2EtIsD",
        "outputId": "f2d1f52e-70e7-49d5-d37c-1be4cab488ef",
        "colab": {
          "base_uri": "https://localhost:8080/",
          "height": 34
        }
      },
      "source": [
        "# L1 / L2 as loss functions in pytorch\n",
        "# import torch.nn.functional as F\n",
        "torch.nn.functional.l1_loss(a3.float(), mean7.float())"
      ],
      "execution_count": 38,
      "outputs": [
        {
          "output_type": "execute_result",
          "data": {
            "text/plain": [
              "tensor(0.1696)"
            ]
          },
          "metadata": {
            "tags": []
          },
          "execution_count": 38
        }
      ]
    },
    {
      "cell_type": "code",
      "metadata": {
        "id": "8DqIEPuvt8lq",
        "outputId": "0d68ab53-158a-4abd-9cd8-936f51c785d4",
        "colab": {
          "base_uri": "https://localhost:8080/",
          "height": 34
        }
      },
      "source": [
        "torch.nn.functional.mse_loss(a3.float(), mean7).sqrt()"
      ],
      "execution_count": 39,
      "outputs": [
        {
          "output_type": "execute_result",
          "data": {
            "text/plain": [
              "tensor(0.3184)"
            ]
          },
          "metadata": {
            "tags": []
          },
          "execution_count": 39
        }
      ]
    },
    {
      "cell_type": "markdown",
      "metadata": {
        "id": "kbTMZWqiui89"
      },
      "source": [
        "# Pytorch / Numpy tricks"
      ]
    },
    {
      "cell_type": "code",
      "metadata": {
        "id": "_T5DZLfEyg7C"
      },
      "source": [
        "# lists\n",
        "dataLists = [[1,2,3,4], [2,3,4,5]]\n",
        "arr = np.array(dataLists)\n",
        "tns = torch.tensor(dataLists)"
      ],
      "execution_count": 40,
      "outputs": []
    },
    {
      "cell_type": "code",
      "metadata": {
        "id": "YtHRqwRGyuTf",
        "outputId": "b2343cfc-c15f-4a57-aa0e-5baf0a513394",
        "colab": {
          "base_uri": "https://localhost:8080/",
          "height": 52
        }
      },
      "source": [
        "arr"
      ],
      "execution_count": 41,
      "outputs": [
        {
          "output_type": "execute_result",
          "data": {
            "text/plain": [
              "array([[1, 2, 3, 4],\n",
              "       [2, 3, 4, 5]])"
            ]
          },
          "metadata": {
            "tags": []
          },
          "execution_count": 41
        }
      ]
    },
    {
      "cell_type": "code",
      "metadata": {
        "id": "CNsD1pOHy2Vf",
        "outputId": "a0fe74b6-f57d-41e7-cadf-d736bcfa7a91",
        "colab": {
          "base_uri": "https://localhost:8080/",
          "height": 52
        }
      },
      "source": [
        "tns"
      ],
      "execution_count": 42,
      "outputs": [
        {
          "output_type": "execute_result",
          "data": {
            "text/plain": [
              "tensor([[1, 2, 3, 4],\n",
              "        [2, 3, 4, 5]])"
            ]
          },
          "metadata": {
            "tags": []
          },
          "execution_count": 42
        }
      ]
    },
    {
      "cell_type": "code",
      "metadata": {
        "id": "-aJRr-xwy6LQ",
        "outputId": "389b4d86-d58f-48dd-977a-45651eefe92b",
        "colab": {
          "base_uri": "https://localhost:8080/",
          "height": 34
        }
      },
      "source": [
        "tns[1,-2:]+1"
      ],
      "execution_count": 43,
      "outputs": [
        {
          "output_type": "execute_result",
          "data": {
            "text/plain": [
              "tensor([5, 6])"
            ]
          },
          "metadata": {
            "tags": []
          },
          "execution_count": 43
        }
      ]
    },
    {
      "cell_type": "code",
      "metadata": {
        "id": "9vN9FrL2zJv0"
      },
      "source": [
        "#valid\n",
        "valid3Tens = torch.stack([tensor(Image.open(x)) for x in (path/'valid/3').ls()])\n",
        "valid3Tens = valid3Tens.float()/255\n",
        "\n",
        "valid7Tens = torch.stack([tensor(Image.open(x)) for x in (path/'valid/7').ls()])\n",
        "valid7Tens = valid7Tens.float()/255"
      ],
      "execution_count": 44,
      "outputs": []
    },
    {
      "cell_type": "code",
      "metadata": {
        "id": "yz3F-N6-EWsn",
        "outputId": "0f67d9d7-6513-4b27-9abc-a5b1a70f033f",
        "colab": {
          "base_uri": "https://localhost:8080/",
          "height": 34
        }
      },
      "source": [
        "valid3Tens.shape, valid7Tens.shape"
      ],
      "execution_count": 45,
      "outputs": [
        {
          "output_type": "execute_result",
          "data": {
            "text/plain": [
              "(torch.Size([1010, 28, 28]), torch.Size([1028, 28, 28]))"
            ]
          },
          "metadata": {
            "tags": []
          },
          "execution_count": 45
        }
      ]
    },
    {
      "cell_type": "code",
      "metadata": {
        "id": "fTDK1lA2FQE1"
      },
      "source": [
        "def distance(a,b):\n",
        "  return (a-b).abs().mean((-1,-2))\n",
        "# -1,-2 - średnia liczona dla których osi, bo są trzy. \n",
        "# The last 2 axes are horizontal and vertical dimensions of an image"
      ],
      "execution_count": 46,
      "outputs": []
    },
    {
      "cell_type": "code",
      "metadata": {
        "id": "Qtl-7YcAFrHN",
        "outputId": "198b947d-d07b-4bf5-a742-08e5be5676d5",
        "colab": {
          "base_uri": "https://localhost:8080/",
          "height": 34
        }
      },
      "source": [
        "distance(a3, mean3), distance(a3, mean7)"
      ],
      "execution_count": 47,
      "outputs": [
        {
          "output_type": "execute_result",
          "data": {
            "text/plain": [
              "(tensor(0.1452), tensor(0.1696))"
            ]
          },
          "metadata": {
            "tags": []
          },
          "execution_count": 47
        }
      ]
    },
    {
      "cell_type": "code",
      "metadata": {
        "id": "HQB-XiFRFzTt"
      },
      "source": [
        "def rmseDistance(a,b):\n",
        "  return ((a-b)**2).mean().sqrt()"
      ],
      "execution_count": 48,
      "outputs": []
    },
    {
      "cell_type": "code",
      "metadata": {
        "id": "dYgpRYF9GTJN",
        "outputId": "f9f55393-3716-440c-dc4a-b704038904ae",
        "colab": {
          "base_uri": "https://localhost:8080/",
          "height": 34
        }
      },
      "source": [
        "rmseDistance(a3, mean3), rmseDistance(a3, mean7)"
      ],
      "execution_count": 49,
      "outputs": [
        {
          "output_type": "execute_result",
          "data": {
            "text/plain": [
              "(tensor(0.2624), tensor(0.3184))"
            ]
          },
          "metadata": {
            "tags": []
          },
          "execution_count": 49
        }
      ]
    },
    {
      "cell_type": "markdown",
      "metadata": {
        "id": "l9jeGqFQHnxl"
      },
      "source": [
        "# Broadcoasting"
      ]
    },
    {
      "cell_type": "code",
      "metadata": {
        "id": "086-r2BpGXK9",
        "outputId": "caac43c7-877a-494c-9d36-27cfdca5997d",
        "colab": {
          "base_uri": "https://localhost:8080/",
          "height": 52
        }
      },
      "source": [
        "valid3Distances = distance(valid3Tens, mean3)\n",
        "valid3Distances, valid3Distances.shape"
      ],
      "execution_count": 50,
      "outputs": [
        {
          "output_type": "execute_result",
          "data": {
            "text/plain": [
              "(tensor([0.1124, 0.1530, 0.1230,  ..., 0.1239, 0.1573, 0.1134]),\n",
              " torch.Size([1010]))"
            ]
          },
          "metadata": {
            "tags": []
          },
          "execution_count": 50
        }
      ]
    },
    {
      "cell_type": "code",
      "metadata": {
        "id": "WDuCq0ZtHVDy"
      },
      "source": [
        "def is3(x):\n",
        "  return rmseDistance(x,mean3) < rmseDistance(x,mean7)"
      ],
      "execution_count": 51,
      "outputs": []
    },
    {
      "cell_type": "code",
      "metadata": {
        "id": "ARa2ytH8arn2",
        "outputId": "578a9ff1-b091-4ded-fab1-da8cb2170d25",
        "colab": {
          "base_uri": "https://localhost:8080/",
          "height": 34
        }
      },
      "source": [
        "is3(a3)"
      ],
      "execution_count": 52,
      "outputs": [
        {
          "output_type": "execute_result",
          "data": {
            "text/plain": [
              "tensor(True)"
            ]
          },
          "metadata": {
            "tags": []
          },
          "execution_count": 52
        }
      ]
    },
    {
      "cell_type": "code",
      "metadata": {
        "id": "YgPr3z63a2g4",
        "outputId": "f94b14ff-bcf8-4b32-e891-611c6ca98a9e",
        "colab": {
          "base_uri": "https://localhost:8080/",
          "height": 34
        }
      },
      "source": [
        "# a jako liczba\n",
        "is3(a3).float()"
      ],
      "execution_count": 53,
      "outputs": [
        {
          "output_type": "execute_result",
          "data": {
            "text/plain": [
              "tensor(1.)"
            ]
          },
          "metadata": {
            "tags": []
          },
          "execution_count": 53
        }
      ]
    },
    {
      "cell_type": "code",
      "metadata": {
        "id": "NVvtZgPXa9Wo",
        "outputId": "d3f1a058-6b5a-410e-c617-e585ec129cea",
        "colab": {
          "base_uri": "https://localhost:8080/",
          "height": 34
        }
      },
      "source": [
        "# Ile 3 i 7 z valid spełni warunek\n",
        "\n",
        "accuracy3s = is3(valid3Tens).float().mean()\n",
        "accuracy7s = (1-is3(valid7Tens).float())\n",
        "\n",
        "# ile trójek jest bardziej podobna do 3 niż do 7 wg tego podejścia\n",
        "# oraz ile 7 nie jest bardziej podobna do 3 niż do 7 (czyli jest 7)\n",
        "\n",
        "accuracy3s, accuracy7s, (accuracy3s + accuracy7s)/2"
      ],
      "execution_count": 54,
      "outputs": [
        {
          "output_type": "execute_result",
          "data": {
            "text/plain": [
              "(tensor(1.), tensor(1.), tensor(1.))"
            ]
          },
          "metadata": {
            "tags": []
          },
          "execution_count": 54
        }
      ]
    },
    {
      "cell_type": "code",
      "metadata": {
        "id": "xU63qi49cHdf"
      },
      "source": [
        "# no to dupa, na kursie było znacznie gorzej :(, nie było 100%"
      ],
      "execution_count": 55,
      "outputs": []
    },
    {
      "cell_type": "markdown",
      "metadata": {
        "id": "0wPeAaYCcRyP"
      },
      "source": [
        "# Gradient descent"
      ]
    },
    {
      "cell_type": "code",
      "metadata": {
        "id": "UAC3ceeFg6ed",
        "outputId": "b7642ef1-d0a2-4264-aa60-e6a539438794",
        "colab": {
          "base_uri": "https://localhost:8080/",
          "height": 145
        }
      },
      "source": [
        "#id gradient_descent\n",
        "#caption The gradient descent process\n",
        "#alt Graph showing the steps for Gradient Descent\n",
        "gv('''\n",
        "init -> predict -> loss -> gradient -> step -> stop step -> predict[label = repeat]\n",
        "''')"
      ],
      "execution_count": 56,
      "outputs": [
        {
          "output_type": "execute_result",
          "data": {
            "text/plain": [
              "<graphviz.files.Source at 0x7fb40f702da0>"
            ],
            "image/svg+xml": "<?xml version=\"1.0\" encoding=\"UTF-8\" standalone=\"no\"?>\n<!DOCTYPE svg PUBLIC \"-//W3C//DTD SVG 1.1//EN\"\n \"http://www.w3.org/Graphics/SVG/1.1/DTD/svg11.dtd\">\n<!-- Generated by graphviz version 2.40.1 (20161225.0304)\n -->\n<!-- Title: G Pages: 1 -->\n<svg width=\"597pt\" height=\"78pt\"\n viewBox=\"0.00 0.00 596.69 78.00\" xmlns=\"http://www.w3.org/2000/svg\" xmlns:xlink=\"http://www.w3.org/1999/xlink\">\n<g id=\"graph0\" class=\"graph\" transform=\"scale(1 1) rotate(0) translate(4 74)\">\n<title>G</title>\n<polygon fill=\"#ffffff\" stroke=\"transparent\" points=\"-4,4 -4,-74 592.6863,-74 592.6863,4 -4,4\"/>\n<!-- init -->\n<g id=\"node1\" class=\"node\">\n<title>init</title>\n<ellipse fill=\"none\" stroke=\"#000000\" cx=\"27\" cy=\"-18\" rx=\"27\" ry=\"18\"/>\n<text text-anchor=\"middle\" x=\"27\" y=\"-14.3\" font-family=\"Times,serif\" font-size=\"14.00\" fill=\"#000000\">init</text>\n</g>\n<!-- predict -->\n<g id=\"node2\" class=\"node\">\n<title>predict</title>\n<ellipse fill=\"none\" stroke=\"#000000\" cx=\"127.3968\" cy=\"-18\" rx=\"36.2938\" ry=\"18\"/>\n<text text-anchor=\"middle\" x=\"127.3968\" y=\"-14.3\" font-family=\"Times,serif\" font-size=\"14.00\" fill=\"#000000\">predict</text>\n</g>\n<!-- init&#45;&gt;predict -->\n<g id=\"edge1\" class=\"edge\">\n<title>init&#45;&gt;predict</title>\n<path fill=\"none\" stroke=\"#000000\" d=\"M54.1688,-18C62.3543,-18 71.5827,-18 80.6596,-18\"/>\n<polygon fill=\"#000000\" stroke=\"#000000\" points=\"80.7795,-21.5001 90.7795,-18 80.7795,-14.5001 80.7795,-21.5001\"/>\n</g>\n<!-- loss -->\n<g id=\"node3\" class=\"node\">\n<title>loss</title>\n<ellipse fill=\"none\" stroke=\"#000000\" cx=\"227.7935\" cy=\"-52\" rx=\"27\" ry=\"18\"/>\n<text text-anchor=\"middle\" x=\"227.7935\" y=\"-48.3\" font-family=\"Times,serif\" font-size=\"14.00\" fill=\"#000000\">loss</text>\n</g>\n<!-- predict&#45;&gt;loss -->\n<g id=\"edge2\" class=\"edge\">\n<title>predict&#45;&gt;loss</title>\n<path fill=\"none\" stroke=\"#000000\" d=\"M157.5191,-28.2011C168.9806,-32.0826 182.1139,-36.5303 193.9014,-40.5222\"/>\n<polygon fill=\"#000000\" stroke=\"#000000\" points=\"192.8259,-43.8532 203.4202,-43.7458 195.0713,-37.2231 192.8259,-43.8532\"/>\n</g>\n<!-- gradient -->\n<g id=\"node4\" class=\"node\">\n<title>gradient</title>\n<ellipse fill=\"none\" stroke=\"#000000\" cx=\"365.7399\" cy=\"-52\" rx=\"40.8928\" ry=\"18\"/>\n<text text-anchor=\"middle\" x=\"365.7399\" y=\"-48.3\" font-family=\"Times,serif\" font-size=\"14.00\" fill=\"#000000\">gradient</text>\n</g>\n<!-- loss&#45;&gt;gradient -->\n<g id=\"edge3\" class=\"edge\">\n<title>loss&#45;&gt;gradient</title>\n<path fill=\"none\" stroke=\"#000000\" d=\"M255.0473,-52C272.0415,-52 294.4481,-52 314.6545,-52\"/>\n<polygon fill=\"#000000\" stroke=\"#000000\" points=\"314.671,-55.5001 324.671,-52 314.671,-48.5001 314.671,-55.5001\"/>\n</g>\n<!-- step -->\n<g id=\"node5\" class=\"node\">\n<title>step</title>\n<ellipse fill=\"none\" stroke=\"#000000\" cx=\"470.6863\" cy=\"-18\" rx=\"27\" ry=\"18\"/>\n<text text-anchor=\"middle\" x=\"470.6863\" y=\"-14.3\" font-family=\"Times,serif\" font-size=\"14.00\" fill=\"#000000\">step</text>\n</g>\n<!-- gradient&#45;&gt;step -->\n<g id=\"edge4\" class=\"edge\">\n<title>gradient&#45;&gt;step</title>\n<path fill=\"none\" stroke=\"#000000\" d=\"M398.9456,-41.2422C410.9558,-37.3512 424.5297,-32.9536 436.6132,-29.0388\"/>\n<polygon fill=\"#000000\" stroke=\"#000000\" points=\"437.9112,-32.2975 446.3457,-25.8857 435.7537,-25.6382 437.9112,-32.2975\"/>\n</g>\n<!-- step&#45;&gt;predict -->\n<g id=\"edge6\" class=\"edge\">\n<title>step&#45;&gt;predict</title>\n<path fill=\"none\" stroke=\"#000000\" d=\"M443.4266,-18C384.9297,-18 246.7861,-18 174.0495,-18\"/>\n<polygon fill=\"#000000\" stroke=\"#000000\" points=\"173.8098,-14.5001 163.8098,-18 173.8097,-21.5001 173.8098,-14.5001\"/>\n<text text-anchor=\"middle\" x=\"289.7935\" y=\"-21.8\" font-family=\"Times,serif\" font-size=\"14.00\" fill=\"#000000\">repeat</text>\n</g>\n<!-- stop -->\n<g id=\"node6\" class=\"node\">\n<title>stop</title>\n<ellipse fill=\"none\" stroke=\"#000000\" cx=\"561.6863\" cy=\"-18\" rx=\"27\" ry=\"18\"/>\n<text text-anchor=\"middle\" x=\"561.6863\" y=\"-14.3\" font-family=\"Times,serif\" font-size=\"14.00\" fill=\"#000000\">stop</text>\n</g>\n<!-- step&#45;&gt;stop -->\n<g id=\"edge5\" class=\"edge\">\n<title>step&#45;&gt;stop</title>\n<path fill=\"none\" stroke=\"#000000\" d=\"M497.9893,-18C506.2676,-18 515.508,-18 524.3268,-18\"/>\n<polygon fill=\"#000000\" stroke=\"#000000\" points=\"524.4026,-21.5001 534.4025,-18 524.4025,-14.5001 524.4026,-21.5001\"/>\n</g>\n</g>\n</svg>\n"
          },
          "metadata": {
            "tags": []
          },
          "execution_count": 56
        }
      ]
    },
    {
      "cell_type": "code",
      "metadata": {
        "id": "blI7_vIZ5_Ml"
      },
      "source": [
        "def f (x):\n",
        "  return x**2"
      ],
      "execution_count": 57,
      "outputs": []
    },
    {
      "cell_type": "code",
      "metadata": {
        "id": "JB380VC4CBTe",
        "outputId": "7c79d1c5-2126-465b-d1f7-b8dcae9fb261",
        "colab": {
          "base_uri": "https://localhost:8080/",
          "height": 312
        }
      },
      "source": [
        "plot_function(f, 'x', 'y', title='simple quadratic function')\n",
        "plt.scatter(-1.5, f(-1.5), color = 'green')"
      ],
      "execution_count": 58,
      "outputs": [
        {
          "output_type": "execute_result",
          "data": {
            "text/plain": [
              "<matplotlib.collections.PathCollection at 0x7fb40f6b3a20>"
            ]
          },
          "metadata": {
            "tags": []
          },
          "execution_count": 58
        },
        {
          "output_type": "display_data",
          "data": {
            "image/png": "[encoded data removed]",
            "text/plain": [
              "<Figure size 432x288 with 1 Axes>"
            ]
          },
          "metadata": {
            "tags": [],
            "needs_background": "light"
          }
        }
      ]
    },
    {
      "cell_type": "code",
      "metadata": {
        "id": "5alSzY3sCtAz"
      },
      "source": [
        "# method: .requires_grad_():\n",
        "#   we want to calculate gradient with respect to that variable at that value; tagging the value\n",
        "xt = tensor(3.).requires_grad_()"
      ],
      "execution_count": 59,
      "outputs": []
    },
    {
      "cell_type": "code",
      "metadata": {
        "id": "nAmOSCqxIhL0",
        "outputId": "63a85260-e15b-4aa0-d90d-e2838310f78c",
        "colab": {
          "base_uri": "https://localhost:8080/",
          "height": 34
        }
      },
      "source": [
        "xt"
      ],
      "execution_count": 60,
      "outputs": [
        {
          "output_type": "execute_result",
          "data": {
            "text/plain": [
              "tensor(3., requires_grad=True)"
            ]
          },
          "metadata": {
            "tags": []
          },
          "execution_count": 60
        }
      ]
    },
    {
      "cell_type": "code",
      "metadata": {
        "id": "nEOZWHWLIicQ",
        "outputId": "cc813b35-c8d5-4ff2-9a0a-a61ed31f7452",
        "colab": {
          "base_uri": "https://localhost:8080/",
          "height": 34
        }
      },
      "source": [
        "yt = f(xt)\n",
        "yt"
      ],
      "execution_count": 61,
      "outputs": [
        {
          "output_type": "execute_result",
          "data": {
            "text/plain": [
              "tensor(9., grad_fn=<PowBackward0>)"
            ]
          },
          "metadata": {
            "tags": []
          },
          "execution_count": 61
        }
      ]
    },
    {
      "cell_type": "code",
      "metadata": {
        "id": "HoJtZmWOJfo4"
      },
      "source": [
        "yt.backward()"
      ],
      "execution_count": 62,
      "outputs": []
    },
    {
      "cell_type": "code",
      "metadata": {
        "id": "Z8J_LbTmJjeW",
        "outputId": "a125004a-7bef-4f83-f56a-d5d4a537bf95",
        "colab": {
          "base_uri": "https://localhost:8080/",
          "height": 34
        }
      },
      "source": [
        "xt.grad"
      ],
      "execution_count": 63,
      "outputs": [
        {
          "output_type": "execute_result",
          "data": {
            "text/plain": [
              "tensor(6.)"
            ]
          },
          "metadata": {
            "tags": []
          },
          "execution_count": 63
        }
      ]
    },
    {
      "cell_type": "code",
      "metadata": {
        "id": "yNHZuWRwKOZI",
        "outputId": "12b1fddc-9c37-4717-91c5-64441e742406",
        "colab": {
          "base_uri": "https://localhost:8080/",
          "height": 34
        }
      },
      "source": [
        "# a teraz dla vectora:\n",
        "xt = tensor([3.,4.,10.]).requires_grad_()\n",
        "xt"
      ],
      "execution_count": 64,
      "outputs": [
        {
          "output_type": "execute_result",
          "data": {
            "text/plain": [
              "tensor([ 3.,  4., 10.], requires_grad=True)"
            ]
          },
          "metadata": {
            "tags": []
          },
          "execution_count": 64
        }
      ]
    },
    {
      "cell_type": "code",
      "metadata": {
        "id": "9ArvMW0qKsCm",
        "outputId": "338dfb2e-409b-4493-e2a3-e2640c3b0500",
        "colab": {
          "base_uri": "https://localhost:8080/",
          "height": 34
        }
      },
      "source": [
        "def f(x): return (x**2).sum()\n",
        "\n",
        "yt = f(xt)\n",
        "yt"
      ],
      "execution_count": 65,
      "outputs": [
        {
          "output_type": "execute_result",
          "data": {
            "text/plain": [
              "tensor(125., grad_fn=<SumBackward0>)"
            ]
          },
          "metadata": {
            "tags": []
          },
          "execution_count": 65
        }
      ]
    },
    {
      "cell_type": "code",
      "metadata": {
        "id": "ylDHUrnIKwu_",
        "outputId": "e7b0860b-9218-4c1d-fb13-07d3a6b8a2a7",
        "colab": {
          "base_uri": "https://localhost:8080/",
          "height": 34
        }
      },
      "source": [
        "yt.backward()\n",
        "xt.grad"
      ],
      "execution_count": 66,
      "outputs": [
        {
          "output_type": "execute_result",
          "data": {
            "text/plain": [
              "tensor([ 6.,  8., 20.])"
            ]
          },
          "metadata": {
            "tags": []
          },
          "execution_count": 66
        }
      ]
    },
    {
      "cell_type": "code",
      "metadata": {
        "id": "zh6GVGTqK1se",
        "outputId": "c1a0dc28-f591-41d9-e3d1-2e0c1dde2560",
        "colab": {
          "base_uri": "https://localhost:8080/",
          "height": 54
        }
      },
      "source": [
        "# speed of roller coaster as it went over the top of a hump\n",
        "time = torch.arange(20).float(); time"
      ],
      "execution_count": 67,
      "outputs": [
        {
          "output_type": "execute_result",
          "data": {
            "text/plain": [
              "tensor([ 0.,  1.,  2.,  3.,  4.,  5.,  6.,  7.,  8.,  9., 10., 11., 12., 13., 14., 15., 16., 17., 18., 19.])"
            ]
          },
          "metadata": {
            "tags": []
          },
          "execution_count": 67
        }
      ]
    },
    {
      "cell_type": "code",
      "metadata": {
        "id": "eKP0Yx1fOiaQ",
        "outputId": "05482554-1aa7-475f-fd7c-42db92d13c01",
        "colab": {
          "base_uri": "https://localhost:8080/",
          "height": 265
        }
      },
      "source": [
        "speed = torch.randn(20)*3+.75*(time-9.5)**2+1\n",
        "plt.scatter(time, speed);\n",
        "# randn - random noise\n",
        "# reszta: zmyślona funkcja na obliczenie prędkości "
      ],
      "execution_count": 68,
      "outputs": [
        {
          "output_type": "display_data",
          "data": {
            "image/png": "[encoded data removed]",
            "text/plain": [
              "<Figure size 432x288 with 1 Axes>"
            ]
          },
          "metadata": {
            "tags": [],
            "needs_background": "light"
          }
        }
      ]
    },
    {
      "cell_type": "code",
      "metadata": {
        "id": "ZmUaMuWrO0Oz"
      },
      "source": [
        "def f(t, params):\n",
        "  a,b,c = params\n",
        "  return a*(t**2) + (b*t) + c\n",
        "\n",
        "# to ta funkcja na obliczenie prędkości\n",
        "# znajdź najlepsze a,b,c dla tej quadratic function"
      ],
      "execution_count": 69,
      "outputs": []
    },
    {
      "cell_type": "code",
      "metadata": {
        "id": "r5lFShUnQWRr"
      },
      "source": [
        "# loss function, for continuous data common: mse\n",
        "def mse (preds, targets): return ((preds-targets)**2).mean()"
      ],
      "execution_count": 70,
      "outputs": []
    },
    {
      "cell_type": "code",
      "metadata": {
        "id": "_arlOrqgRnKe"
      },
      "source": [
        "# 1. Initialize the parameters\n",
        "# + tell Pytorch, we want to track their gradients\n",
        "params = torch.randn(3).requires_grad_()\n",
        "orig_params = params.clone()\n",
        "\n",
        "#2 calculate predictions\n",
        "preds = f(time, params)"
      ],
      "execution_count": 71,
      "outputs": []
    },
    {
      "cell_type": "code",
      "metadata": {
        "id": "3gkUFydCR-ge"
      },
      "source": [
        "def show_preds(preds, ax=None):\n",
        "  if ax == None: ax = plt.subplots()[1]\n",
        "  ax.scatter(time, speed)\n",
        "  ax.scatter(time, to_np(preds), color = 'red')\n",
        "  ax.set_ylim(-300,100)"
      ],
      "execution_count": 72,
      "outputs": []
    },
    {
      "cell_type": "code",
      "metadata": {
        "id": "wMGXUZrcR_yk",
        "outputId": "ac204a6d-62cd-484a-85b7-842bc5236915",
        "colab": {
          "base_uri": "https://localhost:8080/",
          "height": 269
        }
      },
      "source": [
        "show_preds(preds)"
      ],
      "execution_count": 73,
      "outputs": [
        {
          "output_type": "display_data",
          "data": {
            "image/png": "[encoded data removed]",
            "text/plain": [
              "<Figure size 432x288 with 1 Axes>"
            ]
          },
          "metadata": {
            "tags": [],
            "needs_background": "light"
          }
        }
      ]
    },
    {
      "cell_type": "code",
      "metadata": {
        "id": "CZZp1_IGS6HQ",
        "outputId": "c964c4d9-055e-4a5b-f08d-13a16a3d3b4f",
        "colab": {
          "base_uri": "https://localhost:8080/",
          "height": 34
        }
      },
      "source": [
        "# 3. calculate loss\n",
        "loss = mse(preds, speed)\n",
        "loss"
      ],
      "execution_count": 74,
      "outputs": [
        {
          "output_type": "execute_result",
          "data": {
            "text/plain": [
              "tensor(25823.8086, grad_fn=<MeanBackward0>)"
            ]
          },
          "metadata": {
            "tags": []
          },
          "execution_count": 74
        }
      ]
    },
    {
      "cell_type": "code",
      "metadata": {
        "id": "d69QAdTtTIIF",
        "outputId": "099019fa-1400-49c0-9734-82600b359e24",
        "colab": {
          "base_uri": "https://localhost:8080/",
          "height": 34
        }
      },
      "source": [
        "# 4. calculate the gradients\n",
        "loss.backward()\n",
        "params.grad"
      ],
      "execution_count": 75,
      "outputs": [
        {
          "output_type": "execute_result",
          "data": {
            "text/plain": [
              "tensor([-53195.8594,  -3419.7146,   -253.8908])"
            ]
          },
          "metadata": {
            "tags": []
          },
          "execution_count": 75
        }
      ]
    },
    {
      "cell_type": "code",
      "metadata": {
        "id": "6k0e_nbeTbd0",
        "outputId": "bb135ed5-3e68-4c99-a7c6-f85f208aab12",
        "colab": {
          "base_uri": "https://localhost:8080/",
          "height": 34
        }
      },
      "source": [
        "params"
      ],
      "execution_count": 76,
      "outputs": [
        {
          "output_type": "execute_result",
          "data": {
            "text/plain": [
              "tensor([-0.7658, -0.7506,  1.3525], requires_grad=True)"
            ]
          },
          "metadata": {
            "tags": []
          },
          "execution_count": 76
        }
      ]
    },
    {
      "cell_type": "code",
      "metadata": {
        "id": "GrgHIKqrTknT"
      },
      "source": [
        "# 5. Update the weights\n",
        "lr = 1e-5\n",
        "params.data -= lr * params.grad.data\n",
        "params.grad = None"
      ],
      "execution_count": 77,
      "outputs": []
    },
    {
      "cell_type": "code",
      "metadata": {
        "id": "4oglJXMzeL8g",
        "outputId": "0cb01005-68a1-4f0c-9535-21ef6a84dc37",
        "colab": {
          "base_uri": "https://localhost:8080/",
          "height": 34
        }
      },
      "source": [
        "#check:\n",
        "preds = f(time, params)\n",
        "mse(preds, speed)"
      ],
      "execution_count": 78,
      "outputs": [
        {
          "output_type": "execute_result",
          "data": {
            "text/plain": [
              "tensor(5435.5366, grad_fn=<MeanBackward0>)"
            ]
          },
          "metadata": {
            "tags": []
          },
          "execution_count": 78
        }
      ]
    },
    {
      "cell_type": "code",
      "metadata": {
        "id": "tTP36Imne-MN",
        "outputId": "476630b1-1ba0-4418-a835-c370ff6c51bc",
        "colab": {
          "base_uri": "https://localhost:8080/",
          "height": 269
        }
      },
      "source": [
        "show_preds(preds)"
      ],
      "execution_count": 79,
      "outputs": [
        {
          "output_type": "display_data",
          "data": {
            "image/png": "[encoded data removed]",
            "text/plain": [
              "<Figure size 432x288 with 1 Axes>"
            ]
          },
          "metadata": {
            "tags": [],
            "needs_background": "light"
          }
        }
      ]
    },
    {
      "cell_type": "code",
      "metadata": {
        "id": "qjRa4zs0fHYz"
      },
      "source": [
        "# repeat this:\n",
        "\n",
        "def apply_step(params, prn = True):\n",
        "  preds = f(time, params)\n",
        "  loss = mse(preds, speed)\n",
        "  loss.backward()\n",
        "  params.data -= lr * params.grad.data\n",
        "  params.grad = None\n",
        "\n",
        "  if prn: print(loss.item())\n",
        "  return preds"
      ],
      "execution_count": 80,
      "outputs": []
    },
    {
      "cell_type": "code",
      "metadata": {
        "id": "FZigPwoqfkuo",
        "outputId": "eaa92557-184a-48d4-e4b0-70e2667a496a",
        "colab": {
          "base_uri": "https://localhost:8080/",
          "height": 190
        }
      },
      "source": [
        "# 6. Repeat\n",
        "for i in range(10): apply_step(params)"
      ],
      "execution_count": 81,
      "outputs": [
        {
          "output_type": "stream",
          "text": [
            "5435.53662109375\n",
            "1577.4495849609375\n",
            "847.3780517578125\n",
            "709.22265625\n",
            "683.0757446289062\n",
            "678.12451171875\n",
            "677.1839599609375\n",
            "677.0025024414062\n",
            "676.96435546875\n",
            "676.9537353515625\n"
          ],
          "name": "stdout"
        }
      ]
    },
    {
      "cell_type": "code",
      "metadata": {
        "id": "HUcALHbBfzPM"
      },
      "source": [
        "params = orig_params.detach().requires_grad_()"
      ],
      "execution_count": 82,
      "outputs": []
    },
    {
      "cell_type": "code",
      "metadata": {
        "id": "hLadmkeFgQ0s",
        "outputId": "e3d73ddc-e23d-4fcb-b4fb-4d14f0d72f0c",
        "colab": {
          "base_uri": "https://localhost:8080/",
          "height": 205
        }
      },
      "source": [
        "# _,axs = plt.subplots(1,4,figsize=(12,3))\n",
        "_, axs = plt.subplots(1,4, figsize = (12,3))\n",
        "for ax in axs: show_preds(apply_step(params, False), ax)\n",
        "plt.tight_layout()"
      ],
      "execution_count": 83,
      "outputs": [
        {
          "output_type": "display_data",
          "data": {
            "image/png": "[encoded data removed]",
            "text/plain": [
              "<Figure size 864x216 with 4 Axes>"
            ]
          },
          "metadata": {
            "tags": [],
            "needs_background": "light"
          }
        }
      ]
    },
    {
      "cell_type": "markdown",
      "metadata": {
        "id": "KvhKa-EmgynT"
      },
      "source": [
        "## Summarizing GD\n"
      ]
    },
    {
      "cell_type": "code",
      "metadata": {
        "id": "pN1ceMrkhhTb",
        "outputId": "011ff4d5-c632-4962-ea7f-17a546b41565",
        "colab": {
          "base_uri": "https://localhost:8080/",
          "height": 145
        }
      },
      "source": [
        "gv('''\n",
        "init->predict->loss->gradient->step->stop\n",
        "step->predict[label=repeat]\n",
        "''')"
      ],
      "execution_count": 84,
      "outputs": [
        {
          "output_type": "execute_result",
          "data": {
            "text/plain": [
              "<graphviz.files.Source at 0x7fb40ece3f28>"
            ],
            "image/svg+xml": "<?xml version=\"1.0\" encoding=\"UTF-8\" standalone=\"no\"?>\n<!DOCTYPE svg PUBLIC \"-//W3C//DTD SVG 1.1//EN\"\n \"http://www.w3.org/Graphics/SVG/1.1/DTD/svg11.dtd\">\n<!-- Generated by graphviz version 2.40.1 (20161225.0304)\n -->\n<!-- Title: G Pages: 1 -->\n<svg width=\"597pt\" height=\"78pt\"\n viewBox=\"0.00 0.00 596.69 78.00\" xmlns=\"http://www.w3.org/2000/svg\" xmlns:xlink=\"http://www.w3.org/1999/xlink\">\n<g id=\"graph0\" class=\"graph\" transform=\"scale(1 1) rotate(0) translate(4 74)\">\n<title>G</title>\n<polygon fill=\"#ffffff\" stroke=\"transparent\" points=\"-4,4 -4,-74 592.6863,-74 592.6863,4 -4,4\"/>\n<!-- init -->\n<g id=\"node1\" class=\"node\">\n<title>init</title>\n<ellipse fill=\"none\" stroke=\"#000000\" cx=\"27\" cy=\"-18\" rx=\"27\" ry=\"18\"/>\n<text text-anchor=\"middle\" x=\"27\" y=\"-14.3\" font-family=\"Times,serif\" font-size=\"14.00\" fill=\"#000000\">init</text>\n</g>\n<!-- predict -->\n<g id=\"node2\" class=\"node\">\n<title>predict</title>\n<ellipse fill=\"none\" stroke=\"#000000\" cx=\"127.3968\" cy=\"-18\" rx=\"36.2938\" ry=\"18\"/>\n<text text-anchor=\"middle\" x=\"127.3968\" y=\"-14.3\" font-family=\"Times,serif\" font-size=\"14.00\" fill=\"#000000\">predict</text>\n</g>\n<!-- init&#45;&gt;predict -->\n<g id=\"edge1\" class=\"edge\">\n<title>init&#45;&gt;predict</title>\n<path fill=\"none\" stroke=\"#000000\" d=\"M54.1688,-18C62.3543,-18 71.5827,-18 80.6596,-18\"/>\n<polygon fill=\"#000000\" stroke=\"#000000\" points=\"80.7795,-21.5001 90.7795,-18 80.7795,-14.5001 80.7795,-21.5001\"/>\n</g>\n<!-- loss -->\n<g id=\"node3\" class=\"node\">\n<title>loss</title>\n<ellipse fill=\"none\" stroke=\"#000000\" cx=\"227.7935\" cy=\"-52\" rx=\"27\" ry=\"18\"/>\n<text text-anchor=\"middle\" x=\"227.7935\" y=\"-48.3\" font-family=\"Times,serif\" font-size=\"14.00\" fill=\"#000000\">loss</text>\n</g>\n<!-- predict&#45;&gt;loss -->\n<g id=\"edge2\" class=\"edge\">\n<title>predict&#45;&gt;loss</title>\n<path fill=\"none\" stroke=\"#000000\" d=\"M157.5191,-28.2011C168.9806,-32.0826 182.1139,-36.5303 193.9014,-40.5222\"/>\n<polygon fill=\"#000000\" stroke=\"#000000\" points=\"192.8259,-43.8532 203.4202,-43.7458 195.0713,-37.2231 192.8259,-43.8532\"/>\n</g>\n<!-- gradient -->\n<g id=\"node4\" class=\"node\">\n<title>gradient</title>\n<ellipse fill=\"none\" stroke=\"#000000\" cx=\"365.7399\" cy=\"-52\" rx=\"40.8928\" ry=\"18\"/>\n<text text-anchor=\"middle\" x=\"365.7399\" y=\"-48.3\" font-family=\"Times,serif\" font-size=\"14.00\" fill=\"#000000\">gradient</text>\n</g>\n<!-- loss&#45;&gt;gradient -->\n<g id=\"edge3\" class=\"edge\">\n<title>loss&#45;&gt;gradient</title>\n<path fill=\"none\" stroke=\"#000000\" d=\"M255.0473,-52C272.0415,-52 294.4481,-52 314.6545,-52\"/>\n<polygon fill=\"#000000\" stroke=\"#000000\" points=\"314.671,-55.5001 324.671,-52 314.671,-48.5001 314.671,-55.5001\"/>\n</g>\n<!-- step -->\n<g id=\"node5\" class=\"node\">\n<title>step</title>\n<ellipse fill=\"none\" stroke=\"#000000\" cx=\"470.6863\" cy=\"-18\" rx=\"27\" ry=\"18\"/>\n<text text-anchor=\"middle\" x=\"470.6863\" y=\"-14.3\" font-family=\"Times,serif\" font-size=\"14.00\" fill=\"#000000\">step</text>\n</g>\n<!-- gradient&#45;&gt;step -->\n<g id=\"edge4\" class=\"edge\">\n<title>gradient&#45;&gt;step</title>\n<path fill=\"none\" stroke=\"#000000\" d=\"M398.9456,-41.2422C410.9558,-37.3512 424.5297,-32.9536 436.6132,-29.0388\"/>\n<polygon fill=\"#000000\" stroke=\"#000000\" points=\"437.9112,-32.2975 446.3457,-25.8857 435.7537,-25.6382 437.9112,-32.2975\"/>\n</g>\n<!-- step&#45;&gt;predict -->\n<g id=\"edge6\" class=\"edge\">\n<title>step&#45;&gt;predict</title>\n<path fill=\"none\" stroke=\"#000000\" d=\"M443.4266,-18C384.9297,-18 246.7861,-18 174.0495,-18\"/>\n<polygon fill=\"#000000\" stroke=\"#000000\" points=\"173.8098,-14.5001 163.8098,-18 173.8097,-21.5001 173.8098,-14.5001\"/>\n<text text-anchor=\"middle\" x=\"289.7935\" y=\"-21.8\" font-family=\"Times,serif\" font-size=\"14.00\" fill=\"#000000\">repeat</text>\n</g>\n<!-- stop -->\n<g id=\"node6\" class=\"node\">\n<title>stop</title>\n<ellipse fill=\"none\" stroke=\"#000000\" cx=\"561.6863\" cy=\"-18\" rx=\"27\" ry=\"18\"/>\n<text text-anchor=\"middle\" x=\"561.6863\" y=\"-14.3\" font-family=\"Times,serif\" font-size=\"14.00\" fill=\"#000000\">stop</text>\n</g>\n<!-- step&#45;&gt;stop -->\n<g id=\"edge5\" class=\"edge\">\n<title>step&#45;&gt;stop</title>\n<path fill=\"none\" stroke=\"#000000\" d=\"M497.9893,-18C506.2676,-18 515.508,-18 524.3268,-18\"/>\n<polygon fill=\"#000000\" stroke=\"#000000\" points=\"524.4026,-21.5001 534.4025,-18 524.4025,-14.5001 524.4026,-21.5001\"/>\n</g>\n</g>\n</svg>\n"
          },
          "metadata": {
            "tags": []
          },
          "execution_count": 84
        }
      ]
    },
    {
      "cell_type": "markdown",
      "metadata": {
        "id": "9X9ncXk8hhxL"
      },
      "source": [
        "# MNIST again"
      ]
    },
    {
      "cell_type": "code",
      "metadata": {
        "id": "mSoTQ6EJnLlO"
      },
      "source": [
        "train_x = torch.cat([stacked3s, stacked7s]).view(-1, 28*28)"
      ],
      "execution_count": 85,
      "outputs": []
    },
    {
      "cell_type": "code",
      "metadata": {
        "id": "vPL1uB7Pn6Ak",
        "outputId": "77aacce7-60c5-42c9-873e-56646f7cd598",
        "colab": {
          "base_uri": "https://localhost:8080/",
          "height": 34
        }
      },
      "source": [
        "train_x.shape"
      ],
      "execution_count": 86,
      "outputs": [
        {
          "output_type": "execute_result",
          "data": {
            "text/plain": [
              "torch.Size([12396, 784])"
            ]
          },
          "metadata": {
            "tags": []
          },
          "execution_count": 86
        }
      ]
    },
    {
      "cell_type": "code",
      "metadata": {
        "id": "DQidwLjUoHTH",
        "outputId": "b56d9c1a-3473-484f-f928-7662e15cbf14",
        "colab": {
          "base_uri": "https://localhost:8080/",
          "height": 34
        }
      },
      "source": [
        "train_y = tensor([1]*len(threes)+[0]*len(sevens)).unsqueeze(1)\n",
        "# chyba: '1' jak jest 3, 0 jak jest 7, czyli wartościvalid\n",
        "train_y.shape"
      ],
      "execution_count": 87,
      "outputs": [
        {
          "output_type": "execute_result",
          "data": {
            "text/plain": [
              "torch.Size([12396, 1])"
            ]
          },
          "metadata": {
            "tags": []
          },
          "execution_count": 87
        }
      ]
    },
    {
      "cell_type": "code",
      "metadata": {
        "id": "XkYQFYABKDyx",
        "outputId": "530c8d79-adf8-4788-b7ae-63972f8b64ad",
        "colab": {
          "base_uri": "https://localhost:8080/",
          "height": 34
        }
      },
      "source": [
        "dataset = list(zip(train_x, train_y))\n",
        "x,y = dataset[0]\n",
        "x.shape, y"
      ],
      "execution_count": 88,
      "outputs": [
        {
          "output_type": "execute_result",
          "data": {
            "text/plain": [
              "(torch.Size([784]), tensor([1]))"
            ]
          },
          "metadata": {
            "tags": []
          },
          "execution_count": 88
        }
      ]
    },
    {
      "cell_type": "code",
      "metadata": {
        "id": "9psuWIw2KbgO"
      },
      "source": [
        "valid_x = torch.cat([valid3Tens, valid7Tens]).view(-1,28*28)\n",
        "valid_y = tensor([1]*len(valid3Tens) + [0]*len(valid7Tens)).unsqueeze(1)"
      ],
      "execution_count": 89,
      "outputs": []
    },
    {
      "cell_type": "code",
      "metadata": {
        "id": "twBQsDhSLWEo"
      },
      "source": [
        "validDataset = list(zip(valid_x, valid_y))"
      ],
      "execution_count": 90,
      "outputs": []
    },
    {
      "cell_type": "markdown",
      "metadata": {
        "id": "RmRx1VhnLkU2"
      },
      "source": [
        "### initialize weights"
      ]
    },
    {
      "cell_type": "code",
      "metadata": {
        "id": "ixlXkHW1Luju"
      },
      "source": [
        "def initParams (size, std = 1.):\n",
        "  return (torch.randn(size)*std).requires_grad_()\n",
        "\n",
        "weights = initParams(28*28,1)"
      ],
      "execution_count": 91,
      "outputs": []
    },
    {
      "cell_type": "code",
      "metadata": {
        "id": "av161M08MSst"
      },
      "source": [
        "# problem: jak pixel value = 0, to parameter * weight też będzie zero. Duuuużo zer."
      ],
      "execution_count": 92,
      "outputs": []
    },
    {
      "cell_type": "code",
      "metadata": {
        "id": "qrRd1MmKMlNM"
      },
      "source": [
        "bias = initParams(1)"
      ],
      "execution_count": 93,
      "outputs": []
    },
    {
      "cell_type": "code",
      "metadata": {
        "id": "mjoJLuLFMwgt",
        "outputId": "68bd95f4-d0d6-47e3-937d-eb40bdac2c42",
        "colab": {
          "base_uri": "https://localhost:8080/",
          "height": 34
        }
      },
      "source": [
        "# prediction for 1st image:\n",
        "(train_x[0]*weights.T).sum() + bias\n",
        "# sum: bo symulując matrix multiplication: tam się wynik mnożenia sumuje, zostaje 1 liczba"
      ],
      "execution_count": 94,
      "outputs": [
        {
          "output_type": "execute_result",
          "data": {
            "text/plain": [
              "tensor([10.3505], grad_fn=<AddBackward0>)"
            ]
          },
          "metadata": {
            "tags": []
          },
          "execution_count": 94
        }
      ]
    },
    {
      "cell_type": "code",
      "metadata": {
        "id": "xlgx_LfvNIz1",
        "outputId": "1e4fd077-c7b4-4274-b360-7e44a84c194b",
        "colab": {
          "base_uri": "https://localhost:8080/",
          "height": 34
        }
      },
      "source": [
        "# predictions:\n",
        "\n",
        "def linear1(xb):\n",
        "  return xb @ weights + bias\n",
        "  # a tu juz nie trzeba sum(), bo jest matrix mult.\n",
        "\n",
        "preds = linear1(train_x)\n",
        "preds"
      ],
      "execution_count": 95,
      "outputs": [
        {
          "output_type": "execute_result",
          "data": {
            "text/plain": [
              "tensor([10.3505,  8.2057, 19.1971,  ...,  8.0449,  4.6226, 21.6269], grad_fn=<AddBackward0>)"
            ]
          },
          "metadata": {
            "tags": []
          },
          "execution_count": 95
        }
      ]
    },
    {
      "cell_type": "code",
      "metadata": {
        "id": "Sd6NMcljOfvu",
        "outputId": "e2c7d168-9284-4361-8a06-8dc2a78d1890",
        "colab": {
          "base_uri": "https://localhost:8080/",
          "height": 34
        }
      },
      "source": [
        "preds[-1]"
      ],
      "execution_count": 96,
      "outputs": [
        {
          "output_type": "execute_result",
          "data": {
            "text/plain": [
              "tensor(21.6269, grad_fn=<SelectBackward>)"
            ]
          },
          "metadata": {
            "tags": []
          },
          "execution_count": 96
        }
      ]
    },
    {
      "cell_type": "code",
      "metadata": {
        "id": "do81H5mnPGmk",
        "outputId": "ea682aa2-3aa9-4788-beb4-6c3cf73bdf0b",
        "colab": {
          "base_uri": "https://localhost:8080/",
          "height": 138
        }
      },
      "source": [
        "# dla przypomnienia: train_y to jedynki i zera\n",
        "corrects = (preds > 0.0).float() == train_y\n",
        "corrects"
      ],
      "execution_count": 97,
      "outputs": [
        {
          "output_type": "execute_result",
          "data": {
            "text/plain": [
              "tensor([[ True,  True,  True,  ...,  True,  True,  True],\n",
              "        [ True,  True,  True,  ...,  True,  True,  True],\n",
              "        [ True,  True,  True,  ...,  True,  True,  True],\n",
              "        ...,\n",
              "        [False, False, False,  ..., False, False, False],\n",
              "        [False, False, False,  ..., False, False, False],\n",
              "        [False, False, False,  ..., False, False, False]])"
            ]
          },
          "metadata": {
            "tags": []
          },
          "execution_count": 97
        }
      ]
    },
    {
      "cell_type": "markdown",
      "metadata": {
        "id": "CyacOh9QSI_u"
      },
      "source": [
        "check the accuracy ;) czyli ile jest true czyli trafnych"
      ]
    },
    {
      "cell_type": "code",
      "metadata": {
        "id": "3nRjNZZ6PTaJ",
        "outputId": "f36bc819-db0f-4143-e358-eb7e6ec631a3",
        "colab": {
          "base_uri": "https://localhost:8080/",
          "height": 34
        }
      },
      "source": [
        "corrects.float().mean()"
      ],
      "execution_count": 98,
      "outputs": [
        {
          "output_type": "execute_result",
          "data": {
            "text/plain": [
              "tensor(0.4946)"
            ]
          },
          "metadata": {
            "tags": []
          },
          "execution_count": 98
        }
      ]
    },
    {
      "cell_type": "code",
      "metadata": {
        "id": "EspRoprjPaKD",
        "outputId": "34c2af4c-e2b7-4124-f707-2afff196c826",
        "colab": {
          "base_uri": "https://localhost:8080/",
          "height": 34
        }
      },
      "source": [
        "corrects.float().mean().item()"
      ],
      "execution_count": 99,
      "outputs": [
        {
          "output_type": "execute_result",
          "data": {
            "text/plain": [
              "0.49464210867881775"
            ]
          },
          "metadata": {
            "tags": []
          },
          "execution_count": 99
        }
      ]
    },
    {
      "cell_type": "markdown",
      "metadata": {
        "id": "j0TlZA_jTBq1"
      },
      "source": [
        "o co chodzi z tym true:"
      ]
    },
    {
      "cell_type": "code",
      "metadata": {
        "id": "zxUE47EVS9_T",
        "outputId": "cd978456-8987-4411-8688-92870fc10751",
        "colab": {
          "base_uri": "https://localhost:8080/",
          "height": 34
        }
      },
      "source": [
        "preds>0.0"
      ],
      "execution_count": 100,
      "outputs": [
        {
          "output_type": "execute_result",
          "data": {
            "text/plain": [
              "tensor([True, True, True,  ..., True, True, True])"
            ]
          },
          "metadata": {
            "tags": []
          },
          "execution_count": 100
        }
      ]
    },
    {
      "cell_type": "code",
      "metadata": {
        "id": "VnQNpwVNRgSM",
        "outputId": "201b2a47-84a7-4104-b42e-837edf8dfd61",
        "colab": {
          "base_uri": "https://localhost:8080/",
          "height": 34
        }
      },
      "source": [
        "(preds>0.0).float()"
      ],
      "execution_count": 101,
      "outputs": [
        {
          "output_type": "execute_result",
          "data": {
            "text/plain": [
              "tensor([1., 1., 1.,  ..., 1., 1., 1.])"
            ]
          },
          "metadata": {
            "tags": []
          },
          "execution_count": 101
        }
      ]
    },
    {
      "cell_type": "code",
      "metadata": {
        "id": "mBxR-yEkStLz"
      },
      "source": [
        "# coś się pogubiłem, bo:\n",
        "# 6 tys. trójek: ma label: '1', siódemki mają label \"0\"\n",
        "# aaa.... czyli ma takie weights wyliczyć (łącznie z ujemnymi), żeby siódemki miały wynik matmul 0 lub mniej \n",
        "# Przy randomowych (chyba wszystkie były dodatnie?) wszystkie matmuls były dodatnie, więc do dupy.\n",
        "# I to jest tylko do tego task: binary classification\n",
        "# w sumie ok"
      ],
      "execution_count": 102,
      "outputs": []
    },
    {
      "cell_type": "markdown",
      "metadata": {
        "id": "KiWc1eg1WYTB"
      },
      "source": [
        "# Loss function in general"
      ]
    },
    {
      "cell_type": "code",
      "metadata": {
        "id": "FQgvDo3UWcvX"
      },
      "source": [
        "prds = tensor([.9, .4, .2])\n",
        "trgts = tensor([1,0,1])"
      ],
      "execution_count": 103,
      "outputs": []
    },
    {
      "cell_type": "code",
      "metadata": {
        "id": "5efQ-IA_Wsa3"
      },
      "source": [
        "def mnistLoss(predictions, targets):\n",
        "  return torch.where(targets == 1, 1-predictions, predictions).mean()\n",
        "  # oblicza error, jeśli target = 1 to error = 1-prediction, jeśli target = 0 to error = prediction"
      ],
      "execution_count": 104,
      "outputs": []
    },
    {
      "cell_type": "code",
      "metadata": {
        "id": "3xHrsFtWZIW9",
        "outputId": "24eb01c2-8937-4a8a-ee07-e6f157ac53e3",
        "colab": {
          "base_uri": "https://localhost:8080/",
          "height": 34
        }
      },
      "source": [
        "torch.where(trgts == 1, 1 - prds, prds)"
      ],
      "execution_count": 105,
      "outputs": [
        {
          "output_type": "execute_result",
          "data": {
            "text/plain": [
              "tensor([0.1000, 0.4000, 0.8000])"
            ]
          },
          "metadata": {
            "tags": []
          },
          "execution_count": 105
        }
      ]
    },
    {
      "cell_type": "code",
      "metadata": {
        "id": "42-_zBHdZXSd",
        "outputId": "4b8541c1-e279-41b4-e08f-3daa574aec5f",
        "colab": {
          "base_uri": "https://localhost:8080/",
          "height": 34
        }
      },
      "source": [
        "mnistLoss(prds, trgts)\n",
        "# (funkcja wylicza z tego mean)"
      ],
      "execution_count": 106,
      "outputs": [
        {
          "output_type": "execute_result",
          "data": {
            "text/plain": [
              "tensor(0.4333)"
            ]
          },
          "metadata": {
            "tags": []
          },
          "execution_count": 106
        }
      ]
    },
    {
      "cell_type": "markdown",
      "metadata": {
        "id": "jJHxEuFzZ1jz"
      },
      "source": [
        "#Sigmoid"
      ]
    },
    {
      "cell_type": "code",
      "metadata": {
        "id": "gKbR4pQGaJ17"
      },
      "source": [
        "def sigmoid(x): return 1/(1+torch.exp(-x))"
      ],
      "execution_count": 107,
      "outputs": []
    },
    {
      "cell_type": "code",
      "metadata": {
        "id": "HehcyPbZbfiF",
        "outputId": "4e101f7e-ef59-4325-acba-86639eb023b9",
        "colab": {
          "base_uri": "https://localhost:8080/",
          "height": 34
        }
      },
      "source": [
        "#lub: \n",
        "torch.sigmoid(tensor([5.]))"
      ],
      "execution_count": 108,
      "outputs": [
        {
          "output_type": "execute_result",
          "data": {
            "text/plain": [
              "tensor([0.9933])"
            ]
          },
          "metadata": {
            "tags": []
          },
          "execution_count": 108
        }
      ]
    },
    {
      "cell_type": "code",
      "metadata": {
        "id": "ruIvW9k3bkO7",
        "outputId": "d14eed46-8e66-44bf-c7d9-d084cfb4803d",
        "colab": {
          "base_uri": "https://localhost:8080/",
          "height": 281
        }
      },
      "source": [
        "plot_function(torch.sigmoid, title = 'sigmoid', min = -4., max = 4)"
      ],
      "execution_count": 109,
      "outputs": [
        {
          "output_type": "display_data",
          "data": {
            "image/png": "[encoded data removed]",
            "text/plain": [
              "<Figure size 432x288 with 1 Axes>"
            ]
          },
          "metadata": {
            "tags": [],
            "needs_background": "light"
          }
        }
      ]
    },
    {
      "cell_type": "code",
      "metadata": {
        "id": "EG9WFPY2b_YZ"
      },
      "source": [
        "#update, predictions are now always between 0 and 1:\n",
        "def mnistLoss (predictions, targets):\n",
        "  predictions = predictions.sigmoid()\n",
        "  return torch.where(targets == 1, 1 - predictions, predictions).mean()"
      ],
      "execution_count": 110,
      "outputs": []
    },
    {
      "cell_type": "code",
      "metadata": {
        "id": "-_-YXUTqc5Sq",
        "outputId": "170a9c17-9c0e-4615-b02f-445fa8b8b84f",
        "colab": {
          "base_uri": "https://localhost:8080/",
          "height": 34
        }
      },
      "source": [
        "tensor([5.9]).sigmoid()"
      ],
      "execution_count": 111,
      "outputs": [
        {
          "output_type": "execute_result",
          "data": {
            "text/plain": [
              "tensor([0.9973])"
            ]
          },
          "metadata": {
            "tags": []
          },
          "execution_count": 111
        }
      ]
    },
    {
      "cell_type": "code",
      "metadata": {
        "id": "vmEXCtZtc8qJ",
        "outputId": "248078ba-60ca-47f4-b648-3d75f6fb0537",
        "colab": {
          "base_uri": "https://localhost:8080/",
          "height": 69
        }
      },
      "source": [
        "torch.arange(9).reshape(3,3)"
      ],
      "execution_count": 112,
      "outputs": [
        {
          "output_type": "execute_result",
          "data": {
            "text/plain": [
              "tensor([[0, 1, 2],\n",
              "        [3, 4, 5],\n",
              "        [6, 7, 8]])"
            ]
          },
          "metadata": {
            "tags": []
          },
          "execution_count": 112
        }
      ]
    },
    {
      "cell_type": "markdown",
      "metadata": {
        "id": "s5pTZFpl4jwX"
      },
      "source": [
        "### mini batches"
      ]
    },
    {
      "cell_type": "code",
      "metadata": {
        "id": "IMGdA_XDpbCW",
        "outputId": "88906531-cdce-48f5-9aa5-8ecad1dd0d6f",
        "colab": {
          "base_uri": "https://localhost:8080/",
          "height": 69
        }
      },
      "source": [
        "coll = range(15)\n",
        "# Dataloader: shuffles & collates / zestawia/ dane w mini batches\n",
        "dl = DataLoader(coll, batch_size=5, shuffle=True)\n",
        "list(dl)"
      ],
      "execution_count": 113,
      "outputs": [
        {
          "output_type": "execute_result",
          "data": {
            "text/plain": [
              "[tensor([ 3, 12,  8, 10,  2]),\n",
              " tensor([ 9,  4,  7, 14,  5]),\n",
              " tensor([ 1, 13,  0,  6, 11])]"
            ]
          },
          "metadata": {
            "tags": []
          },
          "execution_count": 113
        }
      ]
    },
    {
      "cell_type": "code",
      "metadata": {
        "id": "weMKi3DTqtxS",
        "outputId": "13594f84-6fb4-4d5e-cbdb-147ebb8ce2f8",
        "colab": {
          "base_uri": "https://localhost:8080/",
          "height": 34
        }
      },
      "source": [
        "#test\n",
        "list(enumerate('abcd'))"
      ],
      "execution_count": 114,
      "outputs": [
        {
          "output_type": "execute_result",
          "data": {
            "text/plain": [
              "[(0, 'a'), (1, 'b'), (2, 'c'), (3, 'd')]"
            ]
          },
          "metadata": {
            "tags": []
          },
          "execution_count": 114
        }
      ]
    },
    {
      "cell_type": "code",
      "metadata": {
        "id": "Qr_tEJTRpnvV",
        "outputId": "bc52365d-47f9-448d-ce15-e6472fcc8746",
        "colab": {
          "base_uri": "https://localhost:8080/",
          "height": 34
        }
      },
      "source": [
        "#test\n",
        "string.ascii_lowercase"
      ],
      "execution_count": 115,
      "outputs": [
        {
          "output_type": "execute_result",
          "data": {
            "application/vnd.google.colaboratory.intrinsic+json": {
              "type": "string"
            },
            "text/plain": [
              "'abcdefghijklmnopqrstuvwxyz'"
            ]
          },
          "metadata": {
            "tags": []
          },
          "execution_count": 115
        }
      ]
    },
    {
      "cell_type": "code",
      "metadata": {
        "id": "gYJ63I7Rqacc",
        "outputId": "42c6c959-4995-4831-fe72-14bdf07a2463",
        "colab": {
          "base_uri": "https://localhost:8080/",
          "height": 34
        }
      },
      "source": [
        "ds = L(enumerate(string.ascii_lowercase))\n",
        "ds"
      ],
      "execution_count": 116,
      "outputs": [
        {
          "output_type": "execute_result",
          "data": {
            "text/plain": [
              "(#26) [(0, 'a'),(1, 'b'),(2, 'c'),(3, 'd'),(4, 'e'),(5, 'f'),(6, 'g'),(7, 'h'),(8, 'i'),(9, 'j')...]"
            ]
          },
          "metadata": {
            "tags": []
          },
          "execution_count": 116
        }
      ]
    },
    {
      "cell_type": "code",
      "metadata": {
        "id": "It2Ja1wzqw6T",
        "outputId": "20599158-2c4f-4093-eb3c-6a49cb2af72b",
        "colab": {
          "base_uri": "https://localhost:8080/",
          "height": 121
        }
      },
      "source": [
        "dl = DataLoader(ds, batch_size=5, shuffle=True)\n",
        "list(dl)"
      ],
      "execution_count": 117,
      "outputs": [
        {
          "output_type": "execute_result",
          "data": {
            "text/plain": [
              "[(tensor([17, 18, 10, 22,  8]), ('r', 's', 'k', 'w', 'i')),\n",
              " (tensor([14, 20, 15,  9, 13]), ('o', 'u', 'p', 'j', 'n')),\n",
              " (tensor([21, 12,  7, 25,  6]), ('v', 'm', 'h', 'z', 'g')),\n",
              " (tensor([ 5, 11, 23,  1,  3]), ('f', 'l', 'x', 'b', 'd')),\n",
              " (tensor([ 0, 24, 19, 16,  2]), ('a', 'y', 't', 'q', 'c')),\n",
              " (tensor([4]), ('e',))]"
            ]
          },
          "metadata": {
            "tags": []
          },
          "execution_count": 117
        }
      ]
    },
    {
      "cell_type": "markdown",
      "metadata": {
        "id": "QS8jEd1krlqw"
      },
      "source": [
        "# ALL TOGETHGER"
      ]
    },
    {
      "cell_type": "code",
      "metadata": {
        "id": "G6NHC7wpske8"
      },
      "source": [
        "# initialize parameters\n",
        "weights = initParams((28*28, 1))\n",
        "bias = initParams(1)"
      ],
      "execution_count": 118,
      "outputs": []
    },
    {
      "cell_type": "code",
      "metadata": {
        "id": "H7Xy8pPrtLhi",
        "outputId": "933a2542-2400-4511-d622-517a7f78489a",
        "colab": {
          "base_uri": "https://localhost:8080/",
          "height": 34
        }
      },
      "source": [
        "# create dataLoader from Dataset:\n",
        "dl = DataLoader(dataset, batch_size=256)\n",
        "xb, yb = first(dl)\n",
        "xb.shape, yb.shape"
      ],
      "execution_count": 119,
      "outputs": [
        {
          "output_type": "execute_result",
          "data": {
            "text/plain": [
              "(torch.Size([256, 784]), torch.Size([256, 1]))"
            ]
          },
          "metadata": {
            "tags": []
          },
          "execution_count": 119
        }
      ]
    },
    {
      "cell_type": "code",
      "metadata": {
        "id": "qG6CGL_1tc06"
      },
      "source": [
        "?first"
      ],
      "execution_count": 120,
      "outputs": []
    },
    {
      "cell_type": "code",
      "metadata": {
        "id": "Q3TLPqDptkj6"
      },
      "source": [
        "valid_dl = DataLoader(validDataset, batch_size=256)"
      ],
      "execution_count": 121,
      "outputs": []
    },
    {
      "cell_type": "code",
      "metadata": {
        "id": "5oe-90cBt0HL",
        "outputId": "08315540-8e9b-42e0-ef4a-9c7c6837a913",
        "colab": {
          "base_uri": "https://localhost:8080/",
          "height": 34
        }
      },
      "source": [
        "#create mini batches, size 4 for testing\n",
        "batch = train_x[:4]\n",
        "batch.shape"
      ],
      "execution_count": 122,
      "outputs": [
        {
          "output_type": "execute_result",
          "data": {
            "text/plain": [
              "torch.Size([4, 784])"
            ]
          },
          "metadata": {
            "tags": []
          },
          "execution_count": 122
        }
      ]
    },
    {
      "cell_type": "code",
      "metadata": {
        "id": "l6DM3yuMt82r",
        "outputId": "6c4d2d43-c9bd-4404-87bb-f5d894114a80",
        "colab": {
          "base_uri": "https://localhost:8080/",
          "height": 86
        }
      },
      "source": [
        "preds = linear1(batch)\n",
        "preds"
      ],
      "execution_count": 123,
      "outputs": [
        {
          "output_type": "execute_result",
          "data": {
            "text/plain": [
              "tensor([[ -4.2755],\n",
              "        [-14.0871],\n",
              "        [ -6.0096],\n",
              "        [  2.7045]], grad_fn=<AddBackward0>)"
            ]
          },
          "metadata": {
            "tags": []
          },
          "execution_count": 123
        }
      ]
    },
    {
      "cell_type": "code",
      "metadata": {
        "id": "Yyq9Naq6uBPx",
        "outputId": "9775e9f8-0449-4c42-9833-a6a6132d0ad0",
        "colab": {
          "base_uri": "https://localhost:8080/",
          "height": 34
        }
      },
      "source": [
        "loss = mnistLoss(preds, train_y[:4])\n",
        "loss"
      ],
      "execution_count": 124,
      "outputs": [
        {
          "output_type": "execute_result",
          "data": {
            "text/plain": [
              "tensor(0.7616, grad_fn=<MeanBackward0>)"
            ]
          },
          "metadata": {
            "tags": []
          },
          "execution_count": 124
        }
      ]
    },
    {
      "cell_type": "code",
      "metadata": {
        "id": "VQcj_77ouPnx",
        "outputId": "7e599a85-def3-4e03-92ee-87f92aaca698",
        "colab": {
          "base_uri": "https://localhost:8080/",
          "height": 34
        }
      },
      "source": [
        "# calculate gradient\n",
        "loss.backward()\n",
        "weights.grad.shape, weights.grad.mean(), bias.grad"
      ],
      "execution_count": 125,
      "outputs": [
        {
          "output_type": "execute_result",
          "data": {
            "text/plain": [
              "(torch.Size([784, 1]), tensor(-0.0017), tensor([-0.0187]))"
            ]
          },
          "metadata": {
            "tags": []
          },
          "execution_count": 125
        }
      ]
    },
    {
      "cell_type": "markdown",
      "metadata": {
        "id": "hOI7M1FnJGp7"
      },
      "source": [
        ""
      ]
    },
    {
      "cell_type": "code",
      "metadata": {
        "id": "Fulg0QIDug_5"
      },
      "source": [
        "# to samo, w funkcji:\n",
        "def calc_grad(xb, yb, model):\n",
        "  preds = model(xb)\n",
        "  loss = mnistLoss(preds, yb)\n",
        "  #loss backward() adds the gradient of loss to any gradient stored\n",
        "  loss.backward()"
      ],
      "execution_count": 126,
      "outputs": []
    },
    {
      "cell_type": "code",
      "metadata": {
        "id": "QzuIfpHYu2cR",
        "outputId": "50dc9838-00f9-496d-8d4f-5967e3ac2a89",
        "colab": {
          "base_uri": "https://localhost:8080/",
          "height": 34
        }
      },
      "source": [
        "# test the function:\n",
        "calc_grad(batch, train_y[:4], linear1)\n",
        "weights.grad.mean(), bias.grad"
      ],
      "execution_count": 127,
      "outputs": [
        {
          "output_type": "execute_result",
          "data": {
            "text/plain": [
              "(tensor(-0.0034), tensor([-0.0374]))"
            ]
          },
          "metadata": {
            "tags": []
          },
          "execution_count": 127
        }
      ]
    },
    {
      "cell_type": "code",
      "metadata": {
        "id": "x3wEu10mvJ6B",
        "outputId": "79a7e418-9b28-4786-8174-ac63106d9f88",
        "colab": {
          "base_uri": "https://localhost:8080/",
          "height": 34
        }
      },
      "source": [
        "# a teraz gradient = 0\n",
        "weights.grad.zero_()\n",
        "bias.grad.zero_()"
      ],
      "execution_count": 128,
      "outputs": [
        {
          "output_type": "execute_result",
          "data": {
            "text/plain": [
              "tensor([0.])"
            ]
          },
          "metadata": {
            "tags": []
          },
          "execution_count": 128
        }
      ]
    },
    {
      "cell_type": "code",
      "metadata": {
        "id": "R67DtKF31mHd",
        "outputId": "dacd06c5-a513-41ac-b4cb-e5f4399a729c",
        "colab": {
          "base_uri": "https://localhost:8080/",
          "height": 69
        }
      },
      "source": [
        "weights[:3]"
      ],
      "execution_count": 129,
      "outputs": [
        {
          "output_type": "execute_result",
          "data": {
            "text/plain": [
              "tensor([[-0.2206],\n",
              "        [ 0.7118],\n",
              "        [ 0.3416]], grad_fn=<SliceBackward>)"
            ]
          },
          "metadata": {
            "tags": []
          },
          "execution_count": 129
        }
      ]
    },
    {
      "cell_type": "markdown",
      "metadata": {
        "id": "Gh1jDJR-1nRX"
      },
      "source": [
        "# method_\n",
        "Methods in PyTorch whose names end in an underscore modify their objects in place.   \n",
        "For instance, bias.zero_() sets all elements of the tensor bias to 0."
      ]
    },
    {
      "cell_type": "code",
      "metadata": {
        "id": "qXeV5TNe2DM7"
      },
      "source": [
        "#update weights and bias based on gradient and learning rate\n",
        "# + nie przenosić gradientu między batchami, dla każdego to samo ma być take derivative\n",
        "def train_epoch(model, lr, params):\n",
        "  for xb, yb in dl:\n",
        "    for p in params:\n",
        "      p.data -= p.grad*lr\n",
        "      p.grad.zero_()"
      ],
      "execution_count": 130,
      "outputs": []
    },
    {
      "cell_type": "code",
      "metadata": {
        "id": "1DK2XPEy3JND",
        "outputId": "42104740-ac40-4772-f044-f0908e0484f8",
        "colab": {
          "base_uri": "https://localhost:8080/",
          "height": 86
        }
      },
      "source": [
        "(preds>0.0).float() == train_y[:4]"
      ],
      "execution_count": 131,
      "outputs": [
        {
          "output_type": "execute_result",
          "data": {
            "text/plain": [
              "tensor([[False],\n",
              "        [False],\n",
              "        [False],\n",
              "        [ True]])"
            ]
          },
          "metadata": {
            "tags": []
          },
          "execution_count": 131
        }
      ]
    },
    {
      "cell_type": "code",
      "metadata": {
        "id": "LPErmDZb3ZDT"
      },
      "source": [
        "def batch_accuracy(xb, yb):\n",
        "  preds = xb.sigmoid()\n",
        "  correct = (preds>0.5) == yb\n",
        "  return correct.float().mean()"
      ],
      "execution_count": 132,
      "outputs": []
    },
    {
      "cell_type": "code",
      "metadata": {
        "id": "j8BGaS1x3uSc",
        "outputId": "1e59b3b6-c772-4bb7-aa49-8fca9f07d35e",
        "colab": {
          "base_uri": "https://localhost:8080/",
          "height": 34
        }
      },
      "source": [
        "batch_accuracy(linear1(batch), train_y[:4])"
      ],
      "execution_count": 133,
      "outputs": [
        {
          "output_type": "execute_result",
          "data": {
            "text/plain": [
              "tensor(0.2500)"
            ]
          },
          "metadata": {
            "tags": []
          },
          "execution_count": 133
        }
      ]
    },
    {
      "cell_type": "code",
      "metadata": {
        "id": "gwpkynwh34Xz"
      },
      "source": [
        "#together:\n",
        "def validate_epoch(model):\n",
        "  accs = [batch_accuracy(model(xb), yb) for xb, yb in valid_dl]\n",
        "  return round(torch.stack(accs).mean().item(),4)"
      ],
      "execution_count": 134,
      "outputs": []
    },
    {
      "cell_type": "code",
      "metadata": {
        "id": "a9EzBhwU4I_3",
        "outputId": "c3faf2ca-f67f-453d-e4fb-7248b49074d0",
        "colab": {
          "base_uri": "https://localhost:8080/",
          "height": 34
        }
      },
      "source": [
        "validate_epoch(linear1)"
      ],
      "execution_count": 135,
      "outputs": [
        {
          "output_type": "execute_result",
          "data": {
            "text/plain": [
              "0.5263"
            ]
          },
          "metadata": {
            "tags": []
          },
          "execution_count": 135
        }
      ]
    },
    {
      "cell_type": "code",
      "metadata": {
        "id": "_4IDzKaq4MgK",
        "outputId": "5da2c293-167d-4323-8c7c-0cf27dee66b5",
        "colab": {
          "base_uri": "https://localhost:8080/",
          "height": 34
        }
      },
      "source": [
        "# train for 1 epoch:\n",
        "lr = 1.\n",
        "params = weights, bias\n",
        "train_epoch(linear1, lr, params)\n",
        "validate_epoch(linear1)"
      ],
      "execution_count": 136,
      "outputs": [
        {
          "output_type": "execute_result",
          "data": {
            "text/plain": [
              "0.5263"
            ]
          },
          "metadata": {
            "tags": []
          },
          "execution_count": 136
        }
      ]
    },
    {
      "cell_type": "code",
      "metadata": {
        "id": "cuahsjSZ2miS",
        "outputId": "bf289525-0f1f-4629-cedb-309375ca0880",
        "colab": {
          "base_uri": "https://localhost:8080/",
          "height": 54
        }
      },
      "source": [
        "for i in range(20):\n",
        "  train_epoch(linear1, lr, params)\n",
        "  print(validate_epoch(linear1), end = ' ')"
      ],
      "execution_count": 137,
      "outputs": [
        {
          "output_type": "stream",
          "text": [
            "0.5263 0.5263 0.5263 0.5263 0.5263 0.5263 0.5263 0.5263 0.5263 0.5263 0.5263 0.5263 0.5263 0.5263 0.5263 0.5263 0.5263 0.5263 0.5263 0.5263 "
          ],
          "name": "stdout"
        }
      ]
    },
    {
      "cell_type": "markdown",
      "metadata": {
        "id": "G7hf0sfq8j2V"
      },
      "source": [
        "coś się zjebało, poniżej skopiowane bezpośrednio i działa\n",
        "któraś funkcja musi mieć feler\n",
        "\n",
        "---\n",
        "\n",
        "\n",
        "\n",
        "---\n",
        "\n"
      ]
    },
    {
      "cell_type": "markdown",
      "metadata": {
        "id": "8ksIQ6Co3Zc5"
      },
      "source": [
        "## Optimizer"
      ]
    },
    {
      "cell_type": "markdown",
      "metadata": {
        "id": "hP65DEiQ9HKj"
      },
      "source": [
        "`nn.Linear` does the same thing as our init_params and linear together."
      ]
    },
    {
      "cell_type": "code",
      "metadata": {
        "id": "J1Y8YUiW3nFl"
      },
      "source": [
        "linear_model = nn.Linear(28*28,1)"
      ],
      "execution_count": 138,
      "outputs": []
    },
    {
      "cell_type": "code",
      "metadata": {
        "id": "JnLs9ci73v-M",
        "outputId": "c86d7737-eb40-435b-e99e-9661d1713095",
        "colab": {
          "base_uri": "https://localhost:8080/",
          "height": 34
        }
      },
      "source": [
        "w,b = linear_model.parameters()\n",
        "w.shape, b.shape"
      ],
      "execution_count": 139,
      "outputs": [
        {
          "output_type": "execute_result",
          "data": {
            "text/plain": [
              "(torch.Size([1, 784]), torch.Size([1]))"
            ]
          },
          "metadata": {
            "tags": []
          },
          "execution_count": 139
        }
      ]
    },
    {
      "cell_type": "code",
      "metadata": {
        "id": "TkWbkX0a3xHd"
      },
      "source": [
        "# create optimizer:\n",
        "class BasicOptim:\n",
        "  def __init__(self, params, lr):\n",
        "    self.params = params\n",
        "    self.lr = lr\n",
        "\n",
        "  def step(self, *args, **kwargs):\n",
        "    for p in self.params:\n",
        "      p.data -= p.grad.data * self.lr\n",
        "      # parameter - gradient * learning rate\n",
        "    \n",
        "  def zero_grad(self, *args, **kwargs):\n",
        "    for p in self.params:\n",
        "      p.grad = None"
      ],
      "execution_count": 140,
      "outputs": []
    },
    {
      "cell_type": "code",
      "metadata": {
        "id": "hICDEkFMLIEO"
      },
      "source": [
        "nn.Linear??"
      ],
      "execution_count": 141,
      "outputs": []
    },
    {
      "cell_type": "code",
      "metadata": {
        "id": "yHkxT5V93xfS"
      },
      "source": [
        "opt = BasicOptim(linear_model.parameters(), lr)"
      ],
      "execution_count": 142,
      "outputs": []
    },
    {
      "cell_type": "code",
      "metadata": {
        "id": "Y0754TRw3xrs"
      },
      "source": [
        "# training loop:\n",
        "def train_epoch(model):\n",
        "    for xb,yb in dl:\n",
        "        calc_grad(xb, yb, model)\n",
        "        opt.step()\n",
        "        opt.zero_grad()"
      ],
      "execution_count": 143,
      "outputs": []
    },
    {
      "cell_type": "code",
      "metadata": {
        "id": "8XlAprqs3xxn",
        "outputId": "f269d215-8376-4d93-83a3-312df394bbfd",
        "colab": {
          "base_uri": "https://localhost:8080/",
          "height": 34
        }
      },
      "source": [
        "validate_epoch(linear_model)#t"
      ],
      "execution_count": 144,
      "outputs": [
        {
          "output_type": "execute_result",
          "data": {
            "text/plain": [
              "0.4606"
            ]
          },
          "metadata": {
            "tags": []
          },
          "execution_count": 144
        }
      ]
    },
    {
      "cell_type": "code",
      "metadata": {
        "id": "VejD-Zmz3x12"
      },
      "source": [
        "# trainig loop:\n",
        "def train_model(model, epochs):\n",
        "    for i in range(epochs):\n",
        "        train_epoch(model)\n",
        "        print(validate_epoch(model), end=' ')"
      ],
      "execution_count": 145,
      "outputs": []
    },
    {
      "cell_type": "code",
      "metadata": {
        "id": "fTZgRDpC-5AV",
        "outputId": "e4902d8e-60c5-461f-da7a-051582f80f05",
        "colab": {
          "base_uri": "https://localhost:8080/",
          "height": 54
        }
      },
      "source": [
        "train_model(linear_model, 20)"
      ],
      "execution_count": 146,
      "outputs": [
        {
          "output_type": "stream",
          "text": [
            "0.4932 0.4932 0.4932 0.4932 0.4932 0.4932 0.4932 0.4932 0.4932 0.4932 0.4932 0.4932 0.4932 0.4932 0.4932 0.4932 0.4932 0.4932 0.4932 0.4932 "
          ],
          "name": "stdout"
        }
      ]
    },
    {
      "cell_type": "code",
      "metadata": {
        "id": "dnKWZFC6-5ZA",
        "outputId": "76828c06-6cd8-4f58-95ee-eecd02b14dbe",
        "colab": {
          "base_uri": "https://localhost:8080/",
          "height": 54
        }
      },
      "source": [
        "# SGD class in fastai:\n",
        "linear_model = nn.Linear(28*28,1)\n",
        "opt = SGD(linear_model.parameters(), lr)\n",
        "train_model(linear_model, 20)"
      ],
      "execution_count": 147,
      "outputs": [
        {
          "output_type": "stream",
          "text": [
            "0.4932 0.6851 0.8691 0.9224 0.9409 0.9556 0.9629 0.9678 0.9683 0.9697 0.9707 0.9727 0.9727 0.9751 0.9761 0.9766 0.9771 0.9775 0.978 0.9795 "
          ],
          "name": "stdout"
        }
      ]
    },
    {
      "cell_type": "markdown",
      "metadata": {
        "id": "TKnVX-5G-5jo"
      },
      "source": [
        "#fastai way\n",
        "`Learner.fit`, which we can use instead of `train_model`\n",
        "To create a Learner we first need to create a DataLoaders, by passing in our training and validation DataLoaders:"
      ]
    },
    {
      "cell_type": "code",
      "metadata": {
        "id": "EJsl6bH--5pd"
      },
      "source": [
        "dls = DataLoaders(dl, valid_dl)"
      ],
      "execution_count": 148,
      "outputs": []
    },
    {
      "cell_type": "code",
      "metadata": {
        "id": "WcB7dinh-5uK"
      },
      "source": [
        "learn = Learner(dls, nn.Linear(28*28,1), opt_func=SGD, loss_func=mnist_loss, metrics=batch_accuracy)"
      ],
      "execution_count": 152,
      "outputs": []
    },
    {
      "cell_type": "code",
      "metadata": {
        "id": "_ivUo5FI3x53",
        "outputId": "c283eb3c-8cc2-4095-9117-f9e773cebddf",
        "colab": {
          "base_uri": "https://localhost:8080/",
          "height": 343
        }
      },
      "source": [
        "learn.fit(10, lr = lr)"
      ],
      "execution_count": 153,
      "outputs": [
        {
          "output_type": "display_data",
          "data": {
            "text/html": [
              "<table border=\"1\" class=\"dataframe\">\n",
              "  <thead>\n",
              "    <tr style=\"text-align: left;\">\n",
              "      <th>epoch</th>\n",
              "      <th>train_loss</th>\n",
              "      <th>valid_loss</th>\n",
              "      <th>batch_accuracy</th>\n",
              "      <th>time</th>\n",
              "    </tr>\n",
              "  </thead>\n",
              "  <tbody>\n",
              "    <tr>\n",
              "      <td>0</td>\n",
              "      <td>0.635422</td>\n",
              "      <td>0.500849</td>\n",
              "      <td>0.495584</td>\n",
              "      <td>00:00</td>\n",
              "    </tr>\n",
              "    <tr>\n",
              "      <td>1</td>\n",
              "      <td>0.280738</td>\n",
              "      <td>0.308504</td>\n",
              "      <td>0.686948</td>\n",
              "      <td>00:00</td>\n",
              "    </tr>\n",
              "    <tr>\n",
              "      <td>2</td>\n",
              "      <td>0.112160</td>\n",
              "      <td>0.153578</td>\n",
              "      <td>0.860648</td>\n",
              "      <td>00:00</td>\n",
              "    </tr>\n",
              "    <tr>\n",
              "      <td>3</td>\n",
              "      <td>0.055155</td>\n",
              "      <td>0.095200</td>\n",
              "      <td>0.918057</td>\n",
              "      <td>00:00</td>\n",
              "    </tr>\n",
              "    <tr>\n",
              "      <td>4</td>\n",
              "      <td>0.033837</td>\n",
              "      <td>0.070011</td>\n",
              "      <td>0.940137</td>\n",
              "      <td>00:00</td>\n",
              "    </tr>\n",
              "    <tr>\n",
              "      <td>5</td>\n",
              "      <td>0.025293</td>\n",
              "      <td>0.056172</td>\n",
              "      <td>0.953876</td>\n",
              "      <td>00:00</td>\n",
              "    </tr>\n",
              "    <tr>\n",
              "      <td>6</td>\n",
              "      <td>0.021520</td>\n",
              "      <td>0.047704</td>\n",
              "      <td>0.962709</td>\n",
              "      <td>00:00</td>\n",
              "    </tr>\n",
              "    <tr>\n",
              "      <td>7</td>\n",
              "      <td>0.019624</td>\n",
              "      <td>0.042199</td>\n",
              "      <td>0.967615</td>\n",
              "      <td>00:00</td>\n",
              "    </tr>\n",
              "    <tr>\n",
              "      <td>8</td>\n",
              "      <td>0.018528</td>\n",
              "      <td>0.038400</td>\n",
              "      <td>0.968106</td>\n",
              "      <td>00:00</td>\n",
              "    </tr>\n",
              "    <tr>\n",
              "      <td>9</td>\n",
              "      <td>0.017810</td>\n",
              "      <td>0.035633</td>\n",
              "      <td>0.969087</td>\n",
              "      <td>00:00</td>\n",
              "    </tr>\n",
              "  </tbody>\n",
              "</table>"
            ],
            "text/plain": [
              "<IPython.core.display.HTML object>"
            ]
          },
          "metadata": {
            "tags": []
          }
        }
      ]
    },
    {
      "cell_type": "code",
      "metadata": {
        "id": "Pf-IQSXT7Phl",
        "outputId": "7552cccd-49e9-4c6f-c4db-d7bcf78acbed",
        "colab": {
          "base_uri": "https://localhost:8080/",
          "height": 185
        }
      },
      "source": [
        "learn.recorder.values"
      ],
      "execution_count": 155,
      "outputs": [
        {
          "output_type": "execute_result",
          "data": {
            "text/plain": [
              "[(#3) [0.6354224681854248,0.500849187374115,0.4955838918685913],\n",
              " (#3) [0.2807382047176361,0.3085043132305145,0.6869480013847351],\n",
              " (#3) [0.11215972900390625,0.15357795357704163,0.8606476783752441],\n",
              " (#3) [0.05515504255890846,0.0951998382806778,0.9180569052696228],\n",
              " (#3) [0.03383665159344673,0.07001137733459473,0.9401373863220215],\n",
              " (#3) [0.025293011218309402,0.05617167428135872,0.9538763761520386],\n",
              " (#3) [0.02152046002447605,0.04770350456237793,0.9627085328102112],\n",
              " (#3) [0.01962403953075409,0.042199425399303436,0.9676153063774109],\n",
              " (#3) [0.018527846783399582,0.038399938493967056,0.9681059718132019],\n",
              " (#3) [0.01780979335308075,0.03563348203897476,0.9690873622894287]]"
            ]
          },
          "metadata": {
            "tags": []
          },
          "execution_count": 155
        }
      ]
    },
    {
      "cell_type": "code",
      "metadata": {
        "id": "WUBIAfos7q-P",
        "outputId": "4ec12901-bb83-440a-b361-def232766f91",
        "colab": {
          "base_uri": "https://localhost:8080/",
          "height": 34
        }
      },
      "source": [
        "learn.model"
      ],
      "execution_count": 156,
      "outputs": [
        {
          "output_type": "execute_result",
          "data": {
            "text/plain": [
              "Linear(in_features=784, out_features=1, bias=True)"
            ]
          },
          "metadata": {
            "tags": []
          },
          "execution_count": 156
        }
      ]
    },
    {
      "cell_type": "code",
      "metadata": {
        "id": "sjw6A1v27rxz"
      },
      "source": [
        ""
      ],
      "execution_count": null,
      "outputs": []
    },
    {
      "cell_type": "code",
      "metadata": {
        "id": "6ylHjFva7r4p"
      },
      "source": [
        ""
      ],
      "execution_count": null,
      "outputs": []
    },
    {
      "cell_type": "markdown",
      "metadata": {
        "id": "CpLHnN7U3x9W"
      },
      "source": [
        "# Nonlinearity"
      ]
    },
    {
      "cell_type": "code",
      "metadata": {
        "id": "psMCIKBpDpvi"
      },
      "source": [
        "def simple_net(xb):\n",
        "  res = xb @ w1 + b1\n",
        "  print(res)\n",
        "  # rectified linear unit, RELu, = replace any negative value with a zero  (F.relu)\n",
        "  res = res.max(tensor(0.0))\n",
        "  print(res)\n",
        "  res = res @ w2 + b2\n",
        "  return res\n"
      ],
      "execution_count": 157,
      "outputs": []
    },
    {
      "cell_type": "code",
      "metadata": {
        "id": "NvwK5uzADp2f"
      },
      "source": [
        "w1 = init_params((28*28, 30))\n",
        "b1 = init_params(30)\n",
        "w2 = init_params(30,1)\n",
        "b2 = init_params(1)"
      ],
      "execution_count": 165,
      "outputs": []
    },
    {
      "cell_type": "code",
      "metadata": {
        "id": "Dog6uQmbDp6m",
        "outputId": "5c5a90ab-2a07-4a15-b6a6-cc240e879566",
        "colab": {
          "base_uri": "https://localhost:8080/",
          "height": 265
        }
      },
      "source": [
        "plot_function(F.relu)"
      ],
      "execution_count": 166,
      "outputs": [
        {
          "output_type": "display_data",
          "data": {
            "image/png": "[encoded data removed]",
            "text/plain": [
              "<Figure size 432x288 with 1 Axes>"
            ]
          },
          "metadata": {
            "tags": [],
            "needs_background": "light"
          }
        }
      ]
    },
    {
      "cell_type": "code",
      "metadata": {
        "id": "QqgGLfwpDqDA"
      },
      "source": [
        "# nn.Sequential creates a module that will call each of the listed layers or functions in turn.\n",
        "simple_net = nn.Sequential(\n",
        "    nn.Linear(28*28,30),\n",
        "    nn.ReLU(),\n",
        "    nn.Linear(30,1)\n",
        ")"
      ],
      "execution_count": 160,
      "outputs": []
    },
    {
      "cell_type": "code",
      "metadata": {
        "id": "-6khHJinDqFo"
      },
      "source": [
        "learn = Learner(dls, simple_net, opt_func=SGD, loss_func=mnist_loss, metrics=batch_accuracy)"
      ],
      "execution_count": 161,
      "outputs": []
    },
    {
      "cell_type": "code",
      "metadata": {
        "id": "Pyj47D4QDqLg",
        "outputId": "2643af9a-8601-491a-cf9e-928b4a2438db",
        "colab": {
          "base_uri": "https://localhost:8080/",
          "height": 1000
        }
      },
      "source": [
        "learn.fit(40,.1)"
      ],
      "execution_count": 162,
      "outputs": [
        {
          "output_type": "display_data",
          "data": {
            "text/html": [
              "<table border=\"1\" class=\"dataframe\">\n",
              "  <thead>\n",
              "    <tr style=\"text-align: left;\">\n",
              "      <th>epoch</th>\n",
              "      <th>train_loss</th>\n",
              "      <th>valid_loss</th>\n",
              "      <th>batch_accuracy</th>\n",
              "      <th>time</th>\n",
              "    </tr>\n",
              "  </thead>\n",
              "  <tbody>\n",
              "    <tr>\n",
              "      <td>0</td>\n",
              "      <td>0.295326</td>\n",
              "      <td>0.412019</td>\n",
              "      <td>0.505397</td>\n",
              "      <td>00:00</td>\n",
              "    </tr>\n",
              "    <tr>\n",
              "      <td>1</td>\n",
              "      <td>0.140174</td>\n",
              "      <td>0.215663</td>\n",
              "      <td>0.821884</td>\n",
              "      <td>00:00</td>\n",
              "    </tr>\n",
              "    <tr>\n",
              "      <td>2</td>\n",
              "      <td>0.078845</td>\n",
              "      <td>0.107331</td>\n",
              "      <td>0.921982</td>\n",
              "      <td>00:00</td>\n",
              "    </tr>\n",
              "    <tr>\n",
              "      <td>3</td>\n",
              "      <td>0.052558</td>\n",
              "      <td>0.072781</td>\n",
              "      <td>0.945535</td>\n",
              "      <td>00:00</td>\n",
              "    </tr>\n",
              "    <tr>\n",
              "      <td>4</td>\n",
              "      <td>0.040250</td>\n",
              "      <td>0.057220</td>\n",
              "      <td>0.960255</td>\n",
              "      <td>00:00</td>\n",
              "    </tr>\n",
              "    <tr>\n",
              "      <td>5</td>\n",
              "      <td>0.033854</td>\n",
              "      <td>0.048607</td>\n",
              "      <td>0.965162</td>\n",
              "      <td>00:00</td>\n",
              "    </tr>\n",
              "    <tr>\n",
              "      <td>6</td>\n",
              "      <td>0.030120</td>\n",
              "      <td>0.043222</td>\n",
              "      <td>0.966634</td>\n",
              "      <td>00:00</td>\n",
              "    </tr>\n",
              "    <tr>\n",
              "      <td>7</td>\n",
              "      <td>0.027677</td>\n",
              "      <td>0.039555</td>\n",
              "      <td>0.968597</td>\n",
              "      <td>00:00</td>\n",
              "    </tr>\n",
              "    <tr>\n",
              "      <td>8</td>\n",
              "      <td>0.025918</td>\n",
              "      <td>0.036895</td>\n",
              "      <td>0.969578</td>\n",
              "      <td>00:00</td>\n",
              "    </tr>\n",
              "    <tr>\n",
              "      <td>9</td>\n",
              "      <td>0.024558</td>\n",
              "      <td>0.034872</td>\n",
              "      <td>0.972031</td>\n",
              "      <td>00:00</td>\n",
              "    </tr>\n",
              "    <tr>\n",
              "      <td>10</td>\n",
              "      <td>0.023454</td>\n",
              "      <td>0.033274</td>\n",
              "      <td>0.973503</td>\n",
              "      <td>00:00</td>\n",
              "    </tr>\n",
              "    <tr>\n",
              "      <td>11</td>\n",
              "      <td>0.022530</td>\n",
              "      <td>0.031964</td>\n",
              "      <td>0.973503</td>\n",
              "      <td>00:00</td>\n",
              "    </tr>\n",
              "    <tr>\n",
              "      <td>12</td>\n",
              "      <td>0.021738</td>\n",
              "      <td>0.030863</td>\n",
              "      <td>0.973994</td>\n",
              "      <td>00:00</td>\n",
              "    </tr>\n",
              "    <tr>\n",
              "      <td>13</td>\n",
              "      <td>0.021049</td>\n",
              "      <td>0.029912</td>\n",
              "      <td>0.975466</td>\n",
              "      <td>00:00</td>\n",
              "    </tr>\n",
              "    <tr>\n",
              "      <td>14</td>\n",
              "      <td>0.020443</td>\n",
              "      <td>0.029075</td>\n",
              "      <td>0.975957</td>\n",
              "      <td>00:00</td>\n",
              "    </tr>\n",
              "    <tr>\n",
              "      <td>15</td>\n",
              "      <td>0.019903</td>\n",
              "      <td>0.028327</td>\n",
              "      <td>0.976938</td>\n",
              "      <td>00:00</td>\n",
              "    </tr>\n",
              "    <tr>\n",
              "      <td>16</td>\n",
              "      <td>0.019420</td>\n",
              "      <td>0.027653</td>\n",
              "      <td>0.977429</td>\n",
              "      <td>00:00</td>\n",
              "    </tr>\n",
              "    <tr>\n",
              "      <td>17</td>\n",
              "      <td>0.018982</td>\n",
              "      <td>0.027040</td>\n",
              "      <td>0.978410</td>\n",
              "      <td>00:00</td>\n",
              "    </tr>\n",
              "    <tr>\n",
              "      <td>18</td>\n",
              "      <td>0.018585</td>\n",
              "      <td>0.026479</td>\n",
              "      <td>0.978410</td>\n",
              "      <td>00:00</td>\n",
              "    </tr>\n",
              "    <tr>\n",
              "      <td>19</td>\n",
              "      <td>0.018221</td>\n",
              "      <td>0.025964</td>\n",
              "      <td>0.978410</td>\n",
              "      <td>00:00</td>\n",
              "    </tr>\n",
              "    <tr>\n",
              "      <td>20</td>\n",
              "      <td>0.017886</td>\n",
              "      <td>0.025489</td>\n",
              "      <td>0.979882</td>\n",
              "      <td>00:00</td>\n",
              "    </tr>\n",
              "    <tr>\n",
              "      <td>21</td>\n",
              "      <td>0.017577</td>\n",
              "      <td>0.025052</td>\n",
              "      <td>0.979882</td>\n",
              "      <td>00:00</td>\n",
              "    </tr>\n",
              "    <tr>\n",
              "      <td>22</td>\n",
              "      <td>0.017290</td>\n",
              "      <td>0.024647</td>\n",
              "      <td>0.979882</td>\n",
              "      <td>00:00</td>\n",
              "    </tr>\n",
              "    <tr>\n",
              "      <td>23</td>\n",
              "      <td>0.017023</td>\n",
              "      <td>0.024273</td>\n",
              "      <td>0.979392</td>\n",
              "      <td>00:00</td>\n",
              "    </tr>\n",
              "    <tr>\n",
              "      <td>24</td>\n",
              "      <td>0.016773</td>\n",
              "      <td>0.023926</td>\n",
              "      <td>0.980373</td>\n",
              "      <td>00:00</td>\n",
              "    </tr>\n",
              "    <tr>\n",
              "      <td>25</td>\n",
              "      <td>0.016539</td>\n",
              "      <td>0.023603</td>\n",
              "      <td>0.980373</td>\n",
              "      <td>00:00</td>\n",
              "    </tr>\n",
              "    <tr>\n",
              "      <td>26</td>\n",
              "      <td>0.016318</td>\n",
              "      <td>0.023302</td>\n",
              "      <td>0.980373</td>\n",
              "      <td>00:00</td>\n",
              "    </tr>\n",
              "    <tr>\n",
              "      <td>27</td>\n",
              "      <td>0.016111</td>\n",
              "      <td>0.023020</td>\n",
              "      <td>0.980373</td>\n",
              "      <td>00:00</td>\n",
              "    </tr>\n",
              "    <tr>\n",
              "      <td>28</td>\n",
              "      <td>0.015914</td>\n",
              "      <td>0.022756</td>\n",
              "      <td>0.980373</td>\n",
              "      <td>00:00</td>\n",
              "    </tr>\n",
              "    <tr>\n",
              "      <td>29</td>\n",
              "      <td>0.015729</td>\n",
              "      <td>0.022508</td>\n",
              "      <td>0.980373</td>\n",
              "      <td>00:00</td>\n",
              "    </tr>\n",
              "    <tr>\n",
              "      <td>30</td>\n",
              "      <td>0.015553</td>\n",
              "      <td>0.022275</td>\n",
              "      <td>0.979882</td>\n",
              "      <td>00:00</td>\n",
              "    </tr>\n",
              "    <tr>\n",
              "      <td>31</td>\n",
              "      <td>0.015385</td>\n",
              "      <td>0.022054</td>\n",
              "      <td>0.980373</td>\n",
              "      <td>00:00</td>\n",
              "    </tr>\n",
              "    <tr>\n",
              "      <td>32</td>\n",
              "      <td>0.015226</td>\n",
              "      <td>0.021844</td>\n",
              "      <td>0.980864</td>\n",
              "      <td>00:00</td>\n",
              "    </tr>\n",
              "    <tr>\n",
              "      <td>33</td>\n",
              "      <td>0.015074</td>\n",
              "      <td>0.021645</td>\n",
              "      <td>0.980864</td>\n",
              "      <td>00:00</td>\n",
              "    </tr>\n",
              "    <tr>\n",
              "      <td>34</td>\n",
              "      <td>0.014930</td>\n",
              "      <td>0.021456</td>\n",
              "      <td>0.980864</td>\n",
              "      <td>00:00</td>\n",
              "    </tr>\n",
              "    <tr>\n",
              "      <td>35</td>\n",
              "      <td>0.014791</td>\n",
              "      <td>0.021275</td>\n",
              "      <td>0.980864</td>\n",
              "      <td>00:00</td>\n",
              "    </tr>\n",
              "    <tr>\n",
              "      <td>36</td>\n",
              "      <td>0.014658</td>\n",
              "      <td>0.021103</td>\n",
              "      <td>0.980864</td>\n",
              "      <td>00:00</td>\n",
              "    </tr>\n",
              "    <tr>\n",
              "      <td>37</td>\n",
              "      <td>0.014531</td>\n",
              "      <td>0.020938</td>\n",
              "      <td>0.980864</td>\n",
              "      <td>00:00</td>\n",
              "    </tr>\n",
              "    <tr>\n",
              "      <td>38</td>\n",
              "      <td>0.014408</td>\n",
              "      <td>0.020780</td>\n",
              "      <td>0.981354</td>\n",
              "      <td>00:00</td>\n",
              "    </tr>\n",
              "    <tr>\n",
              "      <td>39</td>\n",
              "      <td>0.014290</td>\n",
              "      <td>0.020628</td>\n",
              "      <td>0.981354</td>\n",
              "      <td>00:00</td>\n",
              "    </tr>\n",
              "  </tbody>\n",
              "</table>"
            ],
            "text/plain": [
              "<IPython.core.display.HTML object>"
            ]
          },
          "metadata": {
            "tags": []
          }
        }
      ]
    },
    {
      "cell_type": "code",
      "metadata": {
        "id": "JrYgmzdFDqOb",
        "outputId": "44e05465-a7e1-48e4-f316-bcfff7cde9e8",
        "colab": {
          "base_uri": "https://localhost:8080/",
          "height": 101
        }
      },
      "source": [
        "learn.recorder.values[:5]\n",
        "# chyba: train loss, valid loss, accuracy"
      ],
      "execution_count": 180,
      "outputs": [
        {
          "output_type": "execute_result",
          "data": {
            "text/plain": [
              "[(#3) [0.2953261733055115,0.41201910376548767,0.5053974390029907],\n",
              " (#3) [0.14017364382743835,0.2156628966331482,0.8218842148780823],\n",
              " (#3) [0.07884465903043747,0.10733084380626678,0.9219823479652405],\n",
              " (#3) [0.052557531744241714,0.07278069108724594,0.9455348253250122],\n",
              " (#3) [0.040249619632959366,0.0572204664349556,0.9602551460266113]]"
            ]
          },
          "metadata": {
            "tags": []
          },
          "execution_count": 180
        }
      ]
    },
    {
      "cell_type": "code",
      "metadata": {
        "id": "LlmCBqbi3yBq",
        "outputId": "f9f34abe-9e7a-4920-8b57-a9097c70df68",
        "colab": {
          "base_uri": "https://localhost:8080/",
          "height": 54
        }
      },
      "source": [
        "L(learn.recorder.values).itemgot(2) # (2) czyli 3 parametr, to chyba jest accuracy"
      ],
      "execution_count": 167,
      "outputs": [
        {
          "output_type": "execute_result",
          "data": {
            "text/plain": [
              "(#40) [0.5053974390029907,0.8218842148780823,0.9219823479652405,0.9455348253250122,0.9602551460266113,0.965161919593811,0.9666339755058289,0.9685966372489929,0.9695780277252197,0.9720314145088196...]"
            ]
          },
          "metadata": {
            "tags": []
          },
          "execution_count": 167
        }
      ]
    },
    {
      "cell_type": "code",
      "metadata": {
        "id": "Q_MFrS3vN4LJ",
        "outputId": "e7d3eacd-1161-4d3c-f184-97d8fd8cbc60",
        "colab": {
          "base_uri": "https://localhost:8080/",
          "height": 284
        }
      },
      "source": [
        "plt.plot(L(learn.recorder.values).itemgot(2))"
      ],
      "execution_count": 168,
      "outputs": [
        {
          "output_type": "execute_result",
          "data": {
            "text/plain": [
              "[<matplotlib.lines.Line2D at 0x7fb40be00cc0>]"
            ]
          },
          "metadata": {
            "tags": []
          },
          "execution_count": 168
        },
        {
          "output_type": "display_data",
          "data": {
            "image/png": "[encoded data removed]",
            "text/plain": [
              "<Figure size 432x288 with 1 Axes>"
            ]
          },
          "metadata": {
            "tags": [],
            "needs_background": "light"
          }
        }
      ]
    },
    {
      "cell_type": "code",
      "metadata": {
        "id": "xoCZ6pcwN4XN",
        "outputId": "d626c770-405a-4201-ea30-86e137df610f",
        "colab": {
          "base_uri": "https://localhost:8080/",
          "height": 34
        }
      },
      "source": [
        "learn.recorder.values[-1][2]"
      ],
      "execution_count": 169,
      "outputs": [
        {
          "output_type": "execute_result",
          "data": {
            "text/plain": [
              "0.981354296207428"
            ]
          },
          "metadata": {
            "tags": []
          },
          "execution_count": 169
        }
      ]
    },
    {
      "cell_type": "code",
      "metadata": {
        "id": "CB30B6lG8e0k"
      },
      "source": [
        "# retrieve parameters z danej epoch"
      ],
      "execution_count": 170,
      "outputs": []
    },
    {
      "cell_type": "code",
      "metadata": {
        "id": "IPMzdVqk8fDc",
        "outputId": "5b79c420-387d-451c-cac1-aefe4940191b",
        "colab": {
          "base_uri": "https://localhost:8080/",
          "height": 101
        }
      },
      "source": [
        "learn.model"
      ],
      "execution_count": 171,
      "outputs": [
        {
          "output_type": "execute_result",
          "data": {
            "text/plain": [
              "Sequential(\n",
              "  (0): Linear(in_features=784, out_features=30, bias=True)\n",
              "  (1): ReLU()\n",
              "  (2): Linear(in_features=30, out_features=1, bias=True)\n",
              ")"
            ]
          },
          "metadata": {
            "tags": []
          },
          "execution_count": 171
        }
      ]
    },
    {
      "cell_type": "code",
      "metadata": {
        "id": "uHcO-10L8e_J",
        "outputId": "f74ad5f6-2420-44a4-cbd5-546bb8112405",
        "colab": {
          "base_uri": "https://localhost:8080/",
          "height": 34
        }
      },
      "source": [
        "learn.model[2]"
      ],
      "execution_count": 172,
      "outputs": [
        {
          "output_type": "execute_result",
          "data": {
            "text/plain": [
              "Linear(in_features=30, out_features=1, bias=True)"
            ]
          },
          "metadata": {
            "tags": []
          },
          "execution_count": 172
        }
      ]
    },
    {
      "cell_type": "code",
      "metadata": {
        "id": "jgsB46FM8e6m",
        "outputId": "fd64c740-8c72-4615-d412-96449e133535",
        "colab": {
          "base_uri": "https://localhost:8080/",
          "height": 101
        }
      },
      "source": [
        "m = learn.model\n",
        "m"
      ],
      "execution_count": 173,
      "outputs": [
        {
          "output_type": "execute_result",
          "data": {
            "text/plain": [
              "Sequential(\n",
              "  (0): Linear(in_features=784, out_features=30, bias=True)\n",
              "  (1): ReLU()\n",
              "  (2): Linear(in_features=30, out_features=1, bias=True)\n",
              ")"
            ]
          },
          "metadata": {
            "tags": []
          },
          "execution_count": 173
        }
      ]
    },
    {
      "cell_type": "code",
      "metadata": {
        "id": "G4tRHodjN4bu",
        "outputId": "7ec41c17-10f5-417c-993e-4fa82c676ac3",
        "colab": {
          "base_uri": "https://localhost:8080/",
          "height": 34
        }
      },
      "source": [
        "m[0]"
      ],
      "execution_count": 181,
      "outputs": [
        {
          "output_type": "execute_result",
          "data": {
            "text/plain": [
              "Linear(in_features=784, out_features=30, bias=True)"
            ]
          },
          "metadata": {
            "tags": []
          },
          "execution_count": 181
        }
      ]
    },
    {
      "cell_type": "code",
      "metadata": {
        "id": "OsrwEe3G85ly",
        "outputId": "36415e06-a911-4bb2-cd12-548022157cda",
        "colab": {
          "base_uri": "https://localhost:8080/",
          "height": 34
        }
      },
      "source": [
        "m[0].parameters()"
      ],
      "execution_count": 176,
      "outputs": [
        {
          "output_type": "execute_result",
          "data": {
            "text/plain": [
              "<generator object Module.parameters at 0x7fb403b9d410>"
            ]
          },
          "metadata": {
            "tags": []
          },
          "execution_count": 176
        }
      ]
    },
    {
      "cell_type": "code",
      "metadata": {
        "id": "KeBnwtrt856O"
      },
      "source": [
        "w, b = m[0].parameters()"
      ],
      "execution_count": 182,
      "outputs": []
    },
    {
      "cell_type": "code",
      "metadata": {
        "id": "KZOo89wd8518",
        "outputId": "19d2bd83-acf3-4c63-8fa1-83742d03dd4b",
        "colab": {
          "base_uri": "https://localhost:8080/",
          "height": 34
        }
      },
      "source": [
        "w.shape, b.shape"
      ],
      "execution_count": 183,
      "outputs": [
        {
          "output_type": "execute_result",
          "data": {
            "text/plain": [
              "(torch.Size([30, 784]), torch.Size([30]))"
            ]
          },
          "metadata": {
            "tags": []
          },
          "execution_count": 183
        }
      ]
    },
    {
      "cell_type": "code",
      "metadata": {
        "id": "mSiiJtJX85xw",
        "outputId": "3440285d-2af6-4760-e055-3a3f5c48c06b",
        "colab": {
          "base_uri": "https://localhost:8080/",
          "height": 50
        }
      },
      "source": [
        "b"
      ],
      "execution_count": 177,
      "outputs": [
        {
          "output_type": "execute_result",
          "data": {
            "text/plain": [
              "Parameter containing:\n",
              "tensor([0.2542], requires_grad=True)"
            ]
          },
          "metadata": {
            "tags": []
          },
          "execution_count": 177
        }
      ]
    },
    {
      "cell_type": "code",
      "metadata": {
        "id": "TUBzAgCR85v1",
        "outputId": "406358ef-97d7-4bf3-8892-dddbde5e2e02",
        "colab": {
          "base_uri": "https://localhost:8080/",
          "height": 1000
        }
      },
      "source": [
        "w"
      ],
      "execution_count": 179,
      "outputs": [
        {
          "output_type": "execute_result",
          "data": {
            "text/plain": [
              "Parameter containing:\n",
              "tensor([[ 1.1249e-03,  2.6239e-02,  2.2575e-02,  3.5275e-02, -1.0235e-02,  1.4132e-02,  2.4938e-02, -2.4243e-02,  7.0950e-03, -7.9912e-03,  2.2958e-02, -1.6040e-02,  2.5049e-03,  2.1368e-02,\n",
              "         -3.2718e-02, -3.0156e-02, -1.8292e-02,  2.2908e-02,  2.3947e-02, -2.4392e-02,  6.8103e-03, -1.8924e-02, -1.6577e-02,  3.0801e-02,  1.7250e-02, -9.7672e-03,  5.2572e-03,  6.9199e-03,\n",
              "          8.3658e-03, -1.2224e-02, -2.1032e-02,  2.3645e-02,  4.7990e-03,  1.4948e-02, -1.3526e-02,  1.7299e-02,  2.5992e-02,  2.1720e-02,  9.7106e-03,  3.5139e-02, -7.8108e-05,  7.6035e-03,\n",
              "          3.3933e-02,  3.4711e-02, -1.5079e-02,  3.2172e-02,  1.3181e-02, -3.9978e-03,  3.1184e-02, -1.8501e-02,  2.3205e-02,  3.5391e-02, -2.4632e-02, -2.1075e-02, -3.5390e-02, -6.4272e-03,\n",
              "         -3.2436e-02, -1.1961e-02,  1.0843e-02,  2.5246e-02,  1.9894e-02,  1.9824e-02,  1.4817e-02, -2.2151e-02, -2.8357e-02,  1.4805e-03,  3.3914e-02,  2.0109e-03, -3.0718e-03, -2.3652e-02,\n",
              "         -1.6833e-02, -2.7174e-02,  2.8595e-02, -5.8189e-03, -3.1550e-02,  3.8312e-03,  2.5917e-03, -4.4125e-03,  1.2784e-02,  1.9206e-02, -3.3586e-02, -2.7360e-02, -1.7157e-03, -3.3112e-02,\n",
              "         -3.2441e-02,  3.1533e-02, -2.7164e-03, -1.7657e-02, -1.2251e-02, -2.7713e-02,  2.8752e-02, -6.7827e-03, -1.9118e-02, -2.6121e-02,  2.2570e-02, -1.0903e-03,  2.2751e-03,  3.6430e-04,\n",
              "         -6.2175e-03,  1.6591e-02,  3.6846e-02, -1.4402e-02,  4.3082e-03, -2.6442e-02, -1.6692e-02,  3.1349e-02,  3.7447e-04,  3.4404e-02, -6.2573e-03, -1.9466e-02, -2.1339e-02,  3.1654e-02,\n",
              "         -2.7464e-02,  1.8743e-02,  8.8779e-03,  1.0540e-02,  2.0151e-02, -8.8731e-03,  2.4373e-02, -2.4492e-02, -1.4318e-03,  4.7342e-02,  4.5202e-02,  4.2048e-02,  4.9033e-02,  4.5193e-02,\n",
              "          9.1058e-02,  6.1974e-02,  4.8250e-02,  4.6367e-02,  5.2985e-02, -2.4656e-03, -4.5974e-03,  2.5241e-02,  2.0222e-02, -1.7569e-02, -3.5331e-02,  6.6254e-03,  1.8782e-02,  8.5306e-03,\n",
              "          2.5333e-02, -2.8338e-02,  1.8010e-02, -2.2203e-02,  2.0554e-02,  3.0649e-02,  2.2427e-02,  5.1583e-02,  2.0112e-02,  3.4737e-02,  6.4225e-02,  1.5325e-01,  1.6377e-01,  1.3590e-01,\n",
              "          1.7578e-01,  1.7855e-01,  8.6474e-02,  1.1633e-01,  7.3507e-02,  5.1765e-02,  6.1198e-02,  4.1425e-02,  1.7705e-02,  2.8799e-02,  1.4858e-02,  5.8193e-03, -3.1393e-02,  6.6708e-03,\n",
              "         -2.5409e-02,  1.1010e-02,  6.3241e-03,  1.2030e-03, -1.8255e-02, -7.0842e-03,  5.2775e-02,  6.7734e-02,  9.8128e-02,  9.3086e-02,  1.2516e-01,  1.4639e-01,  1.9205e-01,  1.5878e-01,\n",
              "          2.0349e-01,  2.0950e-01,  1.3788e-01,  1.3939e-01,  9.6717e-02,  5.7771e-02,  6.8942e-02,  1.5179e-02,  3.6786e-02, -2.0997e-02,  1.6594e-02, -3.0493e-02, -1.7901e-02,  2.4362e-03,\n",
              "          2.8218e-02,  1.8933e-02, -2.9039e-02,  6.4218e-03, -1.0721e-02,  2.0359e-02,  8.0946e-03,  5.2485e-02,  1.1033e-01,  6.6270e-02,  7.8806e-02,  1.2698e-01,  1.2471e-01,  1.1404e-01,\n",
              "          1.6270e-01,  1.3423e-01,  1.3825e-01,  1.1485e-01,  1.1221e-01,  8.6670e-02,  8.7788e-02,  2.6062e-02,  2.0627e-02, -1.2545e-02,  2.8990e-02,  3.0108e-02, -3.1985e-02, -9.1786e-03,\n",
              "         -3.0303e-02,  1.5172e-02, -3.0627e-02, -1.2983e-02,  4.7513e-02, -1.2932e-02,  6.2413e-02,  5.3124e-02,  9.1293e-02,  4.8888e-02,  9.4096e-02,  7.3823e-02,  7.2079e-02,  9.9022e-02,\n",
              "          5.8533e-02,  9.6384e-02,  1.7053e-01,  1.1802e-01,  9.4729e-02,  9.8025e-02,  5.6960e-02,  2.4964e-02, -1.3609e-02,  1.5483e-02, -3.0648e-02,  2.8926e-03,  2.0841e-02,  6.8620e-03,\n",
              "          4.7454e-03,  5.2237e-03, -1.0440e-02, -5.4905e-03, -7.1828e-03, -9.2130e-03,  5.8458e-03,  6.4628e-02,  2.6178e-02,  4.7692e-02,  6.2792e-02,  3.3517e-02,  2.4409e-02,  3.4627e-02,\n",
              "          7.3004e-02,  1.3232e-01,  1.0658e-01,  1.3233e-01,  1.3305e-01,  1.2300e-01,  6.7019e-02,  3.3022e-02,  3.3551e-02,  1.8695e-02,  1.2098e-02, -1.1073e-02, -2.8639e-02, -7.7144e-03,\n",
              "         -6.4773e-03,  2.6228e-03, -3.9279e-03,  1.4439e-02,  2.6662e-02, -7.7553e-03, -2.3301e-02, -3.5926e-03, -1.7636e-03,  3.8335e-02, -3.1981e-03,  2.8409e-02,  4.4497e-02,  5.7492e-02,\n",
              "          1.3260e-01,  1.3046e-01,  1.5337e-01,  1.1433e-01,  1.0845e-01,  8.2042e-02,  3.7887e-02,  2.6078e-03,  1.5273e-02, -8.5167e-03, -1.9800e-02, -2.6337e-02, -7.5653e-03, -3.3739e-02,\n",
              "          2.9644e-02, -1.7062e-02, -1.4801e-02,  3.3014e-03,  1.0219e-02, -9.7369e-04,  2.7498e-02, -1.5355e-02,  2.3215e-02,  1.8281e-02,  2.1997e-03,  4.7315e-02,  1.0747e-01,  1.4469e-01,\n",
              "          1.9384e-01,  1.9686e-01,  1.4875e-01,  1.2173e-01,  8.8589e-02,  2.7873e-02,  1.3715e-02, -2.1827e-02,  1.4739e-02,  2.5335e-02,  2.8277e-03, -2.5567e-02, -2.7047e-02, -1.3904e-02,\n",
              "          1.0388e-02,  8.7114e-04,  6.4936e-03,  3.3671e-02,  1.7783e-02,  8.8522e-03, -6.6160e-03,  2.1984e-02,  2.6415e-02,  2.1935e-03,  5.1765e-02,  1.1822e-01,  1.6432e-01,  1.9793e-01,\n",
              "          1.6928e-01,  1.5183e-01,  1.7239e-01,  1.3246e-01,  9.8840e-02,  4.0105e-02,  4.6157e-02,  7.2074e-03,  2.6703e-02, -2.4868e-02,  1.4287e-02,  4.2556e-03, -1.7862e-02,  1.7705e-02,\n",
              "         -3.5144e-02,  2.8874e-02,  2.8781e-03,  3.4711e-03,  1.7248e-02,  3.4640e-03,  1.7797e-02,  3.0565e-02, -6.4876e-03,  8.0171e-02,  9.4106e-02,  1.3253e-01,  1.7966e-01,  2.0900e-01,\n",
              "          1.6281e-01,  1.5439e-01,  1.8692e-01,  1.1964e-01,  1.1577e-01,  6.2180e-02,  3.9785e-02,  3.7022e-02, -1.5859e-02, -1.7273e-02,  1.7522e-02,  1.9554e-03, -3.9306e-03, -3.1371e-02,\n",
              "          3.0259e-02, -1.3525e-03, -6.5781e-03, -1.4660e-02, -6.7193e-03,  1.8817e-02,  2.4646e-03,  3.9459e-02,  2.4308e-02,  5.5875e-02,  1.1317e-01,  1.2107e-01,  1.3338e-01,  1.5539e-01,\n",
              "          1.6802e-01,  1.4931e-01,  1.6796e-01,  1.6433e-01,  1.3213e-01,  1.0539e-01,  6.5990e-02,  2.4948e-02,  3.7151e-02,  3.3983e-02,  1.2714e-02, -1.7835e-03,  3.2021e-02, -2.7797e-02,\n",
              "          2.6242e-02,  1.8922e-02,  2.3034e-02, -1.8220e-03, -2.3606e-02,  2.9639e-02, -1.0236e-02,  1.8764e-02,  3.9505e-02,  7.8752e-03,  6.6731e-02,  6.7630e-02,  1.0688e-01,  5.5924e-02,\n",
              "          1.0578e-01,  1.1785e-01,  1.2872e-01,  1.6681e-01,  1.4602e-01,  8.3082e-02,  1.0026e-01,  3.9648e-02,  1.2844e-02, -3.1230e-02, -8.0002e-03, -1.7335e-02,  3.4979e-02,  2.5430e-02,\n",
              "          2.6642e-02,  2.4458e-02, -2.0593e-02, -1.1293e-02, -7.7171e-03, -6.8841e-03,  3.6181e-02,  1.9666e-02,  4.0725e-02,  1.7549e-02, -3.8605e-03,  2.2914e-02,  6.0913e-02,  5.6246e-02,\n",
              "          4.8581e-02,  4.4064e-02,  4.6903e-02,  9.5849e-02,  1.6246e-01,  1.1685e-01,  1.0851e-01,  5.6518e-02,  3.0305e-03,  2.7269e-02, -1.1212e-02, -1.1865e-03, -1.3604e-02, -3.3878e-02,\n",
              "          5.7585e-03,  1.0320e-02, -1.5403e-02,  3.0499e-02, -1.9879e-02, -2.1700e-02, -8.4320e-03, -6.6753e-04,  7.9498e-03,  3.9358e-03,  2.7619e-02, -2.1178e-02,  1.7283e-02,  1.5657e-02,\n",
              "          3.3617e-02,  7.5276e-02,  8.9362e-02,  9.4706e-02,  1.1699e-01,  1.2903e-01,  7.7993e-02,  6.4839e-02,  2.1145e-02,  3.4999e-02,  1.4293e-02, -6.5668e-03,  1.2275e-03,  8.5531e-03,\n",
              "         -4.4317e-03,  2.8819e-02, -2.4750e-02,  2.9094e-02, -4.1515e-03, -5.7853e-03,  1.7676e-02,  3.9477e-02,  4.5790e-02,  2.5265e-02,  1.0542e-02,  8.1032e-03, -5.3126e-03,  9.7946e-03,\n",
              "          1.9058e-02,  7.4264e-02,  9.5366e-02,  9.6730e-02,  1.5079e-01,  1.1905e-01,  9.0388e-02,  2.1920e-02,  3.0734e-02, -2.0368e-02,  3.5472e-02,  2.6972e-02, -2.4584e-02, -3.3624e-02,\n",
              "          1.3935e-03, -9.9697e-03,  1.3838e-02, -1.2940e-02,  3.8691e-02,  2.4933e-03,  1.8879e-02,  2.0866e-02,  6.0419e-02,  3.3952e-02, -5.4375e-03,  5.2904e-03,  8.0359e-03, -7.1698e-03,\n",
              "          4.5611e-02,  8.4073e-02,  9.6971e-02,  1.2206e-01,  1.5415e-01,  1.0383e-01,  6.7167e-02,  4.2610e-02,  4.7474e-02, -8.1231e-03,  1.7702e-02, -1.4055e-02, -9.5071e-03, -3.3998e-02,\n",
              "          2.9589e-02,  3.4776e-02,  2.0507e-03,  3.3232e-02,  5.6723e-02,  6.0480e-02,  7.1758e-02,  2.8831e-02,  3.6740e-02,  4.0370e-02,  7.4783e-02,  2.3996e-02,  2.3853e-02,  4.4447e-02,\n",
              "          5.1650e-02,  1.1234e-01,  1.4066e-01,  1.2967e-01,  1.7322e-01,  1.0084e-01,  5.9270e-02,  5.6727e-02,  3.7824e-02, -2.4236e-03, -2.5639e-02, -1.7917e-02,  4.5478e-03,  2.0935e-02,\n",
              "          1.7780e-02, -1.5771e-02, -3.1183e-02, -2.0241e-02,  1.2844e-02,  4.4215e-02,  4.7510e-02,  5.3095e-02,  1.0356e-01,  8.4642e-02,  8.5231e-02,  8.0410e-02,  1.0499e-01,  1.5942e-01,\n",
              "          1.5361e-01,  1.4815e-01,  1.6684e-01,  1.6710e-01,  1.2533e-01,  5.4187e-02,  1.9288e-02, -9.6665e-03,  2.8180e-03, -3.2026e-02, -6.4936e-03, -1.3060e-02,  3.5049e-02,  2.9029e-02,\n",
              "          2.0745e-02,  2.0029e-03, -9.4241e-03,  1.7828e-02, -5.7634e-03,  1.7897e-02,  5.0777e-02,  7.4362e-02,  7.5337e-02,  1.5368e-01,  1.8771e-01,  1.4562e-01,  1.8192e-01,  1.7037e-01,\n",
              "          1.7043e-01,  1.6566e-01,  1.7814e-01,  1.2011e-01,  5.5721e-02,  2.9436e-02,  3.7353e-02,  1.7361e-02,  2.5872e-03, -4.3233e-03, -1.3896e-02, -1.2676e-02, -1.8839e-02,  5.8522e-03,\n",
              "          1.0030e-02,  2.7348e-02, -6.7499e-03,  7.6478e-03,  3.5398e-02,  3.6110e-02,  4.4398e-02,  7.7038e-02,  9.5751e-02,  9.0835e-02,  1.4722e-01,  1.4883e-01,  1.9555e-01,  1.8774e-01,\n",
              "          1.4675e-01,  1.4654e-01,  6.5767e-02,  8.8691e-02,  6.2756e-02,  1.5859e-02, -2.1746e-02, -9.8729e-03, -8.8166e-03,  6.4730e-04, -3.2380e-02,  6.6188e-03, -1.4853e-02, -9.1443e-03,\n",
              "         -1.8446e-02, -7.5405e-03, -3.2119e-02, -1.6645e-02,  8.5790e-03,  3.2153e-02,  4.7228e-02, -2.8900e-03,  5.3866e-02,  3.4654e-02,  3.9340e-02,  7.3799e-02,  5.5802e-02,  3.7433e-02,\n",
              "          2.4652e-02,  2.0706e-02,  6.0635e-02,  3.9093e-02, -2.5773e-03, -1.8613e-02, -2.5740e-02, -2.0363e-02, -1.4639e-02,  2.1450e-02,  1.1688e-02, -1.3763e-02,  2.4587e-02, -2.2187e-02,\n",
              "         -2.9096e-02,  7.7946e-03, -1.9632e-02,  1.0646e-02,  3.1220e-02, -1.5928e-02, -2.4030e-02,  1.5041e-02, -2.9599e-02,  3.5125e-02, -1.2941e-02,  2.4079e-02, -1.9010e-02, -1.3383e-02,\n",
              "          1.5268e-02,  2.2475e-02,  3.4523e-02,  3.3536e-02,  7.3896e-04, -3.9954e-03,  5.9457e-03, -8.2961e-03,  1.2157e-03, -3.3823e-02, -2.9318e-02,  2.4474e-02, -2.0870e-02,  2.8124e-02,\n",
              "          3.9194e-03,  8.6995e-03,  3.2460e-02, -1.9864e-02, -5.6378e-03,  6.3275e-03,  1.2201e-02, -3.4758e-02,  1.2694e-02, -2.1062e-02,  4.6911e-03,  2.4162e-02, -3.5577e-03, -1.1298e-03,\n",
              "         -2.5274e-03,  3.0340e-02,  2.1022e-02,  6.0404e-03, -2.1436e-02, -1.9394e-02,  2.8448e-02,  2.5694e-02,  2.0679e-02, -2.7847e-02,  2.7814e-02, -3.4140e-03,  2.6313e-02,  3.1020e-02,\n",
              "          3.9147e-03, -1.4861e-02,  3.3595e-02, -1.8611e-02,  2.3336e-02, -3.4246e-02, -1.1233e-02, -3.1138e-02, -1.6021e-02,  1.5165e-02, -2.5590e-02, -3.0886e-02,  2.5537e-02,  1.9065e-02,\n",
              "         -3.9054e-04, -2.5177e-02, -9.4620e-03, -1.1564e-02,  2.2057e-02, -1.1682e-02, -1.0286e-02, -2.5316e-02, -1.6821e-02,  1.9337e-02,  2.3010e-02,  5.1888e-03, -1.3400e-02,  3.4303e-02]],\n",
              "       requires_grad=True)"
            ]
          },
          "metadata": {
            "tags": []
          },
          "execution_count": 179
        }
      ]
    },
    {
      "cell_type": "code",
      "metadata": {
        "id": "B5qxGfza85rJ",
        "outputId": "d910de24-e543-487a-fdba-e7f5963c2069",
        "colab": {
          "base_uri": "https://localhost:8080/",
          "height": 134
        }
      },
      "source": [
        "#reshape\n",
        "w.view(-1, 28*28)"
      ],
      "execution_count": 185,
      "outputs": [
        {
          "output_type": "execute_result",
          "data": {
            "text/plain": [
              "tensor([[-0.0127, -0.0219, -0.0310,  ...,  0.0079,  0.0262,  0.0246],\n",
              "        [ 0.0062, -0.0342,  0.0073,  ...,  0.0025, -0.0167,  0.0140],\n",
              "        [-0.0192, -0.0148,  0.0134,  ...,  0.0002, -0.0285,  0.0206],\n",
              "        ...,\n",
              "        [-0.0035, -0.0329, -0.0157,  ...,  0.0212, -0.0067, -0.0112],\n",
              "        [-0.0198,  0.0039,  0.0168,  ..., -0.0313,  0.0276, -0.0021],\n",
              "        [ 0.0143,  0.0247,  0.0283,  ...,  0.0005, -0.0310,  0.0251]], grad_fn=<ViewBackward>)"
            ]
          },
          "metadata": {
            "tags": []
          },
          "execution_count": 185
        }
      ]
    },
    {
      "cell_type": "code",
      "metadata": {
        "id": "VB9IpCDI-oZy",
        "outputId": "ae8b0f6b-b14b-4c9e-96d9-611ea1b2269b",
        "colab": {
          "base_uri": "https://localhost:8080/",
          "height": 102
        }
      },
      "source": [
        "show_image(w[0].view(28,28))"
      ],
      "execution_count": 187,
      "outputs": [
        {
          "output_type": "execute_result",
          "data": {
            "text/plain": [
              "<matplotlib.axes._subplots.AxesSubplot at 0x7fb403bc0d68>"
            ]
          },
          "metadata": {
            "tags": []
          },
          "execution_count": 187
        },
        {
          "output_type": "display_data",
          "data": {
            "image/png": "[encoded data removed]",
            "text/plain": [
              "<Figure size 72x72 with 1 Axes>"
            ]
          },
          "metadata": {
            "tags": [],
            "needs_background": "light"
          }
        }
      ]
    },
    {
      "cell_type": "code",
      "metadata": {
        "id": "rSW35F63-oip",
        "outputId": "cf010f60-a039-4735-9d88-ed9055d5a837",
        "colab": {
          "base_uri": "https://localhost:8080/",
          "height": 94
        }
      },
      "source": [
        "w,b = m[2].parameters()\n",
        "show_image(w[0].view(5,6))"
      ],
      "execution_count": 193,
      "outputs": [
        {
          "output_type": "execute_result",
          "data": {
            "text/plain": [
              "<matplotlib.axes._subplots.AxesSubplot at 0x7fb403a6efd0>"
            ]
          },
          "metadata": {
            "tags": []
          },
          "execution_count": 193
        },
        {
          "output_type": "display_data",
          "data": {
            "image/png": "[encoded data removed]",
            "text/plain": [
              "<Figure size 72x72 with 1 Axes>"
            ]
          },
          "metadata": {
            "tags": [],
            "needs_background": "light"
          }
        }
      ]
    },
    {
      "cell_type": "markdown",
      "metadata": {
        "id": "mBJgJiXc-oeo"
      },
      "source": [
        "# fastai way:"
      ]
    },
    {
      "cell_type": "code",
      "metadata": {
        "id": "mdtjdp6qN4f1"
      },
      "source": [
        "dls = ImageDataLoaders.from_folder(path)"
      ],
      "execution_count": 196,
      "outputs": []
    },
    {
      "cell_type": "code",
      "metadata": {
        "id": "3h_JPjjxN4kt",
        "outputId": "408d6748-7cca-43dc-d0ae-edd5506ef8ba",
        "colab": {
          "base_uri": "https://localhost:8080/",
          "height": 77
        }
      },
      "source": [
        "learn = cnn_learner(dls, resnet18, pretrained=False, loss_func=F.cross_entropy, metrics=accuracy)\n",
        "learn.fit_one_cycle(1,0.1)"
      ],
      "execution_count": 197,
      "outputs": [
        {
          "output_type": "display_data",
          "data": {
            "text/html": [
              "<table border=\"1\" class=\"dataframe\">\n",
              "  <thead>\n",
              "    <tr style=\"text-align: left;\">\n",
              "      <th>epoch</th>\n",
              "      <th>train_loss</th>\n",
              "      <th>valid_loss</th>\n",
              "      <th>accuracy</th>\n",
              "      <th>time</th>\n",
              "    </tr>\n",
              "  </thead>\n",
              "  <tbody>\n",
              "    <tr>\n",
              "      <td>0</td>\n",
              "      <td>0.113646</td>\n",
              "      <td>0.013440</td>\n",
              "      <td>0.996565</td>\n",
              "      <td>03:07</td>\n",
              "    </tr>\n",
              "  </tbody>\n",
              "</table>"
            ],
            "text/plain": [
              "<IPython.core.display.HTML object>"
            ]
          },
          "metadata": {
            "tags": []
          }
        }
      ]
    },
    {
      "cell_type": "code",
      "metadata": {
        "id": "nIeU8z-G3yFz"
      },
      "source": [
        "path = untar_data(URLs.MNIST_SAMPLE)\n",
        "Path.BASE_PATH = path\n",
        "print(path.ls())\n",
        "print((path/'train').ls())"
      ],
      "execution_count": null,
      "outputs": []
    },
    {
      "cell_type": "code",
      "metadata": {
        "id": "937HdqiZ3yK_"
      },
      "source": [
        "threes = (path/'train'/'3').ls().sorted()\n",
        "sevens = (path/'train'/'7').ls().sorted()\n",
        "threes"
      ],
      "execution_count": null,
      "outputs": []
    },
    {
      "cell_type": "code",
      "metadata": {
        "id": "2MiBexta4IUT"
      },
      "source": [
        "seven_tensors = [tensor(Image.open(o)) for o in sevens]\n",
        "three_tensors = [tensor(Image.open(o)) for o in threes]\n",
        "len(three_tensors),len(seven_tensors)"
      ],
      "execution_count": null,
      "outputs": []
    },
    {
      "cell_type": "code",
      "metadata": {
        "id": "t0v_B_Hu4VtT"
      },
      "source": [
        "show_image(three_tensors[111]);"
      ],
      "execution_count": null,
      "outputs": []
    },
    {
      "cell_type": "code",
      "metadata": {
        "id": "OGqSriuG4ZrC"
      },
      "source": [
        "stacked_sevens = torch.stack(seven_tensors).float()/255\n",
        "stacked_threes = torch.stack(three_tensors).float()/255\n",
        "stacked_threes.shape"
      ],
      "execution_count": null,
      "outputs": []
    },
    {
      "cell_type": "code",
      "metadata": {
        "id": "w3WAZVD44hdh"
      },
      "source": [
        "mean3 = stacked_threes.mean(0)\n",
        "show_image(mean3);"
      ],
      "execution_count": null,
      "outputs": []
    },
    {
      "cell_type": "code",
      "metadata": {
        "id": "tF0tfasw4h0D"
      },
      "source": [
        "mean7 = stacked_sevens.mean(0)\n",
        "show_image(mean7);"
      ],
      "execution_count": null,
      "outputs": []
    },
    {
      "cell_type": "code",
      "metadata": {
        "id": "ZN4KXHWP4mKj"
      },
      "source": [
        "a_3 = stacked_threes[1]\n",
        "dist_3_abs = (a_3 - mean3).abs().mean()\n",
        "dist_3_sqr = ((a_3 - mean3)**2).mean().sqrt()\n",
        "dist_3_abs,dist_3_sqr"
      ],
      "execution_count": null,
      "outputs": []
    },
    {
      "cell_type": "code",
      "metadata": {
        "id": "BQF7Evmm4wqj"
      },
      "source": [
        "dist_7_abs = (a_3 - mean7).abs().mean()\n",
        "dist_7_sqr = ((a_3 - mean7)**2).mean().sqrt()\n",
        "dist_7_abs,dist_7_sqr"
      ],
      "execution_count": null,
      "outputs": []
    },
    {
      "cell_type": "code",
      "metadata": {
        "id": "swjJrhsB45pB"
      },
      "source": [
        "F.l1_loss(a_3.float(),mean7), F.mse_loss(a_3,mean7).sqrt()"
      ],
      "execution_count": null,
      "outputs": []
    },
    {
      "cell_type": "code",
      "metadata": {
        "id": "eThYHQVD5A4b"
      },
      "source": [
        "valid_3_tens = torch.stack([tensor(Image.open(o)) \n",
        "                            for o in (path/'valid'/'3').ls()])\n",
        "valid_3_tens = valid_3_tens.float()/255\n",
        "valid_7_tens = torch.stack([tensor(Image.open(o)) \n",
        "                            for o in (path/'valid'/'7').ls()])\n",
        "valid_7_tens = valid_7_tens.float()/255\n",
        "valid_3_tens.shape,valid_7_tens.shape"
      ],
      "execution_count": null,
      "outputs": []
    },
    {
      "cell_type": "code",
      "metadata": {
        "id": "WZwtKgme5T1B"
      },
      "source": [
        "def mnist_distance(a,b): return (a-b).abs().mean((-1,-2))\n",
        "mnist_distance(a_3, mean3)"
      ],
      "execution_count": null,
      "outputs": []
    },
    {
      "cell_type": "code",
      "metadata": {
        "id": "DHf9CQdv5Yeg"
      },
      "source": [
        "valid_3_dist = mnist_distance(valid_3_tens, mean3)\n",
        "valid_3_dist, valid_3_dist.shape"
      ],
      "execution_count": null,
      "outputs": []
    },
    {
      "cell_type": "code",
      "metadata": {
        "id": "mbT1XS5O5iDC"
      },
      "source": [
        "train_x = torch.cat([stacked_threes, stacked_sevens]).view(-1, 28*28)\n",
        "train_y = tensor([1]*len(threes) + [0]*len(sevens)).unsqueeze(1)\n",
        "train_x.shape,train_y.shape"
      ],
      "execution_count": null,
      "outputs": []
    },
    {
      "cell_type": "code",
      "metadata": {
        "id": "e2fQrgJB6s5H"
      },
      "source": [
        "dset = list(zip(train_x,train_y))"
      ],
      "execution_count": null,
      "outputs": []
    },
    {
      "cell_type": "code",
      "metadata": {
        "id": "AU7b__uS6yvY"
      },
      "source": [
        "valid_x = torch.cat([valid_3_tens, valid_7_tens]).view(-1, 28*28)\n",
        "valid_y = tensor([1]*len(valid_3_tens) + [0]*len(valid_7_tens)).unsqueeze(1)\n",
        "valid_dset = list(zip(valid_x,valid_y))"
      ],
      "execution_count": null,
      "outputs": []
    },
    {
      "cell_type": "code",
      "metadata": {
        "id": "w-O8xx3a658H"
      },
      "source": [
        "def init_params(size, std=1.0): \n",
        "  return (torch.randn(size)*std).requires_grad_()\n",
        "\n",
        "weights = init_params((28*28,1))\n",
        "bias = init_params(1)"
      ],
      "execution_count": 164,
      "outputs": []
    },
    {
      "cell_type": "code",
      "metadata": {
        "id": "sWg5Sbds7NQi"
      },
      "source": [
        "def linear1(xb): return xb@weights + bias\n",
        "preds = linear1(train_x)\n",
        "preds"
      ],
      "execution_count": null,
      "outputs": []
    },
    {
      "cell_type": "code",
      "metadata": {
        "id": "xtJyICDL7O35"
      },
      "source": [
        "corrects = (preds>0.0).float() == train_y\n",
        "corrects"
      ],
      "execution_count": null,
      "outputs": []
    },
    {
      "cell_type": "code",
      "metadata": {
        "id": "zFKFnlT_7Vmo"
      },
      "source": [
        "corrects.float().mean().item()"
      ],
      "execution_count": null,
      "outputs": []
    },
    {
      "cell_type": "code",
      "metadata": {
        "id": "iOxDPz5Q7eiA"
      },
      "source": [
        "def sigmoid(x): \n",
        "  return 1/(1+torch.exp(-x))\n",
        "\n",
        "def mnist_loss(predictions, targets):\n",
        "    predictions = predictions.sigmoid()\n",
        "    return torch.where(targets==1, 1-predictions, predictions).mean()    "
      ],
      "execution_count": 151,
      "outputs": []
    },
    {
      "cell_type": "code",
      "metadata": {
        "id": "Y77KZBX674Wo"
      },
      "source": [
        "dl = DataLoader(dset, batch_size=256)"
      ],
      "execution_count": null,
      "outputs": []
    },
    {
      "cell_type": "code",
      "metadata": {
        "id": "yrAfUqhq8J_X"
      },
      "source": [
        "valid_dl = DataLoader(valid_dset, batch_size=256)"
      ],
      "execution_count": null,
      "outputs": []
    },
    {
      "cell_type": "code",
      "metadata": {
        "id": "l1iM448K8OsQ"
      },
      "source": [
        "def calc_grad(xb, yb, model):\n",
        "    preds = model(xb)\n",
        "    loss = mnist_loss(preds, yb)\n",
        "    loss.backward()\n",
        "\n"
      ],
      "execution_count": null,
      "outputs": []
    },
    {
      "cell_type": "code",
      "metadata": {
        "id": "Pmd5E95C83Rv"
      },
      "source": [
        "def train_epoch(model, lr, params):\n",
        "    for xb,yb in dl:\n",
        "        calc_grad(xb, yb, model)\n",
        "        for p in params:\n",
        "            p.data -= p.grad*lr\n",
        "            p.grad.zero_()"
      ],
      "execution_count": null,
      "outputs": []
    },
    {
      "cell_type": "code",
      "metadata": {
        "id": "CK07m0md9Q0f"
      },
      "source": [
        "def batch_accuracy(xb, yb):\n",
        "    preds = xb.sigmoid()\n",
        "    correct = (preds>0.5) == yb\n",
        "    return correct.float().mean()"
      ],
      "execution_count": null,
      "outputs": []
    },
    {
      "cell_type": "code",
      "metadata": {
        "id": "0G_eOCjE9Xsr"
      },
      "source": [
        "def validate_epoch(model):\n",
        "    accs = [batch_accuracy(model(xb), yb) for xb,yb in valid_dl]\n",
        "    return round(torch.stack(accs).mean().item(), 4)"
      ],
      "execution_count": null,
      "outputs": []
    },
    {
      "cell_type": "code",
      "metadata": {
        "id": "TrJOBDfs9Yvn"
      },
      "source": [
        "validate_epoch(linear1)"
      ],
      "execution_count": null,
      "outputs": []
    },
    {
      "cell_type": "code",
      "metadata": {
        "id": "PthRcsBU9bZP"
      },
      "source": [
        "lr = 1.\n",
        "params = weights,bias\n",
        "train_epoch(linear1, lr, params)\n",
        "validate_epoch(linear1)"
      ],
      "execution_count": null,
      "outputs": []
    },
    {
      "cell_type": "code",
      "metadata": {
        "id": "WVxkTe-r9fRt"
      },
      "source": [
        "linear1"
      ],
      "execution_count": null,
      "outputs": []
    },
    {
      "cell_type": "code",
      "metadata": {
        "id": "BiUjuoPI95Sf"
      },
      "source": [
        "for i in range(20):\n",
        "  train_epoch(linear1, lr, params)\n",
        "  print(validate_epoch(linear1), ' ')"
      ],
      "execution_count": null,
      "outputs": []
    },
    {
      "cell_type": "code",
      "metadata": {
        "id": "-7JkMJmUhQSq"
      },
      "source": [
        ""
      ],
      "execution_count": null,
      "outputs": []
    },
    {
      "cell_type": "code",
      "metadata": {
        "id": "M96YiwV77lEM"
      },
      "source": [
        "a = 'abcd'; b = '1234'\n",
        "list(zip(list(a), list(b)))"
      ],
      "execution_count": null,
      "outputs": []
    },
    {
      "cell_type": "code",
      "metadata": {
        "id": "78TAqgOEhGkj"
      },
      "source": [
        "list(enumerate('abcd'))"
      ],
      "execution_count": null,
      "outputs": []
    },
    {
      "cell_type": "code",
      "metadata": {
        "id": "gDatvrWLlbVC"
      },
      "source": [
        ""
      ],
      "execution_count": null,
      "outputs": []
    },
    {
      "cell_type": "markdown",
      "metadata": {
        "id": "INJ18uWKr0LQ"
      },
      "source": [
        "# code playground"
      ]
    },
    {
      "cell_type": "code",
      "metadata": {
        "id": "r6j9nnKlr6d-"
      },
      "source": [
        "Image?"
      ],
      "execution_count": null,
      "outputs": []
    },
    {
      "cell_type": "code",
      "metadata": {
        "id": "LUfj43jLsHqv"
      },
      "source": [
        ""
      ],
      "execution_count": null,
      "outputs": []
    }
  ]
}