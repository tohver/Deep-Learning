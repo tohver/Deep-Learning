{
  "nbformat": 4,
  "nbformat_minor": 0,
  "metadata": {
    "colab": {
      "name": "06 Multilabel classification",
      "provenance": [],
      "collapsed_sections": [],
      "mount_file_id": "1OVjST8TPK62GGELUFLTdSYx5hAC8TukZ",
      "authorship_tag": "ABX9TyOtSvSyCVl2z6Sl3eDSEHNu",
      "include_colab_link": true
    },
    "kernelspec": {
      "name": "python3",
      "display_name": "Python 3"
    },
    "accelerator": "GPU",
    "widgets": {
      "application/vnd.jupyter.widget-state+json": {
        "a298f0bb58764707a6728be2f6789aec": {
          "model_module": "@jupyter-widgets/controls",
          "model_name": "HBoxModel",
          "state": {
            "_view_name": "HBoxView",
            "_dom_classes": [],
            "_model_name": "HBoxModel",
            "_view_module": "@jupyter-widgets/controls",
            "_model_module_version": "1.5.0",
            "_view_count": null,
            "_view_module_version": "1.5.0",
            "box_style": "",
            "layout": "IPY_MODEL_a0db0476fe7f462780fe5c45a1a2d72a",
            "_model_module": "@jupyter-widgets/controls",
            "children": [
              "IPY_MODEL_18f75e6ad6104a39aca807c699627928",
              "IPY_MODEL_b5eff9174bc54420b7465a570602d393"
            ]
          }
        },
        "a0db0476fe7f462780fe5c45a1a2d72a": {
          "model_module": "@jupyter-widgets/base",
          "model_name": "LayoutModel",
          "state": {
            "_view_name": "LayoutView",
            "grid_template_rows": null,
            "right": null,
            "justify_content": null,
            "_view_module": "@jupyter-widgets/base",
            "overflow": null,
            "_model_module_version": "1.2.0",
            "_view_count": null,
            "flex_flow": null,
            "width": null,
            "min_width": null,
            "border": null,
            "align_items": null,
            "bottom": null,
            "_model_module": "@jupyter-widgets/base",
            "top": null,
            "grid_column": null,
            "overflow_y": null,
            "overflow_x": null,
            "grid_auto_flow": null,
            "grid_area": null,
            "grid_template_columns": null,
            "flex": null,
            "_model_name": "LayoutModel",
            "justify_items": null,
            "grid_row": null,
            "max_height": null,
            "align_content": null,
            "visibility": null,
            "align_self": null,
            "height": null,
            "min_height": null,
            "padding": null,
            "grid_auto_rows": null,
            "grid_gap": null,
            "max_width": null,
            "order": null,
            "_view_module_version": "1.2.0",
            "grid_template_areas": null,
            "object_position": null,
            "object_fit": null,
            "grid_auto_columns": null,
            "margin": null,
            "display": null,
            "left": null
          }
        },
        "18f75e6ad6104a39aca807c699627928": {
          "model_module": "@jupyter-widgets/controls",
          "model_name": "FloatProgressModel",
          "state": {
            "_view_name": "ProgressView",
            "style": "IPY_MODEL_30fac887a25a48659cb9aef651b610f7",
            "_dom_classes": [],
            "description": "100%",
            "_model_name": "FloatProgressModel",
            "bar_style": "success",
            "max": 46827520,
            "_view_module": "@jupyter-widgets/controls",
            "_model_module_version": "1.5.0",
            "value": 46827520,
            "_view_count": null,
            "_view_module_version": "1.5.0",
            "orientation": "horizontal",
            "min": 0,
            "description_tooltip": null,
            "_model_module": "@jupyter-widgets/controls",
            "layout": "IPY_MODEL_7f57700322724cc0b970a0997fd69648"
          }
        },
        "b5eff9174bc54420b7465a570602d393": {
          "model_module": "@jupyter-widgets/controls",
          "model_name": "HTMLModel",
          "state": {
            "_view_name": "HTMLView",
            "style": "IPY_MODEL_64df42dc10a64a229bfded2abc67a1b1",
            "_dom_classes": [],
            "description": "",
            "_model_name": "HTMLModel",
            "placeholder": "​",
            "_view_module": "@jupyter-widgets/controls",
            "_model_module_version": "1.5.0",
            "value": " 44.7M/44.7M [27:56&lt;00:00, 27.9kB/s]",
            "_view_count": null,
            "_view_module_version": "1.5.0",
            "description_tooltip": null,
            "_model_module": "@jupyter-widgets/controls",
            "layout": "IPY_MODEL_e68b1c45fd534d8ab7e47a95738e818d"
          }
        },
        "30fac887a25a48659cb9aef651b610f7": {
          "model_module": "@jupyter-widgets/controls",
          "model_name": "ProgressStyleModel",
          "state": {
            "_view_name": "StyleView",
            "_model_name": "ProgressStyleModel",
            "description_width": "initial",
            "_view_module": "@jupyter-widgets/base",
            "_model_module_version": "1.5.0",
            "_view_count": null,
            "_view_module_version": "1.2.0",
            "bar_color": null,
            "_model_module": "@jupyter-widgets/controls"
          }
        },
        "7f57700322724cc0b970a0997fd69648": {
          "model_module": "@jupyter-widgets/base",
          "model_name": "LayoutModel",
          "state": {
            "_view_name": "LayoutView",
            "grid_template_rows": null,
            "right": null,
            "justify_content": null,
            "_view_module": "@jupyter-widgets/base",
            "overflow": null,
            "_model_module_version": "1.2.0",
            "_view_count": null,
            "flex_flow": null,
            "width": null,
            "min_width": null,
            "border": null,
            "align_items": null,
            "bottom": null,
            "_model_module": "@jupyter-widgets/base",
            "top": null,
            "grid_column": null,
            "overflow_y": null,
            "overflow_x": null,
            "grid_auto_flow": null,
            "grid_area": null,
            "grid_template_columns": null,
            "flex": null,
            "_model_name": "LayoutModel",
            "justify_items": null,
            "grid_row": null,
            "max_height": null,
            "align_content": null,
            "visibility": null,
            "align_self": null,
            "height": null,
            "min_height": null,
            "padding": null,
            "grid_auto_rows": null,
            "grid_gap": null,
            "max_width": null,
            "order": null,
            "_view_module_version": "1.2.0",
            "grid_template_areas": null,
            "object_position": null,
            "object_fit": null,
            "grid_auto_columns": null,
            "margin": null,
            "display": null,
            "left": null
          }
        },
        "64df42dc10a64a229bfded2abc67a1b1": {
          "model_module": "@jupyter-widgets/controls",
          "model_name": "DescriptionStyleModel",
          "state": {
            "_view_name": "StyleView",
            "_model_name": "DescriptionStyleModel",
            "description_width": "",
            "_view_module": "@jupyter-widgets/base",
            "_model_module_version": "1.5.0",
            "_view_count": null,
            "_view_module_version": "1.2.0",
            "_model_module": "@jupyter-widgets/controls"
          }
        },
        "e68b1c45fd534d8ab7e47a95738e818d": {
          "model_module": "@jupyter-widgets/base",
          "model_name": "LayoutModel",
          "state": {
            "_view_name": "LayoutView",
            "grid_template_rows": null,
            "right": null,
            "justify_content": null,
            "_view_module": "@jupyter-widgets/base",
            "overflow": null,
            "_model_module_version": "1.2.0",
            "_view_count": null,
            "flex_flow": null,
            "width": null,
            "min_width": null,
            "border": null,
            "align_items": null,
            "bottom": null,
            "_model_module": "@jupyter-widgets/base",
            "top": null,
            "grid_column": null,
            "overflow_y": null,
            "overflow_x": null,
            "grid_auto_flow": null,
            "grid_area": null,
            "grid_template_columns": null,
            "flex": null,
            "_model_name": "LayoutModel",
            "justify_items": null,
            "grid_row": null,
            "max_height": null,
            "align_content": null,
            "visibility": null,
            "align_self": null,
            "height": null,
            "min_height": null,
            "padding": null,
            "grid_auto_rows": null,
            "grid_gap": null,
            "max_width": null,
            "order": null,
            "_view_module_version": "1.2.0",
            "grid_template_areas": null,
            "object_position": null,
            "object_fit": null,
            "grid_auto_columns": null,
            "margin": null,
            "display": null,
            "left": null
          }
        },
        "b914e89d1d044fea87854d384ebe25d4": {
          "model_module": "@jupyter-widgets/controls",
          "model_name": "HBoxModel",
          "state": {
            "_view_name": "HBoxView",
            "_dom_classes": [],
            "_model_name": "HBoxModel",
            "_view_module": "@jupyter-widgets/controls",
            "_model_module_version": "1.5.0",
            "_view_count": null,
            "_view_module_version": "1.5.0",
            "box_style": "",
            "layout": "IPY_MODEL_223f20d53ffe4c43bd5a580ce4638eab",
            "_model_module": "@jupyter-widgets/controls",
            "children": [
              "IPY_MODEL_16de51d3d90d4c9ba0038f4b1895a107",
              "IPY_MODEL_2025f37442dc463c8728e10c32fbb686"
            ]
          }
        },
        "223f20d53ffe4c43bd5a580ce4638eab": {
          "model_module": "@jupyter-widgets/base",
          "model_name": "LayoutModel",
          "state": {
            "_view_name": "LayoutView",
            "grid_template_rows": null,
            "right": null,
            "justify_content": null,
            "_view_module": "@jupyter-widgets/base",
            "overflow": null,
            "_model_module_version": "1.2.0",
            "_view_count": null,
            "flex_flow": null,
            "width": null,
            "min_width": null,
            "border": null,
            "align_items": null,
            "bottom": null,
            "_model_module": "@jupyter-widgets/base",
            "top": null,
            "grid_column": null,
            "overflow_y": null,
            "overflow_x": null,
            "grid_auto_flow": null,
            "grid_area": null,
            "grid_template_columns": null,
            "flex": null,
            "_model_name": "LayoutModel",
            "justify_items": null,
            "grid_row": null,
            "max_height": null,
            "align_content": null,
            "visibility": null,
            "align_self": null,
            "height": null,
            "min_height": null,
            "padding": null,
            "grid_auto_rows": null,
            "grid_gap": null,
            "max_width": null,
            "order": null,
            "_view_module_version": "1.2.0",
            "grid_template_areas": null,
            "object_position": null,
            "object_fit": null,
            "grid_auto_columns": null,
            "margin": null,
            "display": null,
            "left": null
          }
        },
        "16de51d3d90d4c9ba0038f4b1895a107": {
          "model_module": "@jupyter-widgets/controls",
          "model_name": "FloatProgressModel",
          "state": {
            "_view_name": "ProgressView",
            "style": "IPY_MODEL_f3b09fbdfd754ba1b65748f27698c2e2",
            "_dom_classes": [],
            "description": "100%",
            "_model_name": "FloatProgressModel",
            "bar_style": "success",
            "max": 102502400,
            "_view_module": "@jupyter-widgets/controls",
            "_model_module_version": "1.5.0",
            "value": 102502400,
            "_view_count": null,
            "_view_module_version": "1.5.0",
            "orientation": "horizontal",
            "min": 0,
            "description_tooltip": null,
            "_model_module": "@jupyter-widgets/controls",
            "layout": "IPY_MODEL_2ce17fa4abfc4b008b4f96959ee0cd67"
          }
        },
        "2025f37442dc463c8728e10c32fbb686": {
          "model_module": "@jupyter-widgets/controls",
          "model_name": "HTMLModel",
          "state": {
            "_view_name": "HTMLView",
            "style": "IPY_MODEL_0fd1df244e0f4a9ab189fe0c6e74a0f4",
            "_dom_classes": [],
            "description": "",
            "_model_name": "HTMLModel",
            "placeholder": "​",
            "_view_module": "@jupyter-widgets/controls",
            "_model_module_version": "1.5.0",
            "value": " 97.8M/97.8M [00:01&lt;00:00, 99.7MB/s]",
            "_view_count": null,
            "_view_module_version": "1.5.0",
            "description_tooltip": null,
            "_model_module": "@jupyter-widgets/controls",
            "layout": "IPY_MODEL_85564c5eb6864f34b8b3a60f6c9a7850"
          }
        },
        "f3b09fbdfd754ba1b65748f27698c2e2": {
          "model_module": "@jupyter-widgets/controls",
          "model_name": "ProgressStyleModel",
          "state": {
            "_view_name": "StyleView",
            "_model_name": "ProgressStyleModel",
            "description_width": "initial",
            "_view_module": "@jupyter-widgets/base",
            "_model_module_version": "1.5.0",
            "_view_count": null,
            "_view_module_version": "1.2.0",
            "bar_color": null,
            "_model_module": "@jupyter-widgets/controls"
          }
        },
        "2ce17fa4abfc4b008b4f96959ee0cd67": {
          "model_module": "@jupyter-widgets/base",
          "model_name": "LayoutModel",
          "state": {
            "_view_name": "LayoutView",
            "grid_template_rows": null,
            "right": null,
            "justify_content": null,
            "_view_module": "@jupyter-widgets/base",
            "overflow": null,
            "_model_module_version": "1.2.0",
            "_view_count": null,
            "flex_flow": null,
            "width": null,
            "min_width": null,
            "border": null,
            "align_items": null,
            "bottom": null,
            "_model_module": "@jupyter-widgets/base",
            "top": null,
            "grid_column": null,
            "overflow_y": null,
            "overflow_x": null,
            "grid_auto_flow": null,
            "grid_area": null,
            "grid_template_columns": null,
            "flex": null,
            "_model_name": "LayoutModel",
            "justify_items": null,
            "grid_row": null,
            "max_height": null,
            "align_content": null,
            "visibility": null,
            "align_self": null,
            "height": null,
            "min_height": null,
            "padding": null,
            "grid_auto_rows": null,
            "grid_gap": null,
            "max_width": null,
            "order": null,
            "_view_module_version": "1.2.0",
            "grid_template_areas": null,
            "object_position": null,
            "object_fit": null,
            "grid_auto_columns": null,
            "margin": null,
            "display": null,
            "left": null
          }
        },
        "0fd1df244e0f4a9ab189fe0c6e74a0f4": {
          "model_module": "@jupyter-widgets/controls",
          "model_name": "DescriptionStyleModel",
          "state": {
            "_view_name": "StyleView",
            "_model_name": "DescriptionStyleModel",
            "description_width": "",
            "_view_module": "@jupyter-widgets/base",
            "_model_module_version": "1.5.0",
            "_view_count": null,
            "_view_module_version": "1.2.0",
            "_model_module": "@jupyter-widgets/controls"
          }
        },
        "85564c5eb6864f34b8b3a60f6c9a7850": {
          "model_module": "@jupyter-widgets/base",
          "model_name": "LayoutModel",
          "state": {
            "_view_name": "LayoutView",
            "grid_template_rows": null,
            "right": null,
            "justify_content": null,
            "_view_module": "@jupyter-widgets/base",
            "overflow": null,
            "_model_module_version": "1.2.0",
            "_view_count": null,
            "flex_flow": null,
            "width": null,
            "min_width": null,
            "border": null,
            "align_items": null,
            "bottom": null,
            "_model_module": "@jupyter-widgets/base",
            "top": null,
            "grid_column": null,
            "overflow_y": null,
            "overflow_x": null,
            "grid_auto_flow": null,
            "grid_area": null,
            "grid_template_columns": null,
            "flex": null,
            "_model_name": "LayoutModel",
            "justify_items": null,
            "grid_row": null,
            "max_height": null,
            "align_content": null,
            "visibility": null,
            "align_self": null,
            "height": null,
            "min_height": null,
            "padding": null,
            "grid_auto_rows": null,
            "grid_gap": null,
            "max_width": null,
            "order": null,
            "_view_module_version": "1.2.0",
            "grid_template_areas": null,
            "object_position": null,
            "object_fit": null,
            "grid_auto_columns": null,
            "margin": null,
            "display": null,
            "left": null
          }
        }
      }
    }
  },
  "cells": [
    {
      "cell_type": "markdown",
      "metadata": {
        "id": "view-in-github",
        "colab_type": "text"
      },
      "source": [
        "<a href=\"https://colab.research.google.com/github/tohver/Deep-Learning/blob/master/06_Multilabel_classification.ipynb\" target=\"_parent\"><img src=\"https://colab.research.google.com/assets/colab-badge.svg\" alt=\"Open In Colab\"/></a>"
      ]
    },
    {
      "cell_type": "code",
      "metadata": {
        "id": "RK6iPUjrb3HG",
        "outputId": "bf8b68d2-af62-4918-9ee1-a10c2b17c9bf",
        "colab": {
          "base_uri": "https://localhost:8080/"
        }
      },
      "source": [
        " !pip install fastai\n",
        " import fastai \n",
        " print(fastai.__version__ )"
      ],
      "execution_count": 1,
      "outputs": [
        {
          "output_type": "stream",
          "text": [
            "Requirement already satisfied: fastai in /usr/local/lib/python3.6/dist-packages (2.0.0)\n",
            "Requirement already satisfied: matplotlib in /usr/local/lib/python3.6/dist-packages (from fastai) (3.2.2)\n",
            "Requirement already satisfied: fastcore>=1.0.0 in /usr/local/lib/python3.6/dist-packages (from fastai) (1.3.1)\n",
            "Requirement already satisfied: requests in /usr/local/lib/python3.6/dist-packages (from fastai) (2.23.0)\n",
            "Requirement already satisfied: torchvision>=0.7 in /usr/local/lib/python3.6/dist-packages (from fastai) (0.8.1+cu101)\n",
            "Requirement already satisfied: scipy in /usr/local/lib/python3.6/dist-packages (from fastai) (1.4.1)\n",
            "Requirement already satisfied: pip in /usr/local/lib/python3.6/dist-packages (from fastai) (19.3.1)\n",
            "Requirement already satisfied: spacy in /usr/local/lib/python3.6/dist-packages (from fastai) (2.2.4)\n",
            "Requirement already satisfied: scikit-learn in /usr/local/lib/python3.6/dist-packages (from fastai) (0.22.2.post1)\n",
            "Requirement already satisfied: pyyaml in /usr/local/lib/python3.6/dist-packages (from fastai) (3.13)\n",
            "Requirement already satisfied: torch>=1.6.0 in /usr/local/lib/python3.6/dist-packages (from fastai) (1.7.0+cu101)\n",
            "Requirement already satisfied: pandas in /usr/local/lib/python3.6/dist-packages (from fastai) (1.1.4)\n",
            "Requirement already satisfied: fastprogress>=0.2.4 in /usr/local/lib/python3.6/dist-packages (from fastai) (1.0.0)\n",
            "Requirement already satisfied: pillow in /usr/local/lib/python3.6/dist-packages (from fastai) (7.0.0)\n",
            "Requirement already satisfied: packaging in /usr/local/lib/python3.6/dist-packages (from fastai) (20.4)\n",
            "Requirement already satisfied: kiwisolver>=1.0.1 in /usr/local/lib/python3.6/dist-packages (from matplotlib->fastai) (1.3.1)\n",
            "Requirement already satisfied: cycler>=0.10 in /usr/local/lib/python3.6/dist-packages (from matplotlib->fastai) (0.10.0)\n",
            "Requirement already satisfied: numpy>=1.11 in /usr/local/lib/python3.6/dist-packages (from matplotlib->fastai) (1.18.5)\n",
            "Requirement already satisfied: pyparsing!=2.0.4,!=2.1.2,!=2.1.6,>=2.0.1 in /usr/local/lib/python3.6/dist-packages (from matplotlib->fastai) (2.4.7)\n",
            "Requirement already satisfied: python-dateutil>=2.1 in /usr/local/lib/python3.6/dist-packages (from matplotlib->fastai) (2.8.1)\n",
            "Requirement already satisfied: chardet<4,>=3.0.2 in /usr/local/lib/python3.6/dist-packages (from requests->fastai) (3.0.4)\n",
            "Requirement already satisfied: urllib3!=1.25.0,!=1.25.1,<1.26,>=1.21.1 in /usr/local/lib/python3.6/dist-packages (from requests->fastai) (1.24.3)\n",
            "Requirement already satisfied: idna<3,>=2.5 in /usr/local/lib/python3.6/dist-packages (from requests->fastai) (2.10)\n",
            "Requirement already satisfied: certifi>=2017.4.17 in /usr/local/lib/python3.6/dist-packages (from requests->fastai) (2020.6.20)\n",
            "Requirement already satisfied: preshed<3.1.0,>=3.0.2 in /usr/local/lib/python3.6/dist-packages (from spacy->fastai) (3.0.2)\n",
            "Requirement already satisfied: cymem<2.1.0,>=2.0.2 in /usr/local/lib/python3.6/dist-packages (from spacy->fastai) (2.0.4)\n",
            "Requirement already satisfied: wasabi<1.1.0,>=0.4.0 in /usr/local/lib/python3.6/dist-packages (from spacy->fastai) (0.8.0)\n",
            "Requirement already satisfied: plac<1.2.0,>=0.9.6 in /usr/local/lib/python3.6/dist-packages (from spacy->fastai) (1.1.3)\n",
            "Requirement already satisfied: murmurhash<1.1.0,>=0.28.0 in /usr/local/lib/python3.6/dist-packages (from spacy->fastai) (1.0.3)\n",
            "Requirement already satisfied: blis<0.5.0,>=0.4.0 in /usr/local/lib/python3.6/dist-packages (from spacy->fastai) (0.4.1)\n",
            "Requirement already satisfied: setuptools in /usr/local/lib/python3.6/dist-packages (from spacy->fastai) (50.3.2)\n",
            "Requirement already satisfied: catalogue<1.1.0,>=0.0.7 in /usr/local/lib/python3.6/dist-packages (from spacy->fastai) (1.0.0)\n",
            "Requirement already satisfied: thinc==7.4.0 in /usr/local/lib/python3.6/dist-packages (from spacy->fastai) (7.4.0)\n",
            "Requirement already satisfied: srsly<1.1.0,>=1.0.2 in /usr/local/lib/python3.6/dist-packages (from spacy->fastai) (1.0.2)\n",
            "Requirement already satisfied: tqdm<5.0.0,>=4.38.0 in /usr/local/lib/python3.6/dist-packages (from spacy->fastai) (4.41.1)\n",
            "Requirement already satisfied: joblib>=0.11 in /usr/local/lib/python3.6/dist-packages (from scikit-learn->fastai) (0.17.0)\n",
            "Requirement already satisfied: future in /usr/local/lib/python3.6/dist-packages (from torch>=1.6.0->fastai) (0.16.0)\n",
            "Requirement already satisfied: typing-extensions in /usr/local/lib/python3.6/dist-packages (from torch>=1.6.0->fastai) (3.7.4.3)\n",
            "Requirement already satisfied: dataclasses in /usr/local/lib/python3.6/dist-packages (from torch>=1.6.0->fastai) (0.7)\n",
            "Requirement already satisfied: pytz>=2017.2 in /usr/local/lib/python3.6/dist-packages (from pandas->fastai) (2018.9)\n",
            "Requirement already satisfied: six in /usr/local/lib/python3.6/dist-packages (from packaging->fastai) (1.15.0)\n",
            "Requirement already satisfied: importlib-metadata>=0.20; python_version < \"3.8\" in /usr/local/lib/python3.6/dist-packages (from catalogue<1.1.0,>=0.0.7->spacy->fastai) (2.0.0)\n",
            "Requirement already satisfied: zipp>=0.5 in /usr/local/lib/python3.6/dist-packages (from importlib-metadata>=0.20; python_version < \"3.8\"->catalogue<1.1.0,>=0.0.7->spacy->fastai) (3.4.0)\n",
            "2.0.0\n"
          ],
          "name": "stdout"
        }
      ]
    },
    {
      "cell_type": "code",
      "metadata": {
        "id": "zy3cU7wUc9MM",
        "outputId": "f136f97a-7684-4445-b46e-021d3b13881f",
        "colab": {
          "base_uri": "https://localhost:8080/"
        }
      },
      "source": [
        "!pip install -Uqq fastbook\n",
        "!pip install fastai --upgrade\n",
        "import fastbook"
      ],
      "execution_count": 2,
      "outputs": [
        {
          "output_type": "stream",
          "text": [
            "\u001b[?25l\r\u001b[K     |▌                               | 10kB 5.0MB/s eta 0:00:01\r\u001b[K     |█                               | 20kB 2.7MB/s eta 0:00:01\r\u001b[K     |█▍                              | 30kB 2.9MB/s eta 0:00:01\r\u001b[K     |█▉                              | 40kB 3.2MB/s eta 0:00:01\r\u001b[K     |██▎                             | 51kB 3.3MB/s eta 0:00:01\r\u001b[K     |██▊                             | 61kB 3.7MB/s eta 0:00:01\r\u001b[K     |███▏                            | 71kB 3.8MB/s eta 0:00:01\r\u001b[K     |███▋                            | 81kB 4.2MB/s eta 0:00:01\r\u001b[K     |████                            | 92kB 3.9MB/s eta 0:00:01\r\u001b[K     |████▌                           | 102kB 4.1MB/s eta 0:00:01\r\u001b[K     |█████                           | 112kB 4.1MB/s eta 0:00:01\r\u001b[K     |█████▌                          | 122kB 4.1MB/s eta 0:00:01\r\u001b[K     |██████                          | 133kB 4.1MB/s eta 0:00:01\r\u001b[K     |██████▍                         | 143kB 4.1MB/s eta 0:00:01\r\u001b[K     |██████▉                         | 153kB 4.1MB/s eta 0:00:01\r\u001b[K     |███████▎                        | 163kB 4.1MB/s eta 0:00:01\r\u001b[K     |███████▊                        | 174kB 4.1MB/s eta 0:00:01\r\u001b[K     |████████▏                       | 184kB 4.1MB/s eta 0:00:01\r\u001b[K     |████████▋                       | 194kB 4.1MB/s eta 0:00:01\r\u001b[K     |█████████                       | 204kB 4.1MB/s eta 0:00:01\r\u001b[K     |█████████▋                      | 215kB 4.1MB/s eta 0:00:01\r\u001b[K     |██████████                      | 225kB 4.1MB/s eta 0:00:01\r\u001b[K     |██████████▌                     | 235kB 4.1MB/s eta 0:00:01\r\u001b[K     |███████████                     | 245kB 4.1MB/s eta 0:00:01\r\u001b[K     |███████████▍                    | 256kB 4.1MB/s eta 0:00:01\r\u001b[K     |███████████▉                    | 266kB 4.1MB/s eta 0:00:01\r\u001b[K     |████████████▎                   | 276kB 4.1MB/s eta 0:00:01\r\u001b[K     |████████████▊                   | 286kB 4.1MB/s eta 0:00:01\r\u001b[K     |█████████████▏                  | 296kB 4.1MB/s eta 0:00:01\r\u001b[K     |█████████████▋                  | 307kB 4.1MB/s eta 0:00:01\r\u001b[K     |██████████████▏                 | 317kB 4.1MB/s eta 0:00:01\r\u001b[K     |██████████████▋                 | 327kB 4.1MB/s eta 0:00:01\r\u001b[K     |███████████████                 | 337kB 4.1MB/s eta 0:00:01\r\u001b[K     |███████████████▌                | 348kB 4.1MB/s eta 0:00:01\r\u001b[K     |████████████████                | 358kB 4.1MB/s eta 0:00:01\r\u001b[K     |████████████████▍               | 368kB 4.1MB/s eta 0:00:01\r\u001b[K     |████████████████▉               | 378kB 4.1MB/s eta 0:00:01\r\u001b[K     |█████████████████▎              | 389kB 4.1MB/s eta 0:00:01\r\u001b[K     |█████████████████▊              | 399kB 4.1MB/s eta 0:00:01\r\u001b[K     |██████████████████▏             | 409kB 4.1MB/s eta 0:00:01\r\u001b[K     |██████████████████▊             | 419kB 4.1MB/s eta 0:00:01\r\u001b[K     |███████████████████▏            | 430kB 4.1MB/s eta 0:00:01\r\u001b[K     |███████████████████▋            | 440kB 4.1MB/s eta 0:00:01\r\u001b[K     |████████████████████            | 450kB 4.1MB/s eta 0:00:01\r\u001b[K     |████████████████████▌           | 460kB 4.1MB/s eta 0:00:01\r\u001b[K     |█████████████████████           | 471kB 4.1MB/s eta 0:00:01\r\u001b[K     |█████████████████████▍          | 481kB 4.1MB/s eta 0:00:01\r\u001b[K     |█████████████████████▉          | 491kB 4.1MB/s eta 0:00:01\r\u001b[K     |██████████████████████▎         | 501kB 4.1MB/s eta 0:00:01\r\u001b[K     |██████████████████████▊         | 512kB 4.1MB/s eta 0:00:01\r\u001b[K     |███████████████████████▏        | 522kB 4.1MB/s eta 0:00:01\r\u001b[K     |███████████████████████▊        | 532kB 4.1MB/s eta 0:00:01\r\u001b[K     |████████████████████████▏       | 542kB 4.1MB/s eta 0:00:01\r\u001b[K     |████████████████████████▋       | 552kB 4.1MB/s eta 0:00:01\r\u001b[K     |█████████████████████████       | 563kB 4.1MB/s eta 0:00:01\r\u001b[K     |█████████████████████████▌      | 573kB 4.1MB/s eta 0:00:01\r\u001b[K     |██████████████████████████      | 583kB 4.1MB/s eta 0:00:01\r\u001b[K     |██████████████████████████▍     | 593kB 4.1MB/s eta 0:00:01\r\u001b[K     |██████████████████████████▉     | 604kB 4.1MB/s eta 0:00:01\r\u001b[K     |███████████████████████████▎    | 614kB 4.1MB/s eta 0:00:01\r\u001b[K     |███████████████████████████▊    | 624kB 4.1MB/s eta 0:00:01\r\u001b[K     |████████████████████████████▎   | 634kB 4.1MB/s eta 0:00:01\r\u001b[K     |████████████████████████████▊   | 645kB 4.1MB/s eta 0:00:01\r\u001b[K     |█████████████████████████████▏  | 655kB 4.1MB/s eta 0:00:01\r\u001b[K     |█████████████████████████████▋  | 665kB 4.1MB/s eta 0:00:01\r\u001b[K     |██████████████████████████████  | 675kB 4.1MB/s eta 0:00:01\r\u001b[K     |██████████████████████████████▌ | 686kB 4.1MB/s eta 0:00:01\r\u001b[K     |███████████████████████████████ | 696kB 4.1MB/s eta 0:00:01\r\u001b[K     |███████████████████████████████▍| 706kB 4.1MB/s eta 0:00:01\r\u001b[K     |███████████████████████████████▉| 716kB 4.1MB/s eta 0:00:01\r\u001b[K     |████████████████████████████████| 727kB 4.1MB/s \n",
            "\u001b[?25hRequirement already up-to-date: fastai in /usr/local/lib/python3.6/dist-packages (2.1.4)\n",
            "Requirement already satisfied, skipping upgrade: packaging in /usr/local/lib/python3.6/dist-packages (from fastai) (20.4)\n",
            "Requirement already satisfied, skipping upgrade: pillow in /usr/local/lib/python3.6/dist-packages (from fastai) (7.0.0)\n",
            "Requirement already satisfied, skipping upgrade: fastprogress>=0.2.4 in /usr/local/lib/python3.6/dist-packages (from fastai) (1.0.0)\n",
            "Requirement already satisfied, skipping upgrade: torch>=1.7.0 in /usr/local/lib/python3.6/dist-packages (from fastai) (1.7.0+cu101)\n",
            "Requirement already satisfied, skipping upgrade: pyyaml in /usr/local/lib/python3.6/dist-packages (from fastai) (3.13)\n",
            "Requirement already satisfied, skipping upgrade: scikit-learn in /usr/local/lib/python3.6/dist-packages (from fastai) (0.22.2.post1)\n",
            "Requirement already satisfied, skipping upgrade: requests in /usr/local/lib/python3.6/dist-packages (from fastai) (2.23.0)\n",
            "Requirement already satisfied, skipping upgrade: matplotlib in /usr/local/lib/python3.6/dist-packages (from fastai) (3.2.2)\n",
            "Requirement already satisfied, skipping upgrade: fastcore>=1.3.0 in /usr/local/lib/python3.6/dist-packages (from fastai) (1.3.1)\n",
            "Requirement already satisfied, skipping upgrade: scipy in /usr/local/lib/python3.6/dist-packages (from fastai) (1.4.1)\n",
            "Requirement already satisfied, skipping upgrade: torchvision>=0.8 in /usr/local/lib/python3.6/dist-packages (from fastai) (0.8.1+cu101)\n",
            "Requirement already satisfied, skipping upgrade: pandas in /usr/local/lib/python3.6/dist-packages (from fastai) (1.1.4)\n",
            "Requirement already satisfied, skipping upgrade: pip in /usr/local/lib/python3.6/dist-packages (from fastai) (19.3.1)\n",
            "Requirement already satisfied, skipping upgrade: spacy in /usr/local/lib/python3.6/dist-packages (from fastai) (2.2.4)\n",
            "Requirement already satisfied, skipping upgrade: pyparsing>=2.0.2 in /usr/local/lib/python3.6/dist-packages (from packaging->fastai) (2.4.7)\n",
            "Requirement already satisfied, skipping upgrade: six in /usr/local/lib/python3.6/dist-packages (from packaging->fastai) (1.15.0)\n",
            "Requirement already satisfied, skipping upgrade: numpy in /usr/local/lib/python3.6/dist-packages (from fastprogress>=0.2.4->fastai) (1.18.5)\n",
            "Requirement already satisfied, skipping upgrade: future in /usr/local/lib/python3.6/dist-packages (from torch>=1.7.0->fastai) (0.16.0)\n",
            "Requirement already satisfied, skipping upgrade: dataclasses in /usr/local/lib/python3.6/dist-packages (from torch>=1.7.0->fastai) (0.7)\n",
            "Requirement already satisfied, skipping upgrade: typing-extensions in /usr/local/lib/python3.6/dist-packages (from torch>=1.7.0->fastai) (3.7.4.3)\n",
            "Requirement already satisfied, skipping upgrade: joblib>=0.11 in /usr/local/lib/python3.6/dist-packages (from scikit-learn->fastai) (0.17.0)\n",
            "Requirement already satisfied, skipping upgrade: urllib3!=1.25.0,!=1.25.1,<1.26,>=1.21.1 in /usr/local/lib/python3.6/dist-packages (from requests->fastai) (1.24.3)\n",
            "Requirement already satisfied, skipping upgrade: idna<3,>=2.5 in /usr/local/lib/python3.6/dist-packages (from requests->fastai) (2.10)\n",
            "Requirement already satisfied, skipping upgrade: chardet<4,>=3.0.2 in /usr/local/lib/python3.6/dist-packages (from requests->fastai) (3.0.4)\n",
            "Requirement already satisfied, skipping upgrade: certifi>=2017.4.17 in /usr/local/lib/python3.6/dist-packages (from requests->fastai) (2020.6.20)\n",
            "Requirement already satisfied, skipping upgrade: kiwisolver>=1.0.1 in /usr/local/lib/python3.6/dist-packages (from matplotlib->fastai) (1.3.1)\n",
            "Requirement already satisfied, skipping upgrade: python-dateutil>=2.1 in /usr/local/lib/python3.6/dist-packages (from matplotlib->fastai) (2.8.1)\n",
            "Requirement already satisfied, skipping upgrade: cycler>=0.10 in /usr/local/lib/python3.6/dist-packages (from matplotlib->fastai) (0.10.0)\n",
            "Requirement already satisfied, skipping upgrade: pytz>=2017.2 in /usr/local/lib/python3.6/dist-packages (from pandas->fastai) (2018.9)\n",
            "Requirement already satisfied, skipping upgrade: murmurhash<1.1.0,>=0.28.0 in /usr/local/lib/python3.6/dist-packages (from spacy->fastai) (1.0.3)\n",
            "Requirement already satisfied, skipping upgrade: plac<1.2.0,>=0.9.6 in /usr/local/lib/python3.6/dist-packages (from spacy->fastai) (1.1.3)\n",
            "Requirement already satisfied, skipping upgrade: wasabi<1.1.0,>=0.4.0 in /usr/local/lib/python3.6/dist-packages (from spacy->fastai) (0.8.0)\n",
            "Requirement already satisfied, skipping upgrade: setuptools in /usr/local/lib/python3.6/dist-packages (from spacy->fastai) (50.3.2)\n",
            "Requirement already satisfied, skipping upgrade: thinc==7.4.0 in /usr/local/lib/python3.6/dist-packages (from spacy->fastai) (7.4.0)\n",
            "Requirement already satisfied, skipping upgrade: blis<0.5.0,>=0.4.0 in /usr/local/lib/python3.6/dist-packages (from spacy->fastai) (0.4.1)\n",
            "Requirement already satisfied, skipping upgrade: catalogue<1.1.0,>=0.0.7 in /usr/local/lib/python3.6/dist-packages (from spacy->fastai) (1.0.0)\n",
            "Requirement already satisfied, skipping upgrade: tqdm<5.0.0,>=4.38.0 in /usr/local/lib/python3.6/dist-packages (from spacy->fastai) (4.41.1)\n",
            "Requirement already satisfied, skipping upgrade: srsly<1.1.0,>=1.0.2 in /usr/local/lib/python3.6/dist-packages (from spacy->fastai) (1.0.2)\n",
            "Requirement already satisfied, skipping upgrade: preshed<3.1.0,>=3.0.2 in /usr/local/lib/python3.6/dist-packages (from spacy->fastai) (3.0.2)\n",
            "Requirement already satisfied, skipping upgrade: cymem<2.1.0,>=2.0.2 in /usr/local/lib/python3.6/dist-packages (from spacy->fastai) (2.0.4)\n",
            "Requirement already satisfied, skipping upgrade: importlib-metadata>=0.20; python_version < \"3.8\" in /usr/local/lib/python3.6/dist-packages (from catalogue<1.1.0,>=0.0.7->spacy->fastai) (2.0.0)\n",
            "Requirement already satisfied, skipping upgrade: zipp>=0.5 in /usr/local/lib/python3.6/dist-packages (from importlib-metadata>=0.20; python_version < \"3.8\"->catalogue<1.1.0,>=0.0.7->spacy->fastai) (3.4.0)\n"
          ],
          "name": "stdout"
        }
      ]
    },
    {
      "cell_type": "code",
      "metadata": {
        "id": "ljDmxhvUdJbY",
        "outputId": "e748b5ac-201e-4de9-c036-74529f5b02b5",
        "colab": {
          "base_uri": "https://localhost:8080/"
        }
      },
      "source": [
        "fastbook.setup_book()"
      ],
      "execution_count": 4,
      "outputs": [
        {
          "output_type": "stream",
          "text": [
            "Mounted at /content/gdrive\n"
          ],
          "name": "stdout"
        }
      ]
    },
    {
      "cell_type": "code",
      "metadata": {
        "id": "C1DUYIp_dosm"
      },
      "source": [
        "# from fastai import *\n",
        "from fastbook import *"
      ],
      "execution_count": 5,
      "outputs": []
    },
    {
      "cell_type": "code",
      "metadata": {
        "id": "FcEwVZU5dzeQ"
      },
      "source": [
        "from fastai.vision.all import *"
      ],
      "execution_count": 6,
      "outputs": []
    },
    {
      "cell_type": "code",
      "metadata": {
        "id": "yTpTcFh8d6Pu",
        "outputId": "ea1dde42-0ddd-4765-d273-9c1ac4c37d44",
        "colab": {
          "base_uri": "https://localhost:8080/",
          "height": 17
        }
      },
      "source": [
        "path = untar_data(URLs.PASCAL_2007)"
      ],
      "execution_count": 7,
      "outputs": [
        {
          "output_type": "display_data",
          "data": {
            "text/html": [
              ""
            ],
            "text/plain": [
              "<IPython.core.display.HTML object>"
            ]
          },
          "metadata": {
            "tags": []
          }
        }
      ]
    },
    {
      "cell_type": "code",
      "metadata": {
        "id": "xRRgZOW8eCr-",
        "outputId": "0bdd85c7-fed2-4125-920e-a008c7a22009",
        "colab": {
          "base_uri": "https://localhost:8080/"
        }
      },
      "source": [
        " path.ls()"
      ],
      "execution_count": 8,
      "outputs": [
        {
          "output_type": "execute_result",
          "data": {
            "text/plain": [
              "(#8) [Path('/root/.fastai/data/pascal_2007/test'),Path('/root/.fastai/data/pascal_2007/test.json'),Path('/root/.fastai/data/pascal_2007/valid.json'),Path('/root/.fastai/data/pascal_2007/train.csv'),Path('/root/.fastai/data/pascal_2007/segmentation'),Path('/root/.fastai/data/pascal_2007/test.csv'),Path('/root/.fastai/data/pascal_2007/train.json'),Path('/root/.fastai/data/pascal_2007/train')]"
            ]
          },
          "metadata": {
            "tags": []
          },
          "execution_count": 8
        }
      ]
    },
    {
      "cell_type": "code",
      "metadata": {
        "id": "qd4fF1cefl-c",
        "outputId": "ea228de1-980d-499b-d36a-49035b419055",
        "colab": {
          "base_uri": "https://localhost:8080/",
          "height": 195
        }
      },
      "source": [
        "df = pd.read_csv(path/'train.csv')\n",
        "df.head()"
      ],
      "execution_count": 9,
      "outputs": [
        {
          "output_type": "execute_result",
          "data": {
            "text/html": [
              "<div>\n",
              "<style scoped>\n",
              "    .dataframe tbody tr th:only-of-type {\n",
              "        vertical-align: middle;\n",
              "    }\n",
              "\n",
              "    .dataframe tbody tr th {\n",
              "        vertical-align: top;\n",
              "    }\n",
              "\n",
              "    .dataframe thead th {\n",
              "        text-align: right;\n",
              "    }\n",
              "</style>\n",
              "<table border=\"1\" class=\"dataframe\">\n",
              "  <thead>\n",
              "    <tr style=\"text-align: right;\">\n",
              "      <th></th>\n",
              "      <th>fname</th>\n",
              "      <th>labels</th>\n",
              "      <th>is_valid</th>\n",
              "    </tr>\n",
              "  </thead>\n",
              "  <tbody>\n",
              "    <tr>\n",
              "      <th>0</th>\n",
              "      <td>000005.jpg</td>\n",
              "      <td>chair</td>\n",
              "      <td>True</td>\n",
              "    </tr>\n",
              "    <tr>\n",
              "      <th>1</th>\n",
              "      <td>000007.jpg</td>\n",
              "      <td>car</td>\n",
              "      <td>True</td>\n",
              "    </tr>\n",
              "    <tr>\n",
              "      <th>2</th>\n",
              "      <td>000009.jpg</td>\n",
              "      <td>horse person</td>\n",
              "      <td>True</td>\n",
              "    </tr>\n",
              "    <tr>\n",
              "      <th>3</th>\n",
              "      <td>000012.jpg</td>\n",
              "      <td>car</td>\n",
              "      <td>False</td>\n",
              "    </tr>\n",
              "    <tr>\n",
              "      <th>4</th>\n",
              "      <td>000016.jpg</td>\n",
              "      <td>bicycle</td>\n",
              "      <td>True</td>\n",
              "    </tr>\n",
              "  </tbody>\n",
              "</table>\n",
              "</div>"
            ],
            "text/plain": [
              "        fname        labels  is_valid\n",
              "0  000005.jpg         chair      True\n",
              "1  000007.jpg           car      True\n",
              "2  000009.jpg  horse person      True\n",
              "3  000012.jpg           car     False\n",
              "4  000016.jpg       bicycle      True"
            ]
          },
          "metadata": {
            "tags": []
          },
          "execution_count": 9
        }
      ]
    },
    {
      "cell_type": "markdown",
      "metadata": {
        "id": "JlF48U1sf-mt"
      },
      "source": [
        "## construct DataLoaders"
      ]
    },
    {
      "cell_type": "code",
      "metadata": {
        "id": "bZ-taJ_biDaf",
        "outputId": "64eaf1c9-10ed-4b45-b109-dfc0593c44fc",
        "colab": {
          "base_uri": "https://localhost:8080/"
        }
      },
      "source": [
        "a = list(enumerate(string.ascii_lowercase))\n",
        "a[:5], len(a)"
      ],
      "execution_count": 10,
      "outputs": [
        {
          "output_type": "execute_result",
          "data": {
            "text/plain": [
              "([(0, 'a'), (1, 'b'), (2, 'c'), (3, 'd'), (4, 'e')], 26)"
            ]
          },
          "metadata": {
            "tags": []
          },
          "execution_count": 10
        }
      ]
    },
    {
      "cell_type": "code",
      "metadata": {
        "id": "MKR1mUfAiDpi"
      },
      "source": [
        "dl_a = DataLoader(a, batch_size=8, shuffle=True)\n",
        "b = first(dl_a)"
      ],
      "execution_count": 11,
      "outputs": []
    },
    {
      "cell_type": "code",
      "metadata": {
        "id": "YQs_SmrQiDQf",
        "outputId": "4498fae9-28ab-4eed-de2f-eefe7f60de61",
        "colab": {
          "base_uri": "https://localhost:8080/"
        }
      },
      "source": [
        "b"
      ],
      "execution_count": 12,
      "outputs": [
        {
          "output_type": "execute_result",
          "data": {
            "text/plain": [
              "(tensor([ 7, 24, 17, 21,  5, 19,  9, 15]),\n",
              " ('h', 'y', 'r', 'v', 'f', 't', 'j', 'p'))"
            ]
          },
          "metadata": {
            "tags": []
          },
          "execution_count": 12
        }
      ]
    },
    {
      "cell_type": "code",
      "metadata": {
        "id": "0mLTqiAP0Exx",
        "outputId": "9d7a00ca-1ff5-4334-bd03-6ba0c7a3d6ac",
        "colab": {
          "base_uri": "https://localhost:8080/"
        }
      },
      "source": [
        "list(zip(b[0], b[1]))"
      ],
      "execution_count": 13,
      "outputs": [
        {
          "output_type": "execute_result",
          "data": {
            "text/plain": [
              "[(tensor(7), 'h'),\n",
              " (tensor(24), 'y'),\n",
              " (tensor(17), 'r'),\n",
              " (tensor(21), 'v'),\n",
              " (tensor(5), 'f'),\n",
              " (tensor(19), 't'),\n",
              " (tensor(9), 'j'),\n",
              " (tensor(15), 'p')]"
            ]
          },
          "metadata": {
            "tags": []
          },
          "execution_count": 13
        }
      ]
    },
    {
      "cell_type": "code",
      "metadata": {
        "id": "3TakRVv_0FK2",
        "outputId": "252efcb5-32f4-4176-dbcb-2d454db33258",
        "colab": {
          "base_uri": "https://localhost:8080/"
        }
      },
      "source": [
        "# * \n",
        "\n",
        "list(zip(*b))"
      ],
      "execution_count": 14,
      "outputs": [
        {
          "output_type": "execute_result",
          "data": {
            "text/plain": [
              "[(tensor(7), 'h'),\n",
              " (tensor(24), 'y'),\n",
              " (tensor(17), 'r'),\n",
              " (tensor(21), 'v'),\n",
              " (tensor(5), 'f'),\n",
              " (tensor(19), 't'),\n",
              " (tensor(9), 'j'),\n",
              " (tensor(15), 'p')]"
            ]
          },
          "metadata": {
            "tags": []
          },
          "execution_count": 14
        }
      ]
    },
    {
      "cell_type": "code",
      "metadata": {
        "id": "0Uw67scc0E4H",
        "outputId": "4ead34bc-445f-4484-f373-087676f1c01d",
        "colab": {
          "base_uri": "https://localhost:8080/"
        }
      },
      "source": [
        "a = list('abcde')\n",
        "dss = Datasets(a)\n",
        "dss[0]"
      ],
      "execution_count": 15,
      "outputs": [
        {
          "output_type": "execute_result",
          "data": {
            "text/plain": [
              "('a',)"
            ]
          },
          "metadata": {
            "tags": []
          },
          "execution_count": 15
        }
      ]
    },
    {
      "cell_type": "code",
      "metadata": {
        "id": "g3J9dKa60E1L"
      },
      "source": [
        "# functions to AAcompute dependent and independent variable (add 'a' or 'b' on the end)\n",
        "def f1(x): return x+'a'\n",
        "def f2(x): return x+'b'"
      ],
      "execution_count": 16,
      "outputs": []
    },
    {
      "cell_type": "code",
      "metadata": {
        "id": "h-bC3yu25ORl",
        "outputId": "7300603a-7d52-4425-b418-8a7c3ef90f86",
        "colab": {
          "base_uri": "https://localhost:8080/"
        }
      },
      "source": [
        "dss = Datasets(a, [[f1]])\n",
        "dss"
      ],
      "execution_count": 17,
      "outputs": [
        {
          "output_type": "execute_result",
          "data": {
            "text/plain": [
              "(#5) [('aa',),('ba',),('ca',),('da',),('ea',)]"
            ]
          },
          "metadata": {
            "tags": []
          },
          "execution_count": 17
        }
      ]
    },
    {
      "cell_type": "code",
      "metadata": {
        "id": "WaMfFl-O52WV",
        "outputId": "4f7127e0-5b18-41f6-f839-b809e693bdec",
        "colab": {
          "base_uri": "https://localhost:8080/"
        }
      },
      "source": [
        "# put multple functions: it does multiple things\n",
        "Datasets(a, [[f1, f2]])"
      ],
      "execution_count": 18,
      "outputs": [
        {
          "output_type": "execute_result",
          "data": {
            "text/plain": [
              "(#5) [('aab',),('bab',),('cab',),('dab',),('eab',)]"
            ]
          },
          "metadata": {
            "tags": []
          },
          "execution_count": 18
        }
      ]
    },
    {
      "cell_type": "code",
      "metadata": {
        "id": "jsfO9SzT52vj",
        "outputId": "1c5584c9-8aba-473c-968d-6d698ee39639",
        "colab": {
          "base_uri": "https://localhost:8080/"
        }
      },
      "source": [
        "# a jeśli tylko w pojedynczym nawiasie, to zrobi tupla inaczej:\n",
        "# bo: the first lsit of functions builds independent variables - np. open image and convert it to an array, \n",
        "# the second list of functions: dependent variables (i.e. function that creates labels from filenames)\n",
        "\n",
        "dss = Datasets(a,[[f1], [f2]])\n",
        "dss"
      ],
      "execution_count": 19,
      "outputs": [
        {
          "output_type": "execute_result",
          "data": {
            "text/plain": [
              "(#5) [('aa', 'ab'),('ba', 'bb'),('ca', 'cb'),('da', 'db'),('ea', 'eb')]"
            ]
          },
          "metadata": {
            "tags": []
          },
          "execution_count": 19
        }
      ]
    },
    {
      "cell_type": "code",
      "metadata": {
        "id": "2a0Rwl9452gC",
        "outputId": "1d536039-a804-43b3-99e8-c43eb25f18f9",
        "colab": {
          "base_uri": "https://localhost:8080/"
        }
      },
      "source": [
        "# now: dataloaders\n",
        "dls = DataLoaders.from_dsets(dss, batch_size = 4)\n",
        "first(dls.train)"
      ],
      "execution_count": 20,
      "outputs": [
        {
          "output_type": "execute_result",
          "data": {
            "text/plain": [
              "(('ea', 'ca', 'da', 'ba'), ('eb', 'cb', 'db', 'bb'))"
            ]
          },
          "metadata": {
            "tags": []
          },
          "execution_count": 20
        }
      ]
    },
    {
      "cell_type": "code",
      "metadata": {
        "id": "GM60oVBo52dF",
        "outputId": "2e8ccc30-2986-4009-dd99-749921671b20",
        "colab": {
          "base_uri": "https://localhost:8080/"
        }
      },
      "source": [
        "first(dls.train)"
      ],
      "execution_count": 21,
      "outputs": [
        {
          "output_type": "execute_result",
          "data": {
            "text/plain": [
              "(('da', 'aa', 'ca', 'ba'), ('db', 'ab', 'cb', 'bb'))"
            ]
          },
          "metadata": {
            "tags": []
          },
          "execution_count": 21
        }
      ]
    },
    {
      "cell_type": "markdown",
      "metadata": {
        "id": "Er5MrXKW52S7"
      },
      "source": [
        "# Datablock\n",
        "what it does"
      ]
    },
    {
      "cell_type": "code",
      "metadata": {
        "id": "BFBtgpizhgha"
      },
      "source": [
        "#create empty datablock\n",
        "dblock = DataBlock()"
      ],
      "execution_count": 22,
      "outputs": []
    },
    {
      "cell_type": "code",
      "metadata": {
        "id": "BojAGcbsRb64",
        "outputId": "1826875e-68d1-44b1-86ad-ce640f97a146",
        "colab": {
          "base_uri": "https://localhost:8080/"
        }
      },
      "source": [
        "dsets = dblock.datasets(df)\n",
        "# it creates train and valid datasets\n",
        "len(dsets.train), len(dsets.valid)"
      ],
      "execution_count": 23,
      "outputs": [
        {
          "output_type": "execute_result",
          "data": {
            "text/plain": [
              "(4009, 1002)"
            ]
          },
          "metadata": {
            "tags": []
          },
          "execution_count": 23
        }
      ]
    },
    {
      "cell_type": "code",
      "metadata": {
        "id": "yzh74mcfR2Zo",
        "outputId": "2aa9422d-a023-4179-f2b8-80993343858f",
        "colab": {
          "base_uri": "https://localhost:8080/"
        }
      },
      "source": [
        "# and independent and dependent variable\n",
        "x,y = dsets.train[0]\n",
        "x"
      ],
      "execution_count": 24,
      "outputs": [
        {
          "output_type": "execute_result",
          "data": {
            "text/plain": [
              "fname         009659.jpg\n",
              "labels      chair person\n",
              "is_valid           False\n",
              "Name: 4856, dtype: object"
            ]
          },
          "metadata": {
            "tags": []
          },
          "execution_count": 24
        }
      ]
    },
    {
      "cell_type": "code",
      "metadata": {
        "id": "av-lovsOR_6o",
        "outputId": "645b3dc0-5673-41ca-960d-070c035c3a4e",
        "colab": {
          "base_uri": "https://localhost:8080/"
        }
      },
      "source": [
        "# the same, then: by default, the data block assumes we have two things: input and target.\n",
        "y"
      ],
      "execution_count": 25,
      "outputs": [
        {
          "output_type": "execute_result",
          "data": {
            "text/plain": [
              "fname         009659.jpg\n",
              "labels      chair person\n",
              "is_valid           False\n",
              "Name: 4856, dtype: object"
            ]
          },
          "metadata": {
            "tags": []
          },
          "execution_count": 25
        }
      ]
    },
    {
      "cell_type": "code",
      "metadata": {
        "id": "K1S_xqA5SF5e",
        "outputId": "3bcc977b-53df-45ac-a37a-cc76e9c67604",
        "colab": {
          "base_uri": "https://localhost:8080/"
        }
      },
      "source": [
        "dblock = DataBlock(get_x = lambda x: x['fname'], get_y= lambda x: x['labels'])\n",
        "dsets = dblock.datasets(df)\n",
        "dsets.train[0]"
      ],
      "execution_count": 26,
      "outputs": [
        {
          "output_type": "execute_result",
          "data": {
            "text/plain": [
              "('004558.jpg', 'pottedplant')"
            ]
          },
          "metadata": {
            "tags": []
          },
          "execution_count": 26
        }
      ]
    },
    {
      "cell_type": "code",
      "metadata": {
        "id": "mf3tf-S7TSGH",
        "outputId": "7f02e545-fb40-499b-b973-ba37db6481c5",
        "colab": {
          "base_uri": "https://localhost:8080/"
        }
      },
      "source": [
        "# x: independent variable: we we open the images, y - labels, \n",
        "# ! x - should be rather with the path\n",
        "\n",
        "def get_x(x): return path/'train'/x['fname'] # directory path + filename\n",
        "def get_y(x): return x['labels'].split()\n",
        "\n",
        "dblock = DataBlock(get_x = get_x, get_y = get_y)\n",
        "dsets = dblock.datasets(df)\n",
        "dsets.train[0]"
      ],
      "execution_count": 27,
      "outputs": [
        {
          "output_type": "execute_result",
          "data": {
            "text/plain": [
              "(Path('/root/.fastai/data/pascal_2007/train/003608.jpg'), ['car'])"
            ]
          },
          "metadata": {
            "tags": []
          },
          "execution_count": 27
        }
      ]
    },
    {
      "cell_type": "code",
      "metadata": {
        "id": "T-5wuI3JWY0E",
        "outputId": "03c0e7f2-8e73-4042-9abb-4e7d0d12222f",
        "colab": {
          "base_uri": "https://localhost:8080/"
        }
      },
      "source": [
        "# To actually open the image and do the conversion to tensors, we will need to use a set of transforms = block types: \n",
        "\n",
        "dblock = DataBlock(blocks = (ImageBlock, MultiCategoryBlock),  get_x = get_x, get_y = get_y)\n",
        "dsets = dblock.datasets(df)\n",
        "dsets.train[0]"
      ],
      "execution_count": 28,
      "outputs": [
        {
          "output_type": "execute_result",
          "data": {
            "text/plain": [
              "(PILImage mode=RGB size=500x332,\n",
              " TensorMultiCategory([0., 0., 0., 0., 0., 1., 1., 0., 0., 0., 0., 0., 0., 0., 1., 0., 0., 0., 0., 0.]))"
            ]
          },
          "metadata": {
            "tags": []
          },
          "execution_count": 28
        }
      ]
    },
    {
      "cell_type": "code",
      "metadata": {
        "id": "AaHcu4dXWlxn"
      },
      "source": [
        "# MultiCategoryBlock: od razu konwertuje na liczby\n",
        "# one hot encoding\n"
      ],
      "execution_count": 29,
      "outputs": []
    },
    {
      "cell_type": "code",
      "metadata": {
        "id": "IdvBFoCTbaBf",
        "outputId": "187a3f62-da4b-4fad-fe63-59661d66dd80",
        "colab": {
          "base_uri": "https://localhost:8080/"
        }
      },
      "source": [
        "dsets.train[0]\n",
        "# chcemy drugi block, labels:"
      ],
      "execution_count": 30,
      "outputs": [
        {
          "output_type": "execute_result",
          "data": {
            "text/plain": [
              "(PILImage mode=RGB size=500x332,\n",
              " TensorMultiCategory([0., 0., 0., 0., 0., 1., 1., 0., 0., 0., 0., 0., 0., 0., 1., 0., 0., 0., 0., 0.]))"
            ]
          },
          "metadata": {
            "tags": []
          },
          "execution_count": 30
        }
      ]
    },
    {
      "cell_type": "code",
      "metadata": {
        "id": "rR3MoUuSWpOk",
        "outputId": "d192ec6c-6e97-4cad-d881-59c11551db30",
        "colab": {
          "base_uri": "https://localhost:8080/"
        }
      },
      "source": [
        "idxs =  torch.where(dsets.train[0][1]==1.)\n",
        "idxs"
      ],
      "execution_count": 31,
      "outputs": [
        {
          "output_type": "execute_result",
          "data": {
            "text/plain": [
              "(TensorMultiCategory([ 5,  6, 14]),)"
            ]
          },
          "metadata": {
            "tags": []
          },
          "execution_count": 31
        }
      ]
    },
    {
      "cell_type": "code",
      "metadata": {
        "id": "PVzFro6-bHeq",
        "outputId": "9c436303-4474-40d4-904e-40a107994225",
        "colab": {
          "base_uri": "https://localhost:8080/"
        }
      },
      "source": [
        "# zwróciło tuple, więc:\n",
        "idxs"
      ],
      "execution_count": 36,
      "outputs": [
        {
          "output_type": "execute_result",
          "data": {
            "text/plain": [
              "(TensorMultiCategory([ 5,  6, 14]),)"
            ]
          },
          "metadata": {
            "tags": []
          },
          "execution_count": 36
        }
      ]
    },
    {
      "cell_type": "code",
      "metadata": {
        "id": "BwEDjuKOb4dB",
        "outputId": "5d3d66f1-6395-4571-804b-7534d117f3c9",
        "colab": {
          "base_uri": "https://localhost:8080/"
        }
      },
      "source": [
        "dsets.train.vocab"
      ],
      "execution_count": 33,
      "outputs": [
        {
          "output_type": "execute_result",
          "data": {
            "text/plain": [
              "['aeroplane', 'bicycle', 'bird', 'boat', 'bottle', 'bus', 'car', 'cat', 'chair', 'cow', 'diningtable', 'dog', 'horse', 'motorbike', 'person', 'pottedplant', 'sheep', 'sofa', 'train', 'tvmonitor']"
            ]
          },
          "metadata": {
            "tags": []
          },
          "execution_count": 33
        }
      ]
    },
    {
      "cell_type": "code",
      "metadata": {
        "id": "0vIbkg7_cS0-",
        "outputId": "fd69818f-3a12-427d-da22-acf3fe0cffbc",
        "colab": {
          "base_uri": "https://localhost:8080/"
        }
      },
      "source": [
        "dsets.train.vocab[idxs[0]]"
      ],
      "execution_count": 41,
      "outputs": [
        {
          "output_type": "execute_result",
          "data": {
            "text/plain": [
              "(#3) ['bus','car','person']"
            ]
          },
          "metadata": {
            "tags": []
          },
          "execution_count": 41
        }
      ]
    },
    {
      "cell_type": "markdown",
      "metadata": {
        "id": "xGQCb69LcV0p"
      },
      "source": [
        "## splitter\n",
        "by default: DataBlock uses random split.  \n",
        "To use the information in the df: we need a function"
      ]
    },
    {
      "cell_type": "code",
      "metadata": {
        "id": "VhJRUgoHcsz2",
        "outputId": "bf12aae8-4e10-4137-ace5-01d73ae126ad",
        "colab": {
          "base_uri": "https://localhost:8080/",
          "height": 136
        }
      },
      "source": [
        "df[:3]"
      ],
      "execution_count": 42,
      "outputs": [
        {
          "output_type": "execute_result",
          "data": {
            "text/html": [
              "<div>\n",
              "<style scoped>\n",
              "    .dataframe tbody tr th:only-of-type {\n",
              "        vertical-align: middle;\n",
              "    }\n",
              "\n",
              "    .dataframe tbody tr th {\n",
              "        vertical-align: top;\n",
              "    }\n",
              "\n",
              "    .dataframe thead th {\n",
              "        text-align: right;\n",
              "    }\n",
              "</style>\n",
              "<table border=\"1\" class=\"dataframe\">\n",
              "  <thead>\n",
              "    <tr style=\"text-align: right;\">\n",
              "      <th></th>\n",
              "      <th>fname</th>\n",
              "      <th>labels</th>\n",
              "      <th>is_valid</th>\n",
              "    </tr>\n",
              "  </thead>\n",
              "  <tbody>\n",
              "    <tr>\n",
              "      <th>0</th>\n",
              "      <td>000005.jpg</td>\n",
              "      <td>chair</td>\n",
              "      <td>True</td>\n",
              "    </tr>\n",
              "    <tr>\n",
              "      <th>1</th>\n",
              "      <td>000007.jpg</td>\n",
              "      <td>car</td>\n",
              "      <td>True</td>\n",
              "    </tr>\n",
              "    <tr>\n",
              "      <th>2</th>\n",
              "      <td>000009.jpg</td>\n",
              "      <td>horse person</td>\n",
              "      <td>True</td>\n",
              "    </tr>\n",
              "  </tbody>\n",
              "</table>\n",
              "</div>"
            ],
            "text/plain": [
              "        fname        labels  is_valid\n",
              "0  000005.jpg         chair      True\n",
              "1  000007.jpg           car      True\n",
              "2  000009.jpg  horse person      True"
            ]
          },
          "metadata": {
            "tags": []
          },
          "execution_count": 42
        }
      ]
    },
    {
      "cell_type": "code",
      "metadata": {
        "id": "FaPwUecvc-G_"
      },
      "source": [
        "def splitter(df):\n",
        "  train = df.index[~df.is_valid].tolist()\n",
        "  valid = df.index[df.is_valid].tolist()\n",
        "  return train, valid\n",
        "  # returns 2 lists of indexes"
      ],
      "execution_count": 43,
      "outputs": []
    },
    {
      "cell_type": "code",
      "metadata": {
        "id": "taYRHV86dd03",
        "outputId": "dbbb9586-6dcb-4e24-bc3e-6601fee0b24b",
        "colab": {
          "base_uri": "https://localhost:8080/"
        }
      },
      "source": [
        "dblock = DataBlock(\n",
        "    blocks = (ImageBlock, MultiCategoryBlock),\n",
        "    splitter = splitter,\n",
        "    get_x = get_x, get_y = get_y\n",
        ")\n",
        "dsets = dblock.datasets(df)\n",
        "dsets.train[0]"
      ],
      "execution_count": 44,
      "outputs": [
        {
          "output_type": "execute_result",
          "data": {
            "text/plain": [
              "(PILImage mode=RGB size=500x333,\n",
              " TensorMultiCategory([0., 0., 0., 0., 0., 0., 1., 0., 0., 0., 0., 0., 0., 0., 0., 0., 0., 0., 0., 0.]))"
            ]
          },
          "metadata": {
            "tags": []
          },
          "execution_count": 44
        }
      ]
    },
    {
      "cell_type": "code",
      "metadata": {
        "id": "VfbGLGn4dwRw"
      },
      "source": [
        "# again: to split it to mini batches: dataloader\n",
        "# + every item must have same size\n",
        "\n",
        "dblock = DataBlock(blocks = (ImageBlock, MultiCategoryBlock),\n",
        "                   splitter = splitter,\n",
        "                   get_x = get_x, get_y = get_y,\n",
        "                   item_tfms = RandomResizedCrop(256, min_scale=.35)\n",
        "                   )\n",
        "                   \n",
        "dls = dblock.dataloaders(df)\n",
        "# tym razem do dataloader, nie datasets"
      ],
      "execution_count": 45,
      "outputs": []
    },
    {
      "cell_type": "code",
      "metadata": {
        "id": "Ia4x2lKtgHC2",
        "outputId": "db522895-5ecb-4a7f-b211-89b9ce0e19a4",
        "colab": {
          "base_uri": "https://localhost:8080/",
          "height": 193
        }
      },
      "source": [
        "dls.show_batch(nrows = 1, ncols = 4)"
      ],
      "execution_count": 46,
      "outputs": [
        {
          "output_type": "display_data",
          "data": {
            "image/png": "[encoded data removed]",
            "text/plain": [
              "<Figure size 864x216 with 4 Axes>"
            ]
          },
          "metadata": {
            "tags": [],
            "needs_background": "light"
          }
        }
      ]
    },
    {
      "cell_type": "markdown",
      "metadata": {
        "id": "heihChkHgQE3"
      },
      "source": [
        "# binary cross-entropy"
      ]
    },
    {
      "cell_type": "code",
      "metadata": {
        "id": "B--Ow3wZiLtD",
        "outputId": "637081c6-392d-4a96-f170-465a49689527",
        "colab": {
          "base_uri": "https://localhost:8080/",
          "height": 82,
          "referenced_widgets": [
            "a298f0bb58764707a6728be2f6789aec",
            "a0db0476fe7f462780fe5c45a1a2d72a",
            "18f75e6ad6104a39aca807c699627928",
            "b5eff9174bc54420b7465a570602d393",
            "30fac887a25a48659cb9aef651b610f7",
            "7f57700322724cc0b970a0997fd69648",
            "64df42dc10a64a229bfded2abc67a1b1",
            "e68b1c45fd534d8ab7e47a95738e818d"
          ]
        }
      },
      "source": [
        "learn = cnn_learner(dls, resnet18)"
      ],
      "execution_count": 47,
      "outputs": [
        {
          "output_type": "stream",
          "text": [
            "Downloading: \"https://download.pytorch.org/models/resnet18-5c106cde.pth\" to /root/.cache/torch/hub/checkpoints/resnet18-5c106cde.pth\n"
          ],
          "name": "stderr"
        },
        {
          "output_type": "display_data",
          "data": {
            "application/vnd.jupyter.widget-view+json": {
              "model_id": "a298f0bb58764707a6728be2f6789aec",
              "version_minor": 0,
              "version_major": 2
            },
            "text/plain": [
              "HBox(children=(FloatProgress(value=0.0, max=46827520.0), HTML(value='')))"
            ]
          },
          "metadata": {
            "tags": []
          }
        },
        {
          "output_type": "stream",
          "text": [
            "\n"
          ],
          "name": "stdout"
        }
      ]
    },
    {
      "cell_type": "code",
      "metadata": {
        "id": "pCYQr4VaiQQc",
        "outputId": "03db345f-3c6a-4994-bb1b-e034a937eaf5",
        "colab": {
          "base_uri": "https://localhost:8080/"
        }
      },
      "source": [
        "# to avoid the error: model is on the GPU, but your data is on the CPU\n",
        "# \"RuntimeError: Input type (torch.cuda.FloatTensor) and weight type (torch.FloatTensor) should be the same\"\n",
        "device = torch.device(\"cuda:0\" if torch.cuda.is_available() else \"cpu\")\n",
        "\n",
        "x,y = dls.train.one_batch()\n",
        "# to avoid this issue:\n",
        "# hura, wybrnąłem!!!\n",
        "# x,y = x.to(device), y.to(device) - gdyby było odwrotnie, tu juz inputs są w cuda, model nie był\n",
        "learn.model.to(device)\n",
        "\n",
        "# get activations from the final layer\n",
        "activs = learn.model(x)\n",
        "activs.shape"
      ],
      "execution_count": 48,
      "outputs": [
        {
          "output_type": "execute_result",
          "data": {
            "text/plain": [
              "torch.Size([64, 20])"
            ]
          },
          "metadata": {
            "tags": []
          },
          "execution_count": 48
        }
      ]
    },
    {
      "cell_type": "code",
      "metadata": {
        "id": "iSZngJE_nDhP"
      },
      "source": [
        "# zawsze warto sprawdzić shape"
      ],
      "execution_count": 54,
      "outputs": []
    },
    {
      "cell_type": "code",
      "metadata": {
        "id": "vNh5rqWEiczS",
        "outputId": "0bbed5e1-475b-43e1-c213-817d845f7d67",
        "colab": {
          "base_uri": "https://localhost:8080/"
        }
      },
      "source": [
        "device"
      ],
      "execution_count": 49,
      "outputs": [
        {
          "output_type": "execute_result",
          "data": {
            "text/plain": [
              "device(type='cuda', index=0)"
            ]
          },
          "metadata": {
            "tags": []
          },
          "execution_count": 49
        }
      ]
    },
    {
      "cell_type": "code",
      "metadata": {
        "id": "V2lbeJ8FilU8",
        "outputId": "b559147c-3d64-4644-ec3c-8fa97dcc0e74",
        "colab": {
          "base_uri": "https://localhost:8080/"
        }
      },
      "source": [
        "# size: 64, 20, cause: batch size = 64, 20 categories\n",
        "activs[7]"
      ],
      "execution_count": 50,
      "outputs": [
        {
          "output_type": "execute_result",
          "data": {
            "text/plain": [
              "TensorImage([ 0.7319,  0.6979,  0.4710,  1.3550,  2.1693,  0.3994, -0.3846,  0.5375,  1.8472, -3.2663, -0.1576,  1.8706, -0.6025,  0.4468,  0.2778,  1.8956,  1.7622, -0.7273, -1.7940,  0.4583],\n",
              "       device='cuda:0', grad_fn=<AliasBackward>)"
            ]
          },
          "metadata": {
            "tags": []
          },
          "execution_count": 50
        }
      ]
    },
    {
      "cell_type": "code",
      "metadata": {
        "id": "T_GJTcjSkeRc"
      },
      "source": [
        "# the activations: not the trained model, random set of final layer weights, this number doesn't mean anything\n",
        "# they are not between 0 and 1 (sigmoid!!!!)"
      ],
      "execution_count": 51,
      "outputs": []
    },
    {
      "cell_type": "code",
      "metadata": {
        "id": "ncBHZqdzqppl"
      },
      "source": [
        "\n",
        "# binary cross entropy loss function - same as MNIST_loss + log\n",
        "\n",
        "# \n",
        "\n",
        "def binary_cross_entropy(inputs, targets):\n",
        "  inputs = inputs.sigmoid()\n",
        "  return -torch.where(targets == 1, inputs, 1-inputs).log().mean()\n"
      ],
      "execution_count": 52,
      "outputs": []
    },
    {
      "cell_type": "markdown",
      "metadata": {
        "id": "L0QdXEeCnlMo"
      },
      "source": [
        "## broadcasting\n",
        "in Pytorch:  \n",
        "the function binary_cross_entropy - is broadcasted in the whole matrix (applied to every column)  \n",
        "= it checks, is this the category? (is this a dog/bus/plane...) "
      ]
    },
    {
      "cell_type": "code",
      "metadata": {
        "id": "kejLewrytY3r",
        "outputId": "26f9a38e-df32-461c-eacf-26f6ea5fc8c5",
        "colab": {
          "base_uri": "https://localhost:8080/"
        }
      },
      "source": [
        "# or: \n",
        "\n",
        "loss_func = nn.BCEWithLogitsLoss()\n",
        "loss = loss_func(activs, y)\n",
        "loss"
      ],
      "execution_count": 53,
      "outputs": [
        {
          "output_type": "execute_result",
          "data": {
            "text/plain": [
              "TensorImage(1.0774, device='cuda:0', grad_fn=<AliasBackward>)"
            ]
          },
          "metadata": {
            "tags": []
          },
          "execution_count": 53
        }
      ]
    },
    {
      "cell_type": "markdown",
      "metadata": {
        "id": "RuN7QfUztmBZ"
      },
      "source": [
        "## update metric"
      ]
    },
    {
      "cell_type": "code",
      "metadata": {
        "id": "JekEbPJJrL08"
      },
      "source": [
        "# normal:\n",
        "def accuracy(input, target, axis = -1):\n",
        "  ''' pred is bs * n_classes '''\n",
        "  pred = input.argmax(dim = axis)\n",
        "  # what is the index for the largest activation? np. przy liczbach 0-9: przy 7\n",
        "  return (pred == target).float().mean()\n",
        "  ## czyli na 100 pictures: 89 zgadl prawidłowo, mean = 89 * 1 + 11 * 00 / 100 = 89$\n",
        "\n",
        "  # updated:\n",
        "  def baccuracy_multi(input, target, treshold = .5, sigmoid = True):\n",
        "    ''' Compute accuracy when input and target are the same size'''\n",
        "    if sigmoid: input = input.sigmoid()\n",
        "    return ((input > trashold) == target.bool()).float().mean()\n",
        "    ## czyli sprawdza czy 1 jest dla tych samych kategorii"
      ],
      "execution_count": 88,
      "outputs": []
    },
    {
      "cell_type": "markdown",
      "metadata": {
        "id": "p_FjqP0Qs4SX"
      },
      "source": [
        "error rate = 1 - accuracy"
      ]
    },
    {
      "cell_type": "code",
      "metadata": {
        "id": "IWvBJ3EHs_F-",
        "outputId": "53360764-8545-44d4-d9c9-ccada0909e96",
        "colab": {
          "base_uri": "https://localhost:8080/"
        }
      },
      "source": [
        "# sprawdzam:\n",
        "\n",
        "inp = tensor([1,1,0,0,1])\n",
        "targ = tensor([1,1,1,1,1])\n",
        "accuracy_multi(inp, targ, sigmoid = False)\n",
        "# czyli funkcja bierze i porównuje elementwise [true true true] [false true true]\n",
        "# i o to chodzi z \"the same size\""
      ],
      "execution_count": 83,
      "outputs": [
        {
          "output_type": "execute_result",
          "data": {
            "text/plain": [
              "tensor(0.6000)"
            ]
          },
          "metadata": {
            "tags": []
          },
          "execution_count": 83
        }
      ]
    },
    {
      "cell_type": "markdown",
      "metadata": {
        "id": "wxpSTky8uApO"
      },
      "source": [
        "# partial\n",
        "Partial functions allow one to derive a function with x parameters  \n",
        "to a function with fewer parameters   \n",
        "and fixed values set for the more limited function.\n",
        "  \n",
        "I jak wynika z przykładów:  \n",
        "jeśli nie podamy nazwy argumentu:  to podstawia je od początku (matma, ostatnie)  \n",
        "5 + 4 + 3*7 = 30"
      ]
    },
    {
      "cell_type": "code",
      "metadata": {
        "id": "5QBEnas5vTkD",
        "outputId": "c60733a9-52c5-4a5c-d889-748e74d70fba",
        "colab": {
          "base_uri": "https://localhost:8080/"
        }
      },
      "source": [
        "from functools import partial\n",
        "\n",
        "def multi(x,y):\n",
        "  return x*y\n",
        "\n",
        "part = partial(multi, 2)\n",
        "part(4)\n"
      ],
      "execution_count": 63,
      "outputs": [
        {
          "output_type": "execute_result",
          "data": {
            "text/plain": [
              "8"
            ]
          },
          "metadata": {
            "tags": []
          },
          "execution_count": 63
        }
      ]
    },
    {
      "cell_type": "code",
      "metadata": {
        "id": "e4cb9aSG7bUh",
        "outputId": "c49c5119-6df9-458b-fe96-f819514175ce",
        "colab": {
          "base_uri": "https://localhost:8080/",
          "height": 52
        }
      },
      "source": [
        "def hello(name, text =  'siema'): \n",
        "  return f'{text} {name}'\n",
        "print(hello('jan', 'siema'))\n",
        "hello('kozo')"
      ],
      "execution_count": 72,
      "outputs": [
        {
          "output_type": "stream",
          "text": [
            "siema jan\n"
          ],
          "name": "stdout"
        },
        {
          "output_type": "execute_result",
          "data": {
            "application/vnd.google.colaboratory.intrinsic+json": {
              "type": "string"
            },
            "text/plain": [
              "'siema kozo'"
            ]
          },
          "metadata": {
            "tags": []
          },
          "execution_count": 72
        }
      ]
    },
    {
      "cell_type": "code",
      "metadata": {
        "id": "KBGEPeY17vXb",
        "outputId": "ffc0c006-ebd3-4796-a8ad-89167fe1e62e",
        "colab": {
          "base_uri": "https://localhost:8080/",
          "height": 35
        }
      },
      "source": [
        "part = partial(hello, text = 'koko')\n",
        "part('lola')"
      ],
      "execution_count": 73,
      "outputs": [
        {
          "output_type": "execute_result",
          "data": {
            "application/vnd.google.colaboratory.intrinsic+json": {
              "type": "string"
            },
            "text/plain": [
              "'koko lola'"
            ]
          },
          "metadata": {
            "tags": []
          },
          "execution_count": 73
        }
      ]
    },
    {
      "cell_type": "code",
      "metadata": {
        "id": "HPRlfPEf75AT",
        "outputId": "abc32525-bc9c-4a5a-d153-a4bc0c4a875f",
        "colab": {
          "base_uri": "https://localhost:8080/"
        }
      },
      "source": [
        "def matma(a,b,c):\n",
        "  return 5*a + 4*b + 3*c\n",
        "print(matma(1,2,3))\n",
        "\n",
        "part = partial(matma, 1,1)\n",
        "part(7)\n"
      ],
      "execution_count": 75,
      "outputs": [
        {
          "output_type": "stream",
          "text": [
            "22\n"
          ],
          "name": "stdout"
        },
        {
          "output_type": "execute_result",
          "data": {
            "text/plain": [
              "30"
            ]
          },
          "metadata": {
            "tags": []
          },
          "execution_count": 75
        }
      ]
    },
    {
      "cell_type": "code",
      "metadata": {
        "id": "Erw-URND9pLq",
        "outputId": "fa50ae8b-6705-4b20-9e61-34257ffa145e",
        "colab": {
          "base_uri": "https://localhost:8080/"
        }
      },
      "source": [
        "part1 = partial(matma, b=1, c=1)\n",
        "part1(2)"
      ],
      "execution_count": 78,
      "outputs": [
        {
          "output_type": "execute_result",
          "data": {
            "text/plain": [
              "17"
            ]
          },
          "metadata": {
            "tags": []
          },
          "execution_count": 78
        }
      ]
    },
    {
      "cell_type": "markdown",
      "metadata": {
        "id": "oymc2BPC-o3Q"
      },
      "source": [
        "5 * 2 + 4 * 1 + 3 * 1"
      ]
    },
    {
      "cell_type": "code",
      "metadata": {
        "id": "F7KYoPyo-xiJ",
        "outputId": "df4e83ea-91ba-4e48-ae30-9bde34ddf99e",
        "colab": {
          "base_uri": "https://localhost:8080/",
          "height": 35
        }
      },
      "source": [
        "# chodziło o to, jak wykorzystać funkcję i podmienić któryś parametr z defaultowego....\n",
        "# a nie da się tak po prostu? check:\n",
        "hello('lisa', text = 'heja')"
      ],
      "execution_count": 79,
      "outputs": [
        {
          "output_type": "execute_result",
          "data": {
            "application/vnd.google.colaboratory.intrinsic+json": {
              "type": "string"
            },
            "text/plain": [
              "'heja lisa'"
            ]
          },
          "metadata": {
            "tags": []
          },
          "execution_count": 79
        }
      ]
    },
    {
      "cell_type": "markdown",
      "metadata": {
        "id": "6sG5ZDY8BEkn"
      },
      "source": [
        "# Change 1 parameter (i.e. treshold) in metrics"
      ]
    },
    {
      "cell_type": "code",
      "metadata": {
        "id": "0ZGXx7_d_Y2f",
        "outputId": "f9a924c9-958f-474a-e73d-8a84a83a1e78",
        "colab": {
          "base_uri": "https://localhost:8080/",
          "height": 350,
          "referenced_widgets": [
            "b914e89d1d044fea87854d384ebe25d4",
            "223f20d53ffe4c43bd5a580ce4638eab",
            "16de51d3d90d4c9ba0038f4b1895a107",
            "2025f37442dc463c8728e10c32fbb686",
            "f3b09fbdfd754ba1b65748f27698c2e2",
            "2ce17fa4abfc4b008b4f96959ee0cd67",
            "0fd1df244e0f4a9ab189fe0c6e74a0f4",
            "85564c5eb6864f34b8b3a60f6c9a7850"
          ]
        }
      },
      "source": [
        "learn = cnn_learner(dls, resnet50, metrics=partial(accuracy_multi, thresh=0.2))\n",
        "learn.fine_tune(3, base_lr=3e-3, freeze_epochs=4)"
      ],
      "execution_count": 91,
      "outputs": [
        {
          "output_type": "stream",
          "text": [
            "Downloading: \"https://download.pytorch.org/models/resnet50-19c8e357.pth\" to /root/.cache/torch/hub/checkpoints/resnet50-19c8e357.pth\n"
          ],
          "name": "stderr"
        },
        {
          "output_type": "display_data",
          "data": {
            "application/vnd.jupyter.widget-view+json": {
              "model_id": "b914e89d1d044fea87854d384ebe25d4",
              "version_minor": 0,
              "version_major": 2
            },
            "text/plain": [
              "HBox(children=(FloatProgress(value=0.0, max=102502400.0), HTML(value='')))"
            ]
          },
          "metadata": {
            "tags": []
          }
        },
        {
          "output_type": "stream",
          "text": [
            "\n"
          ],
          "name": "stdout"
        },
        {
          "output_type": "display_data",
          "data": {
            "text/html": [
              "<table border=\"1\" class=\"dataframe\">\n",
              "  <thead>\n",
              "    <tr style=\"text-align: left;\">\n",
              "      <th>epoch</th>\n",
              "      <th>train_loss</th>\n",
              "      <th>valid_loss</th>\n",
              "      <th>accuracy_multi</th>\n",
              "      <th>time</th>\n",
              "    </tr>\n",
              "  </thead>\n",
              "  <tbody>\n",
              "    <tr>\n",
              "      <td>0</td>\n",
              "      <td>0.918235</td>\n",
              "      <td>0.652176</td>\n",
              "      <td>0.253466</td>\n",
              "      <td>00:51</td>\n",
              "    </tr>\n",
              "    <tr>\n",
              "      <td>1</td>\n",
              "      <td>0.777504</td>\n",
              "      <td>0.495769</td>\n",
              "      <td>0.335339</td>\n",
              "      <td>00:50</td>\n",
              "    </tr>\n",
              "    <tr>\n",
              "      <td>2</td>\n",
              "      <td>0.558454</td>\n",
              "      <td>0.163480</td>\n",
              "      <td>0.857689</td>\n",
              "      <td>00:50</td>\n",
              "    </tr>\n",
              "    <tr>\n",
              "      <td>3</td>\n",
              "      <td>0.320627</td>\n",
              "      <td>0.086687</td>\n",
              "      <td>0.957889</td>\n",
              "      <td>00:50</td>\n",
              "    </tr>\n",
              "  </tbody>\n",
              "</table>"
            ],
            "text/plain": [
              "<IPython.core.display.HTML object>"
            ]
          },
          "metadata": {
            "tags": []
          }
        },
        {
          "output_type": "display_data",
          "data": {
            "text/html": [
              "<table border=\"1\" class=\"dataframe\">\n",
              "  <thead>\n",
              "    <tr style=\"text-align: left;\">\n",
              "      <th>epoch</th>\n",
              "      <th>train_loss</th>\n",
              "      <th>valid_loss</th>\n",
              "      <th>accuracy_multi</th>\n",
              "      <th>time</th>\n",
              "    </tr>\n",
              "  </thead>\n",
              "  <tbody>\n",
              "    <tr>\n",
              "      <td>0</td>\n",
              "      <td>0.099488</td>\n",
              "      <td>0.084510</td>\n",
              "      <td>0.965797</td>\n",
              "      <td>01:00</td>\n",
              "    </tr>\n",
              "    <tr>\n",
              "      <td>1</td>\n",
              "      <td>0.086668</td>\n",
              "      <td>0.078602</td>\n",
              "      <td>0.968705</td>\n",
              "      <td>01:01</td>\n",
              "    </tr>\n",
              "    <tr>\n",
              "      <td>2</td>\n",
              "      <td>0.069356</td>\n",
              "      <td>0.071755</td>\n",
              "      <td>0.969004</td>\n",
              "      <td>01:00</td>\n",
              "    </tr>\n",
              "  </tbody>\n",
              "</table>"
            ],
            "text/plain": [
              "<IPython.core.display.HTML object>"
            ]
          },
          "metadata": {
            "tags": []
          }
        }
      ]
    },
    {
      "cell_type": "markdown",
      "metadata": {
        "id": "y-aAFOqmAgHg"
      },
      "source": [
        "# Select the best treshold\n",
        "  \n",
        "wersja niżej:  \n",
        "activations (preds) już są,  \n",
        "więc tylko ustalamy próg dla True i porównujemy z targets"
      ]
    },
    {
      "cell_type": "code",
      "metadata": {
        "id": "62990e2NBjau",
        "outputId": "5bcd5a0b-af75-46c6-a6d0-ff60ebaeb580",
        "colab": {
          "base_uri": "https://localhost:8080/",
          "height": 34
        }
      },
      "source": [
        "# experiment\n",
        "learn.metrics = partial(accuracy_multi, thresh = .1)\n",
        "learn.validate()"
      ],
      "execution_count": 93,
      "outputs": [
        {
          "output_type": "display_data",
          "data": {
            "text/html": [
              ""
            ],
            "text/plain": [
              "<IPython.core.display.HTML object>"
            ]
          },
          "metadata": {
            "tags": []
          }
        },
        {
          "output_type": "execute_result",
          "data": {
            "text/plain": [
              "(#2) [0.07175517082214355,0.9571115970611572]"
            ]
          },
          "metadata": {
            "tags": []
          },
          "execution_count": 93
        }
      ]
    },
    {
      "cell_type": "code",
      "metadata": {
        "id": "MR0hMMpQCVUP",
        "outputId": "b466386b-74ee-478b-bf98-715556af095a",
        "colab": {
          "base_uri": "https://localhost:8080/",
          "height": 34
        }
      },
      "source": [
        "learn.metrics = partial(accuracy_multi, thresh = .8)\n",
        "learn.validate()"
      ],
      "execution_count": 95,
      "outputs": [
        {
          "output_type": "display_data",
          "data": {
            "text/html": [
              ""
            ],
            "text/plain": [
              "<IPython.core.display.HTML object>"
            ]
          },
          "metadata": {
            "tags": []
          }
        },
        {
          "output_type": "execute_result",
          "data": {
            "text/plain": [
              "(#2) [0.07175517082214355,0.9724302887916565]"
            ]
          },
          "metadata": {
            "tags": []
          },
          "execution_count": 95
        }
      ]
    },
    {
      "cell_type": "code",
      "metadata": {
        "id": "HsHanO4pCsm-",
        "outputId": "384a6dfd-81ae-4693-e2be-52fd711ccd35",
        "colab": {
          "base_uri": "https://localhost:8080/",
          "height": 17
        }
      },
      "source": [
        "#    B  E  T  T  E  R\n",
        "# lub: try a few levels and seeing what works best, faster if predictions juz są:\n",
        "preds, targs = learn.get_preds()"
      ],
      "execution_count": 96,
      "outputs": [
        {
          "output_type": "display_data",
          "data": {
            "text/html": [
              ""
            ],
            "text/plain": [
              "<IPython.core.display.HTML object>"
            ]
          },
          "metadata": {
            "tags": []
          }
        }
      ]
    },
    {
      "cell_type": "code",
      "metadata": {
        "id": "OJiskPbNEBKm",
        "outputId": "246573e7-1d9e-4677-9b19-dfde8fddbb4c",
        "colab": {
          "base_uri": "https://localhost:8080/"
        }
      },
      "source": [
        "# pojedynczo:\n",
        "accuracy_multi(preds, targs, thresh = .9, sigmoid=False)"
      ],
      "execution_count": 98,
      "outputs": [
        {
          "output_type": "execute_result",
          "data": {
            "text/plain": [
              "TensorImage(0.9690)"
            ]
          },
          "metadata": {
            "tags": []
          },
          "execution_count": 98
        }
      ]
    },
    {
      "cell_type": "code",
      "metadata": {
        "id": "UOIlLEgsEVLm",
        "outputId": "2a53bd8e-ae15-46a4-8de8-38ea2f1602d7",
        "colab": {
          "base_uri": "https://localhost:8080/",
          "height": 285
        }
      },
      "source": [
        "## lub profesjonalnie:\n",
        "xs = torch.linspace(.05, .95, 29)\n",
        "accs = [accuracy_multi(preds, targs, thresh = x, sigmoid = False) for x in xs]\n",
        "plt.plot(xs, accs)"
      ],
      "execution_count": 99,
      "outputs": [
        {
          "output_type": "execute_result",
          "data": {
            "text/plain": [
              "[<matplotlib.lines.Line2D at 0x7f34540ce208>]"
            ]
          },
          "metadata": {
            "tags": []
          },
          "execution_count": 99
        },
        {
          "output_type": "display_data",
          "data": {
            "image/png": "[encoded data removed]",
            "text/plain": [
              "<Figure size 432x288 with 1 Axes>"
            ]
          },
          "metadata": {
            "tags": [],
            "needs_background": "light"
          }
        }
      ]
    },
    {
      "cell_type": "code",
      "metadata": {
        "id": "0VVL8VTgE-Hz",
        "outputId": "ed149f54-f7d3-4286-8ee9-8fd6d45b4dfb",
        "colab": {
          "base_uri": "https://localhost:8080/"
        }
      },
      "source": [
        "max(accs), xs[accs.index(max(accs))]"
      ],
      "execution_count": 105,
      "outputs": [
        {
          "output_type": "execute_result",
          "data": {
            "text/plain": [
              "(TensorImage(0.9757), tensor(0.5000))"
            ]
          },
          "metadata": {
            "tags": []
          },
          "execution_count": 105
        }
      ]
    },
    {
      "cell_type": "code",
      "metadata": {
        "id": "PgS9CNgcFC1k",
        "outputId": "b922f4fb-d6d3-484a-8b05-25016cbea3cd",
        "colab": {
          "base_uri": "https://localhost:8080/"
        }
      },
      "source": [
        "accuracy_multi(preds, targs, thresh = .5, sigmoid = False)"
      ],
      "execution_count": 107,
      "outputs": [
        {
          "output_type": "execute_result",
          "data": {
            "text/plain": [
              "TensorImage(0.9757)"
            ]
          },
          "metadata": {
            "tags": []
          },
          "execution_count": 107
        }
      ]
    },
    {
      "cell_type": "code",
      "metadata": {
        "id": "YsAtRDjTGkf0"
      },
      "source": [
        ""
      ],
      "execution_count": null,
      "outputs": []
    }
  ]
}